{
 "cells": [
  {
   "cell_type": "code",
   "execution_count": 1,
   "id": "e6097b15",
   "metadata": {},
   "outputs": [],
   "source": [
    "import matplotlib.pyplot as plt\n",
    "import numpy as np\n",
    "import pickle\n",
    "import pandas as pd"
   ]
  },
  {
   "cell_type": "markdown",
   "id": "24796d02",
   "metadata": {},
   "source": [
    "## Read Data"
   ]
  },
  {
   "cell_type": "code",
   "execution_count": null,
   "id": "06930751",
   "metadata": {},
   "outputs": [],
   "source": []
  },
  {
   "cell_type": "code",
   "execution_count": null,
   "id": "e3f6bce5",
   "metadata": {},
   "outputs": [],
   "source": [
    "def plot_data(budget, a_cri, d_cri):\n",
    "\n",
    "    si=18\n",
    "    plt.rc('axes', titlesize=si)\n",
    "    plt.rc('axes', labelsize=si)\n",
    "    plt.rc('xtick', labelsize=si)\n",
    "    plt.rc('ytick', labelsize=si)\n",
    "\n",
    "    plt.scatter(budget, np.log10(a_cri), s=50, color='red', label='A-optimality')\n",
    "    #plt.scatter(budget, np.log10(d_cri), marker='v', s=50, color='blue', label='D-optimality')\n",
    "    plt.xlabel('Budget', fontweight=\"bold\")\n",
    "    plt.ylabel('log10(A-optimality)', fontweight=\"bold\")\n",
    "    \n",
    "    plt.show()\n",
    "    \n",
    "    \n",
    "    si=18\n",
    "    plt.rc('axes', titlesize=si)\n",
    "    plt.rc('axes', labelsize=si)\n",
    "    plt.rc('xtick', labelsize=si)\n",
    "    plt.rc('ytick', labelsize=si)\n",
    "\n",
    "    #plt.scatter(budget, np.log10(a_cri), s=50, color='red', label='A-optimality')\n",
    "    plt.scatter(budget, np.log10(d_cri), marker='v', s=50, color='blue', label='D-optimality')\n",
    "    plt.xlabel('Budget', fontweight=\"bold\")\n",
    "    plt.ylabel('log10(D-optimality)', fontweight=\"bold\")\n",
    "    \n",
    "    plt.show()"
   ]
  },
  {
   "cell_type": "code",
   "execution_count": null,
   "id": "09d87d42",
   "metadata": {},
   "outputs": [],
   "source": [
    "a_set = [1475.18,1525.64,1558.63, 1567.04, 1569.77, 1570.94, 1571.23]\n",
    "d_set = [0.00098\n",
    ", 130.54\n",
    ", 7724.95\n",
    ", 21742.34\n",
    ", 25244.31\n",
    ", 29152.05\n",
    ", 36029.25]\n",
    "\n",
    "x_axis = [10, 20, 30, 40, 50, 60, 70]\n",
    "\n",
    "plot_data(x_axis, a_set, d_set)"
   ]
  },
  {
   "cell_type": "code",
   "execution_count": null,
   "id": "77881c75",
   "metadata": {},
   "outputs": [],
   "source": [
    "# store data \n",
    "\n",
    "record_ad = {}\n",
    "\n",
    "record_ad['x'] = x_axis\n",
    "record_ad['A'] = a_set\n",
    "record_ad['D'] = d_set\n",
    "\n",
    "print(record_ad)\n",
    "\n",
    "store = pd.DataFrame(record_ad)\n",
    "\n",
    "store.to_csv('A_5.csv')"
   ]
  },
  {
   "cell_type": "code",
   "execution_count": 2,
   "id": "fd53f8b0",
   "metadata": {},
   "outputs": [],
   "source": [
    "data5 = pd.read_csv('A_5.csv')\n",
    "data22 = pd.read_csv('A_22.csv')\n",
    "data44 = pd.read_csv('A_44.csv')\n",
    "data110 = pd.read_csv('A_110.csv')\n",
    "\n",
    "\n"
   ]
  },
  {
   "cell_type": "code",
   "execution_count": 26,
   "id": "f0c77d1d",
   "metadata": {},
   "outputs": [
    {
     "name": "stdout",
     "output_type": "stream",
     "text": [
      "[10, 20, 30, 40, 50, 60, 70, 60, 100, 150, 200, 250, 308, 300, 350, 400, 450, 500, 550, 600, 616, 400, 600, 800, 1000, 1200, 1400, 1500, 1600]\n"
     ]
    }
   ],
   "source": [
    "budget = data5['x'].tolist()+ data22['x'].tolist() + data44['x'].tolist() + data110['x'].tolist()\n",
    "\n",
    "print(budget)\n",
    "\n",
    "a_list = data5['A'].tolist()+ data22['A'].tolist() + data44['A'].tolist() + data110['A'].tolist()\n",
    "\n",
    "\n",
    "def plot_all(data5, data22, data44, data110, opt=\"A\"):\n",
    "    \n",
    "    si=18\n",
    "    plt.rc('axes', titlesize=si)\n",
    "    plt.rc('axes', labelsize=si)\n",
    "    plt.rc('xtick', labelsize=si)\n",
    "    plt.rc('ytick', labelsize=si)\n",
    "    \n",
    "    plt.scatter(data5['x'].tolist(), np.log10(data5[opt].tolist()), label=\"5 timepoints/measurement\")\n",
    "    plt.scatter(data22['x'].tolist(), np.log10(data22[opt].tolist()), label=\"22 timepoints/measurement\")\n",
    "    plt.scatter(data44['x'].tolist(), np.log10(data44[opt].tolist()), label=\"44 timepoints/measurement\")\n",
    "    plt.scatter(data110['x'].tolist(), np.log10(data110[opt].tolist()), label=\"110 timepoints/measurement\")\n",
    "    \n",
    "    plt.xlabel(\"Budget [$]\", fontweight=\"bold\")\n",
    "    plt.ylabel(\"log10(\"+str(opt)+\"-optimality\", fontweight=\"bold\")\n",
    "    #plt.legend(fontsize=14)\n",
    "    #plt.savefig('test.pdf')\n",
    "    plt.savefig('test.png', dpi=300)\n",
    "    plt.show()\n",
    "    "
   ]
  },
  {
   "cell_type": "code",
   "execution_count": 27,
   "id": "69ceed2d",
   "metadata": {},
   "outputs": [
    {
     "data": {
      "image/png": "[encoded data removed]",
      "text/plain": [
       "<Figure size 432x288 with 1 Axes>"
      ]
     },
     "metadata": {
      "needs_background": "light"
     },
     "output_type": "display_data"
    }
   ],
   "source": [
    "plot_all(data5, data22, data44, data110, opt=\"D\")"
   ]
  },
  {
   "cell_type": "code",
   "execution_count": 3,
   "id": "5294949f",
   "metadata": {},
   "outputs": [],
   "source": [
    "import matplotlib\n",
    "\n",
    "def heatmap(data, row_labels, col_labels, ax=None,\n",
    "            cbar_kw=None, cbarlabel=\"\", **kwargs):\n",
    "    \"\"\"\n",
    "    Create a heatmap from a numpy array and two lists of labels.\n",
    "\n",
    "    Parameters\n",
    "    ----------\n",
    "    data\n",
    "        A 2D numpy array of shape (M, N).\n",
    "    row_labels\n",
    "        A list or array of length M with the labels for the rows.\n",
    "    col_labels\n",
    "        A list or array of length N with the labels for the columns.\n",
    "    ax\n",
    "        A `matplotlib.axes.Axes` instance to which the heatmap is plotted.  If\n",
    "        not provided, use current axes or create a new one.  Optional.\n",
    "    cbar_kw\n",
    "        A dictionary with arguments to `matplotlib.Figure.colorbar`.  Optional.\n",
    "    cbarlabel\n",
    "        The label for the colorbar.  Optional.\n",
    "    **kwargs\n",
    "        All other arguments are forwarded to `imshow`.\n",
    "    \"\"\"\n",
    "\n",
    "    if ax is None:\n",
    "        ax = plt.gca()\n",
    "\n",
    "    if cbar_kw is None:\n",
    "        cbar_kw = {}\n",
    "\n",
    "    # Plot the heatmap\n",
    "    im = ax.imshow(data, **kwargs)\n",
    "    \n",
    "    si =18\n",
    "\n",
    "    # Create colorbar\n",
    "    #cbar = ax.figure.colorbar(im, ax=ax, **cbar_kw)\n",
    "    #cbar.ax.set_ylabel(cbarlabel, rotation=-90, va=\"bottom\")\n",
    "\n",
    "    # Show all ticks and label them with the respective list entries.\n",
    "    #ax.set_xticks(col_labels)\n",
    "    #ax.set_yticks(row_labels)\n",
    "    ax.set_xticks(np.arange(data.shape[1]))\n",
    "    ax.set_yticks(np.arange(data.shape[0]))\n",
    "    ax.set_xticklabels(col_labels, fontsize=si)\n",
    "    ax.set_yticklabels(row_labels, fontsize=si, fontweight=\"bold\")\n",
    "\n",
    "    # Let the horizontal axes labeling appear on top.\n",
    "    ax.tick_params(top=True, bottom=False,\n",
    "                   labeltop=True, labelbottom=False)\n",
    "\n",
    "    # Rotate the tick labels and set their alignment.\n",
    "    plt.setp(ax.get_xticklabels(), rotation=-30, ha=\"right\",\n",
    "             rotation_mode=\"anchor\")\n",
    "\n",
    "    # Turn spines off and create white grid.\n",
    "    ax.spines[:].set_visible(False)\n",
    "\n",
    "    #ax.set_xticks(np.arange(data.shape[1]+1)-.5, minor=True)\n",
    "    #ax.set_yticks(np.arange(data.shape[0]+1)-.5, minor=True)\n",
    "    ax.grid(which=\"minor\", color=\"w\", linestyle='-', linewidth=3)\n",
    "    ax.tick_params(which=\"minor\", bottom=False, left=False)\n",
    "\n",
    "    return im\n",
    "\n",
    "\n",
    "def annotate_heatmap(im, data=None, valfmt=\"{x:.2f}\",\n",
    "                     textcolors=(\"black\", \"white\"),\n",
    "                     threshold=None, **textkw):\n",
    "    \"\"\"\n",
    "    A function to annotate a heatmap.\n",
    "\n",
    "    Parameters\n",
    "    ----------\n",
    "    im\n",
    "        The AxesImage to be labeled.\n",
    "    data\n",
    "        Data used to annotate.  If None, the image's data is used.  Optional.\n",
    "    valfmt\n",
    "        The format of the annotations inside the heatmap.  This should either\n",
    "        use the string format method, e.g. \"$ {x:.2f}\", or be a\n",
    "        `matplotlib.ticker.Formatter`.  Optional.\n",
    "    textcolors\n",
    "        A pair of colors.  The first is used for values below a threshold,\n",
    "        the second for those above.  Optional.\n",
    "    threshold\n",
    "        Value in data units according to which the colors from textcolors are\n",
    "        applied.  If None (the default) uses the middle of the colormap as\n",
    "        separation.  Optional.\n",
    "    **kwargs\n",
    "        All other arguments are forwarded to each call to `text` used to create\n",
    "        the text labels.\n",
    "    \"\"\"\n",
    "\n",
    "    if not isinstance(data, (list, np.ndarray)):\n",
    "        data = im.get_array()\n",
    "\n",
    "    # Normalize the threshold to the images color range.\n",
    "    if threshold is not None:\n",
    "        threshold = im.norm(threshold)\n",
    "    else:\n",
    "        threshold = im.norm(data.max())/2.\n",
    "\n",
    "    # Set default alignment to center, but allow it to be\n",
    "    # overwritten by textkw.\n",
    "    kw = dict(horizontalalignment=\"center\",\n",
    "              verticalalignment=\"center\")\n",
    "    kw.update(textkw)\n",
    "\n",
    "    # Get the formatter in case a string is supplied\n",
    "    if isinstance(valfmt, str):\n",
    "        valfmt = matplotlib.ticker.StrMethodFormatter(valfmt)\n",
    "        \n",
    "        \n",
    "    # Loop over the data and create a `Text` for each \"pixel\".\n",
    "    # Change the text's color depending on the data.\n",
    "    texts = []\n",
    "    for i in range(data.shape[0]):\n",
    "        for j in range(data.shape[1]):\n",
    "            kw.update(color=textcolors[int(im.norm(data[i, j]) > threshold)])\n",
    "            text = im.axes.text(j, i, valfmt(data[i, j], None), **kw)\n",
    "            texts.append(text)\n",
    "\n",
    "    return texts"
   ]
  },
  {
   "cell_type": "code",
   "execution_count": 14,
   "id": "b7252806",
   "metadata": {},
   "outputs": [
    {
     "name": "stdout",
     "output_type": "stream",
     "text": [
      "[[1. 0. 0. ... 0. 0. 0.]\n",
      " [1. 1. 1. ... 1. 1. 1.]\n",
      " [1. 1. 1. ... 1. 1. 1.]\n",
      " ...\n",
      " [0. 0. 0. ... 0. 1. 1.]\n",
      " [0. 0. 0. ... 0. 0. 1.]\n",
      " [0. 0. 0. ... 0. 0. 0.]]\n"
     ]
    }
   ],
   "source": [
    "with open('Feb14_A_110_8500', 'rb') as f:\n",
    "    x = pickle.load(f)\n",
    "    \n",
    "print(x)"
   ]
  },
  {
   "cell_type": "code",
   "execution_count": 19,
   "id": "92d89a9c",
   "metadata": {},
   "outputs": [
    {
     "name": "stdout",
     "output_type": "stream",
     "text": [
      "[[1. 1. 1. ... 1. 1. 1.]\n",
      " [1. 1. 1. ... 1. 1. 1.]\n",
      " [1. 1. 1. ... 1. 1. 1.]\n",
      " ...\n",
      " [0. 0. 0. ... 0. 0. 0.]\n",
      " [0. 0. 0. ... 0. 0. 0.]\n",
      " [0. 0. 0. ... 0. 0. 0.]]\n"
     ]
    }
   ],
   "source": [
    "sol = [] \n",
    "\n",
    "for i in range(len(x)):\n",
    "    for j in range(len(x[0])):\n",
    "        if i==j:\n",
    "            sol.append(x[i,j])\n",
    "            \n",
    "#print(np.shape(sol), sol)\n",
    "\n",
    "\n",
    "num_time = 110\n",
    "sol_2d = np.zeros((14,num_time))\n",
    "\n",
    "for i in range(14):\n",
    "    for j in range(num_time):\n",
    "        if i<9:\n",
    "            sol_2d[i,j] = sol[i]\n",
    "        else:\n",
    "            sol_2d[i,j] = sol[(i-9)*num_time+j]\n",
    "            \n",
    "print(sol_2d)"
   ]
  },
  {
   "cell_type": "code",
   "execution_count": 18,
   "id": "2e1baa31",
   "metadata": {
    "scrolled": true
   },
   "outputs": [
    {
     "data": {
      "image/png": "[encoded data removed]",
      "text/plain": [
       "<Figure size 432x288 with 1 Axes>"
      ]
     },
     "metadata": {
      "needs_background": "light"
     },
     "output_type": "display_data"
    }
   ],
   "source": [
    "measure_name = ['$C_A$','$C_B$', '$C_C$']\n",
    "\n",
    "time_set = [0.125, 0.25, 0.375, 0.5, 0.675, 0.75, 0.875, 1]\n",
    "\n",
    "x  = np.asarray([[1, 1, 1, 1, 0, 0, 0, 0],\n",
    "     [1, 1, 1, 1, 0, 1, 1, 1],\n",
    "      [1, 1, 0, 0, 0, 0, 0, 1]])\n",
    "\n",
    "fig, ax = plt.subplots()\n",
    "\n",
    "#im, cbar = heatmap(x, measure_name, time_set, ax=ax,\n",
    "                   #cmap=\"YlGn\", cbarlabel=\"weight\")\n",
    "    \n",
    "im = heatmap(x, measure_name, time_set, ax=ax,\n",
    "                   cmap=\"YlGnBu\")\n",
    "texts = annotate_heatmap(im, valfmt=\"{x:.0f}\")\n",
    "\n",
    "fig.tight_layout()\n",
    "plt.savefig('kinetic.pdf')\n",
    "plt.show()"
   ]
  },
  {
   "cell_type": "code",
   "execution_count": 20,
   "id": "8641dd86",
   "metadata": {},
   "outputs": [],
   "source": [
    "number_t = 110"
   ]
  },
  {
   "cell_type": "code",
   "execution_count": 21,
   "id": "747b659f",
   "metadata": {},
   "outputs": [
    {
     "name": "stdout",
     "output_type": "stream",
     "text": [
      "(559, 559)\n"
     ]
    }
   ],
   "source": [
    "print(np.shape(x))\n",
    "\n",
    "for i in range(len(x)):\n",
    "    for j in range(len(x[0])):\n",
    "        if x[i,j] >= 0.5:\n",
    "            x[i,j] = 1 \n",
    "        else:\n",
    "            x[i,j] = 0"
   ]
  },
  {
   "cell_type": "code",
   "execution_count": 25,
   "id": "5ef2014f",
   "metadata": {},
   "outputs": [
    {
     "data": {
      "image/png": "[encoded data removed]",
      "text/plain": [
       "<Figure size 1728x1152 with 1 Axes>"
      ]
     },
     "metadata": {
      "needs_background": "light"
     },
     "output_type": "display_data"
    }
   ],
   "source": [
    "#measure_name = ['Ads.gas_inlet.F', 'Ads.gas_outlet.F', 'Ads.gas_outlet.T', 'Ads.gas_outlet.z(\"CO2\")', 'Des.gas_inlet.F', 'Des.gas_outlet.F', 'Des.gas_outlet.T', 'Des.gas_outlet.z(\"CO2\")', 'Ads.T_g.Value(19,10)', 'Ads.T_g.Value(23,10)', 'Ads.T_g.Value(28,10)', 'Ads.z(\"CO2\",19,10)', 'Ads.z(\"CO2\",23,10)', 'Ads.z(\"CO2\",28,10)']\n",
    "measure_name = ['$F_{in}^{{ads}}$', '$F_{out}^{{ads}}$', '$T_{out}^{{ads}}$', '$z_{out}^{{ads}}$', \n",
    "                '$F_{in}^{{des}}$', '$F_{out}^{{des}}$', '$T_{out}^{{des}}$', '$z_{out}^{{des}}$', \n",
    "                '$T_{19}^{(ads)}$', '$T_{23}^{(ads)}$', '$T_{28}^{(ads)}$', \n",
    "                '$z_{19}^{(ads)}$', '$z_{23}^{(ads)}$', '$z_{28}^{(ads)}$']\n",
    "\n",
    "\n",
    "#time_set = ['500', '1000', '1500', '2000', '2200']\n",
    "time_set = np.linspace(20, 2200, number_t)\n",
    "time_set = [str(int(i)) for i in time_set]\n",
    "\n",
    "fig, ax = plt.subplots(figsize=(24,16))\n",
    "\n",
    "im = heatmap(sol_2d, measure_name, time_set, ax=ax,\n",
    "                   cmap=\"YlGnBu\")\n",
    "texts = annotate_heatmap(im, valfmt=\"{x:.0f}\")\n",
    "\n",
    "fig.tight_layout()\n",
    "plt.savefig('bed.pdf')\n",
    "plt.show()"
   ]
  },
  {
   "cell_type": "code",
   "execution_count": 13,
   "id": "65709ea1",
   "metadata": {},
   "outputs": [
    {
     "name": "stdout",
     "output_type": "stream",
     "text": [
      "(14, 22)\n"
     ]
    }
   ],
   "source": [
    "print(np.shape(x))"
   ]
  },
  {
   "cell_type": "code",
   "execution_count": null,
   "id": "621ccdd3",
   "metadata": {},
   "outputs": [],
   "source": []
  }
 ],
 "metadata": {
  "kernelspec": {
   "display_name": "Python 3 (ipykernel)",
   "language": "python",
   "name": "python3"
  },
  "language_info": {
   "codemirror_mode": {
    "name": "ipython",
    "version": 3
   },
   "file_extension": ".py",
   "mimetype": "text/x-python",
   "name": "python",
   "nbconvert_exporter": "python",
   "pygments_lexer": "ipython3",
   "version": "3.7.11"
  }
 },
 "nbformat": 4,
 "nbformat_minor": 5
}
