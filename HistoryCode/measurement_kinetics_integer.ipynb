{
 "cells": [
  {
   "cell_type": "code",
   "execution_count": 1,
   "id": "a73dc6fe",
   "metadata": {},
   "outputs": [],
   "source": [
    "import matplotlib.pyplot as plt\n",
    "from pyomo.environ import *\n",
    "from pyomo.dae import *\n",
    "\n",
    "import numpy as np\n",
    "#from scipy.interpolate import interp2d\n",
    "import pandas as pd \n",
    "from itertools import permutations, product, combinations\n",
    "import idaes\n",
    "from itertools import permutations, product\n",
    "\n",
    "from fim_doe import *\n",
    "\n",
    "import pyomo.common.unittest as unittest"
   ]
  },
  {
   "cell_type": "code",
   "execution_count": 2,
   "id": "d67c68cc",
   "metadata": {},
   "outputs": [],
   "source": [
    "import cvxpy as cp\n",
    "\n",
    "from reactor_kinetics import *"
   ]
  },
  {
   "cell_type": "code",
   "execution_count": 4,
   "id": "8f678579",
   "metadata": {},
   "outputs": [
    {
     "ename": "NotImplementedError",
     "evalue": "",
     "output_type": "error",
     "traceback": [
      "\u001b[0;31m---------------------------------------------------------------------------\u001b[0m",
      "\u001b[0;31mNotImplementedError\u001b[0m                       Traceback (most recent call last)",
      "\u001b[0;32m/tmp/ipykernel_136332/1894305460.py\u001b[0m in \u001b[0;36m<cell line: 14>\u001b[0;34m()\u001b[0m\n\u001b[1;32m     12\u001b[0m \u001b[0;34m\u001b[0m\u001b[0m\n\u001b[1;32m     13\u001b[0m \u001b[0mprob\u001b[0m \u001b[0;34m=\u001b[0m \u001b[0mcp\u001b[0m\u001b[0;34m.\u001b[0m\u001b[0mProblem\u001b[0m\u001b[0;34m(\u001b[0m\u001b[0mobj\u001b[0m\u001b[0;34m,\u001b[0m \u001b[0mconstraints\u001b[0m\u001b[0;34m)\u001b[0m\u001b[0;34m\u001b[0m\u001b[0;34m\u001b[0m\u001b[0m\n\u001b[0;32m---> 14\u001b[0;31m \u001b[0moptval\u001b[0m \u001b[0;34m=\u001b[0m \u001b[0mprob\u001b[0m\u001b[0;34m.\u001b[0m\u001b[0msolve\u001b[0m\u001b[0;34m(\u001b[0m\u001b[0mverbose\u001b[0m\u001b[0;34m=\u001b[0m\u001b[0;32mFalse\u001b[0m\u001b[0;34m)\u001b[0m \u001b[0;31m# seems to work, although it's not super accurate\u001b[0m\u001b[0;34m\u001b[0m\u001b[0;34m\u001b[0m\u001b[0m\n\u001b[0m\u001b[1;32m     15\u001b[0m \u001b[0;34m\u001b[0m\u001b[0m\n\u001b[1;32m     16\u001b[0m \u001b[0mprint\u001b[0m\u001b[0;34m(\u001b[0m\u001b[0;34mf\"Optimum value: {optval}\"\u001b[0m\u001b[0;34m)\u001b[0m\u001b[0;34m\u001b[0m\u001b[0;34m\u001b[0m\u001b[0m\n",
      "\u001b[0;32m~/anaconda3/envs/cvxpy_env/lib/python3.10/site-packages/cvxpy/problems/problem.py\u001b[0m in \u001b[0;36msolve\u001b[0;34m(self, *args, **kwargs)\u001b[0m\n\u001b[1;32m    479\u001b[0m         \u001b[0;32melse\u001b[0m\u001b[0;34m:\u001b[0m\u001b[0;34m\u001b[0m\u001b[0;34m\u001b[0m\u001b[0m\n\u001b[1;32m    480\u001b[0m             \u001b[0msolve_func\u001b[0m \u001b[0;34m=\u001b[0m \u001b[0mProblem\u001b[0m\u001b[0;34m.\u001b[0m\u001b[0m_solve\u001b[0m\u001b[0;34m\u001b[0m\u001b[0;34m\u001b[0m\u001b[0m\n\u001b[0;32m--> 481\u001b[0;31m         \u001b[0;32mreturn\u001b[0m \u001b[0msolve_func\u001b[0m\u001b[0;34m(\u001b[0m\u001b[0mself\u001b[0m\u001b[0;34m,\u001b[0m \u001b[0;34m*\u001b[0m\u001b[0margs\u001b[0m\u001b[0;34m,\u001b[0m \u001b[0;34m**\u001b[0m\u001b[0mkwargs\u001b[0m\u001b[0;34m)\u001b[0m\u001b[0;34m\u001b[0m\u001b[0;34m\u001b[0m\u001b[0m\n\u001b[0m\u001b[1;32m    482\u001b[0m \u001b[0;34m\u001b[0m\u001b[0m\n\u001b[1;32m    483\u001b[0m     \u001b[0;34m@\u001b[0m\u001b[0mclassmethod\u001b[0m\u001b[0;34m\u001b[0m\u001b[0;34m\u001b[0m\u001b[0m\n",
      "\u001b[0;32m~/anaconda3/envs/cvxpy_env/lib/python3.10/site-packages/cvxpy/problems/problem.py\u001b[0m in \u001b[0;36m_solve\u001b[0;34m(self, solver, warm_start, verbose, gp, qcp, requires_grad, enforce_dpp, ignore_dpp, **kwargs)\u001b[0m\n\u001b[1;32m   1005\u001b[0m                 \u001b[0;32mreturn\u001b[0m \u001b[0mself\u001b[0m\u001b[0;34m.\u001b[0m\u001b[0mvalue\u001b[0m\u001b[0;34m\u001b[0m\u001b[0;34m\u001b[0m\u001b[0m\n\u001b[1;32m   1006\u001b[0m \u001b[0;34m\u001b[0m\u001b[0m\n\u001b[0;32m-> 1007\u001b[0;31m         data, solving_chain, inverse_data = self.get_problem_data(\n\u001b[0m\u001b[1;32m   1008\u001b[0m             solver, gp, enforce_dpp, ignore_dpp, verbose)\n\u001b[1;32m   1009\u001b[0m \u001b[0;34m\u001b[0m\u001b[0m\n",
      "\u001b[0;32m~/anaconda3/envs/cvxpy_env/lib/python3.10/site-packages/cvxpy/problems/problem.py\u001b[0m in \u001b[0;36mget_problem_data\u001b[0;34m(self, solver, gp, enforce_dpp, ignore_dpp, verbose)\u001b[0m\n\u001b[1;32m    653\u001b[0m                          'Compiling problem (target solver=%s).', solver_name)\n\u001b[1;32m    654\u001b[0m                 \u001b[0ms\u001b[0m\u001b[0;34m.\u001b[0m\u001b[0mLOGGER\u001b[0m\u001b[0;34m.\u001b[0m\u001b[0minfo\u001b[0m\u001b[0;34m(\u001b[0m\u001b[0;34m'Reduction chain: %s'\u001b[0m\u001b[0;34m,\u001b[0m \u001b[0mreduction_chain_str\u001b[0m\u001b[0;34m)\u001b[0m\u001b[0;34m\u001b[0m\u001b[0;34m\u001b[0m\u001b[0m\n\u001b[0;32m--> 655\u001b[0;31m             \u001b[0mdata\u001b[0m\u001b[0;34m,\u001b[0m \u001b[0minverse_data\u001b[0m \u001b[0;34m=\u001b[0m \u001b[0msolving_chain\u001b[0m\u001b[0;34m.\u001b[0m\u001b[0mapply\u001b[0m\u001b[0;34m(\u001b[0m\u001b[0mself\u001b[0m\u001b[0;34m,\u001b[0m \u001b[0mverbose\u001b[0m\u001b[0;34m)\u001b[0m\u001b[0;34m\u001b[0m\u001b[0;34m\u001b[0m\u001b[0m\n\u001b[0m\u001b[1;32m    656\u001b[0m             safe_to_cache = (\n\u001b[1;32m    657\u001b[0m                 \u001b[0misinstance\u001b[0m\u001b[0;34m(\u001b[0m\u001b[0mdata\u001b[0m\u001b[0;34m,\u001b[0m \u001b[0mdict\u001b[0m\u001b[0;34m)\u001b[0m\u001b[0;34m\u001b[0m\u001b[0;34m\u001b[0m\u001b[0m\n",
      "\u001b[0;32m~/anaconda3/envs/cvxpy_env/lib/python3.10/site-packages/cvxpy/reductions/chain.py\u001b[0m in \u001b[0;36mapply\u001b[0;34m(self, problem, verbose)\u001b[0m\n\u001b[1;32m     74\u001b[0m             \u001b[0;32mif\u001b[0m \u001b[0mverbose\u001b[0m\u001b[0;34m:\u001b[0m\u001b[0;34m\u001b[0m\u001b[0;34m\u001b[0m\u001b[0m\n\u001b[1;32m     75\u001b[0m                 \u001b[0ms\u001b[0m\u001b[0;34m.\u001b[0m\u001b[0mLOGGER\u001b[0m\u001b[0;34m.\u001b[0m\u001b[0minfo\u001b[0m\u001b[0;34m(\u001b[0m\u001b[0;34m'Applying reduction %s'\u001b[0m\u001b[0;34m,\u001b[0m \u001b[0mtype\u001b[0m\u001b[0;34m(\u001b[0m\u001b[0mr\u001b[0m\u001b[0;34m)\u001b[0m\u001b[0;34m.\u001b[0m\u001b[0m__name__\u001b[0m\u001b[0;34m)\u001b[0m\u001b[0;34m\u001b[0m\u001b[0;34m\u001b[0m\u001b[0m\n\u001b[0;32m---> 76\u001b[0;31m             \u001b[0mproblem\u001b[0m\u001b[0;34m,\u001b[0m \u001b[0minv\u001b[0m \u001b[0;34m=\u001b[0m \u001b[0mr\u001b[0m\u001b[0;34m.\u001b[0m\u001b[0mapply\u001b[0m\u001b[0;34m(\u001b[0m\u001b[0mproblem\u001b[0m\u001b[0;34m)\u001b[0m\u001b[0;34m\u001b[0m\u001b[0;34m\u001b[0m\u001b[0m\n\u001b[0m\u001b[1;32m     77\u001b[0m             \u001b[0minverse_data\u001b[0m\u001b[0;34m.\u001b[0m\u001b[0mappend\u001b[0m\u001b[0;34m(\u001b[0m\u001b[0minv\u001b[0m\u001b[0;34m)\u001b[0m\u001b[0;34m\u001b[0m\u001b[0;34m\u001b[0m\u001b[0m\n\u001b[1;32m     78\u001b[0m         \u001b[0;32mreturn\u001b[0m \u001b[0mproblem\u001b[0m\u001b[0;34m,\u001b[0m \u001b[0minverse_data\u001b[0m\u001b[0;34m\u001b[0m\u001b[0;34m\u001b[0m\u001b[0m\n",
      "\u001b[0;32m~/anaconda3/envs/cvxpy_env/lib/python3.10/site-packages/cvxpy/reductions/solvers/conic_solvers/mosek_conif.py\u001b[0m in \u001b[0;36mapply\u001b[0;34m(self, problem)\u001b[0m\n\u001b[1;32m    180\u001b[0m             \u001b[0mproblem\u001b[0m \u001b[0;34m=\u001b[0m \u001b[0mself\u001b[0m\u001b[0;34m.\u001b[0m\u001b[0mformat_constraints\u001b[0m\u001b[0;34m(\u001b[0m\u001b[0mproblem\u001b[0m\u001b[0;34m,\u001b[0m \u001b[0mself\u001b[0m\u001b[0;34m.\u001b[0m\u001b[0mEXP_CONE_ORDER\u001b[0m\u001b[0;34m)\u001b[0m\u001b[0;34m\u001b[0m\u001b[0;34m\u001b[0m\u001b[0m\n\u001b[1;32m    181\u001b[0m         \u001b[0;32mif\u001b[0m \u001b[0mproblem\u001b[0m\u001b[0;34m.\u001b[0m\u001b[0mx\u001b[0m\u001b[0;34m.\u001b[0m\u001b[0mboolean_idx\u001b[0m \u001b[0;32mor\u001b[0m \u001b[0mproblem\u001b[0m\u001b[0;34m.\u001b[0m\u001b[0mx\u001b[0m\u001b[0;34m.\u001b[0m\u001b[0minteger_idx\u001b[0m\u001b[0;34m:\u001b[0m  \u001b[0;31m# check if either list is empty\u001b[0m\u001b[0;34m\u001b[0m\u001b[0;34m\u001b[0m\u001b[0m\n\u001b[0;32m--> 182\u001b[0;31m             \u001b[0mdata\u001b[0m\u001b[0;34m,\u001b[0m \u001b[0minv_data\u001b[0m \u001b[0;34m=\u001b[0m \u001b[0mSlacks\u001b[0m\u001b[0;34m.\u001b[0m\u001b[0mapply\u001b[0m\u001b[0;34m(\u001b[0m\u001b[0mproblem\u001b[0m\u001b[0;34m,\u001b[0m \u001b[0;34m[\u001b[0m\u001b[0ma2d\u001b[0m\u001b[0;34m.\u001b[0m\u001b[0mNONNEG\u001b[0m\u001b[0;34m]\u001b[0m\u001b[0;34m)\u001b[0m\u001b[0;34m\u001b[0m\u001b[0;34m\u001b[0m\u001b[0m\n\u001b[0m\u001b[1;32m    183\u001b[0m         \u001b[0;32melse\u001b[0m\u001b[0;34m:\u001b[0m\u001b[0;34m\u001b[0m\u001b[0;34m\u001b[0m\u001b[0m\n\u001b[1;32m    184\u001b[0m             \u001b[0mdata\u001b[0m\u001b[0;34m,\u001b[0m \u001b[0minv_data\u001b[0m \u001b[0;34m=\u001b[0m \u001b[0mDualize\u001b[0m\u001b[0;34m.\u001b[0m\u001b[0mapply\u001b[0m\u001b[0;34m(\u001b[0m\u001b[0mproblem\u001b[0m\u001b[0;34m)\u001b[0m\u001b[0;34m\u001b[0m\u001b[0;34m\u001b[0m\u001b[0m\n",
      "\u001b[0;32m~/anaconda3/envs/cvxpy_env/lib/python3.10/site-packages/cvxpy/reductions/cone2cone/affine2direct.py\u001b[0m in \u001b[0;36mapply\u001b[0;34m(prob, affine)\u001b[0m\n\u001b[1;32m    292\u001b[0m             \u001b[0;31m# This will need to account for different conventions: does order-n\u001b[0m\u001b[0;34m\u001b[0m\u001b[0;34m\u001b[0m\u001b[0m\n\u001b[1;32m    293\u001b[0m             \u001b[0;31m# PSD constraint give rise to n**2 rows in A, or n*(n-1)//2 rows?\u001b[0m\u001b[0;34m\u001b[0m\u001b[0;34m\u001b[0m\u001b[0m\n\u001b[0;32m--> 294\u001b[0;31m             \u001b[0;32mraise\u001b[0m \u001b[0mNotImplementedError\u001b[0m\u001b[0;34m(\u001b[0m\u001b[0;34m)\u001b[0m\u001b[0;34m\u001b[0m\u001b[0;34m\u001b[0m\u001b[0m\n\u001b[0m\u001b[1;32m    295\u001b[0m \u001b[0;34m\u001b[0m\u001b[0m\n\u001b[1;32m    296\u001b[0m         \u001b[0;32mfor\u001b[0m \u001b[0mval\u001b[0m \u001b[0;32min\u001b[0m \u001b[0maffine\u001b[0m\u001b[0;34m:\u001b[0m\u001b[0;34m\u001b[0m\u001b[0;34m\u001b[0m\u001b[0m\n",
      "\u001b[0;31mNotImplementedError\u001b[0m: "
     ]
    }
   ],
   "source": [
    "np.random.seed(271828) \n",
    "m = 2; n = 50\n",
    "x = np.random.randn(m,n)\n",
    "\n",
    "off = cp.Variable(boolean=True)\n",
    "\n",
    "A = cp.Variable((2,2), PSD=True)\n",
    "b = cp.Variable(2)\n",
    "obj = cp.Maximize(cp.log_det(A))\n",
    "constraints = [ cp.norm(A@x[:,i] + b) <= 1 + 20*off for i in range(n) ]\n",
    "constraints += [cp.sum(off) <= 20]\n",
    "\n",
    "prob = cp.Problem(obj, constraints)\n",
    "optval = prob.solve(verbose=False) # seems to work, although it's not super accurate\n",
    "\n",
    "print(f\"Optimum value: {optval}\")"
   ]
  },
  {
   "cell_type": "markdown",
   "id": "c43e43ee",
   "metadata": {},
   "source": [
    "## FIM reader"
   ]
  },
  {
   "cell_type": "code",
   "execution_count": null,
   "id": "a773ab9f",
   "metadata": {},
   "outputs": [],
   "source": [
    "def dataframe_return(data):\n",
    "    fim1 = []\n",
    "    fim1.append(data['P1'].to_list())\n",
    "    fim1.append(data['P2'].to_list())\n",
    "    fim1.append(data['P3'].to_list())\n",
    "    fim1.append(data['P4'].to_list())\n",
    "    \n",
    "    return fim1 "
   ]
  },
  {
   "cell_type": "code",
   "execution_count": null,
   "id": "48c0a11d",
   "metadata": {},
   "outputs": [],
   "source": [
    "t_measure = [0, 0.125, 0.25, 0.375, 0.5, 0.625, 0.75, 0.875, 1]\n",
    "\n",
    "#t_measure = [0.125]\n",
    "\n",
    "\n",
    "\n",
    "def FIM_reader(rank='onebyone'):\n",
    "    \n",
    "    FIM_set = []\n",
    "    \n",
    "    if rank=='onebyone':\n",
    "        for idx, i in enumerate(t_measure):\n",
    "            fim1_data = pd.read_csv('./kinetics_fim/CA_' + str(idx)+'.csv')\n",
    "            \n",
    "            fim1 = dataframe_return(fim1_data)\n",
    "            FIM_set.append(fim1)\n",
    "            \n",
    "            fim2_data = pd.read_csv('./kinetics_fim/CB_' + str(idx)+'.csv')\n",
    "            \n",
    "            fim2 = dataframe_return(fim2_data)\n",
    "            FIM_set.append(fim2)\n",
    "            \n",
    "            fim3_data = pd.read_csv('./kinetics_fim/CC_' + str(idx)+'.csv')\n",
    "            \n",
    "            fim3 = dataframe_return(fim3_data)\n",
    "            FIM_set.append(fim3)\n",
    "            \n",
    "    elif rank=='onealong':\n",
    "        for idx, i in enumerate(t_measure):\n",
    "            fim1_data = pd.read_csv('./kinetics_fim/CA_' + str(idx)+'.csv')\n",
    "            \n",
    "            fim1 = dataframe_return(fim1_data)\n",
    "            FIM_set.append(fim1)\n",
    "            \n",
    "        for idx, i in enumerate(t_measure):\n",
    "            fim2_data = pd.read_csv('./kinetics_fim/CB_' + str(idx)+'.csv')\n",
    "            \n",
    "            fim2 = dataframe_return(fim2_data)\n",
    "            FIM_set.append(fim2)\n",
    "            \n",
    "        for idx, i in enumerate(t_measure):\n",
    "            fim3_data = pd.read_csv('./kinetics_fim/CC_' + str(idx)+'.csv')\n",
    "            \n",
    "            fim3 = dataframe_return(fim3_data)\n",
    "            FIM_set.append(fim3)\n",
    "            \n",
    "            \n",
    "    return FIM_set\n",
    "        \n",
    "FIM_set = FIM_reader(rank='onealong')\n",
    "print(np.shape(FIM_set))\n",
    "print(FIM_set[0][1][1])"
   ]
  },
  {
   "cell_type": "code",
   "execution_count": null,
   "id": "93e3d0b6",
   "metadata": {},
   "outputs": [],
   "source": [
    "TotalF = np.zeros((4,4))\n",
    "for i in range(4):\n",
    "    for j in range(4):\n",
    "        TotalF[i,j] = sum(FIM_set[k][i][j] for k in range(27))\n",
    "        \n",
    "print(TotalF)\n",
    "\n",
    "print(np.trace(TotalF))\n",
    "print(np.linalg.det(TotalF))\n",
    "print(np.linalg.eigvals(TotalF))"
   ]
  },
  {
   "cell_type": "markdown",
   "id": "268cff0c",
   "metadata": {},
   "source": [
    "## CVXPY - with variance"
   ]
  },
  {
   "cell_type": "code",
   "execution_count": null,
   "id": "defb8207",
   "metadata": {},
   "outputs": [],
   "source": [
    "no_res = 27"
   ]
  },
  {
   "cell_type": "code",
   "execution_count": null,
   "id": "a2962e38",
   "metadata": {},
   "outputs": [],
   "source": [
    "def eval_fim(yi):\n",
    "     \n",
    "    fim = sum(yy*FIM_set[idx] for idx, yy in enumerate(yi))\n",
    "    #fim = cp.bmat(FIM_set)\n",
    "        \n",
    "    return fim \n",
    "\n",
    "def a_opt(yi):\n",
    "    fim = eval_fim(yi)\n",
    "    #return cp.matrix_frac(np.identity(fim.shape==[0]), fim)\n",
    "    return cp.trace(fim)\n",
    "    \n",
    "def d_opt(yi):\n",
    "    fim = eval_fim(yi)\n",
    "    return cp.log_det(fim)\n",
    "\n",
    "def e_opt(yi):\n",
    "    fim = eval_fim(yi)\n",
    "    return cp.lambda_min(fim)"
   ]
  },
  {
   "cell_type": "code",
   "execution_count": null,
   "id": "6e98015c",
   "metadata": {},
   "outputs": [],
   "source": [
    "yi = cp.Variable(no_res, integer=True)\n",
    "\n",
    "p_cons = [cp.sum(yi) <= 20]\n",
    "\n",
    "for i in yi:\n",
    "    p_cons += [i<=1]\n",
    "    p_cons += [i>=0]\n",
    "\n",
    "obj = cp.Maximize(d_opt(yi))\n",
    "\n",
    "problem = cp.Problem(obj, p_cons)"
   ]
  },
  {
   "cell_type": "code",
   "execution_count": null,
   "id": "10aef418",
   "metadata": {},
   "outputs": [],
   "source": [
    "yi = cp.Variable(no_res, boolean=True)\n",
    "\n",
    "#constr1 = (expr1==yi)\n",
    "\n",
    "constr1 = [cp.sum(yi) <= 20]\n",
    "\n",
    "obj = cp.Maximize(d_opt(yi))\n",
    "\n",
    "problem = cp.Problem(obj, constr1)\n"
   ]
  },
  {
   "cell_type": "code",
   "execution_count": null,
   "id": "d0e39d1d",
   "metadata": {},
   "outputs": [],
   "source": []
  },
  {
   "cell_type": "code",
   "execution_count": null,
   "id": "65ef39a0",
   "metadata": {},
   "outputs": [],
   "source": [
    "print('Optimal value:', problem.solve(verbose=True))\n",
    "\n",
    "print(yi.value)"
   ]
  },
  {
   "cell_type": "code",
   "execution_count": null,
   "id": "d6e1be49",
   "metadata": {},
   "outputs": [],
   "source": []
  },
  {
   "cell_type": "code",
   "execution_count": null,
   "id": "1ee5f069",
   "metadata": {},
   "outputs": [],
   "source": [
    "def eval_fim(ya, yb, yc):\n",
    "     \n",
    "    fim = sum(yy1*FIM_set[idx] for idx, yy1 in enumerate(ya))+sum(yy2*FIM_set[idx+9]*0.25 for idx, yy2 in enumerate(yb)) + sum(yy3*FIM_set[idx+18]*0.25 for idx, yy3 in enumerate(yc))\n",
    "                \n",
    "    return fim \n",
    "\n",
    "def a_opt(ya, yb, yc):\n",
    "    fim = eval_fim(ya, yb, yc)\n",
    "    #return cp.matrix_frac(np.identity(fim.shape==[0]), fim)\n",
    "    return cp.trace(fim)\n",
    "    \n",
    "def d_opt(ya, yb, yc):\n",
    "    fim = eval_fim(ya, yb, yc)\n",
    "    return cp.log_det(fim)\n",
    "\n",
    "def e_opt(ya, yb, yc):\n",
    "    fim = eval_fim(ya, yb, yc)\n",
    "    return -cp.lambda_min(fim)"
   ]
  },
  {
   "cell_type": "code",
   "execution_count": null,
   "id": "34b078a4",
   "metadata": {},
   "outputs": [],
   "source": [
    "no_res_unit = 9\n",
    "\n",
    "ya = cp.Variable(no_res_unit, integer=True)\n",
    "yb = cp.Variable(no_res_unit, integer=True)\n",
    "yc = cp.Variable(no_res_unit, integer=True)\n",
    "\n",
    "p_cons = [cp.sum(ya*10) + cp.sum(yb*6) + cp.sum(yc*6) <= 80]\n",
    "\n",
    "for i in ya:\n",
    "    p_cons += [i<=1]\n",
    "    p_cons += [i>=0]\n",
    "for j in yb:\n",
    "    p_cons += [j<=1]\n",
    "    p_cons += [j>=0]\n",
    "for d in yc:\n",
    "    p_cons += [d<=1]\n",
    "    p_cons += [d>=0]\n",
    "    \n",
    "obj = cp.Maximize(d_opt(ya, yb, yc))\n",
    "\n",
    "problem = cp.Problem(obj, p_cons)\n",
    "\n"
   ]
  },
  {
   "cell_type": "code",
   "execution_count": null,
   "id": "111985e9",
   "metadata": {},
   "outputs": [],
   "source": [
    "print('First time: Optimal value:', problem.solve(solver=cp.GUROBI, verbose=True))\n",
    "\n",
    "#print('Second time: Optimal value:', problem.solve(verbose=True, warm_start = True))"
   ]
  },
  {
   "cell_type": "code",
   "execution_count": null,
   "id": "bd2dece7",
   "metadata": {},
   "outputs": [],
   "source": [
    "print(ya.value)\n",
    "print(yb.value)\n",
    "print(yc.value)"
   ]
  },
  {
   "cell_type": "code",
   "execution_count": null,
   "id": "09d39371",
   "metadata": {},
   "outputs": [],
   "source": [
    "! echo $PATH"
   ]
  },
  {
   "cell_type": "code",
   "execution_count": null,
   "id": "6adb7dee",
   "metadata": {},
   "outputs": [],
   "source": [
    "import mosek"
   ]
  },
  {
   "cell_type": "code",
   "execution_count": null,
   "id": "71f7ae9d",
   "metadata": {},
   "outputs": [],
   "source": [
    "print(cp.installed_solvers())"
   ]
  },
  {
   "cell_type": "code",
   "execution_count": null,
   "id": "3697498e",
   "metadata": {},
   "outputs": [],
   "source": []
  }
 ],
 "metadata": {
  "kernelspec": {
   "display_name": "Python 3 (ipykernel)",
   "language": "python",
   "name": "python3"
  },
  "language_info": {
   "codemirror_mode": {
    "name": "ipython",
    "version": 3
   },
   "file_extension": ".py",
   "mimetype": "text/x-python",
   "name": "python",
   "nbconvert_exporter": "python",
   "pygments_lexer": "ipython3",
   "version": "3.10.4"
  }
 },
 "nbformat": 4,
 "nbformat_minor": 5
}
