{
 "cells": [
  {
   "cell_type": "code",
   "execution_count": 1,
   "id": "597f749d",
   "metadata": {
    "id": "597f749d"
   },
   "outputs": [],
   "source": [
    "import numpy as np\n",
    "import pandas as pd\n",
    "import pyomo.environ as pyo\n",
    "from measure_optimize import MeasurementOptimizer\n",
    "import matplotlib.pyplot as plt\n",
    "from itertools import permutations, product"
   ]
  },
  {
   "cell_type": "code",
   "execution_count": 2,
   "id": "P5H4kxoznIZK",
   "metadata": {
    "id": "P5H4kxoznIZK"
   },
   "outputs": [
    {
     "ename": "ModuleNotFoundError",
     "evalue": "No module named 'google.colab'",
     "output_type": "error",
     "traceback": [
      "\u001b[0;31m---------------------------------------------------------------------------\u001b[0m",
      "\u001b[0;31mModuleNotFoundError\u001b[0m                       Traceback (most recent call last)",
      "\u001b[0;32m/tmp/ipykernel_2880748/1408506528.py\u001b[0m in \u001b[0;36m<module>\u001b[0;34m\u001b[0m\n\u001b[0;32m----> 1\u001b[0;31m \u001b[0;32mfrom\u001b[0m \u001b[0mgoogle\u001b[0m\u001b[0;34m.\u001b[0m\u001b[0mcolab\u001b[0m \u001b[0;32mimport\u001b[0m \u001b[0mdrive\u001b[0m\u001b[0;34m\u001b[0m\u001b[0;34m\u001b[0m\u001b[0m\n\u001b[0m\u001b[1;32m      2\u001b[0m \u001b[0mdrive\u001b[0m\u001b[0;34m.\u001b[0m\u001b[0mmount\u001b[0m\u001b[0;34m(\u001b[0m\u001b[0;34m'/content/drive'\u001b[0m\u001b[0;34m)\u001b[0m\u001b[0;34m\u001b[0m\u001b[0;34m\u001b[0m\u001b[0m\n",
      "\u001b[0;31mModuleNotFoundError\u001b[0m: No module named 'google.colab'"
     ]
    }
   ],
   "source": [
    "from google.colab import drive\n",
    "drive.mount('/content/drive')"
   ]
  },
  {
   "cell_type": "markdown",
   "id": "e70ab310",
   "metadata": {
    "id": "e70ab310"
   },
   "source": [
    "## Input Setting"
   ]
  },
  {
   "cell_type": "code",
   "execution_count": 3,
   "id": "c70b6aee",
   "metadata": {
    "id": "c70b6aee",
    "outputId": "7c6ffb30-cbea-4b42-8c19-39f49a754f85"
   },
   "outputs": [
    {
     "name": "stdout",
     "output_type": "stream",
     "text": [
      "(308, 5)\n"
     ]
    }
   ],
   "source": [
    "jaco_info = pd.read_csv('./RotaryBed/Q22_scale.csv', index_col=False)\n",
    "\n",
    "jaco_list = np.asarray(jaco_info)\n",
    "\n",
    "jaco = []\n",
    "for i in range(len(jaco_list)):\n",
    "    jaco.append(list(jaco_list[i][1:]))\n",
    "    \n",
    "print(np.shape(jaco))"
   ]
  },
  {
   "cell_type": "code",
   "execution_count": 4,
   "id": "25b52386",
   "metadata": {
    "id": "25b52386"
   },
   "outputs": [],
   "source": [
    "number_measure = 14\n",
    "number_t = 22\n",
    "number_total = number_measure*number_t\n",
    "cost = [1]*number_total"
   ]
  },
  {
   "cell_type": "markdown",
   "id": "0ccd92e4",
   "metadata": {
    "id": "0ccd92e4"
   },
   "source": [
    "## FIM collection and Sigma INV"
   ]
  },
  {
   "cell_type": "code",
   "execution_count": 5,
   "id": "ba90d28f",
   "metadata": {
    "id": "ba90d28f"
   },
   "outputs": [],
   "source": [
    "solution1 = [1]*number_total"
   ]
  },
  {
   "cell_type": "code",
   "execution_count": 6,
   "id": "7df09b33",
   "metadata": {
    "id": "7df09b33",
    "outputId": "99eee4a9-a2b5-41bd-ff6d-1b1bc516f029"
   },
   "outputs": [
    {
     "name": "stdout",
     "output_type": "stream",
     "text": [
      "Q shape: 308 5\n",
      "======FIM result======\n",
      "FIM: [[ 1.12672079e+03  1.99620709e+00 -8.27109148e+02  2.23307383e+03\n",
      "  -1.27981839e+02]\n",
      " [ 1.99620709e+00  1.18589056e+00 -2.94047895e-01  1.63272938e+01\n",
      "  -3.30259408e+00]\n",
      " [-8.27109148e+02 -2.94047895e-01  6.68554142e+02 -1.72703074e+03\n",
      "   3.26205209e+01]\n",
      " [ 2.23307383e+03  1.63272938e+01 -1.72703074e+03  5.20782946e+03\n",
      "  -2.12490410e+02]\n",
      " [-1.27981839e+02 -3.30259408e+00  3.26205209e+01 -2.12490410e+02\n",
      "   1.16854209e+02]]\n",
      "Determinant: 1435753590.9147868 ; log_e(det): 21.084955698778014 ; log_10(det): 9.157079911153815\n",
      "Trace: 7121.144491083985 ; log_e(trace): 8.870823734618002 ; log_10(trace): 3.852549797880995\n",
      "Min eig: 0.8358678444970318 ; log_e(min_eig): -0.17928475913869069 ; log_10(min_eig): -0.07786238158328697\n",
      "Cond: 8134.8284627660305\n"
     ]
    },
    {
     "data": {
      "text/plain": [
       "array([[ 1.12672079e+03,  1.99620709e+00, -8.27109148e+02,\n",
       "         2.23307383e+03, -1.27981839e+02],\n",
       "       [ 1.99620709e+00,  1.18589056e+00, -2.94047895e-01,\n",
       "         1.63272938e+01, -3.30259408e+00],\n",
       "       [-8.27109148e+02, -2.94047895e-01,  6.68554142e+02,\n",
       "        -1.72703074e+03,  3.26205209e+01],\n",
       "       [ 2.23307383e+03,  1.63272938e+01, -1.72703074e+03,\n",
       "         5.20782946e+03, -2.12490410e+02],\n",
       "       [-1.27981839e+02, -3.30259408e+00,  3.26205209e+01,\n",
       "        -2.12490410e+02,  1.16854209e+02]])"
      ]
     },
     "execution_count": 6,
     "metadata": {},
     "output_type": "execute_result"
    }
   ],
   "source": [
    "calculator = MeasurementOptimizer(jaco, number_measure, number_t, cost, verbose=True)\n",
    "\n",
    "fim_expect = calculator.fim_computation()\n",
    "\n",
    "calculator.compute_FIM(solution1)"
   ]
  },
  {
   "cell_type": "code",
   "execution_count": 7,
   "id": "e551495d",
   "metadata": {
    "id": "e551495d"
   },
   "outputs": [],
   "source": [
    "def sgn(p):\n",
    "    \"\"\"\n",
    "    Give the signature of a permutation\n",
    "\n",
    "    Parameters:\n",
    "    -----------\n",
    "    p: the permutation (a list)\n",
    "\n",
    "    Return:\n",
    "    ------\n",
    "    1 if the number of exchange is an even number\n",
    "    -1 if the number is an odd number\n",
    "    \"\"\"\n",
    "\n",
    "    if len(p) == 1:\n",
    "        return 1\n",
    "\n",
    "    trans = 0\n",
    "\n",
    "    for i in range(0, len(p)):\n",
    "        j = i + 1\n",
    "\n",
    "        for j in range(j, len(p)):\n",
    "            if p[i] > p[j]:\n",
    "                trans = trans + 1\n",
    "\n",
    "    if (trans % 2) == 0:\n",
    "        return 1\n",
    "    else:\n",
    "        return -1"
   ]
  },
  {
   "cell_type": "code",
   "execution_count": 8,
   "id": "b7683dd7",
   "metadata": {
    "id": "b7683dd7"
   },
   "outputs": [],
   "source": [
    "def compute_FIM(numRes, FIMSet, obj=\"A\", fix=False, budget=100):\n",
    "    \n",
    "    m = pyo.ConcreteModel()\n",
    "    \n",
    "    m.NumRes = pyo.Set(initialize=range(numRes))\n",
    "    m.DimFIM = pyo.Set(initialize=range(len(FIMSet[0])))\n",
    "    print(m.DimFIM)\n",
    "    \n",
    "    # set up y and cov y \n",
    "    #m.y = pyo.Var(m.NumRes, initialize=0.1, bounds=(0,1), within = pyo.NonNegativeReals)\n",
    "    def identity(m, a, b):\n",
    "        return 1 if a==b else 0\n",
    "\n",
    "    m.cov_y = pyo.Var(m.NumRes, m.NumRes, initialize=identity, bounds=(0,1), within=pyo.NonNegativeReals)\n",
    "    \n",
    "    if fix:\n",
    "        m.cov_y.fix()\n",
    "    \n",
    "    # set up FIM\n",
    "    m.TotalFIM = pyo.Var(m.DimFIM, m.DimFIM, initialize=1)\n",
    "\n",
    "    # compute FIM\n",
    "    def eval_fim(m, a, b):\n",
    "        return m.TotalFIM[a,b] == sum(m.cov_y[i,j]*FIMSet[i*numRes+j][a][b] for i in range(numRes) for j in range(numRes))\n",
    "    \n",
    "    \n",
    "    # y and conv y constraints\n",
    "    def y_covy1(m, a, b):\n",
    "        return m.cov_y[a, b] <= m.cov_y[a, a]\n",
    "    \n",
    "    def y_covy2(m, a, b):\n",
    "        return m.cov_y[a, b] <= m.cov_y[b, b]\n",
    "    \n",
    "    def y_covy3(m, a, b):\n",
    "        return m.cov_y[a, b] >= m.cov_y[a, a] + m.cov_y[b, b] - 1\n",
    "    \n",
    "    def y_covy4(m, a, b):\n",
    "        '''\n",
    "        Avoid duplication\n",
    "        '''\n",
    "        if a>b:\n",
    "            return m.cov_y[a, b] == m.cov_y[b, a]\n",
    "        \n",
    "        else:\n",
    "            return pyo.Constraint.Skip\n",
    "    \n",
    "    \n",
    "    \n",
    "    def cost_compute(m):\n",
    "        return m.cost == sum(m.cov_y[i,i] for i in range(numRes))\n",
    "    \n",
    "    def cost_limit(m):\n",
    "        return m.cost <= budget\n",
    "    \n",
    "    # set up Design criterion\n",
    "    def ComputeTrace(m):\n",
    "        sum_x = sum(m.TotalFIM[j,j] for j in m.DimFIM)\n",
    "        return sum_x\n",
    "    \n",
    "    \n",
    "    def ComputeDet(m):\n",
    "        \"\"\"Calculate determinant. Can be applied to FIM of any size.\n",
    "        det(A) = sum_{\\sigma \\in \\S_n} (sgn(\\sigma) * \\Prod_{i=1}^n a_{i,\\sigma_i})\n",
    "        Use permutation() to get permutations, sgn() to get signature\n",
    "        \"\"\"\n",
    "\n",
    "        r_list = list(range(len(m.DimFIM)))\n",
    "        # get all permutations\n",
    "        object_p = permutations(r_list)\n",
    "        list_p = list(object_p)\n",
    "\n",
    "        # generate a name_order to iterate \\sigma_i\n",
    "        det_perm = 0\n",
    "        for i in range(len(list_p)):\n",
    "            name_order = []\n",
    "            x_order = list_p[i]\n",
    "            # sigma_i is the value in the i-th position after the reordering \\sigma\n",
    "            for x in range(len(x_order)):\n",
    "                for y, element in enumerate(m.DimFIM):\n",
    "                    if x_order[x] == y:\n",
    "                        name_order.append(element)\n",
    "\n",
    "            det_perm += sgn(list_p[i]) * (m.TotalFIM[0,name_order[0]] *m.TotalFIM[1,name_order[1]]*m.TotalFIM[2,name_order[2]]*m.TotalFIM[3,name_order[3]]*m.TotalFIM[4,name_order[4]])\n",
    "\n",
    "        return det_perm\n",
    "    \n",
    "    \n",
    "    # add constraints\n",
    "    m.TotalFIM_con = pyo.Constraint(m.DimFIM, m.DimFIM, rule=eval_fim)\n",
    "    \n",
    "    if not fix:\n",
    "        m.cov1 = pyo.Constraint(m.NumRes, m.NumRes, rule=y_covy1)\n",
    "        m.cov2 = pyo.Constraint(m.NumRes, m.NumRes, rule=y_covy2)\n",
    "        m.cov3 = pyo.Constraint(m.NumRes, m.NumRes, rule=y_covy3)\n",
    "        m.cov4 = pyo.Constraint(m.NumRes, m.NumRes, rule=y_covy4)\n",
    "        \n",
    "        m.cost = pyo.Var(initialize=budget)\n",
    "        m.cost_compute = pyo.Constraint(rule=cost_compute)\n",
    "        m.budget_limit = pyo.Constraint(rule=cost_limit)\n",
    "    \n",
    "    # set objective \n",
    "    if obj == \"A\":\n",
    "        m.Obj = pyo.Objective(rule=ComputeTrace, sense=pyo.maximize)    \n",
    "    elif obj ==\"D\":\n",
    "        m.Obj = pyo.Objective(rule=ComputeDet, sense=pyo.maximize)\n",
    "    \n",
    "    return m "
   ]
  },
  {
   "cell_type": "code",
   "execution_count": 9,
   "id": "d5c1c3ad",
   "metadata": {
    "id": "d5c1c3ad"
   },
   "outputs": [],
   "source": [
    "def compute_FIM(numRes, FIMSet, obj=\"A\", fix=False, budget=100):\n",
    "    \n",
    "    m = pyo.ConcreteModel()\n",
    "    \n",
    "    m.NumRes = pyo.Set(initialize=range(numRes))\n",
    "    m.DimFIM = pyo.Set(initialize=range(len(FIMSet[0])))\n",
    "    print(m.DimFIM)\n",
    "    \n",
    "    # set up y and cov y \n",
    "    #m.y = pyo.Var(m.NumRes, initialize=0.1, bounds=(0,1), within = pyo.NonNegativeReals)\n",
    "    def identity(m, a, b):\n",
    "        return 1 if a==b else 0\n",
    "\n",
    "    m.cov_y = pyo.Var(m.NumRes, m.NumRes, initialize=identity, bounds=(0,1), within=pyo.NonNegativeReals)\n",
    "    \n",
    "    if fix:\n",
    "        m.cov_y.fix()\n",
    "    \n",
    "    # set up FIM\n",
    "    m.TotalFIM = pyo.Var(m.DimFIM, m.DimFIM, initialize=1)\n",
    "\n",
    "    # compute FIM\n",
    "    def eval_fim(m, a, b):\n",
    "        return m.TotalFIM[a,b] == sum(m.cov_y[i,j]*FIMSet[i*numRes+j][a][b] for i in range(numRes) for j in range(numRes))\n",
    "    \n",
    "    \n",
    "    # y and conv y constraints\n",
    "    def y_covy1(m, a, b):\n",
    "        return m.cov_y[a, b] <= m.cov_y[a, a]\n",
    "    \n",
    "    def y_covy2(m, a, b):\n",
    "        return m.cov_y[a, b] <= m.cov_y[b, b]\n",
    "    \n",
    "    def y_covy3(m, a, b):\n",
    "        return m.cov_y[a, b] >= m.cov_y[a, a] + m.cov_y[b, b] - 1\n",
    "    \n",
    "    def y_covy4(m, a, b):\n",
    "        '''\n",
    "        Avoid duplication\n",
    "        '''\n",
    "        if a>b:\n",
    "            return m.cov_y[a, b] == m.cov_y[b, a]\n",
    "        \n",
    "        else:\n",
    "            return pyo.Constraint.Skip\n",
    "    \n",
    "    \n",
    "    \n",
    "    def cost_compute(m):\n",
    "        return m.cost == sum(m.cov_y[i,i] for i in range(numRes))\n",
    "    \n",
    "    def cost_limit(m):\n",
    "        return m.cost <= budget\n",
    "    \n",
    "    # set up Design criterion\n",
    "    def ComputeTrace(m):\n",
    "        sum_x = sum(m.TotalFIM[j,j] for j in m.DimFIM)\n",
    "        return sum_x\n",
    "    \n",
    "    \n",
    "    def ComputeDet(m):\n",
    "        \"\"\"Calculate determinant. Can be applied to FIM of any size.\n",
    "        det(A) = sum_{\\sigma \\in \\S_n} (sgn(\\sigma) * \\Prod_{i=1}^n a_{i,\\sigma_i})\n",
    "        Use permutation() to get permutations, sgn() to get signature\n",
    "        \"\"\"\n",
    "\n",
    "        r_list = list(range(len(m.DimFIM)))\n",
    "        # get all permutations\n",
    "        object_p = permutations(r_list)\n",
    "        list_p = list(object_p)\n",
    "\n",
    "        # generate a name_order to iterate \\sigma_i\n",
    "        det_perm = 0\n",
    "        for i in range(len(list_p)):\n",
    "            name_order = []\n",
    "            x_order = list_p[i]\n",
    "            # sigma_i is the value in the i-th position after the reordering \\sigma\n",
    "            for x in range(len(x_order)):\n",
    "                for y, element in enumerate(m.DimFIM):\n",
    "                    if x_order[x] == y:\n",
    "                        name_order.append(element)\n",
    "\n",
    "            det_perm += sgn(list_p[i]) * (m.TotalFIM[0,name_order[0]] *m.TotalFIM[1,name_order[1]]*m.TotalFIM[2,name_order[2]]*m.TotalFIM[3,name_order[3]]*m.TotalFIM[4,name_order[4]])\n",
    "\n",
    "        return det_perm\n",
    "    \n",
    "    \n",
    "    # add constraints\n",
    "    m.TotalFIM_con = pyo.Constraint(m.DimFIM, m.DimFIM, rule=eval_fim)\n",
    "    \n",
    "    if not fix:\n",
    "        m.cov1 = pyo.Constraint(m.NumRes, m.NumRes, rule=y_covy1)\n",
    "        m.cov2 = pyo.Constraint(m.NumRes, m.NumRes, rule=y_covy2)\n",
    "        m.cov3 = pyo.Constraint(m.NumRes, m.NumRes, rule=y_covy3)\n",
    "        m.cov4 = pyo.Constraint(m.NumRes, m.NumRes, rule=y_covy4)\n",
    "        \n",
    "        m.cost = pyo.Var(initialize=budget)\n",
    "        m.cost_compute = pyo.Constraint(rule=cost_compute)\n",
    "        m.budget_limit = pyo.Constraint(rule=cost_limit)\n",
    "    \n",
    "    # set objective \n",
    "    if obj == \"A\":\n",
    "        m.Obj = pyo.Objective(rule=ComputeTrace, sense=pyo.maximize)    \n",
    "    elif obj ==\"D\":\n",
    "        m.Obj = pyo.Objective(rule=ComputeDet, sense=pyo.maximize)\n",
    "    \n",
    "    return m "
   ]
  },
  {
   "cell_type": "code",
   "execution_count": 10,
   "id": "5af6296a",
   "metadata": {
    "id": "5af6296a"
   },
   "outputs": [],
   "source": [
    "total_mea = 14*22"
   ]
  },
  {
   "cell_type": "code",
   "execution_count": 11,
   "id": "914b2ffd",
   "metadata": {
    "id": "914b2ffd",
    "outputId": "6c143513-fe76-45e8-e3d4-3ddac482f68a",
    "scrolled": true
   },
   "outputs": [
    {
     "name": "stdout",
     "output_type": "stream",
     "text": [
      "DimFIM\n",
      "Ipopt 3.13.2: linear_solver=ma57\n",
      "\n",
      "\n",
      "******************************************************************************\n",
      "This program contains Ipopt, a library for large-scale nonlinear optimization.\n",
      " Ipopt is released as open source code under the Eclipse Public License (EPL).\n",
      "         For more information visit http://projects.coin-or.org/Ipopt\n",
      "\n",
      "This version of Ipopt was compiled from source code available at\n",
      "    https://github.com/IDAES/Ipopt as part of the Institute for the Design of\n",
      "    Advanced Energy Systems Process Systems Engineering Framework (IDAES PSE\n",
      "    Framework) Copyright (c) 2018-2019. See https://github.com/IDAES/idaes-pse.\n",
      "\n",
      "This version of Ipopt was compiled using HSL, a collection of Fortran codes\n",
      "    for large-scale scientific computation.  All technical papers, sales and\n",
      "    publicity material resulting from use of the HSL codes within IPOPT must\n",
      "    contain the following acknowledgement:\n",
      "        HSL, a collection of Fortran codes for large-scale scientific\n",
      "        computation. See http://www.hsl.rl.ac.uk.\n",
      "******************************************************************************\n",
      "\n",
      "This is Ipopt version 3.13.2, running with linear solver ma57.\n",
      "\n",
      "Number of nonzeros in equality constraint Jacobian...:   102302\n",
      "Number of nonzeros in inequality constraint Jacobian.:   662201\n",
      "Number of nonzeros in Lagrangian Hessian.............:        0\n",
      "\n",
      "Total number of variables............................:    94890\n",
      "                     variables with only lower bounds:        0\n",
      "                variables with lower and upper bounds:    94864\n",
      "                     variables with only upper bounds:        0\n",
      "Total number of equality constraints.................:    47304\n",
      "Total number of inequality constraints...............:   284593\n",
      "        inequality constraints with only lower bounds:        0\n",
      "   inequality constraints with lower and upper bounds:        0\n",
      "        inequality constraints with only upper bounds:   284593\n",
      "\n",
      "iter    objective    inf_pr   inf_du lg(mu)  ||d||  lg(rg) alpha_du alpha_pr  ls\n",
      "   0 -5.0000000e+00 5.15e+03 6.96e+01  -1.0 0.00e+00    -  0.00e+00 0.00e+00   0\n",
      "   1 -3.6008325e+03 5.15e+01 4.93e+01  -1.0 2.66e+03    -  1.97e-02 9.90e-01f  1\n",
      "   2 -4.0931999e+03 5.10e-01 4.23e+02  -1.0 3.81e+02    -  5.67e-01 9.90e-01f  1\n",
      "   3 -4.7687553e+03 2.27e-12 1.00e-06  -1.0 5.17e+02    -  1.00e+00 1.00e+00f  1\n",
      "   4 -5.8577062e+03 9.09e-13 7.68e+04  -2.5 8.04e+02    -  5.73e-01 9.94e-01f  1\n",
      "   5 -6.5669095e+03 2.73e-12 2.60e+04  -2.5 4.82e+02    -  6.65e-01 1.00e+00f  1\n",
      "   6 -6.7199584e+03 2.73e-12 8.12e+03  -2.5 1.01e+02    -  6.88e-01 1.00e+00f  1\n",
      "   7 -6.7842428e+03 8.19e-12 2.83e-08  -2.5 5.23e+01    -  1.00e+00 1.00e+00f  1\n",
      "   8 -6.9778779e+03 2.73e-12 1.44e+05  -5.7 1.45e+02    -  4.81e-01 9.93e-01f  1\n",
      "   9 -7.0462849e+03 2.73e-12 6.66e+04  -5.7 5.26e+01    -  5.45e-01 9.45e-01f  1\n",
      "iter    objective    inf_pr   inf_du lg(mu)  ||d||  lg(rg) alpha_du alpha_pr  ls\n",
      "  10 -7.0867934e+03 3.64e-12 3.18e+04  -5.7 2.87e+01    -  5.23e-01 9.70e-01f  1\n",
      "  11 -7.1067565e+03 2.73e-12 1.54e+04  -5.7 1.99e+01    -  5.14e-01 9.89e-01f  1\n",
      "  12 -7.1154022e+03 8.19e-12 7.68e+03  -5.7 1.74e+01    -  5.03e-01 1.00e+00f  1\n",
      "  13 -7.1184679e+03 1.36e-11 3.85e+03  -5.7 1.40e+01    -  4.99e-01 1.00e+00f  1\n",
      "  14 -7.1197209e+03 5.00e-12 1.94e+03  -5.7 1.20e+01    -  4.97e-01 1.00e+00f  1\n",
      "  15 -7.1202410e+03 1.82e-12 9.53e+02  -5.7 9.10e+00    -  5.08e-01 1.00e+00f  1\n",
      "  16 -7.1204182e+03 7.28e-12 4.32e+02  -5.7 5.42e+00    -  5.46e-01 1.00e+00f  1\n",
      "  17 -7.1204613e+03 2.73e-12 1.47e+02  -5.7 2.54e+00    -  6.61e-01 1.00e+00f  1\n",
      "  18 -7.1204705e+03 4.09e-12 1.84e-11  -5.7 1.09e+00    -  1.00e+00 1.00e+00f  1\n",
      "  19 -7.1211316e+03 7.73e-12 9.77e+01  -8.6 5.50e+00    -  4.68e-01 9.99e-01f  1\n",
      "In iteration 19, 2 Slacks too small, adjusting variable bounds\n",
      "iter    objective    inf_pr   inf_du lg(mu)  ||d||  lg(rg) alpha_du alpha_pr  ls\n",
      "  20 -7.1211330e+03 2.73e-12 5.44e+01  -8.6 1.53e+00    -  4.42e-01 1.51e-01f  1\n",
      "In iteration 20, 2 Slacks too small, adjusting variable bounds\n",
      "  21 -7.1211349e+03 4.55e-12 3.45e+01  -8.6 2.02e+00    -  3.65e-01 2.08e-01f  1\n",
      "In iteration 21, 2 Slacks too small, adjusting variable bounds\n",
      "  22 -7.1211373e+03 3.64e-12 2.20e+01  -8.6 2.24e+00    -  3.61e-01 3.01e-01f  1\n",
      "In iteration 22, 2 Slacks too small, adjusting variable bounds\n",
      "  23 -7.1211405e+03 1.48e-12 1.36e+01  -8.6 2.09e+00    -  3.84e-01 5.32e-01f  1\n",
      "  24 -7.1211435e+03 2.73e-12 1.49e+01  -8.6 1.39e+00    -  4.64e-01 9.96e-01f  1\n",
      "  25 -7.1211436e+03 1.82e-12 2.03e+00  -8.6 3.50e-01    -  7.23e-01 1.00e+00f  1\n",
      "  26 -7.1211437e+03 9.09e-13 2.34e-01  -8.6 1.80e-01    -  9.58e-01 1.00e+00f  1\n",
      "  27 -7.1211437e+03 3.64e-12 4.54e-12  -8.6 3.36e-01    -  1.00e+00 1.00e+00h  1\n",
      "\n",
      "Number of Iterations....: 27\n",
      "\n",
      "                                   (scaled)                 (unscaled)\n",
      "Objective...............:  -7.1211436751024594e+03   -7.1211436751024594e+03\n",
      "Dual infeasibility......:   4.5365485110990958e-12    4.5365485110990958e-12\n",
      "Constraint violation....:   1.6536919439447739e-12    3.6379788070917130e-12\n",
      "Complementarity.........:   4.0114724042648385e-09    4.0114724042648385e-09\n",
      "Overall NLP error.......:   4.0114724042648385e-09    4.0114724042648385e-09\n",
      "\n",
      "\n",
      "Number of objective function evaluations             = 28\n",
      "Number of objective gradient evaluations             = 28\n",
      "Number of equality constraint evaluations            = 28\n",
      "Number of inequality constraint evaluations          = 28\n",
      "Number of equality constraint Jacobian evaluations   = 28\n",
      "Number of inequality constraint Jacobian evaluations = 28\n",
      "Number of Lagrangian Hessian evaluations             = 27\n",
      "Total CPU secs in IPOPT (w/o function evaluations)   =     22.858\n",
      "Total CPU secs in NLP function evaluations           =      0.457\n",
      "\n",
      "EXIT: Optimal Solution Found.\n"
     ]
    },
    {
     "data": {
      "text/plain": [
       "{'Problem': [{'Lower bound': -inf, 'Upper bound': inf, 'Number of objectives': 1, 'Number of constraints': 331897, 'Number of variables': 94890, 'Sense': 'unknown'}], 'Solver': [{'Status': 'ok', 'Message': 'Ipopt 3.13.2\\\\x3a Optimal Solution Found', 'Termination condition': 'optimal', 'Id': 0, 'Error rc': 0, 'Time': 26.97622847557068}], 'Solution': [OrderedDict([('number of solutions', 0), ('number of solutions displayed', 0)])]}"
      ]
     },
     "execution_count": 11,
     "metadata": {},
     "output_type": "execute_result"
    }
   ],
   "source": [
    "mod = compute_FIM(total_mea, calculator.fim_collection, obj=\"A\", fix=False, budget=310)\n",
    "\n",
    "solver = pyo.SolverFactory('ipopt')\n",
    "solver.options['linear_solver'] = 'ma57'\n",
    "solver.solve(mod, tee=True)"
   ]
  },
  {
   "cell_type": "code",
   "execution_count": 12,
   "id": "bdc5b0eb",
   "metadata": {
    "id": "bdc5b0eb"
   },
   "outputs": [
    {
     "name": "stdout",
     "output_type": "stream",
     "text": [
      "7121.143675102459\n"
     ]
    }
   ],
   "source": [
    "print(pyo.value(mod.Obj))"
   ]
  },
  {
   "cell_type": "code",
   "execution_count": 13,
   "id": "24d81e44",
   "metadata": {
    "id": "24d81e44",
    "scrolled": true
   },
   "outputs": [
    {
     "name": "stdout",
     "output_type": "stream",
     "text": [
      "1126.7206925783785\n",
      "[[ 1.12672069e+03  1.99620345e+00 -8.27109182e+02  2.23307380e+03\n",
      "  -1.27981736e+02]\n",
      " [ 1.99620345e+00  1.18588100e+00 -2.94049858e-01  1.63272781e+01\n",
      "  -3.30259025e+00]\n",
      " [-8.27109182e+02 -2.94049858e-01  6.68554095e+02 -1.72703071e+03\n",
      "   3.26205554e+01]\n",
      " [ 2.23307380e+03  1.63272781e+01 -1.72703071e+03  5.20782896e+03\n",
      "  -2.12490343e+02]\n",
      " [-1.27981736e+02 -3.30259025e+00  3.26205554e+01 -2.12490343e+02\n",
      "   1.16854042e+02]]\n",
      "trace: 7121.143675102459\n",
      "det: 1435729890.462704\n"
     ]
    }
   ],
   "source": [
    "### FIM\n",
    "fim_result = np.zeros((5,5))\n",
    "for i in range(5):\n",
    "    for j in range(5):\n",
    "        fim_result[i,j] = pyo.value(mod.TotalFIM[i,j])\n",
    "        \n",
    "print(pyo.value(mod.TotalFIM[0,0]))\n",
    "        \n",
    "print(fim_result)\n",
    "print('trace:', np.trace(fim_result))\n",
    "print('det:', np.linalg.det(fim_result))"
   ]
  },
  {
   "cell_type": "code",
   "execution_count": 14,
   "id": "74f67b1f",
   "metadata": {
    "id": "74f67b1f",
    "outputId": "b1c434b4-61b5-4f93-f073-da0d70fa9c89",
    "scrolled": false
   },
   "outputs": [
    {
     "name": "stdout",
     "output_type": "stream",
     "text": [
      "Wrong computation for covariance y: 108 118 0.7188462500124959 0.33282356905587307 0.1783024699473305\n",
      "Wrong computation for covariance y: 108 175 0.7188462500124959 0.332823568769858 0.1783024698783663\n",
      "Wrong computation for covariance y: 118 175 0.33282356905587307 0.332823568769858 0.11949181843373892\n",
      "306.33888870612685\n"
     ]
    }
   ],
   "source": [
    "ans_y = np.zeros((total_mea,total_mea))\n",
    "\n",
    "\n",
    "#for i in range(70):\n",
    "    #print('Measurement', i, ':', pyo.value(mod.cov_y[i,i]))\n",
    "    \n",
    "for i in range(total_mea):\n",
    "    for j in range(i, total_mea):\n",
    "        cov = pyo.value(mod.cov_y[i,j])\n",
    "        ans_y[i,j] = cov \n",
    "        ans_y[j,i] = pyo.value(mod.cov_y[j,i])\n",
    "        \n",
    "        if abs(pyo.value(mod.cov_y[i,j]) - pyo.value(mod.cov_y[j,i])) > 0.01:\n",
    "            print('Wrong symmetry:', i, j, pyo.value(mod.cov_y[i,j]), pyo.value(mod.cov_y[j,i]))\n",
    "        \n",
    "        if abs(cov- min(pyo.value(mod.cov_y[i,i]), pyo.value(mod.cov_y[j,j]))) > 0.01:\n",
    "            print('Wrong computation for covariance y:', i, j, pyo.value(mod.cov_y[i,i]), pyo.value(mod.cov_y[j,j]), cov)\n",
    "#print(pyo.value(mod.cov_y[5,8]))\n",
    "    \n",
    "print(pyo.value(mod.cost))"
   ]
  },
  {
   "cell_type": "code",
   "execution_count": 15,
   "id": "dc2ac80f",
   "metadata": {
    "id": "dc2ac80f"
   },
   "outputs": [
    {
     "name": "stdout",
     "output_type": "stream",
     "text": [
      "[[0.99999931 0.99999895 0.9999988  ... 0.99999697 0.99999568 0.99999629]\n",
      " [0.99999895 0.99999947 0.99999894 ... 0.99999707 0.99999578 0.99999639]\n",
      " [0.9999988  0.99999894 0.99999929 ... 0.99999696 0.99999567 0.99999628]\n",
      " ...\n",
      " [0.99999697 0.99999707 0.99999696 ... 0.99999736 0.99999434 0.99999489]\n",
      " [0.99999568 0.99999578 0.99999567 ... 0.99999434 0.99999606 0.99999378]\n",
      " [0.99999629 0.99999639 0.99999628 ... 0.99999489 0.99999378 0.99999667]]\n"
     ]
    },
    {
     "data": {
      "image/png": "[encoded data removed]",
      "text/plain": [
       "<Figure size 432x288 with 2 Axes>"
      ]
     },
     "metadata": {
      "needs_background": "light"
     },
     "output_type": "display_data"
    }
   ],
   "source": [
    "print(ans_y)\n",
    "\n",
    "figure = plt.figure()\n",
    "axes = figure.add_subplot(111)\n",
    "\n",
    "caxes = axes.matshow(ans_y, interpolation='nearest')\n",
    "figure.colorbar(caxes)\n",
    "\n",
    "plt.show()"
   ]
  },
  {
   "cell_type": "code",
   "execution_count": 16,
   "id": "53f8f41a",
   "metadata": {
    "id": "53f8f41a"
   },
   "outputs": [
    {
     "ename": "ValueError",
     "evalue": "cannot reshape array of size 308 into shape (14,5)",
     "output_type": "error",
     "traceback": [
      "\u001b[0;31m---------------------------------------------------------------------------\u001b[0m",
      "\u001b[0;31mValueError\u001b[0m                                Traceback (most recent call last)",
      "\u001b[0;32m/tmp/ipykernel_2880748/358438074.py\u001b[0m in \u001b[0;36m<module>\u001b[0;34m\u001b[0m\n\u001b[1;32m      1\u001b[0m \u001b[0msol_y\u001b[0m \u001b[0;34m=\u001b[0m \u001b[0mnp\u001b[0m\u001b[0;34m.\u001b[0m\u001b[0masarray\u001b[0m\u001b[0;34m(\u001b[0m\u001b[0;34m[\u001b[0m\u001b[0mans_y\u001b[0m\u001b[0;34m[\u001b[0m\u001b[0mi\u001b[0m\u001b[0;34m,\u001b[0m\u001b[0mi\u001b[0m\u001b[0;34m]\u001b[0m \u001b[0;32mfor\u001b[0m \u001b[0mi\u001b[0m \u001b[0;32min\u001b[0m \u001b[0mrange\u001b[0m\u001b[0;34m(\u001b[0m\u001b[0mtotal_mea\u001b[0m\u001b[0;34m)\u001b[0m\u001b[0;34m]\u001b[0m\u001b[0;34m)\u001b[0m\u001b[0;34m\u001b[0m\u001b[0;34m\u001b[0m\u001b[0m\n\u001b[1;32m      2\u001b[0m \u001b[0;34m\u001b[0m\u001b[0m\n\u001b[0;32m----> 3\u001b[0;31m \u001b[0msol_y\u001b[0m \u001b[0;34m=\u001b[0m \u001b[0mnp\u001b[0m\u001b[0;34m.\u001b[0m\u001b[0mreshape\u001b[0m\u001b[0;34m(\u001b[0m\u001b[0msol_y\u001b[0m\u001b[0;34m,\u001b[0m \u001b[0;34m(\u001b[0m\u001b[0;36m14\u001b[0m\u001b[0;34m,\u001b[0m\u001b[0;36m5\u001b[0m\u001b[0;34m)\u001b[0m\u001b[0;34m)\u001b[0m\u001b[0;34m\u001b[0m\u001b[0;34m\u001b[0m\u001b[0m\n\u001b[0m\u001b[1;32m      4\u001b[0m \u001b[0mnp\u001b[0m\u001b[0;34m.\u001b[0m\u001b[0maround\u001b[0m\u001b[0;34m(\u001b[0m\u001b[0msol_y\u001b[0m\u001b[0;34m)\u001b[0m\u001b[0;34m\u001b[0m\u001b[0;34m\u001b[0m\u001b[0m\n\u001b[1;32m      5\u001b[0m \u001b[0mprint\u001b[0m\u001b[0;34m(\u001b[0m\u001b[0msol_y\u001b[0m\u001b[0;34m)\u001b[0m\u001b[0;34m\u001b[0m\u001b[0;34m\u001b[0m\u001b[0m\n",
      "\u001b[0;32m<__array_function__ internals>\u001b[0m in \u001b[0;36mreshape\u001b[0;34m(*args, **kwargs)\u001b[0m\n",
      "\u001b[0;32m~/anaconda3/envs/pyomo/lib/python3.7/site-packages/numpy/core/fromnumeric.py\u001b[0m in \u001b[0;36mreshape\u001b[0;34m(a, newshape, order)\u001b[0m\n\u001b[1;32m    296\u001b[0m            [5, 6]])\n\u001b[1;32m    297\u001b[0m     \"\"\"\n\u001b[0;32m--> 298\u001b[0;31m     \u001b[0;32mreturn\u001b[0m \u001b[0m_wrapfunc\u001b[0m\u001b[0;34m(\u001b[0m\u001b[0ma\u001b[0m\u001b[0;34m,\u001b[0m \u001b[0;34m'reshape'\u001b[0m\u001b[0;34m,\u001b[0m \u001b[0mnewshape\u001b[0m\u001b[0;34m,\u001b[0m \u001b[0morder\u001b[0m\u001b[0;34m=\u001b[0m\u001b[0morder\u001b[0m\u001b[0;34m)\u001b[0m\u001b[0;34m\u001b[0m\u001b[0;34m\u001b[0m\u001b[0m\n\u001b[0m\u001b[1;32m    299\u001b[0m \u001b[0;34m\u001b[0m\u001b[0m\n\u001b[1;32m    300\u001b[0m \u001b[0;34m\u001b[0m\u001b[0m\n",
      "\u001b[0;32m~/anaconda3/envs/pyomo/lib/python3.7/site-packages/numpy/core/fromnumeric.py\u001b[0m in \u001b[0;36m_wrapfunc\u001b[0;34m(obj, method, *args, **kwds)\u001b[0m\n\u001b[1;32m     55\u001b[0m \u001b[0;34m\u001b[0m\u001b[0m\n\u001b[1;32m     56\u001b[0m     \u001b[0;32mtry\u001b[0m\u001b[0;34m:\u001b[0m\u001b[0;34m\u001b[0m\u001b[0;34m\u001b[0m\u001b[0m\n\u001b[0;32m---> 57\u001b[0;31m         \u001b[0;32mreturn\u001b[0m \u001b[0mbound\u001b[0m\u001b[0;34m(\u001b[0m\u001b[0;34m*\u001b[0m\u001b[0margs\u001b[0m\u001b[0;34m,\u001b[0m \u001b[0;34m**\u001b[0m\u001b[0mkwds\u001b[0m\u001b[0;34m)\u001b[0m\u001b[0;34m\u001b[0m\u001b[0;34m\u001b[0m\u001b[0m\n\u001b[0m\u001b[1;32m     58\u001b[0m     \u001b[0;32mexcept\u001b[0m \u001b[0mTypeError\u001b[0m\u001b[0;34m:\u001b[0m\u001b[0;34m\u001b[0m\u001b[0;34m\u001b[0m\u001b[0m\n\u001b[1;32m     59\u001b[0m         \u001b[0;31m# A TypeError occurs if the object does have such a method in its\u001b[0m\u001b[0;34m\u001b[0m\u001b[0;34m\u001b[0m\u001b[0;34m\u001b[0m\u001b[0m\n",
      "\u001b[0;31mValueError\u001b[0m: cannot reshape array of size 308 into shape (14,5)"
     ]
    }
   ],
   "source": [
    "sol_y = np.asarray([ans_y[i,i] for i in range(total_mea)])\n",
    "\n",
    "sol_y = np.reshape(sol_y, (14,5))\n",
    "np.around(sol_y)\n",
    "print(sol_y)"
   ]
  },
  {
   "cell_type": "code",
   "execution_count": null,
   "id": "cb8e1ff8",
   "metadata": {
    "id": "cb8e1ff8"
   },
   "outputs": [],
   "source": [
    "import matplotlib\n",
    "\n",
    "def heatmap(data, row_labels, col_labels, ax=None,\n",
    "            cbar_kw=None, cbarlabel=\"\", **kwargs):\n",
    "    \"\"\"\n",
    "    Create a heatmap from a numpy array and two lists of labels.\n",
    "\n",
    "    Parameters\n",
    "    ----------\n",
    "    data\n",
    "        A 2D numpy array of shape (M, N).\n",
    "    row_labels\n",
    "        A list or array of length M with the labels for the rows.\n",
    "    col_labels\n",
    "        A list or array of length N with the labels for the columns.\n",
    "    ax\n",
    "        A `matplotlib.axes.Axes` instance to which the heatmap is plotted.  If\n",
    "        not provided, use current axes or create a new one.  Optional.\n",
    "    cbar_kw\n",
    "        A dictionary with arguments to `matplotlib.Figure.colorbar`.  Optional.\n",
    "    cbarlabel\n",
    "        The label for the colorbar.  Optional.\n",
    "    **kwargs\n",
    "        All other arguments are forwarded to `imshow`.\n",
    "    \"\"\"\n",
    "\n",
    "    if ax is None:\n",
    "        ax = plt.gca()\n",
    "\n",
    "    if cbar_kw is None:\n",
    "        cbar_kw = {}\n",
    "\n",
    "    # Plot the heatmap\n",
    "    im = ax.imshow(data, **kwargs)\n",
    "\n",
    "    # Create colorbar\n",
    "    cbar = ax.figure.colorbar(im, ax=ax, **cbar_kw)\n",
    "    cbar.ax.set_ylabel(cbarlabel, rotation=-90, va=\"bottom\")\n",
    "\n",
    "    # Show all ticks and label them with the respective list entries.\n",
    "    ax.set_xticks(np.arange(data.shape[1]), labels=col_labels)\n",
    "    ax.set_yticks(np.arange(data.shape[0]), labels=row_labels)\n",
    "\n",
    "    # Let the horizontal axes labeling appear on top.\n",
    "    ax.tick_params(top=True, bottom=False,\n",
    "                   labeltop=True, labelbottom=False)\n",
    "\n",
    "    # Rotate the tick labels and set their alignment.\n",
    "    plt.setp(ax.get_xticklabels(), rotation=-30, ha=\"right\",\n",
    "             rotation_mode=\"anchor\")\n",
    "\n",
    "    # Turn spines off and create white grid.\n",
    "    ax.spines[:].set_visible(False)\n",
    "\n",
    "    ax.set_xticks(np.arange(data.shape[1]+1)-.5, minor=True)\n",
    "    ax.set_yticks(np.arange(data.shape[0]+1)-.5, minor=True)\n",
    "    ax.grid(which=\"minor\", color=\"w\", linestyle='-', linewidth=3)\n",
    "    ax.tick_params(which=\"minor\", bottom=False, left=False)\n",
    "\n",
    "    return im, cbar\n",
    "\n",
    "\n",
    "def annotate_heatmap(im, data=None, valfmt=\"{x:.2f}\",\n",
    "                     textcolors=(\"black\", \"white\"),\n",
    "                     threshold=None, **textkw):\n",
    "    \"\"\"\n",
    "    A function to annotate a heatmap.\n",
    "\n",
    "    Parameters\n",
    "    ----------\n",
    "    im\n",
    "        The AxesImage to be labeled.\n",
    "    data\n",
    "        Data used to annotate.  If None, the image's data is used.  Optional.\n",
    "    valfmt\n",
    "        The format of the annotations inside the heatmap.  This should either\n",
    "        use the string format method, e.g. \"$ {x:.2f}\", or be a\n",
    "        `matplotlib.ticker.Formatter`.  Optional.\n",
    "    textcolors\n",
    "        A pair of colors.  The first is used for values below a threshold,\n",
    "        the second for those above.  Optional.\n",
    "    threshold\n",
    "        Value in data units according to which the colors from textcolors are\n",
    "        applied.  If None (the default) uses the middle of the colormap as\n",
    "        separation.  Optional.\n",
    "    **kwargs\n",
    "        All other arguments are forwarded to each call to `text` used to create\n",
    "        the text labels.\n",
    "    \"\"\"\n",
    "\n",
    "    if not isinstance(data, (list, np.ndarray)):\n",
    "        data = im.get_array()\n",
    "\n",
    "    # Normalize the threshold to the images color range.\n",
    "    if threshold is not None:\n",
    "        threshold = im.norm(threshold)\n",
    "    else:\n",
    "        threshold = im.norm(data.max())/2.\n",
    "\n",
    "    # Set default alignment to center, but allow it to be\n",
    "    # overwritten by textkw.\n",
    "    kw = dict(horizontalalignment=\"center\",\n",
    "              verticalalignment=\"center\")\n",
    "    kw.update(textkw)\n",
    "\n",
    "    # Get the formatter in case a string is supplied\n",
    "    if isinstance(valfmt, str):\n",
    "        valfmt = matplotlib.ticker.StrMethodFormatter(valfmt)\n",
    "        \n",
    "        \n",
    "    # Loop over the data and create a `Text` for each \"pixel\".\n",
    "    # Change the text's color depending on the data.\n",
    "    texts = []\n",
    "    for i in range(data.shape[0]):\n",
    "        for j in range(data.shape[1]):\n",
    "            kw.update(color=textcolors[int(im.norm(data[i, j]) > threshold)])\n",
    "            text = im.axes.text(j, i, valfmt(data[i, j], None), **kw)\n",
    "            texts.append(text)\n",
    "\n",
    "    return texts"
   ]
  },
  {
   "cell_type": "code",
   "execution_count": null,
   "id": "56aeea54",
   "metadata": {
    "id": "56aeea54",
    "scrolled": true
   },
   "outputs": [],
   "source": [
    "measure_name = ['Ads.gas_inlet.F', 'Ads.gas_outlet.F', 'Ads.gas_outlet.T', 'Ads.gas_outlet.z(\"CO2\")', 'Des.gas_inlet.F', 'Des.gas_outlet.F', 'Des.gas_outlet.T', 'Des.gas_outlet.z(\"CO2\")', 'Ads.T_g.Value(19,10)', 'Ads.T_g.Value(23,10)', 'Ads.T_g.Value(28,10)', 'Ads.z(\"CO2\",19,10)', 'Ads.z(\"CO2\",23,10)', 'Ads.z(\"CO2\",28,10)']\n",
    "\n",
    "time_set = ['500', '1000', '1500', '2000', '2200']\n",
    "#time_set = np.linspace(100, 2200, 22)\n",
    "time_set = [str(i) for i in time_set]\n",
    "\n",
    "fig, ax = plt.subplots(figsize=(16,8))\n",
    "\n",
    "im, cbar = heatmap(sol_y, measure_name, time_set, ax=ax,\n",
    "                   cmap=\"YlGn\", cbarlabel=\"weight\")\n",
    "texts = annotate_heatmap(im, valfmt=\"{x:.1f}\")\n",
    "\n",
    "fig.tight_layout()\n",
    "plt.show()"
   ]
  },
  {
   "cell_type": "code",
   "execution_count": null,
   "id": "41e1db6d",
   "metadata": {
    "id": "41e1db6d"
   },
   "outputs": [],
   "source": [
    "def plot_data(budget, a_cri, d_cri, design_cri_label):\n",
    "    sense = []\n",
    "\n",
    "    #plt.scatter(budget, np.log10(a_cri), s=50, color='red', label='A-optimality')\n",
    "    plt.scatter(budget, np.log10(d_cri), marker='v', s=50, color='blue', label='D-optimality')\n",
    "    plt.xlabel('Budget')\n",
    "    plt.ylabel('log10(' + design_cri_label + ')')\n",
    "    plt.legend()\n",
    "\n",
    "    plt.show()"
   ]
  },
  {
   "cell_type": "code",
   "execution_count": null,
   "id": "0d3cebd3",
   "metadata": {
    "id": "0d3cebd3",
    "scrolled": true
   },
   "outputs": [],
   "source": [
    "a_set = [869.53, 1496.64, 1538.93, 1563.76, 1567.70, 1569.73, 1571.23]\n",
    "d_set = [140.57, 2852.58, 11349.32, 23168.51, 30715.88, 34988.78, 36029.47]\n",
    "\n",
    "plot_data([10,20,30,40,50,60,70], a_set, d_set, 'Determinant')"
   ]
  },
  {
   "cell_type": "code",
   "execution_count": null,
   "id": "86adc46e",
   "metadata": {
    "id": "86adc46e"
   },
   "outputs": [],
   "source": []
  }
 ],
 "metadata": {
  "colab": {
   "provenance": [],
   "toc_visible": true
  },
  "kernelspec": {
   "display_name": "Python 3 (ipykernel)",
   "language": "python",
   "name": "python3"
  },
  "language_info": {
   "codemirror_mode": {
    "name": "ipython",
    "version": 3
   },
   "file_extension": ".py",
   "mimetype": "text/x-python",
   "name": "python",
   "nbconvert_exporter": "python",
   "pygments_lexer": "ipython3",
   "version": "3.7.11"
  }
 },
 "nbformat": 4,
 "nbformat_minor": 5
}
