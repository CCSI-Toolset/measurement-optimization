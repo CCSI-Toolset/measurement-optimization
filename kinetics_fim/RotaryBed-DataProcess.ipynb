{
 "cells": [
  {
   "cell_type": "code",
   "execution_count": 1,
   "id": "38b40eca",
   "metadata": {},
   "outputs": [],
   "source": [
    "import matplotlib.pyplot as plt\n",
    "\n",
    "import numpy as np\n",
    "import pandas as pd \n",
    "\n",
    "import collections\n",
    "import os"
   ]
  },
  {
   "cell_type": "markdown",
   "id": "c1f4ab9f",
   "metadata": {},
   "source": [
    "## Load data\n"
   ]
  },
  {
   "cell_type": "code",
   "execution_count": 2,
   "id": "2fdfc1a5",
   "metadata": {},
   "outputs": [],
   "source": [
    "#file = '/home/parallels/Desktop/Parallels Shared Folders/Home/Desktop/CCSI2/RPB_sensitivity_8_25_22.xlsx'\n",
    "file = '/Users/wangjialu/Desktop/CCSI2/RPB_sensitivity_8_25_22.xlsx'\n",
    "\n",
    "data = pd.ExcelFile(file)"
   ]
  },
  {
   "cell_type": "code",
   "execution_count": 3,
   "id": "a00b0d45",
   "metadata": {},
   "outputs": [],
   "source": [
    "df1 = pd.read_excel(data, 'MTC')\n",
    "df2 = pd.read_excel(data, 'HTC')\n",
    "df3 = pd.read_excel(data, 'DH')\n",
    "df4 = pd.read_excel(data, 'Iso_1')\n",
    "df5 = pd.read_excel(data, 'Iso_2')"
   ]
  },
  {
   "cell_type": "code",
   "execution_count": 4,
   "id": "bb4f4715",
   "metadata": {
    "scrolled": true
   },
   "outputs": [
    {
     "name": "stdout",
     "output_type": "stream",
     "text": [
      "===Measurement names===\n",
      "['Ads.gas_inlet.F', 'Ads.gas_outlet.F', 'Ads.gas_outlet.T', 'Ads.gas_outlet.z(\"CO2\")', 'Des.gas_inlet.F', 'Des.gas_outlet.F', 'Des.gas_outlet.T', 'Des.gas_outlet.z(\"CO2\")', 'Ads.T_g.Value(19,10)', 'Ads.T_g.Value(23,10)', 'Ads.T_g.Value(28,10)', 'Ads.z(\"CO2\",19,10)', 'Ads.z(\"CO2\",23,10)', 'Ads.z(\"CO2\",28,10)']\n",
      "['Ads.gas_inlet.F.1', 'Ads.gas_outlet.F.1', 'Ads.gas_outlet.T.1', 'Ads.gas_outlet.z(\"CO2\").1', 'Des.gas_inlet.F.1', 'Des.gas_outlet.F.1', 'Des.gas_outlet.T.1', 'Des.gas_outlet.z(\"CO2\").1', 'Ads.T_g.Value(19,10).1', 'Ads.T_g.Value(23,10).1', 'Ads.T_g.Value(28,10).1', 'Ads.z(\"CO2\",19,10).1', 'Ads.z(\"CO2\",23,10).1', 'Ads.z(\"CO2\",28,10).1']\n"
     ]
    }
   ],
   "source": [
    "col_names_up = df1.columns.values[4:18].tolist()\n",
    "col_names_lo = df1.columns.values[22:].tolist()\n",
    "print('===Measurement names===')\n",
    "print(col_names_up)\n",
    "print(col_names_lo)"
   ]
  },
  {
   "cell_type": "code",
   "execution_count": 5,
   "id": "f756eb58",
   "metadata": {},
   "outputs": [
    {
     "name": "stdout",
     "output_type": "stream",
     "text": [
      "0 220\n",
      "2201\n"
     ]
    }
   ],
   "source": [
    "timeSet = list(df1['Time'][1:].tolist())\n",
    "print(timeSet[0], timeSet[-1])\n",
    "print(len(timeSet))"
   ]
  },
  {
   "cell_type": "code",
   "execution_count": 6,
   "id": "d2ebb2d3",
   "metadata": {},
   "outputs": [],
   "source": [
    "# 10 scenarios in total. We are going to map them from 0 to 9 with\n",
    "# MTC_up, MTC_lo, HTC_up, HTC_lo, DH_up, DH_lo, LSO1_up, LSO1_do, LSO1_up, LSO1_do\n",
    "\n",
    "# output record: key: 1-10 scenario numbers; Value: a list of 14 lists, each list contains the data of one measurement\n",
    "output_record = {}\n",
    "# output_doe: key: 1-10 scenario numbers; Value: a large list containing all data of measurements\n",
    "output_doe = {}\n",
    "\n",
    "for s in [0,2,4,6,8]:\n",
    "    \n",
    "    df = [df1, df2, df3, df4, df5][int(s/2)]\n",
    "    \n",
    "    output_up = []\n",
    "    output_all_up = []\n",
    "    \n",
    "    for nam in col_names_up:\n",
    "        output_up.append(df[nam].values[1:].tolist())\n",
    "        \n",
    "        for idx in list(df[nam].values[1:].tolist()):\n",
    "            output_all_up.append(idx)\n",
    "        \n",
    "    output_lo = []\n",
    "    output_all_lo = []\n",
    "    \n",
    "    for nam in col_names_lo:\n",
    "        output_lo.append(df[nam].values[1:].tolist())\n",
    "        \n",
    "        for idx in list(df[nam].values[1:].tolist()):\n",
    "            output_all_lo.append(idx)\n",
    "        \n",
    "        \n",
    "    output_record[s] = output_up\n",
    "    output_record[s+1] = output_lo\n",
    "    output_doe[s] = output_all_up\n",
    "    output_doe[s+1] = output_all_lo"
   ]
  },
  {
   "cell_type": "code",
   "execution_count": 7,
   "id": "e9a91bb2",
   "metadata": {},
   "outputs": [],
   "source": [
    "output = pd.DataFrame(output_record)\n",
    "#output.to_csv('RotaryBed.csv')"
   ]
  },
  {
   "cell_type": "markdown",
   "id": "b1422677",
   "metadata": {},
   "source": [
    "### Scale \n",
    "\n",
    "Scale with y = (y-minimum)/(max_y-minimum)"
   ]
  },
  {
   "cell_type": "code",
   "execution_count": 8,
   "id": "bd2814cb",
   "metadata": {},
   "outputs": [],
   "source": [
    "output_record_scale = collections.defaultdict(list)\n",
    "output_doe_scale = {}\n",
    "\n",
    "for i in range(10):\n",
    "    for idx in range(14):\n",
    "        col = np.asarray(output_record[i][idx])\n",
    "        max_col, min_col = max(col), min(col)\n",
    "        col = (col-min_col)/(max_col-min_col)\n",
    "        output_record_scale[i].append(col)\n",
    "        \n",
    "    output_doe_scale[i] = []\n",
    "    for idx2 in range(14):\n",
    "        output_doe_scale[i] = np.concatenate([output_doe_scale[i], output_record_scale[i][idx2]])"
   ]
  },
  {
   "cell_type": "code",
   "execution_count": 9,
   "id": "8e023695",
   "metadata": {},
   "outputs": [],
   "source": [
    "output_record_stand = collections.defaultdict(list)\n",
    "output_doe_stand = {}\n",
    "\n",
    "for i in range(10):\n",
    "    for idx in range(14):\n",
    "        col = np.asarray(output_record[i][idx])\n",
    "        avg_col = sum(col)/len(col)\n",
    "        col = (col-avg_col)/avg_col\n",
    "        output_record_stand[i].append(col)\n",
    "        \n",
    "    output_doe_stand[i] = []\n",
    "    for idx2 in range(14):\n",
    "        output_doe_stand[i] = np.concatenate([output_doe_stand[i], output_record_stand[i][idx2]])"
   ]
  },
  {
   "cell_type": "markdown",
   "id": "acd3a1b9",
   "metadata": {},
   "source": [
    "### draw figures"
   ]
  },
  {
   "cell_type": "code",
   "execution_count": null,
   "id": "ec46beee",
   "metadata": {},
   "outputs": [],
   "source": [
    "def plot_data(output, scena, measure_number, measure_label, para_label1, para_label2):\n",
    "    sense = []\n",
    "\n",
    "    plt.plot(timeSet, output[scena][measure_number], linewidth=2, color='red', label=para_label1)\n",
    "    plt.plot(timeSet, output[scena+1][measure_number], linewidth=2, color='blue', label=para_label2)\n",
    "    plt.xlabel('Time (min)')\n",
    "    plt.ylabel(measure_label)\n",
    "    plt.legend()\n",
    "    plt.show()\n",
    "\n"
   ]
  },
  {
   "cell_type": "code",
   "execution_count": null,
   "id": "41c78043",
   "metadata": {},
   "outputs": [],
   "source": [
    "#print(df1.iloc[0])\n",
    "col_names_unit = [\n",
    "                  'Ads.gas_inlet.F (kmol/hr)', \n",
    "                  'Ads.gas_outlet.F (kmol/hr)', \n",
    "                  'Ads.gas_outlet.T (C)', \n",
    "                  'Ads.gas_outlet.z(\"CO2\") (kmol/kmol)', \n",
    "                  'Des.gas_inlet.F (kmol/hr)', \n",
    "                  'Des.gas_outlet.F (kmol/hr)', \n",
    "                  'Des.gas_outlet.T (C)', \n",
    "                  'Des.gas_outlet.z(\"CO2\") (kmol/kmol)', \n",
    "                  'Ads.T_g.Value(19,10) (C)', \n",
    "                  'Ads.T_g.Value(23,10) (C)', \n",
    "                  'Ads.T_g.Value(28,10) (C)', \n",
    "                  'Ads.z(\"CO2\",19,10) (kmol/kmol)', \n",
    "                  'Ads.z(\"CO2\",23,10) (kmol/kmol)', \n",
    "                  'Ads.z(\"CO2\",28,10) (kmol/kmol)']"
   ]
  },
  {
   "cell_type": "code",
   "execution_count": null,
   "id": "ef08cf70",
   "metadata": {},
   "outputs": [],
   "source": [
    "for me, mename in enumerate(col_names_unit):\n",
    "\n",
    "    plot_data(output_record_stand, 0, me, mename, 'MTC+3%', 'MTC-3%')\n",
    "    plot_data(output_record_stand, 2, me, mename, 'HTC+3%', 'HTC-3%')\n",
    "    plot_data(output_record_stand, 4, me, mename, 'DH+3%', 'DH-3%')\n",
    "    plot_data(output_record_stand, 6, me, mename, 'Iso1+1%', 'Iso1-1%')\n",
    "    plot_data(output_record_stand, 8, me, mename, 'Iso2+1%', 'Iso2-1%')"
   ]
  },
  {
   "cell_type": "markdown",
   "id": "6cf02eb7",
   "metadata": {},
   "source": [
    "### DoE to get Q matrix"
   ]
  },
  {
   "cell_type": "code",
   "execution_count": 12,
   "id": "ad0ba1a3",
   "metadata": {},
   "outputs": [
    {
     "name": "stdout",
     "output_type": "stream",
     "text": [
      "30814\n"
     ]
    }
   ],
   "source": [
    "# total measurements \n",
    "num_measure = 14 \n",
    "num_time = 2201\n",
    "num_overall = num_measure*num_time\n",
    "num_para = 5\n",
    "print(num_overall)"
   ]
  },
  {
   "cell_type": "code",
   "execution_count": 13,
   "id": "ea968922",
   "metadata": {},
   "outputs": [],
   "source": [
    "para_set = ['MTC', 'HTC', 'DH', 'ISO1', 'ISO2']\n",
    "def FIM_Compute(output, output_region):\n",
    "    # overall Q\n",
    "    Q = np.zeros((num_overall,num_para))\n",
    "    # Q as a set. Q[key]: [meausre1, ..., meausre14].\n",
    "    Q_region = collections.defaultdict(list)\n",
    "\n",
    "    for i in [0,2,4,6,8]:\n",
    "        # first 3 parameters\n",
    "        if i in [0,2,4]:\n",
    "            for k in range(num_measure):\n",
    "                measure1 = []\n",
    "                for n in range(num_time):\n",
    "                    measure1.append((output_region[i][k][n]-output_region[i+1][k][n])/0.06)\n",
    "                Q_region[para_set[int(i/2)]].append(measure1)\n",
    "            \n",
    "            for j in range(num_overall):\n",
    "                Q[j][int(i/2)] = (output[i][j]-output[i+1][j])/0.06\n",
    "                \n",
    "        else:\n",
    "            for k in range(num_measure):\n",
    "                measure1 = []\n",
    "                for n in range(num_time):\n",
    "                    measure1.append((output_region[i][k][n]-output_region[i+1][k][n])/0.02)\n",
    "                Q_region[para_set[int(i/2)]].append(measure1)\n",
    "\n",
    "            for l in range(num_overall):\n",
    "                Q[l][int(i/2)] = (output[i][l]-output[i+1][l])/0.02\n",
    "                \n",
    "    FIM = Q.T@Q\n",
    "    \n",
    "    return Q, Q_region, FIM\n",
    "        "
   ]
  },
  {
   "cell_type": "code",
   "execution_count": 14,
   "id": "cbb0e8cf",
   "metadata": {},
   "outputs": [
    {
     "name": "stdout",
     "output_type": "stream",
     "text": [
      "[[ 1.05868409e+06  5.21938490e+04  9.55467118e+05 -1.49536421e+06\n",
      "  -4.81026763e+05]\n",
      " [ 5.21938490e+04  5.46070285e+03  3.21612116e+04 -4.50572524e+03\n",
      "  -4.92638816e+04]\n",
      " [ 9.55467118e+05  3.21612116e+04  2.82178266e+06 -4.84129912e+06\n",
      "  -3.99230566e+03]\n",
      " [-1.49536421e+06 -4.50572524e+03 -4.84129912e+06  1.03533411e+07\n",
      "  -3.99686164e+05]\n",
      " [-4.81026763e+05 -4.92638816e+04 -3.99230566e+03 -3.99686164e+05\n",
      "   8.38780085e+05]]\n",
      "Determinant: 2.720516216879533e+27\n",
      "Eigenvalue: [1.29884340e+07 1.42166637e+06 1.35637743e+03 2.83651454e+05\n",
      " 3.82940475e+05]\n"
     ]
    }
   ],
   "source": [
    "Q_overall, Q_overall_region, FIM_sat = FIM_Compute(output_doe, output_record)\n",
    "Q_overall_scale, Q_overall_region_scale, FIM_sat_scale = FIM_Compute(output_doe_scale, output_record_scale)\n",
    "Q_overall_stand, Q_overall_region_stand, FIM_sat_stand = FIM_Compute(output_doe_stand, output_record_stand)\n",
    "\n",
    "print(FIM_sat)\n",
    "\n",
    "print('Determinant:', np.linalg.det(FIM_sat))\n",
    "print('Eigenvalue:', np.linalg.eigvals(FIM_sat))"
   ]
  },
  {
   "cell_type": "code",
   "execution_count": 15,
   "id": "f09d1e2f",
   "metadata": {},
   "outputs": [
    {
     "name": "stdout",
     "output_type": "stream",
     "text": [
      "2201\n"
     ]
    }
   ],
   "source": [
    "print(len(Q_overall_region['HTC'][2]))"
   ]
  },
  {
   "cell_type": "markdown",
   "id": "0d4c8e7b",
   "metadata": {},
   "source": [
    "### Draw figures "
   ]
  },
  {
   "cell_type": "code",
   "execution_count": null,
   "id": "0ae59ed0",
   "metadata": {},
   "outputs": [],
   "source": [
    "num_time = [3,5,10,22,44,88,110,220,440,1100,2200] # per time points\n",
    "para_set = ['MTC', 'HTC', 'DH', 'ISO1', 'ISO2']"
   ]
  },
  {
   "cell_type": "code",
   "execution_count": null,
   "id": "9200600b",
   "metadata": {},
   "outputs": [],
   "source": [
    "# extract Q \n",
    "def Qgenerator(Q_select, time_set):\n",
    "    curr_Q = collections.defaultdict(list)\n",
    "    \n",
    "    for i in range(num_para):\n",
    "        for k in range(num_measure):\n",
    "            for n in time_set:\n",
    "                curr_Q[para_set[i]].append(Q_select[para_set[i]][k][int(n)])\n",
    "        \n",
    "    return curr_Q\n",
    "\n",
    "def FIM_calculator(Q_input, export=False):\n",
    "    #print(Q_input.values())\n",
    "    Q_input = np.asarray(list(Q_input.values()))\n",
    "    #print(Q_input)\n",
    "    #print(np.shape(Q_input))\n",
    "    \n",
    "    FIM = Q_input@Q_input.T\n",
    "    print(np.shape(FIM))\n",
    "    \n",
    "    if export:\n",
    "        print('unaccomplished')\n",
    "        \n",
    "    trace = np.trace(FIM)\n",
    "    det = np.linalg.det(FIM)\n",
    "    min_eig = min(np.linalg.eigvals(FIM))\n",
    "    \n",
    "    return trace, det, min_eig, FIM\n",
    "    "
   ]
  },
  {
   "cell_type": "code",
   "execution_count": null,
   "id": "b33e3df0",
   "metadata": {},
   "outputs": [],
   "source": [
    "# get timepoints \n",
    "timeset = [[1000, 1500, 2000],\n",
    "          [500, 1000, 1500, 2000, 2200]]\n",
    "\n",
    "for i in num_time[2:]:\n",
    "    timeset.append(np.linspace((2200/i),2200,i))\n",
    "    \n",
    "#print(timeset)"
   ]
  },
  {
   "cell_type": "code",
   "execution_count": null,
   "id": "44588764",
   "metadata": {},
   "outputs": [],
   "source": [
    "def GetSet(Q_select):\n",
    "    det_set = []\n",
    "    trace_set = []\n",
    "    mineig_set = []\n",
    "\n",
    "    for n, num in enumerate(num_time):\n",
    "\n",
    "        Q_iter = Qgenerator(Q_select, timeset[n])\n",
    "        trace_iter, det_iter, mineig_iter, fim_iter = FIM_calculator(Q_iter)\n",
    "        det_set.append(det_iter)\n",
    "        trace_set.append(trace_iter)\n",
    "        mineig_set.append(mineig_iter)\n",
    "        \n",
    "    return trace_set, det_set, mineig_set"
   ]
  },
  {
   "cell_type": "code",
   "execution_count": null,
   "id": "560f3096",
   "metadata": {},
   "outputs": [],
   "source": [
    "trace_set_ori, det_set_ori, mineig_ori = GetSet(Q_overall_region)"
   ]
  },
  {
   "cell_type": "code",
   "execution_count": null,
   "id": "d2855c17",
   "metadata": {},
   "outputs": [],
   "source": [
    "trace_set_scale, det_set_scale, mineig_scale = GetSet(Q_overall_region_scale)"
   ]
  },
  {
   "cell_type": "code",
   "execution_count": null,
   "id": "31907c95",
   "metadata": {},
   "outputs": [],
   "source": [
    "trace_set_stand, det_set_stand, mineig_stand = GetSet(Q_overall_region_stand)"
   ]
  },
  {
   "cell_type": "code",
   "execution_count": null,
   "id": "1577ac47",
   "metadata": {},
   "outputs": [],
   "source": [
    "print(trace_set_ori)\n",
    "print(det_set_ori)\n",
    "print(mineig_ori)"
   ]
  },
  {
   "cell_type": "code",
   "execution_count": null,
   "id": "d2416a80",
   "metadata": {},
   "outputs": [],
   "source": [
    "print(np.log10(trace_set_stand))"
   ]
  },
  {
   "cell_type": "code",
   "execution_count": null,
   "id": "151128af",
   "metadata": {},
   "outputs": [],
   "source": [
    "def plot_data(y_ori, y_scale, y_stand, design_cri_label):\n",
    "    sense = []\n",
    "\n",
    "    plt.scatter(np.log10(num_time), np.log10(y_ori), s=50, color='red', label='Original')\n",
    "    plt.scatter(np.log10(num_time), np.log10(y_scale), marker='v', s=50, color='blue', label='Scaled')\n",
    "    plt.scatter(np.log10(num_time), np.log10(y_stand), marker='*', s=50, color='green', label='Standardized')\n",
    "    plt.xlabel('log10(No. of time points per measurement)')\n",
    "    plt.ylabel('log10(' + design_cri_label + ')')\n",
    "    plt.legend()\n",
    "    plt.show()\n",
    "\n",
    "    "
   ]
  },
  {
   "cell_type": "code",
   "execution_count": null,
   "id": "82a16228",
   "metadata": {},
   "outputs": [],
   "source": [
    "plot_data(mineig_ori, mineig_scale, mineig_stand, 'D-optimality')"
   ]
  },
  {
   "cell_type": "markdown",
   "id": "16b550ca",
   "metadata": {},
   "source": [
    "### Data export"
   ]
  },
  {
   "cell_type": "code",
   "execution_count": 16,
   "id": "97c6465d",
   "metadata": {},
   "outputs": [],
   "source": [
    "Q_set = {}\n",
    "para_set = ['MTC', 'HTC', 'DH', 'ISO1', 'ISO2']\n",
    "\n",
    "for i in range(num_para):\n",
    "    Q_set[para_set[i]] = Q_overall[:, i]"
   ]
  },
  {
   "cell_type": "code",
   "execution_count": 11,
   "id": "7a795149",
   "metadata": {},
   "outputs": [],
   "source": [
    "Q_dict = pd.DataFrame(Q_set)\n",
    "Q_dict.to_csv('Q_overall.csv')"
   ]
  },
  {
   "cell_type": "code",
   "execution_count": null,
   "id": "9dd3e05e",
   "metadata": {},
   "outputs": [],
   "source": [
    "# Q_set10 accepts 220 timepoints/measurement, equally distributed. In total there should be 220*14 = 3080 \n",
    "Q_set10 = collections.defaultdict(list)\n",
    "\n",
    "time_set_overall = []\n",
    "for i in range(14):\n",
    "    \n",
    "    time_set = np.linspace(2200*i+10+i, 2200*(i+1)+i, 220)\n",
    "    for k in range(len(time_set)):\n",
    "        time_set_overall.append(time_set[k]) \n",
    "print(time_set_overall)\n",
    "\n",
    "for i in range(5):\n",
    "    for k in time_set_overall:\n",
    "        Q_set10[para_set[i]].append(Q_overall[int(k)][i])\n",
    "    \n",
    "print(len(Q_set10['MTC']))"
   ]
  },
  {
   "cell_type": "code",
   "execution_count": null,
   "id": "21fd0714",
   "metadata": {},
   "outputs": [],
   "source": [
    "Q_dict10 = pd.DataFrame(Q_set10)\n",
    "print(Q_dict10)\n",
    "Q_dict10.to_csv('Q10.csv')"
   ]
  },
  {
   "cell_type": "code",
   "execution_count": null,
   "id": "e1fc1b78",
   "metadata": {},
   "outputs": [],
   "source": [
    "# Q_set10 accepts 220 timepoints/measurement, equally distributed. In total there should be 220*14 = 3080 \n",
    "Q_set100 = {}\n",
    "\n",
    "time_set100 = []\n",
    "for i in range(14):\n",
    "    time_set = np.linspace(2200*i+100+i, 2200*(i+1)+i, 22)\n",
    "    for k in range(len(time_set)):\n",
    "        time_set100.append(time_set[k])\n",
    "print(time_set100)\n",
    "\n",
    "for i in range(5):\n",
    "    \n",
    "    Q_set100[para_set[i]] = [Q_overall[int(k),i] for k in time_set100]\n",
    "    \n",
    "print(len(Q_set100['MTC']))\n",
    "\n"
   ]
  },
  {
   "cell_type": "code",
   "execution_count": null,
   "id": "0935c8c7",
   "metadata": {},
   "outputs": [],
   "source": [
    "Q_dict100 = pd.DataFrame(Q_set100)\n",
    "Q_dict100.to_csv('Q100.csv')"
   ]
  },
  {
   "cell_type": "markdown",
   "id": "023cebf7",
   "metadata": {},
   "source": [
    "### Data export with Q_region"
   ]
  },
  {
   "cell_type": "code",
   "execution_count": 17,
   "id": "7f6ca1c9",
   "metadata": {},
   "outputs": [],
   "source": [
    "def Qgenerator(time_set, Q_region):\n",
    "    curr_Q = collections.defaultdict(list)\n",
    "    \n",
    "    for i in range(num_para):\n",
    "        for k in range(num_measure):\n",
    "            for n in time_set:\n",
    "                curr_Q[para_set[i]].append(Q_region[para_set[i]][k][int(n)])\n",
    "        \n",
    "    return curr_Q\n",
    "\n"
   ]
  },
  {
   "cell_type": "code",
   "execution_count": 22,
   "id": "4977e2ce",
   "metadata": {},
   "outputs": [],
   "source": [
    "#time_set = [100, 150, 200]\n",
    "#time_set = [500, 1000, 1500, 2000, 2200]\n",
    "#time_set = np.linspace(100, 2200, 11)\n",
    "time_set = np.linspace(1, 2200, 550)\n",
    "\n",
    "Q_set5 = Qgenerator(time_set, Q_overall_region_scale)\n",
    "\n"
   ]
  },
  {
   "cell_type": "code",
   "execution_count": 23,
   "id": "45ccbc92",
   "metadata": {},
   "outputs": [
    {
     "name": "stdout",
     "output_type": "stream",
     "text": [
      "           MTC       HTC        DH      ISO1      ISO2\n",
      "0    -0.540656 -0.002425 -0.049803  1.898348  0.552470\n",
      "1    -0.540656 -0.002425 -0.049803  1.898348  0.552470\n",
      "2    -0.540656 -0.002425 -0.049803  1.898348  0.552470\n",
      "3    -0.534657 -0.002425 -0.049803  1.898348  0.552470\n",
      "4    -0.534657 -0.002425 -0.049803  1.898348  0.552470\n",
      "...        ...       ...       ...       ...       ...\n",
      "7695 -0.253248  0.032349 -0.027478  0.890736  0.180295\n",
      "7696 -0.261602  0.031978 -0.029509  0.889845  0.192062\n",
      "7697 -0.269915  0.031763 -0.031078  0.888462  0.203337\n",
      "7698 -0.277858  0.031542 -0.032674  0.887564  0.213638\n",
      "7699 -0.287246  0.031342 -0.034661  0.886191  0.227353\n",
      "\n",
      "[7700 rows x 5 columns]\n"
     ]
    }
   ],
   "source": [
    "Q_dict5 = pd.DataFrame(Q_set5)\n",
    "print(Q_dict5)\n",
    "Q_dict5.to_csv('Q550_scale.csv')"
   ]
  },
  {
   "cell_type": "code",
   "execution_count": null,
   "id": "8e95fd2a",
   "metadata": {},
   "outputs": [],
   "source": [
    "Q_set10 = collections.defaultdict(list)\n",
    "\n",
    "time_set = np.linspace(100, 2200, 22)\n",
    "print(time_set)\n",
    "\n",
    "for i in range(num_para):\n",
    "    for k in range(num_measure):\n",
    "        for n in time_set:\n",
    "            Q_set10[para_set[i]].append(Q_overall_region[para_set[i]][k][int(n)])\n",
    "        \n",
    "print(Q_set10)"
   ]
  },
  {
   "cell_type": "code",
   "execution_count": null,
   "id": "f1181c01",
   "metadata": {},
   "outputs": [],
   "source": [
    "Q_dict10 = pd.DataFrame(Q_set10)\n",
    "print(Q_dict10)\n",
    "Q_dict10.to_csv('Q22.csv')"
   ]
  },
  {
   "cell_type": "markdown",
   "id": "f49621ff",
   "metadata": {},
   "source": [
    "### Test"
   ]
  },
  {
   "cell_type": "code",
   "execution_count": null,
   "id": "2265b1af",
   "metadata": {},
   "outputs": [],
   "source": [
    "print(Q_overall[28713])\n",
    "print(Q_overall_region['DH'][13][10])\n",
    "print(Q_set['DH'][28713])\n",
    "print(Q_set10['DH'][2860])\n",
    "print(Q_set100['DH'][286])"
   ]
  },
  {
   "cell_type": "code",
   "execution_count": null,
   "id": "d935488e",
   "metadata": {},
   "outputs": [],
   "source": []
  }
 ],
 "metadata": {
  "kernelspec": {
   "display_name": "Python 3 (ipykernel)",
   "language": "python",
   "name": "python3"
  },
  "language_info": {
   "codemirror_mode": {
    "name": "ipython",
    "version": 3
   },
   "file_extension": ".py",
   "mimetype": "text/x-python",
   "name": "python",
   "nbconvert_exporter": "python",
   "pygments_lexer": "ipython3",
   "version": "3.7.11"
  }
 },
 "nbformat": 4,
 "nbformat_minor": 5
}
