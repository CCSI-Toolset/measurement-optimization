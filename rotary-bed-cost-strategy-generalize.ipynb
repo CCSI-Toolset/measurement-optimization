{
 "cells": [
  {
   "cell_type": "code",
   "execution_count": 1,
   "id": "597f749d",
   "metadata": {},
   "outputs": [],
   "source": [
    "import numpy as np\n",
    "import pandas as pd\n",
    "import pyomo.environ as pyo\n",
    "from measure_optimize import MeasurementOptimizer, DataProcess \n",
    "import matplotlib.pyplot as plt\n",
    "#from itertools import permutations, product\n",
    "#from scipy.sparse import coo_matrix\n",
    "#from pyomo.contrib.pynumero.interfaces.external_grey_box import ExternalGreyBoxModel\n",
    "#from pyomo.contrib.pynumero.interfaces.external_grey_box import ExternalGreyBoxBlock"
   ]
  },
  {
   "cell_type": "markdown",
   "id": "e70ab310",
   "metadata": {},
   "source": [
    "## Input Setting\n",
    "\n",
    "### All measurements and index\n",
    "\n",
    "- ads.gas_inlet.F (0)\n",
    "- ads.gas_outlet.F (1)\n",
    "- ads.gas_outlet.T (2)\n",
    "- ads.gas_outlet.z (3)\n",
    "- des.gas_inlet.F (4)\n",
    "- des.gas_outlet.F (5)\n",
    "- des.gas_outlet.T (6)\n",
    "- des.gas_outlet.z (7)\n",
    "- ads.T19 (8)\n",
    "- ads.T23 (9)\n",
    "- ads.T28 (10)\n",
    "- ads.z19 (11)\n",
    "- ads.z23 (12)\n",
    "- ads.z28 (13)\n",
    "\n",
    "One-time cost ones: 0,1,2, 4,5,6, 8,9,10\n",
    "\n",
    "Time-cost ones: 3,7,11,12,13"
   ]
  },
  {
   "cell_type": "code",
   "execution_count": 2,
   "id": "d1e2f0c8",
   "metadata": {},
   "outputs": [],
   "source": [
    "all_names = ['Ads.gas_inlet.F', 'Ads.gas_outlet.F', 'Ads.gas_outlet.T', \n",
    "             'Ads.gas_outlet.z(\"CO2\")', 'Des.gas_inlet.F', 'Des.gas_outlet.F', \n",
    "             'Des.gas_outlet.T', 'Des.gas_outlet.z(\"CO2\")', 'Ads.T_g.Value(19,10)', \n",
    "             'Ads.T_g.Value(23,10)', 'Ads.T_g.Value(28,10)', 'Ads.z(\"CO2\",19,10)', \n",
    "             'Ads.z(\"CO2\",23,10)', 'Ads.z(\"CO2\",28,10)']"
   ]
  },
  {
   "cell_type": "code",
   "execution_count": 3,
   "id": "44e72140",
   "metadata": {},
   "outputs": [
    {
     "name": "stdout",
     "output_type": "stream",
     "text": [
      "jacobian shape: (308, 5)\n",
      "jacobian shape: (70, 5)\n",
      "static Q shape: (9, 22, 5)\n",
      "dynamic Q shape: (25, 5)\n"
     ]
    }
   ],
   "source": [
    "dataObject = DataProcess()\n",
    "\n",
    "# static measurement jacobian\n",
    "static_ind = [0,1,2,4,5,6,8,9,10]\n",
    "static_Nt = 22\n",
    "static_jaco = dataObject.read_jaco('./RotaryBed/Q'+str(static_Nt)+'_scale.csv')\n",
    "num_static = len(static_ind)\n",
    "\n",
    "static_Q = []\n",
    "for i in static_ind:\n",
    "    static_Q.append(dataObject.split_jaco(static_jaco, i,static_Nt))\n",
    "\n",
    "    \n",
    "    \n",
    "dynamic_ind = [3,7,11,12,13]\n",
    "dynamic_Nt = 5\n",
    "num_dynamic = len(dynamic_ind)\n",
    "dynamic_jaco = dataObject.read_jaco('./RotaryBed/Q'+str(dynamic_Nt)+'_scale.csv')\n",
    "\n",
    "dynamic_Q = []\n",
    "for i in dynamic_ind:\n",
    "    dynamic_Q.extend(dataObject.split_jaco(dynamic_jaco, i, dynamic_Nt))\n",
    "    \n",
    "print(\"static Q shape:\", np.shape(static_Q))\n",
    "print(\"dynamic Q shape:\", np.shape(dynamic_Q))"
   ]
  },
  {
   "cell_type": "code",
   "execution_count": 4,
   "id": "4c0de7eb",
   "metadata": {},
   "outputs": [],
   "source": [
    "static_name = [all_names[i] for i in static_ind]\n",
    "dynamic_name = [all_names[i] for i in dynamic_ind]\n",
    "\n",
    "num_param = 5\n",
    "\n",
    "num_total = num_static + num_dynamic*dynamic_Nt"
   ]
  },
  {
   "cell_type": "code",
   "execution_count": 5,
   "id": "7df09b33",
   "metadata": {
    "scrolled": false
   },
   "outputs": [
    {
     "name": "stdout",
     "output_type": "stream",
     "text": [
      "(1156, 5, 5)\n"
     ]
    }
   ],
   "source": [
    "calculator = MeasurementOptimizer(static_Q, dynamic_Q, static_Nt, dynamic_Nt, num_param, verbose=True)\n",
    "\n",
    "fim_expect = calculator.fim_computation()\n",
    "\n",
    "print(np.shape(calculator.fim_collection))"
   ]
  },
  {
   "cell_type": "code",
   "execution_count": 6,
   "id": "f1d3a398",
   "metadata": {},
   "outputs": [
    {
     "name": "stdout",
     "output_type": "stream",
     "text": [
      "(22, 5)\n",
      "(5, 1)\n",
      "(22, 1)\n",
      "34\n"
     ]
    }
   ],
   "source": [
    "print(np.shape(calculator.Q[0]))\n",
    "print(np.shape(np.asarray(calculator.Q[9]).reshape(5,1)))\n",
    "print(np.shape(calculator.Sigma_inv[(0,9)]))\n",
    "\n",
    "print(calculator.total_no_measure)"
   ]
  },
  {
   "cell_type": "markdown",
   "id": "51fe1c2d",
   "metadata": {},
   "source": [
    "### Set up grey-box "
   ]
  },
  {
   "cell_type": "code",
   "execution_count": 7,
   "id": "3558af3a",
   "metadata": {},
   "outputs": [],
   "source": [
    "from greybox_generalize import LogDetModel"
   ]
  },
  {
   "cell_type": "code",
   "execution_count": 8,
   "id": "90168a73",
   "metadata": {},
   "outputs": [],
   "source": [
    "def build_model_external(m):\n",
    "    ex_model = LogDetModel(num_para=5)\n",
    "    m.egb = ExternalGreyBoxBlock()\n",
    "    m.egb.set_external_model(ex_model)"
   ]
  },
  {
   "cell_type": "markdown",
   "id": "838bb087",
   "metadata": {},
   "source": [
    "### Reform the inputs"
   ]
  },
  {
   "cell_type": "code",
   "execution_count": 9,
   "id": "2ff6b7b6",
   "metadata": {},
   "outputs": [],
   "source": [
    "cost = [1000, #ads.gas_inlet.F (0)\n",
    "        1000, #ads.gas_outlet.F (1)\n",
    "         200, #ads.gas_outlet.T (2)\n",
    "        1000, #des.gas_inlet.F (4)\n",
    "        1000, #des.gas_outlet.F (5)\n",
    "         200, #des.gas_outlet.T (6)\n",
    "         600, #ads.T19 (8)\n",
    "         600, #ads.T23 (9)\n",
    "         600 #ads.T28 (10)\n",
    "       ]\n",
    "\n",
    "for i in range(dynamic_Nt*num_dynamic):\n",
    "    cost.append(10)\n"
   ]
  },
  {
   "cell_type": "code",
   "execution_count": 10,
   "id": "e3a967c0",
   "metadata": {},
   "outputs": [
    {
     "name": "stdout",
     "output_type": "stream",
     "text": [
      "[[1. 0. 0. 0. 0.]\n",
      " [0. 1. 0. 0. 0.]\n",
      " [0. 0. 1. 0. 0.]\n",
      " [0. 0. 0. 1. 0.]\n",
      " [0. 0. 0. 0. 1.]]\n"
     ]
    }
   ],
   "source": [
    "#print(np.shape(ans_y))\n",
    "\n",
    "init_y = np.random.rand(num_total)\n",
    "\n",
    "update_y = [] \n",
    "\n",
    "for i in init_y:\n",
    "    if i > 0.5: \n",
    "        update_y.append(1)\n",
    "    else:\n",
    "        update_y.append(0)\n",
    "\n",
    "init_cov_y = [[0]*num_total for i in range(num_total)]\n",
    "\n",
    "for j in range(num_total):\n",
    "    for k in range(num_total):\n",
    "        if j==k:\n",
    "            init_cov_y[j][k] = update_y[k]\n",
    "            \n",
    "        else:\n",
    "            init_cov_y[j][k] = min(update_y[k], update_y[j])\n",
    "\n",
    "fim_prior = np.identity((5))\n",
    "print(fim_prior)"
   ]
  },
  {
   "cell_type": "code",
   "execution_count": 11,
   "id": "de6f6f7b",
   "metadata": {},
   "outputs": [],
   "source": [
    "mip_option = False\n",
    "objective = \"D\"\n",
    "budget_opt = 5000\n",
    "sparse_opt = False\n",
    "fix_opt = False"
   ]
  },
  {
   "cell_type": "code",
   "execution_count": null,
   "id": "6678f339",
   "metadata": {},
   "outputs": [],
   "source": [
    "mod = calculator.continuous_optimization(cost, mixed_integer=mip_option, \n",
    "                  obj=objective, fix=fix_opt, sparse=sparse_opt, budget=budget_opt,\n",
    "                                        init_fim = fim_prior)"
   ]
  },
  {
   "cell_type": "code",
   "execution_count": null,
   "id": "e3dacab3",
   "metadata": {
    "scrolled": true
   },
   "outputs": [],
   "source": [
    "\n",
    "if not mip_option and objective==\"A\":\n",
    "    solver = pyo.SolverFactory('ipopt')\n",
    "    solver.options['linear_solver'] = \"ma57\"\n",
    "    solver.solve(mod, tee=True)\n",
    "\n",
    "elif mip_option and objective==\"A\":\n",
    "    solver = pyo.SolverFactory('mindtpy')\n",
    "    results = solver.solve(mod, tee=True, integer_tolerance=0.5)\n",
    "\n",
    "elif objective==\"D\":  \n",
    "    solver = pyo.SolverFactory('cyipopt')\n",
    "    solver.config.options['hessian_approximation'] = 'limited-memory' \n",
    "    additional_options={'max_iter':3000}\n",
    "    for k,v in additional_options.items():\n",
    "        solver.config.options[k] = v\n",
    "    results = solver.solve(mod, tee=True)"
   ]
  },
  {
   "cell_type": "code",
   "execution_count": null,
   "id": "24d81e44",
   "metadata": {
    "scrolled": false
   },
   "outputs": [],
   "source": [
    "### FIM\n",
    "fim_result = np.zeros((5,5))\n",
    "for i in range(5):\n",
    "    for j in range(5):\n",
    "        fim_result[i,j] = pyo.value(mod.TotalFIM[i,j])\n",
    "        \n",
    "print(fim_result)  \n",
    "print('trace:', np.trace(fim_result))\n",
    "print('det:', np.linalg.det(fim_result))\n",
    "\n",
    "print(\"Pyomo OF:\", pyo.value(mod.Obj))\n",
    "print(\"Log_det:\", np.log(np.linalg.det(fim_result)))"
   ]
  },
  {
   "cell_type": "code",
   "execution_count": null,
   "id": "3ac42834",
   "metadata": {},
   "outputs": [],
   "source": [
    "# problem size calculator\n",
    "if True:\n",
    "    nr = num_total\n",
    "    npa = 5\n",
    "    num_var = (nr*nr+nr)/2 + npa*npa + 1\n",
    "    num_equal = npa*npa+1\n",
    "    num_ineq = 1.5*(nr**2-nr)+1\n",
    "\n",
    "    print(num_var, num_equal, num_ineq)"
   ]
  },
  {
   "cell_type": "code",
   "execution_count": null,
   "id": "74f67b1f",
   "metadata": {
    "scrolled": true
   },
   "outputs": [],
   "source": [
    "import numpy as np\n",
    "\n",
    "ans_y = np.zeros((num_total,num_total))\n",
    "\n",
    "pyomo_y = np.zeros((num_total, num_total))\n",
    "\n",
    "for i in range(num_total):\n",
    "    for j in range(i, num_total):\n",
    "        cov = pyo.value(mod.cov_y[i,j])\n",
    "        ans_y[i,j] = cov \n",
    "        ans_y[j,i] = pyo.value(mod.cov_y[j,i])\n",
    "\n",
    "for i in range(num_total):\n",
    "    for j in range(num_total):\n",
    "        pyomo_y[i,j] = pyo.value(mod.cov_y[i,j])\n",
    "        \n",
    "print(\"Cost for this stragy:\", pyo.value(mod.cost))\n",
    "print(\"Cost if no budget:\", sum(cost))"
   ]
  },
  {
   "cell_type": "code",
   "execution_count": null,
   "id": "dc2ac80f",
   "metadata": {},
   "outputs": [],
   "source": [
    "figure = plt.figure()\n",
    "axes = figure.add_subplot(111)\n",
    "\n",
    "caxes = axes.matshow(ans_y, interpolation='nearest')\n",
    "figure.colorbar(caxes)\n",
    "\n",
    "plt.show()\n",
    "\n",
    "print(np.shape(ans_y))"
   ]
  },
  {
   "cell_type": "code",
   "execution_count": null,
   "id": "27004950",
   "metadata": {},
   "outputs": [],
   "source": [
    "for i in range(len(ans_y)):\n",
    "    for j in range(len(ans_y[0])):\n",
    "        if ans_y[i][j] < 0.05:\n",
    "            ans_y[i][j] = int(0)\n",
    "        elif ans_y[i][j] > 0.95:\n",
    "            ans_y[i][j] = int(1)\n",
    "        else: \n",
    "            ans_y[i][j] = round(ans_y[i][j], 2)\n",
    "print(ans_y)"
   ]
  },
  {
   "cell_type": "code",
   "execution_count": null,
   "id": "55fd6f50",
   "metadata": {},
   "outputs": [],
   "source": [
    "import pickle\n",
    "\n",
    "store = False\n",
    "\n",
    "if store:\n",
    "    file = open('Fe23_D_110_3000', 'wb')\n",
    "\n",
    "    pickle.dump(ans_y, file)\n",
    "\n",
    "    file.close()"
   ]
  },
  {
   "cell_type": "code",
   "execution_count": null,
   "id": "53f8f41a",
   "metadata": {},
   "outputs": [],
   "source": [
    "for c in range(num_static):\n",
    "    print(static_name[c], \": \", ans_y[c,c])\n",
    "\n",
    "sol_y = np.asarray([ans_y[i,i] for i in range(num_static, num_total)])\n",
    "\n",
    "sol_y = np.reshape(sol_y, (num_dynamic, dynamic_Nt))\n",
    "np.around(sol_y)\n",
    "\n",
    "for r in range(len(sol_y)):\n",
    "    print(dynamic_name[r], \": \", sol_y[r])"
   ]
  },
  {
   "cell_type": "code",
   "execution_count": null,
   "id": "76628ff8",
   "metadata": {},
   "outputs": [],
   "source": []
  },
  {
   "cell_type": "code",
   "execution_count": null,
   "id": "cb8e1ff8",
   "metadata": {},
   "outputs": [],
   "source": [
    "import matplotlib\n",
    "\n",
    "def heatmap(data, row_labels, col_labels, ax=None,\n",
    "            cbar_kw=None, cbarlabel=\"\", **kwargs):\n",
    "    \"\"\"\n",
    "    Create a heatmap from a numpy array and two lists of labels.\n",
    "\n",
    "    Parameters\n",
    "    ----------\n",
    "    data\n",
    "        A 2D numpy array of shape (M, N).\n",
    "    row_labels\n",
    "        A list or array of length M with the labels for the rows.\n",
    "    col_labels\n",
    "        A list or array of length N with the labels for the columns.\n",
    "    ax\n",
    "        A `matplotlib.axes.Axes` instance to which the heatmap is plotted.  If\n",
    "        not provided, use current axes or create a new one.  Optional.\n",
    "    cbar_kw\n",
    "        A dictionary with arguments to `matplotlib.Figure.colorbar`.  Optional.\n",
    "    cbarlabel\n",
    "        The label for the colorbar.  Optional.\n",
    "    **kwargs\n",
    "        All other arguments are forwarded to `imshow`.\n",
    "    \"\"\"\n",
    "\n",
    "    if ax is None:\n",
    "        ax = plt.gca()\n",
    "\n",
    "    if cbar_kw is None:\n",
    "        cbar_kw = {}\n",
    "\n",
    "    # Plot the heatmap\n",
    "    im = ax.imshow(data, **kwargs)\n",
    "\n",
    "    # Create colorbar\n",
    "    cbar = ax.figure.colorbar(im, ax=ax, **cbar_kw)\n",
    "    cbar.ax.set_ylabel(cbarlabel, rotation=-90, va=\"bottom\")\n",
    "\n",
    "    # Show all ticks and label them with the respective list entries.\n",
    "    ax.set_xticks(np.arange(data.shape[1]), labels=col_labels)\n",
    "    ax.set_yticks(np.arange(data.shape[0]), labels=row_labels)\n",
    "\n",
    "    # Let the horizontal axes labeling appear on top.\n",
    "    ax.tick_params(top=True, bottom=False,\n",
    "                   labeltop=True, labelbottom=False)\n",
    "\n",
    "    # Rotate the tick labels and set their alignment.\n",
    "    plt.setp(ax.get_xticklabels(), rotation=-30, ha=\"right\",\n",
    "             rotation_mode=\"anchor\")\n",
    "\n",
    "    # Turn spines off and create white grid.\n",
    "    ax.spines[:].set_visible(False)\n",
    "\n",
    "    ax.set_xticks(np.arange(data.shape[1]+1)-.5, minor=True)\n",
    "    ax.set_yticks(np.arange(data.shape[0]+1)-.5, minor=True)\n",
    "    ax.grid(which=\"minor\", color=\"w\", linestyle='-', linewidth=3)\n",
    "    ax.tick_params(which=\"minor\", bottom=False, left=False)\n",
    "\n",
    "    return im, cbar\n",
    "\n",
    "\n",
    "def annotate_heatmap(im, data=None, valfmt=\"{x:.2f}\",\n",
    "                     textcolors=(\"black\", \"white\"),\n",
    "                     threshold=None, **textkw):\n",
    "    \"\"\"\n",
    "    A function to annotate a heatmap.\n",
    "\n",
    "    Parameters\n",
    "    ----------\n",
    "    im\n",
    "        The AxesImage to be labeled.\n",
    "    data\n",
    "        Data used to annotate.  If None, the image's data is used.  Optional.\n",
    "    valfmt\n",
    "        The format of the annotations inside the heatmap.  This should either\n",
    "        use the string format method, e.g. \"$ {x:.2f}\", or be a\n",
    "        `matplotlib.ticker.Formatter`.  Optional.\n",
    "    textcolors\n",
    "        A pair of colors.  The first is used for values below a threshold,\n",
    "        the second for those above.  Optional.\n",
    "    threshold\n",
    "        Value in data units according to which the colors from textcolors are\n",
    "        applied.  If None (the default) uses the middle of the colormap as\n",
    "        separation.  Optional.\n",
    "    **kwargs\n",
    "        All other arguments are forwarded to each call to `text` used to create\n",
    "        the text labels.\n",
    "    \"\"\"\n",
    "\n",
    "    if not isinstance(data, (list, np.ndarray)):\n",
    "        data = im.get_array()\n",
    "\n",
    "    # Normalize the threshold to the images color range.\n",
    "    if threshold is not None:\n",
    "        threshold = im.norm(threshold)\n",
    "    else:\n",
    "        threshold = im.norm(data.max())/2.\n",
    "\n",
    "    # Set default alignment to center, but allow it to be\n",
    "    # overwritten by textkw.\n",
    "    kw = dict(horizontalalignment=\"center\",\n",
    "              verticalalignment=\"center\")\n",
    "    kw.update(textkw)\n",
    "\n",
    "    # Get the formatter in case a string is supplied\n",
    "    if isinstance(valfmt, str):\n",
    "        valfmt = matplotlib.ticker.StrMethodFormatter(valfmt)\n",
    "        \n",
    "        \n",
    "    # Loop over the data and create a `Text` for each \"pixel\".\n",
    "    # Change the text's color depending on the data.\n",
    "    texts = []\n",
    "    for i in range(data.shape[0]):\n",
    "        for j in range(data.shape[1]):\n",
    "            kw.update(color=textcolors[int(im.norm(data[i, j]) > threshold)])\n",
    "            text = im.axes.text(j, i, valfmt(data[i, j], None), **kw)\n",
    "            texts.append(text)\n",
    "\n",
    "    return texts"
   ]
  },
  {
   "cell_type": "code",
   "execution_count": null,
   "id": "56aeea54",
   "metadata": {
    "scrolled": false
   },
   "outputs": [],
   "source": [
    "#measure_name = ['Ads.gas_inlet.F', 'Ads.gas_outlet.F', 'Ads.gas_outlet.T', 'Ads.gas_outlet.z(\"CO2\")', 'Des.gas_inlet.F', 'Des.gas_outlet.F', 'Des.gas_outlet.T', 'Des.gas_outlet.z(\"CO2\")', 'Ads.T_g.Value(19,10)', 'Ads.T_g.Value(23,10)', 'Ads.T_g.Value(28,10)', 'Ads.z(\"CO2\",19,10)', 'Ads.z(\"CO2\",23,10)', 'Ads.z(\"CO2\",28,10)']\n",
    "#measure_name = ['Ads.gas_outlet.z(\"CO2\")', 'Des.gas_outlet.z(\"CO2\")', 'Ads.z(\"CO2\",19,10)', 'Ads.z(\"CO2\",23,10)', 'Ads.z(\"CO2\",28,10)']\n",
    "measure_name = ['a', 'b', 'c', 'd', 'e']\n",
    "\n",
    "#time_set = ['500', '1000', '1500', '2000', '2200']\n",
    "time_set = np.linspace(20, 2200, number_t)\n",
    "time_set = [str(i) for i in time_set]\n",
    "print(len(time_set), len(measure_name))\n",
    "print(np.shape(sol_y))\n",
    "\n",
    "fig, ax = plt.subplots(figsize=(16,8))\n",
    "\n",
    "im, cbar = heatmap(sol_y, time_set, measure_name, ax=ax,\n",
    "                   cmap=\"YlGn\", cbarlabel=\"weight\")\n",
    "texts = annotate_heatmap(im, valfmt=\"{x:.1f}\")\n",
    "\n",
    "fig.tight_layout()\n",
    "plt.show()"
   ]
  },
  {
   "cell_type": "code",
   "execution_count": null,
   "id": "41e1db6d",
   "metadata": {},
   "outputs": [],
   "source": [
    "def plot_data(budget, a_cri, d_cri):\n",
    "\n",
    "    si=18\n",
    "    plt.rc('axes', titlesize=si)\n",
    "    plt.rc('axes', labelsize=si)\n",
    "    plt.rc('xtick', labelsize=si)\n",
    "    plt.rc('ytick', labelsize=si)\n",
    "\n",
    "    plt.scatter(budget, np.log10(a_cri), s=50, color='red', label='A-optimality')\n",
    "    #plt.scatter(budget, np.log10(d_cri), marker='v', s=50, color='blue', label='D-optimality')\n",
    "    plt.xlabel('Budget', fontweight=\"bold\")\n",
    "    plt.ylabel('log10(A-optimality)', fontweight=\"bold\")\n",
    "    \n",
    "    plt.show()\n",
    "    \n",
    "    \n",
    "    si=18\n",
    "    plt.rc('axes', titlesize=si)\n",
    "    plt.rc('axes', labelsize=si)\n",
    "    plt.rc('xtick', labelsize=si)\n",
    "    plt.rc('ytick', labelsize=si)\n",
    "\n",
    "    #plt.scatter(budget, np.log10(a_cri), s=50, color='red', label='A-optimality')\n",
    "    plt.scatter(budget, np.log10(d_cri), marker='v', s=50, color='blue', label='D-optimality')\n",
    "    plt.xlabel('Budget', fontweight=\"bold\")\n",
    "    plt.ylabel('log10(D-optimality)', fontweight=\"bold\")\n",
    "    \n",
    "    plt.show()"
   ]
  },
  {
   "cell_type": "code",
   "execution_count": null,
   "id": "0d3cebd3",
   "metadata": {
    "scrolled": true
   },
   "outputs": [],
   "source": [
    "a_set = [65693.94, 66574.63, 67474.485, 67608.817]\n",
    "d_set = [np.exp(30.13), np.exp(30.719), np.exp(31.1205), np.exp(31.2586)]\n",
    "\n",
    "plot_data([3000,4000,5000,6400], a_set, d_set)"
   ]
  },
  {
   "cell_type": "code",
   "execution_count": null,
   "id": "86adc46e",
   "metadata": {},
   "outputs": [],
   "source": []
  }
 ],
 "metadata": {
  "kernelspec": {
   "display_name": "Python 3 (ipykernel)",
   "language": "python",
   "name": "python3"
  },
  "language_info": {
   "codemirror_mode": {
    "name": "ipython",
    "version": 3
   },
   "file_extension": ".py",
   "mimetype": "text/x-python",
   "name": "python",
   "nbconvert_exporter": "python",
   "pygments_lexer": "ipython3",
   "version": "3.7.11"
  }
 },
 "nbformat": 4,
 "nbformat_minor": 5
}
