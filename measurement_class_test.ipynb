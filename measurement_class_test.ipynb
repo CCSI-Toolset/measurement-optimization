{
 "cells": [
  {
   "cell_type": "code",
   "execution_count": 1,
   "id": "9f0457a1",
   "metadata": {},
   "outputs": [],
   "source": [
    "import matplotlib.pyplot as plt\n",
    "from pyomo.environ import *\n",
    "from pyomo.dae import *\n",
    "\n",
    "import numpy as np\n",
    "#from scipy.interpolate import interp2d\n",
    "import pandas as pd \n",
    "from itertools import permutations, product, combinations\n",
    "import idaes\n",
    "from itertools import permutations, product\n",
    "\n",
    "from fim_doe import *\n",
    "\n",
    "import pyomo.common.unittest as unittest"
   ]
  },
  {
   "cell_type": "code",
   "execution_count": 2,
   "id": "ae7e4fa1",
   "metadata": {},
   "outputs": [
    {
     "name": "stdout",
     "output_type": "stream",
     "text": [
      "(CVXPY) Aug 15 06:31:29 PM: Encountered unexpected exception importing solver GUROBI:\n",
      "ImportError('libgurobi95.so: cannot open shared object file: No such file or directory')\n",
      "(CVXPY) Aug 15 06:31:29 PM: Encountered unexpected exception importing solver GUROBI:\n",
      "ImportError('libgurobi95.so: cannot open shared object file: No such file or directory')\n"
     ]
    }
   ],
   "source": [
    "import cvxpy as cp\n",
    "\n",
    "from reactor_kinetics import *"
   ]
  },
  {
   "cell_type": "markdown",
   "id": "ad112446",
   "metadata": {},
   "source": [
    "## FIM reader"
   ]
  },
  {
   "cell_type": "code",
   "execution_count": 3,
   "id": "1a26e58e",
   "metadata": {},
   "outputs": [],
   "source": [
    "def dataframe_return(data):\n",
    "    fim1 = []\n",
    "    fim1.append(data['P1'].to_list())\n",
    "    fim1.append(data['P2'].to_list())\n",
    "    fim1.append(data['P3'].to_list())\n",
    "    fim1.append(data['P4'].to_list())\n",
    "    \n",
    "    return fim1 "
   ]
  },
  {
   "cell_type": "code",
   "execution_count": 4,
   "id": "0af97d9d",
   "metadata": {},
   "outputs": [
    {
     "name": "stdout",
     "output_type": "stream",
     "text": [
      "(27, 4, 4)\n",
      "0.0\n"
     ]
    }
   ],
   "source": [
    "t_measure = [0, 0.125, 0.25, 0.375, 0.5, 0.625, 0.75, 0.875, 1]\n",
    "\n",
    "#t_measure = [0.125]\n",
    "\n",
    "\n",
    "\n",
    "def FIM_reader(rank='onebyone'):\n",
    "    \n",
    "    FIM_set = []\n",
    "    \n",
    "    if rank=='onebyone':\n",
    "        for idx, i in enumerate(t_measure):\n",
    "            fim1_data = pd.read_csv('./kinetics_fim/CA_' + str(idx)+'.csv')\n",
    "            \n",
    "            fim1 = dataframe_return(fim1_data)\n",
    "            FIM_set.append(fim1)\n",
    "            \n",
    "            fim2_data = pd.read_csv('./kinetics_fim/CB_' + str(idx)+'.csv')\n",
    "            \n",
    "            fim2 = dataframe_return(fim2_data)\n",
    "            FIM_set.append(fim2)\n",
    "            \n",
    "            fim3_data = pd.read_csv('./kinetics_fim/CC_' + str(idx)+'.csv')\n",
    "            \n",
    "            fim3 = dataframe_return(fim3_data)\n",
    "            FIM_set.append(fim3)\n",
    "            \n",
    "    elif rank=='onealong':\n",
    "        for idx, i in enumerate(t_measure):\n",
    "            fim1_data = pd.read_csv('./kinetics_fim/CA_' + str(idx)+'.csv')\n",
    "            \n",
    "            fim1 = dataframe_return(fim1_data)\n",
    "            FIM_set.append(fim1)\n",
    "            \n",
    "        for idx, i in enumerate(t_measure):\n",
    "            fim2_data = pd.read_csv('./kinetics_fim/CB_' + str(idx)+'.csv')\n",
    "            \n",
    "            fim2 = dataframe_return(fim2_data)\n",
    "            FIM_set.append(fim2)\n",
    "            \n",
    "        for idx, i in enumerate(t_measure):\n",
    "            fim3_data = pd.read_csv('./kinetics_fim/CC_' + str(idx)+'.csv')\n",
    "            \n",
    "            fim3 = dataframe_return(fim3_data)\n",
    "            FIM_set.append(fim3)\n",
    "            \n",
    "            \n",
    "    return FIM_set\n",
    "        \n",
    "FIM_set = FIM_reader(rank='onealong')\n",
    "print(np.shape(FIM_set))\n",
    "print(FIM_set[0][1][1])"
   ]
  },
  {
   "cell_type": "code",
   "execution_count": 5,
   "id": "b6967fd3",
   "metadata": {},
   "outputs": [
    {
     "name": "stdout",
     "output_type": "stream",
     "text": [
      "[[  17.66733763   18.74907479  -30.09833141  -76.66335672]\n",
      " [  18.74907479   30.78667315  -30.04626402 -124.88329795]\n",
      " [ -30.09833141  -30.04626402   52.08798793  123.38481043]\n",
      " [ -76.66335672 -124.88329795  123.38481043  514.04755797]]\n",
      "614.5895566797835\n",
      "663.4981277559746\n",
      "[5.87563028e+02 2.64907667e+01 9.71982177e-02 4.38563426e-01]\n"
     ]
    }
   ],
   "source": [
    "TotalF = np.zeros((4,4))\n",
    "for i in range(4):\n",
    "    for j in range(4):\n",
    "        TotalF[i,j] = sum(FIM_set[k][i][j] for k in range(27))\n",
    "        \n",
    "print(TotalF)\n",
    "\n",
    "print(np.trace(TotalF))\n",
    "print(np.linalg.det(TotalF))\n",
    "print(np.linalg.eigvals(TotalF))"
   ]
  },
  {
   "cell_type": "markdown",
   "id": "e259a939",
   "metadata": {},
   "source": [
    "### Jacobian reader"
   ]
  },
  {
   "cell_type": "code",
   "execution_count": 6,
   "id": "74bf810c",
   "metadata": {},
   "outputs": [
    {
     "name": "stdout",
     "output_type": "stream",
     "text": [
      "[[0.0, 0.0, 0.0, 0.0], [-1.346695417017152, -1.665334536937735e-13, 2.223379846162832, -1.6653345369377348e-13], [-1.039297035228287, -2.220446049250313e-13, 2.004516103508741, -1.6653345369377348e-13], [-0.7733130998612002, -1.3877787807814457e-13, 1.63790005416059, -1.1102230246251565e-13], [-0.560819154400885, -1.249000902703301e-13, 1.2648388615049688, -6.938893903907228e-14], [-0.3990444064009696, -4.8572257327350605e-14, 0.9415433202331, -2.081668171172168e-14], [-0.2797955547643657, -5.5511151231257833e-14, 0.6830391077798161, -2.081668171172168e-14], [-0.1939053002679436, -3.1225022567582534e-14, 0.486126099753268, -3.4694469519536138e-15], [-0.1331100105811684, -1.3877787807814455e-14, 0.3409191457896289, 1.040834085586084e-14], [0.0, 0.0, 0.0, 0.0], [0.0199157340269318, -1.3752037136890438, -0.0468172929494192, 4.379651748244728], [-0.2728277373608145, -1.38740313152641, 0.1675143115261734, 4.866408693837143], [-0.4952849992631014, -1.4015562993399122, 0.4972483613988609, 5.32136224081181], [-0.6436372848857008, -1.4096897316501211, 0.7975217042995864, 5.701010909036962], [-0.7284027976047769, -1.4082705406104346, 1.018761917449651, 5.988156232832331], [-0.764065430574612, -1.3963174644404663, 1.1553250734815943, 6.180558543165904], [-0.7644777115803912, -1.3742506806110333, 1.219268971831444, 6.28404415612449], [-0.7411661969829453, -1.34319967277996, 1.2276367843273572, 6.308370991028989], [0.0, 0.0, 0.0, 0.0], [1.3267796829901088, 1.3752037136887107, -2.1765625532130795, -4.379651748244395], [1.3121247725891294, 1.3874031315266322, -2.1720304150352194, -4.866408693837476], [1.268598099124052, 1.4015562993403563, -2.135148415559618, -5.3213622408117], [1.204456439286794, 1.409689731650232, -2.0623605658043327, -5.701010909037407], [1.1274472040057049, 1.4082705406104346, -1.9603052376824248, -5.988156232832108], [1.0438609853389291, 1.3963174644409104, -1.8383641812615976, -6.180558543166015], [0.9583830118478076, 1.3742506806111443, -1.7053950715846256, -6.284044156124269], [0.8742762075641951, 1.343199672780182, -1.5685559301172878, -6.308370991028767]]\n"
     ]
    }
   ],
   "source": [
    "jaco_info = pd.read_csv('./kinetics_fim/Q.csv')\n",
    "\n",
    "#print(jaco_info)\n",
    "\n",
    "\n",
    "Q_stack = []\n",
    "\n",
    "for i in range(27):\n",
    "    \n",
    "    Q_res = [jaco_info['A1'].iloc[i], jaco_info['A2'].iloc[i], jaco_info['E1'].iloc[i], jaco_info['E2'].iloc[i]]\n",
    "    \n",
    "    \n",
    "    Q_stack.append(Q_res)\n",
    "    \n",
    "print(Q_stack)"
   ]
  },
  {
   "cell_type": "markdown",
   "id": "1d1d8583",
   "metadata": {},
   "source": [
    "### FIM verificator"
   ]
  },
  {
   "cell_type": "code",
   "execution_count": 7,
   "id": "b52b9ecd",
   "metadata": {},
   "outputs": [
    {
     "ename": "NameError",
     "evalue": "name 'optimize_sol' is not defined",
     "output_type": "error",
     "traceback": [
      "\u001b[0;31m---------------------------------------------------------------------------\u001b[0m",
      "\u001b[0;31mNameError\u001b[0m                                 Traceback (most recent call last)",
      "\u001b[0;32m/tmp/ipykernel_532305/4266420222.py\u001b[0m in \u001b[0;36m<cell line: 9>\u001b[0;34m()\u001b[0m\n\u001b[1;32m      9\u001b[0m \u001b[0;32mfor\u001b[0m \u001b[0mi\u001b[0m \u001b[0;32min\u001b[0m \u001b[0mrange\u001b[0m\u001b[0;34m(\u001b[0m\u001b[0;36m4\u001b[0m\u001b[0;34m)\u001b[0m\u001b[0;34m:\u001b[0m\u001b[0;34m\u001b[0m\u001b[0;34m\u001b[0m\u001b[0m\n\u001b[1;32m     10\u001b[0m     \u001b[0;32mfor\u001b[0m \u001b[0mj\u001b[0m \u001b[0;32min\u001b[0m \u001b[0mrange\u001b[0m\u001b[0;34m(\u001b[0m\u001b[0;36m4\u001b[0m\u001b[0;34m)\u001b[0m\u001b[0;34m:\u001b[0m\u001b[0;34m\u001b[0m\u001b[0;34m\u001b[0m\u001b[0m\n\u001b[0;32m---> 11\u001b[0;31m         \u001b[0mSelectF\u001b[0m\u001b[0;34m[\u001b[0m\u001b[0mi\u001b[0m\u001b[0;34m,\u001b[0m\u001b[0mj\u001b[0m\u001b[0;34m]\u001b[0m \u001b[0;34m=\u001b[0m \u001b[0msum\u001b[0m\u001b[0;34m(\u001b[0m\u001b[0mFIM_set\u001b[0m\u001b[0;34m[\u001b[0m\u001b[0mk\u001b[0m\u001b[0;34m]\u001b[0m\u001b[0;34m[\u001b[0m\u001b[0mi\u001b[0m\u001b[0;34m,\u001b[0m\u001b[0mj\u001b[0m\u001b[0;34m]\u001b[0m\u001b[0;34m*\u001b[0m\u001b[0myi\u001b[0m \u001b[0;32mfor\u001b[0m \u001b[0mk\u001b[0m\u001b[0;34m,\u001b[0m \u001b[0myi\u001b[0m \u001b[0;32min\u001b[0m \u001b[0menumerate\u001b[0m\u001b[0;34m(\u001b[0m\u001b[0moptimize_sol\u001b[0m\u001b[0;34m)\u001b[0m\u001b[0;34m)\u001b[0m\u001b[0;34m\u001b[0m\u001b[0;34m\u001b[0m\u001b[0m\n\u001b[0m\u001b[1;32m     12\u001b[0m \u001b[0;34m\u001b[0m\u001b[0m\n\u001b[1;32m     13\u001b[0m \u001b[0mprint\u001b[0m\u001b[0;34m(\u001b[0m\u001b[0mSelectF\u001b[0m\u001b[0;34m)\u001b[0m\u001b[0;34m\u001b[0m\u001b[0;34m\u001b[0m\u001b[0m\n",
      "\u001b[0;31mNameError\u001b[0m: name 'optimize_sol' is not defined"
     ]
    }
   ],
   "source": [
    "#optimize_sol = [ 0, 0, 0, \n",
    "#                1, 1, 1, 1, 1, 1,\n",
    "#                1, 1, 1, 1, 1, 1, \n",
    "#                0, 1, 1, 0, 1, 1,\n",
    "#                0, 1, 1, 0, 1, 1]\n",
    "\n",
    "\n",
    "SelectF = np.zeros((4,4))\n",
    "for i in range(4):\n",
    "    for j in range(4):\n",
    "        SelectF[i,j] = sum(FIM_set[k][i,j]*yi for k, yi in enumerate(optimize_sol))\n",
    "        \n",
    "print(SelectF)\n",
    "\n",
    "print(np.trace(SelectF))\n",
    "print(np.linalg.det(SelectF))\n",
    "print(np.linalg.eigvals(SelectF))"
   ]
  },
  {
   "cell_type": "markdown",
   "id": "37436b29",
   "metadata": {},
   "source": [
    "## Covariance without the initial measurement"
   ]
  },
  {
   "cell_type": "code",
   "execution_count": 8,
   "id": "235369ff",
   "metadata": {},
   "outputs": [
    {
     "name": "stdout",
     "output_type": "stream",
     "text": [
      "[[-1.346695417017152, -1.665334536937735e-13, 2.223379846162832, -1.6653345369377348e-13], [-1.039297035228287, -2.220446049250313e-13, 2.004516103508741, -1.6653345369377348e-13], [-0.7733130998612002, -1.3877787807814457e-13, 1.63790005416059, -1.1102230246251565e-13], [-0.560819154400885, -1.249000902703301e-13, 1.2648388615049688, -6.938893903907228e-14], [-0.3990444064009696, -4.8572257327350605e-14, 0.9415433202331, -2.081668171172168e-14], [-0.2797955547643657, -5.5511151231257833e-14, 0.6830391077798161, -2.081668171172168e-14], [-0.1939053002679436, -3.1225022567582534e-14, 0.486126099753268, -3.4694469519536138e-15], [-0.1331100105811684, -1.3877787807814455e-14, 0.3409191457896289, 1.040834085586084e-14], [0.0199157340269318, -1.3752037136890438, -0.0468172929494192, 4.379651748244728], [-0.2728277373608145, -1.38740313152641, 0.1675143115261734, 4.866408693837143], [-0.4952849992631014, -1.4015562993399122, 0.4972483613988609, 5.32136224081181], [-0.6436372848857008, -1.4096897316501211, 0.7975217042995864, 5.701010909036962], [-0.7284027976047769, -1.4082705406104346, 1.018761917449651, 5.988156232832331], [-0.764065430574612, -1.3963174644404663, 1.1553250734815943, 6.180558543165904], [-0.7644777115803912, -1.3742506806110333, 1.219268971831444, 6.28404415612449], [-0.7411661969829453, -1.34319967277996, 1.2276367843273572, 6.308370991028989], [1.3267796829901088, 1.3752037136887107, -2.1765625532130795, -4.379651748244395], [1.3121247725891294, 1.3874031315266322, -2.1720304150352194, -4.866408693837476], [1.268598099124052, 1.4015562993403563, -2.135148415559618, -5.3213622408117], [1.204456439286794, 1.409689731650232, -2.0623605658043327, -5.701010909037407], [1.1274472040057049, 1.4082705406104346, -1.9603052376824248, -5.988156232832108], [1.0438609853389291, 1.3963174644409104, -1.8383641812615976, -6.180558543166015], [0.9583830118478076, 1.3742506806111443, -1.7053950715846256, -6.284044156124269], [0.8742762075641951, 1.343199672780182, -1.5685559301172878, -6.308370991028767]]\n",
      "(24, 4)\n"
     ]
    }
   ],
   "source": [
    "jaco_info = pd.read_csv('./kinetics_fim/Q.csv')\n",
    "\n",
    "#print(jaco_info)\n",
    "\n",
    "\n",
    "Q_stack = []\n",
    "\n",
    "for i in range(1,9):\n",
    "    \n",
    "    Q_res = [jaco_info['A1'].iloc[i], jaco_info['A2'].iloc[i], jaco_info['E1'].iloc[i], jaco_info['E2'].iloc[i]]\n",
    "    \n",
    "    Q_stack.append(Q_res)\n",
    "    \n",
    "for i in range(10,18):\n",
    "    \n",
    "    Q_res = [jaco_info['A1'].iloc[i], jaco_info['A2'].iloc[i], jaco_info['E1'].iloc[i], jaco_info['E2'].iloc[i]]\n",
    "    \n",
    "    Q_stack.append(Q_res)\n",
    "    \n",
    "for i in range(19,27):\n",
    "    \n",
    "    Q_res = [jaco_info['A1'].iloc[i], jaco_info['A2'].iloc[i], jaco_info['E1'].iloc[i], jaco_info['E2'].iloc[i]]\n",
    "    \n",
    "    Q_stack.append(Q_res)\n",
    "    \n",
    "print(Q_stack)\n",
    "    \n",
    "print(np.shape(Q_stack))"
   ]
  },
  {
   "cell_type": "code",
   "execution_count": 9,
   "id": "27956dd2",
   "metadata": {},
   "outputs": [
    {
     "name": "stdout",
     "output_type": "stream",
     "text": [
      "[0.99566752 8.06331241 3.94102007 8.06331241 8.06331241 3.94102007\n",
      " 3.94102007 0.99566752 0.99566752 0.99566752 0.99566752 8.06331241\n",
      " 8.06331241 0.99566752 8.06331241 8.06331241 8.06331241 0.99566752\n",
      " 0.99566752 3.94102007 3.94102007 3.94102007 3.94102007 3.94102007]\n"
     ]
    }
   ],
   "source": [
    "# variance \n",
    "variance = [1, # var_CA^2\n",
    "            4, # var_CB^2\n",
    "            8  # var_CC^2\n",
    "           ]\n",
    "covariance = [ 0.1, # cov_CA_CB | ti, \n",
    "               0.1, # cov_CA_CC | ti, \n",
    "               0.5 # cov_CB_CC | ti\n",
    "]\n",
    "\n",
    "# construct Sigma\n",
    "sigma = np.zeros((24, 24))\n",
    "\n",
    "for i in range(24):\n",
    "    #for j in range(27):\n",
    "        \n",
    "        #if i==j:\n",
    "    if i<8:\n",
    "        sigma[i,i]=variance[0]\n",
    "        sigma[i,i+8]=covariance[0]\n",
    "        sigma[i,i+16]=covariance[1]\n",
    "    elif 8<= i < 16:\n",
    "        sigma[i,i]=variance[1]\n",
    "        sigma[i,i-8]=covariance[0]\n",
    "        sigma[i,i+8]=covariance[2]\n",
    "    elif i>=16:\n",
    "        sigma[i,i]=variance[2]\n",
    "        sigma[i,i-16]=covariance[1]\n",
    "        sigma[i,i-8]=covariance[2]\n",
    "                \n",
    "            \n",
    "# check eigen values to make sure it's PSD \n",
    "print(np.linalg.eigvals(sigma))"
   ]
  },
  {
   "cell_type": "code",
   "execution_count": 10,
   "id": "18b7d9cc",
   "metadata": {},
   "outputs": [],
   "source": [
    "sigma_inv = np.linalg.inv(sigma)"
   ]
  },
  {
   "cell_type": "code",
   "execution_count": 14,
   "id": "7181dcec",
   "metadata": {},
   "outputs": [
    {
     "name": "stdout",
     "output_type": "stream",
     "text": [
      "(24, 4)\n",
      "(72, 4, 4)\n"
     ]
    }
   ],
   "source": [
    "print(np.shape(Q_stack))\n",
    "\n",
    "Q_matrix = []\n",
    "for i in range(24):\n",
    "    Q_matrix.append(np.asarray(Q_stack[i]).reshape((4,1)))\n",
    "# Q: [CA|t1, ..., CA|tN, CB|ti, ..., CC|ti, ...]\n",
    "\n",
    "FIM_collection = []\n",
    "\n",
    "for i in range(8):\n",
    "    # yCA, CA\n",
    "    mat = sigma_inv[i,i]*Q_matrix[i]@Q_matrix[i].T\n",
    "    FIM_collection.append(mat)\n",
    "\n",
    "for i in range(8):\n",
    "    # yCA, CB\n",
    "    FIM_collection.append(sigma_inv[i,i+8]*Q_matrix[i]@Q_matrix[i+8].T)\n",
    "\n",
    "for i in range(8):\n",
    "    # YCA, CC\n",
    "    FIM_collection.append(sigma_inv[i,i+16]*Q_matrix[i]@Q_matrix[i+16].T)\n",
    "\n",
    "for i in range(8,16): \n",
    "    FIM_collection.append(sigma_inv[i,i]*Q_matrix[i]@Q_matrix[i].T)\n",
    "\n",
    "for i in range(8,16): \n",
    "    FIM_collection.append(sigma_inv[i,i-8]*Q_matrix[i]@Q_matrix[i-8].T)\n",
    "\n",
    "for i in range(8,16): \n",
    "    FIM_collection.append(sigma_inv[i,i+8]*Q_matrix[i]@Q_matrix[i+8].T)\n",
    "\n",
    "for i in range(16, 24): \n",
    "    FIM_collection.append(sigma_inv[i,i]*Q_matrix[i]@Q_matrix[i].T)\n",
    "\n",
    "for i in range(16, 24): \n",
    "    FIM_collection.append(sigma_inv[i,i-16]*Q_matrix[i]@Q_matrix[i-16].T)\n",
    "\n",
    "for i in range(16, 24): \n",
    "    FIM_collection.append(sigma_inv[i,i-8]*Q_matrix[i]@Q_matrix[i-8].T)\n",
    "        \n",
    "\n",
    "print(np.shape(FIM_collection))"
   ]
  },
  {
   "cell_type": "code",
   "execution_count": 12,
   "id": "00dd6de7",
   "metadata": {},
   "outputs": [],
   "source": [
    "def eval_fim(y, cov_y):\n",
    "     \n",
    "    fim = sum(ya1*FIM_collection[idx] for idx, ya1 in enumerate(y[0])) \\\n",
    "    + sum(yb1*FIM_collection[idx+24] for idx, yb1 in enumerate(y[1])) \\\n",
    "    + sum(yc1*FIM_collection[idx+48] for idx, yc1 in enumerate(y[2])) \\\n",
    "    + sum(yab1*FIM_collection[idx+8] for idx, yab1 in enumerate(cov_y[0])) \\\n",
    "    + sum(yab1*FIM_collection[idx+32] for idx, yab1 in enumerate(cov_y[0])) \\\n",
    "    + sum(yac1*FIM_collection[idx+16] for idx, yac1 in enumerate(cov_y[1])) \\\n",
    "    + sum(yac1*FIM_collection[idx+56] for idx, yac1 in enumerate(cov_y[1])) \\\n",
    "    + sum(ybc1*FIM_collection[idx+40] for idx, ybc1 in enumerate(cov_y[2])) \\\n",
    "    + sum(ybc1*FIM_collection[idx+64] for idx, ybc1 in enumerate(cov_y[2]))\n",
    "    \n",
    "    return fim \n",
    "\n",
    "def a_opt(ya, yb, yc, yab, yac, ybc):\n",
    "    fim = eval_fim(ya, yb, yc, yab, yac, ybc)\n",
    "    return cp.trace(fim)\n",
    "    \n",
    "def d_opt(y, cov_y):\n",
    "    fim = eval_fim(y, cov_y)\n",
    "    return cp.log_det(fim)\n",
    "\n",
    "def e_opt(ya, yb, yc, yab, yac, ybc):\n",
    "    fim = eval_fim(ya, yb, yc, yab, yac, ybc)\n",
    "    return -cp.lambda_min(fim)"
   ]
  },
  {
   "cell_type": "code",
   "execution_count": 15,
   "id": "b88d2d5e",
   "metadata": {},
   "outputs": [],
   "source": [
    "no_res_unit = 8 \n",
    "cost = [10, 6, 6]\n",
    "\n",
    "y = []\n",
    "\n",
    "for idx in range(3):\n",
    "    create_y = cp.Variable(no_res_unit, nonneg=True)\n",
    "    y.append(create_y)\n",
    "    \n",
    "cov_y = []\n",
    "for idx in range(3):\n",
    "    create_cov = cp.Variable(no_res_unit, nonneg=True)\n",
    "    cov_y.append(create_cov)\n",
    "    \n",
    "p_cons = [sum(cp.sum(y[i]*cost[i]) for i in range(3)) <= 100]\n",
    "#p_cons = [cp.sum(y[0]*10) + cp.sum(y[1]*6) + cp.sum(y[2]*6) <= 100]\n",
    "\n",
    "#for i in range(3):\n",
    "for i in y[0]:\n",
    "    p_cons += [i<=1]\n",
    "    \n",
    "for j in y[1]:\n",
    "    p_cons += [j<=1]\n",
    "    \n",
    "for d in y[2]:\n",
    "    p_cons += [d<=1]\n",
    "        \n",
    "p_cons += [cov_y[0][t] <= y[0][t] for t, idx in enumerate(y[0])]\n",
    "p_cons += [cov_y[0][t] <= y[1][t] for t, idx in enumerate(y[1])]\n",
    "p_cons += [cov_y[1][t] <= y[0][t] for t, idx in enumerate(y[0])]\n",
    "p_cons += [cov_y[1][t] <= y[2][t] for t, idx in enumerate(y[2])]\n",
    "p_cons += [cov_y[2][t] <= y[1][t] for t, idx in enumerate(y[1])]\n",
    "p_cons += [cov_y[2][t] <= y[2][t] for t, idx in enumerate(y[2])]\n",
    "\n",
    "p_cons += [y[0][i]+y[1][i]-1<=cov_y[0][i] for i, idx in enumerate(cov_y[0])]\n",
    "p_cons += [y[0][i]+y[2][i]-1<=cov_y[1][i] for i, idx in enumerate(cov_y[0])]\n",
    "p_cons += [y[1][i]+y[2][i]-1<=cov_y[2][i] for i, idx in enumerate(cov_y[1])]\n",
    "\n",
    "obj = cp.Maximize(d_opt(y, cov_y))\n",
    "#obj = cp.Maximize(d_opt(y[0], y[1], y[2], cov_y[0], cov_y[1], cov_y[2]))\n",
    "\n",
    "problem = cp.Problem(obj, p_cons)"
   ]
  },
  {
   "cell_type": "code",
   "execution_count": null,
   "id": "563d7f17",
   "metadata": {},
   "outputs": [],
   "source": [
    "def eval_fim(ya, yb, yc, yab, yac, ybc):\n",
    "     \n",
    "    fim = sum(ya1*FIM_collection[idx] for idx, ya1 in enumerate(ya)) \\\n",
    "    + sum(yb1*FIM_collection[idx+24] for idx, yb1 in enumerate(yb)) \\\n",
    "    + sum(yc1*FIM_collection[idx+48] for idx, yc1 in enumerate(yc)) \\\n",
    "    + sum(yab1*FIM_collection[idx+8] for idx, yab1 in enumerate(yab)) \\\n",
    "    + sum(yab1*FIM_collection[idx+32] for idx, yab1 in enumerate(yab)) \\\n",
    "    + sum(yac1*FIM_collection[idx+16] for idx, yac1 in enumerate(yac)) \\\n",
    "    + sum(yac1*FIM_collection[idx+56] for idx, yac1 in enumerate(yac)) \\\n",
    "    + sum(ybc1*FIM_collection[idx+40] for idx, ybc1 in enumerate(ybc)) \\\n",
    "    + sum(ybc1*FIM_collection[idx+64] for idx, ybc1 in enumerate(ybc))\n",
    "    \n",
    "    return fim \n",
    "\n",
    "def a_opt(ya, yb, yc, yab, yac, ybc):\n",
    "    fim = eval_fim(ya, yb, yc, yab, yac, ybc)\n",
    "    return cp.trace(fim)\n",
    "    \n",
    "def d_opt(ya, yb, yc, yab, yac, ybc):\n",
    "    fim = eval_fim(ya, yb, yc, yab, yac, ybc)\n",
    "    return cp.log_det(fim)\n",
    "\n",
    "def e_opt(ya, yb, yc, yab, yac, ybc):\n",
    "    fim = eval_fim(ya, yb, yc, yab, yac, ybc)\n",
    "    return -cp.lambda_min(fim)"
   ]
  },
  {
   "cell_type": "code",
   "execution_count": null,
   "id": "0dfe2661",
   "metadata": {},
   "outputs": [],
   "source": [
    "def eval_fim(y, yab, yac, ybc):\n",
    "     \n",
    "    fim = sum(ya1*FIM_collection[idx] for idx, ya1 in enumerate(y[0])) \\\n",
    "    + sum(yb1*FIM_collection[idx+24] for idx, yb1 in enumerate(y[1])) \\\n",
    "    + sum(yc1*FIM_collection[idx+48] for idx, yc1 in enumerate(y[2])) \\\n",
    "    + sum(yab1*FIM_collection[idx+8] for idx, yab1 in enumerate(yab)) \\\n",
    "    + sum(yab1*FIM_collection[idx+32] for idx, yab1 in enumerate(yab)) \\\n",
    "    + sum(yac1*FIM_collection[idx+16] for idx, yac1 in enumerate(yac)) \\\n",
    "    + sum(yac1*FIM_collection[idx+56] for idx, yac1 in enumerate(yac)) \\\n",
    "    + sum(ybc1*FIM_collection[idx+40] for idx, ybc1 in enumerate(ybc)) \\\n",
    "    + sum(ybc1*FIM_collection[idx+64] for idx, ybc1 in enumerate(ybc))\n",
    "    \n",
    "    return fim \n",
    "\n",
    "def a_opt(ya, yb, yc, yab, yac, ybc):\n",
    "    fim = eval_fim(ya, yb, yc, yab, yac, ybc)\n",
    "    return cp.trace(fim)\n",
    "    \n",
    "def d_opt(y, yab, yac, ybc):\n",
    "    fim = eval_fim(ya, yab, yac, ybc)\n",
    "    return cp.log_det(fim)\n",
    "\n",
    "def e_opt(ya, yb, yc, yab, yac, ybc):\n",
    "    fim = eval_fim(ya, yb, yc, yab, yac, ybc)\n",
    "    return -cp.lambda_min(fim)"
   ]
  },
  {
   "cell_type": "code",
   "execution_count": null,
   "id": "3c173f3a",
   "metadata": {},
   "outputs": [],
   "source": [
    "no_res_unit = 8\n",
    "\n",
    "y = []\n",
    "\n",
    "for idx in range(3):\n",
    "    create_y = cp.Variable(no_res_unit, nonneg=True)\n",
    "    y.append(create_y)\n",
    "\n",
    "yab = cp.Variable(no_res_unit, nonneg=True)\n",
    "yac = cp.Variable(no_res_unit, nonneg=True)\n",
    "ybc = cp.Variable(no_res_unit, nonneg=True)\n",
    "\n",
    "p_cons = [cp.sum(y[0]*10) + cp.sum(y[1]*6) + cp.sum(y[2]*6) <= 100]\n",
    "\n",
    "#p_cons = []\n",
    "\n",
    "for i in y[0]:\n",
    "    p_cons += [i<=1]\n",
    "for j in y[1]:\n",
    "    p_cons += [j<=1]\n",
    "for d in y[2]:\n",
    "    p_cons += [d<=1]\n",
    "\n",
    "\n",
    "#for x in yab:\n",
    "p_cons += [yab[i] <= y[0][i] for i, idx in enumerate(y[0])]\n",
    "p_cons += [yab[i] <= y[1][i] for i, idx in enumerate(y[1])]\n",
    "p_cons += [yac[i] <= y[0][i] for i, idx in enumerate(y[0])]\n",
    "p_cons += [yac[i] <= y[2][i] for i, idx in enumerate(y[2])]\n",
    "p_cons += [ybc[i] <= y[1][i] for i, idx in enumerate(y[1])]\n",
    "p_cons += [ybc[i] <= y[2][i] for i, idx in enumerate(y[2])]\n",
    "\n",
    "p_cons += [y[0][i]+y[1][i]-1<=yab[i] for i, idx in enumerate(y[0])]\n",
    "p_cons += [y[0][i]+y[2][i]-1<=yac[i] for i, idx in enumerate(y[0])]\n",
    "p_cons += [y[1][i]+y[2][i]-1<=ybc[i] for i, idx in enumerate(y[1])]\n",
    "    \n",
    "obj = cp.Maximize(d_opt(y, yab, yac, ybc))\n",
    "\n",
    "problem = cp.Problem(obj, p_cons)\n"
   ]
  },
  {
   "cell_type": "code",
   "execution_count": 16,
   "id": "0b6915d5",
   "metadata": {},
   "outputs": [
    {
     "name": "stdout",
     "output_type": "stream",
     "text": [
      "===============================================================================\n",
      "                                     CVXPY                                     \n",
      "                                     v1.2.1                                    \n",
      "===============================================================================\n",
      "(CVXPY) Aug 15 06:32:39 PM: Your problem has 48 variables, 97 constraints, and 0 parameters.\n",
      "(CVXPY) Aug 15 06:32:39 PM: It is compliant with the following grammars: DCP, DQCP\n",
      "(CVXPY) Aug 15 06:32:39 PM: (If you need to solve this problem multiple times, but with different data, consider using parameters.)\n",
      "(CVXPY) Aug 15 06:32:39 PM: CVXPY will first compile your problem; then, it will invoke a numerical solver to obtain a solution.\n",
      "-------------------------------------------------------------------------------\n",
      "                                  Compilation                                  \n",
      "-------------------------------------------------------------------------------\n",
      "(CVXPY) Aug 15 06:32:39 PM: Compiling problem (target solver=MOSEK).\n",
      "(CVXPY) Aug 15 06:32:39 PM: Reduction chain: FlipObjective -> Dcp2Cone -> CvxAttr2Constr -> ConeMatrixStuffing -> MOSEK\n",
      "(CVXPY) Aug 15 06:32:39 PM: Applying reduction FlipObjective\n",
      "(CVXPY) Aug 15 06:32:39 PM: Applying reduction Dcp2Cone\n",
      "(CVXPY) Aug 15 06:32:39 PM: Applying reduction CvxAttr2Constr\n",
      "(CVXPY) Aug 15 06:32:39 PM: Applying reduction ConeMatrixStuffing\n",
      "(CVXPY) Aug 15 06:32:39 PM: Applying reduction MOSEK\n",
      "(CVXPY) Aug 15 06:32:39 PM: Finished problem compilation (took 2.569e-01 seconds).\n",
      "-------------------------------------------------------------------------------\n",
      "                                Numerical solver                               \n",
      "-------------------------------------------------------------------------------\n",
      "(CVXPY) Aug 15 06:32:39 PM: Invoking solver MOSEK  to obtain a solution.\n",
      "\n",
      "\n",
      "(CVXPY) Aug 15 06:32:40 PM: Problem\n",
      "(CVXPY) Aug 15 06:32:40 PM:   Name                   :                 \n",
      "(CVXPY) Aug 15 06:32:40 PM:   Objective sense        : max             \n",
      "(CVXPY) Aug 15 06:32:40 PM:   Type                   : CONIC (conic optimization problem)\n",
      "(CVXPY) Aug 15 06:32:40 PM:   Constraints            : 62              \n",
      "(CVXPY) Aug 15 06:32:40 PM:   Cones                  : 4               \n",
      "(CVXPY) Aug 15 06:32:40 PM:   Scalar variables       : 157             \n",
      "(CVXPY) Aug 15 06:32:40 PM:   Matrix variables       : 1               \n",
      "(CVXPY) Aug 15 06:32:40 PM:   Integer variables      : 0               \n",
      "(CVXPY) Aug 15 06:32:40 PM: \n",
      "(CVXPY) Aug 15 06:32:40 PM: Optimizer started.\n",
      "(CVXPY) Aug 15 06:32:40 PM: Presolve started.\n",
      "(CVXPY) Aug 15 06:32:40 PM: Linear dependency checker started.\n",
      "(CVXPY) Aug 15 06:32:40 PM: Linear dependency checker terminated.\n",
      "(CVXPY) Aug 15 06:32:40 PM: Eliminator started.\n",
      "(CVXPY) Aug 15 06:32:40 PM: Freed constraints in eliminator : 0\n",
      "(CVXPY) Aug 15 06:32:40 PM: Eliminator terminated.\n",
      "(CVXPY) Aug 15 06:32:40 PM: Eliminator - tries                  : 1                 time                   : 0.00            \n",
      "(CVXPY) Aug 15 06:32:40 PM: Lin. dep.  - tries                  : 1                 time                   : 0.00            \n",
      "(CVXPY) Aug 15 06:32:40 PM: Lin. dep.  - number                 : 0               \n",
      "(CVXPY) Aug 15 06:32:40 PM: Presolve terminated. Time: 0.01    \n",
      "(CVXPY) Aug 15 06:32:40 PM: Problem\n",
      "(CVXPY) Aug 15 06:32:40 PM:   Name                   :                 \n",
      "(CVXPY) Aug 15 06:32:40 PM:   Objective sense        : max             \n",
      "(CVXPY) Aug 15 06:32:40 PM:   Type                   : CONIC (conic optimization problem)\n",
      "(CVXPY) Aug 15 06:32:40 PM:   Constraints            : 62              \n",
      "(CVXPY) Aug 15 06:32:40 PM:   Cones                  : 4               \n",
      "(CVXPY) Aug 15 06:32:40 PM:   Scalar variables       : 157             \n",
      "(CVXPY) Aug 15 06:32:40 PM:   Matrix variables       : 1               \n",
      "(CVXPY) Aug 15 06:32:40 PM:   Integer variables      : 0               \n",
      "(CVXPY) Aug 15 06:32:40 PM: \n",
      "(CVXPY) Aug 15 06:32:40 PM: Optimizer  - threads                : 2               \n",
      "(CVXPY) Aug 15 06:32:40 PM: Optimizer  - solved problem         : the primal      \n",
      "(CVXPY) Aug 15 06:32:40 PM: Optimizer  - Constraints            : 58\n",
      "(CVXPY) Aug 15 06:32:40 PM: Optimizer  - Cones                  : 4\n",
      "(CVXPY) Aug 15 06:32:40 PM: Optimizer  - Scalar variables       : 157               conic                  : 12              \n",
      "(CVXPY) Aug 15 06:32:40 PM: Optimizer  - Semi-definite variables: 1                 scalarized             : 36              \n",
      "(CVXPY) Aug 15 06:32:40 PM: Factor     - setup time             : 0.01              dense det. time        : 0.00            \n",
      "(CVXPY) Aug 15 06:32:40 PM: Factor     - ML order time          : 0.00              GP order time          : 0.00            \n",
      "(CVXPY) Aug 15 06:32:40 PM: Factor     - nonzeros before factor : 1711              after factor           : 1711            \n",
      "(CVXPY) Aug 15 06:32:40 PM: Factor     - dense dim.             : 0                 flops                  : 1.05e+05        \n",
      "(CVXPY) Aug 15 06:32:40 PM: ITE PFEAS    DFEAS    GFEAS    PRSTATUS   POBJ              DOBJ              MU       TIME  \n",
      "(CVXPY) Aug 15 06:32:40 PM: 0   1.5e+00  1.0e+02  7.5e+00  0.00e+00   -3.311353596e+00  3.220408006e+00   1.0e+00  0.05  \n",
      "(CVXPY) Aug 15 06:32:40 PM: 1   5.7e-01  3.8e+01  3.9e+00  -7.70e-01  3.188102376e+00   7.545780287e+00   3.8e-01  0.12  \n",
      "(CVXPY) Aug 15 06:32:40 PM: 2   1.6e-01  1.1e+01  9.0e-01  -2.23e-01  2.484562925e+00   3.935934917e+00   1.1e-01  0.12  \n",
      "(CVXPY) Aug 15 06:32:40 PM: 3   5.2e-02  3.5e+00  1.2e-01  9.95e-01   -1.384985023e+00  -8.080852702e-01  3.5e-02  0.12  \n",
      "(CVXPY) Aug 15 06:32:40 PM: 4   2.9e-02  2.0e+00  5.0e-02  1.06e+00   -1.187188178e+00  -8.795246108e-01  2.0e-02  0.12  \n",
      "(CVXPY) Aug 15 06:32:40 PM: 5   7.8e-03  5.3e-01  7.5e-03  1.05e+00   -9.055012760e-01  -8.287651546e-01  5.3e-03  0.12  \n",
      "(CVXPY) Aug 15 06:32:40 PM: 6   4.6e-03  3.1e-01  3.6e-03  9.43e-01   -9.821020687e-01  -9.365275969e-01  3.1e-03  0.13  \n",
      "(CVXPY) Aug 15 06:32:40 PM: 7   1.2e-03  7.9e-02  4.7e-04  9.87e-01   -1.247637116e+00  -1.236167996e+00  7.9e-04  0.13  \n",
      "(CVXPY) Aug 15 06:32:40 PM: 8   4.1e-04  2.8e-02  9.8e-05  9.74e-01   -1.485836234e+00  -1.481867267e+00  2.8e-04  0.14  \n",
      "(CVXPY) Aug 15 06:32:40 PM: 9   2.1e-04  1.4e-02  3.7e-05  9.92e-01   -1.550158208e+00  -1.548098976e+00  1.4e-04  0.14  \n",
      "(CVXPY) Aug 15 06:32:40 PM: 10  3.1e-05  2.1e-03  2.1e-06  9.89e-01   -1.619700077e+00  -1.619403336e+00  2.1e-05  0.15  \n",
      "(CVXPY) Aug 15 06:32:40 PM: 11  4.4e-06  3.0e-04  1.2e-07  9.99e-01   -1.631055562e+00  -1.631012896e+00  3.0e-06  0.15  \n",
      "(CVXPY) Aug 15 06:32:40 PM: 12  7.7e-07  5.2e-05  8.3e-09  1.00e+00   -1.632652497e+00  -1.632645155e+00  5.2e-07  0.16  \n",
      "(CVXPY) Aug 15 06:32:40 PM: 13  1.1e-07  7.6e-06  4.7e-10  1.00e+00   -1.632932344e+00  -1.632931272e+00  7.6e-08  0.16  \n",
      "(CVXPY) Aug 15 06:32:40 PM: 14  1.5e-08  1.0e-06  2.2e-11  1.00e+00   -1.632973659e+00  -1.632973517e+00  1.0e-08  0.17  \n",
      "(CVXPY) Aug 15 06:32:40 PM: 15  7.7e-09  3.1e-07  8.4e-13  1.00e+00   -1.632979324e+00  -1.632979308e+00  1.1e-09  0.17  \n",
      "(CVXPY) Aug 15 06:32:40 PM: Optimizer terminated. Time: 0.20    \n",
      "(CVXPY) Aug 15 06:32:40 PM: \n",
      "(CVXPY) Aug 15 06:32:40 PM: \n",
      "(CVXPY) Aug 15 06:32:40 PM: Interior-point solution summary\n",
      "(CVXPY) Aug 15 06:32:40 PM:   Problem status  : PRIMAL_AND_DUAL_FEASIBLE\n",
      "(CVXPY) Aug 15 06:32:40 PM:   Solution status : OPTIMAL\n",
      "(CVXPY) Aug 15 06:32:40 PM:   Primal.  obj: -1.6329793237e+00   nrm: 2e+01    Viol.  con: 4e-08    var: 5e-08    barvar: 0e+00    cones: 0e+00  \n",
      "(CVXPY) Aug 15 06:32:40 PM:   Dual.    obj: -1.6329793078e+00   nrm: 7e+01    Viol.  con: 0e+00    var: 1e-08    barvar: 9e-07    cones: 0e+00  \n",
      "-------------------------------------------------------------------------------\n",
      "                                    Summary                                    \n",
      "-------------------------------------------------------------------------------\n",
      "(CVXPY) Aug 15 06:32:40 PM: Problem status: optimal\n",
      "(CVXPY) Aug 15 06:32:40 PM: Optimal value: 1.633e+00\n",
      "(CVXPY) Aug 15 06:32:40 PM: Compilation took 2.569e-01 seconds\n",
      "(CVXPY) Aug 15 06:32:40 PM: Solver (including time spent in interface) took 2.443e-01 seconds\n"
     ]
    },
    {
     "name": "stdout",
     "output_type": "stream",
     "text": [
      "First time: Optimal value: 1.6329791893816545\n"
     ]
    }
   ],
   "source": [
    "print('First time: Optimal value:', problem.solve(verbose=True))"
   ]
  },
  {
   "cell_type": "code",
   "execution_count": 17,
   "id": "d0160462",
   "metadata": {},
   "outputs": [
    {
     "name": "stdout",
     "output_type": "stream",
     "text": [
      "[9.99999924e-01 9.99999079e-01 9.99999589e-01 9.99999417e-01\n",
      " 1.70981939e-06 3.86236151e-07 2.59565296e-07 1.97150417e-07]\n",
      "[9.99999885e-01 9.99999411e-01 9.99998597e-01 8.89583969e-01\n",
      " 1.01540520e-05 9.99998820e-01 9.99999509e-01 9.99999703e-01]\n",
      "[9.99999698e-01 5.87347912e-01 6.02771822e-07 5.44203150e-07\n",
      " 6.66042025e-07 9.78316894e-07 5.23059498e-01 9.99998975e-01]\n",
      "[9.99999842e-01 9.99998736e-01 9.99998391e-01 8.89583712e-01\n",
      " 9.80883811e-07 2.08605635e-07 1.49755242e-07 1.18410512e-07]\n",
      "[9.99999661e-01 5.87347533e-01 4.51444686e-07 3.65715293e-07\n",
      " 3.22619058e-07 1.79805181e-07 1.31563200e-07 1.04345416e-07]\n",
      "[9.99999646e-01 5.87347737e-01 4.16860118e-07 3.29668129e-07\n",
      " 4.28916827e-07 7.80781775e-07 5.23059344e-01 9.99998863e-01]\n"
     ]
    }
   ],
   "source": [
    "print(y[0].value)\n",
    "print(y[1].value)\n",
    "print(y[2].value)\n",
    "print(cov_y[0].value)\n",
    "print(cov_y[1].value)\n",
    "print(cov_y[2].value)"
   ]
  },
  {
   "cell_type": "markdown",
   "id": "9e70798e",
   "metadata": {},
   "source": [
    "## Result reader"
   ]
  },
  {
   "cell_type": "code",
   "execution_count": 18,
   "id": "1ddd9723",
   "metadata": {
    "scrolled": true
   },
   "outputs": [
    {
     "name": "stdout",
     "output_type": "stream",
     "text": [
      "CA: [1, 1, 1, 1, 0, 0, 0, 0]\n",
      "CB: [1, 1, 1, 0.8895839685893835, 0, 1, 1, 1]\n",
      "CC: [1, 0.5873479124974504, 0, 0, 0, 0, 0.5230594984957986, 1]\n",
      "cost: 99.99994827749579\n",
      "[1, 1, 1, 0.8895837123862989, 0, 0, 0, 0]\n",
      "[1, 0.5873475333485287, 0, 0, 0, 0, 0, 0]\n",
      "[1, 0.58734773732644, 0, 0, 0, 0, 0.5230593442205211, 1]\n"
     ]
    }
   ],
   "source": [
    "time_list = [0.125, 0.25, 0.375, 0.5, 0.625, 0.75, 0.875, 1]\n",
    "\n",
    "def result(li1, li2, li3, verbose=True):\n",
    "    \n",
    "  \n",
    "    rep1 = []\n",
    "    \n",
    "    for i, res in enumerate(li1):\n",
    "        if res >= 0.99:\n",
    "            #print(str(time_list[i]) + ': yes')\n",
    "            rep1.append(1)            \n",
    "        elif res <= 0.01:\n",
    "            #print(str(time_list[i]) + ': no')\n",
    "            rep1.append(0)\n",
    "        else: \n",
    "            #print(str(time_list[i]) + ': '+str(res))\n",
    "            rep1.append(res)\n",
    "\n",
    "    \n",
    "    rep2 = []\n",
    "    \n",
    "    for i, res in enumerate(li2):\n",
    "        if res >= 0.99:\n",
    "            #print(str(time_list[i]) + ': yes')\n",
    "            rep2.append(1)        \n",
    "        elif res <= 0.01:\n",
    "            #print(str(time_list[i]) + ': no')\n",
    "            rep2.append(0)\n",
    "        else: \n",
    "            #print(str(time_list[i]) + ': '+str(res))\n",
    "            rep2.append(res)\n",
    "            \n",
    "    \n",
    "    rep3 = []\n",
    "    \n",
    "    for i, res in enumerate(li3):\n",
    "        if res >= 0.99:\n",
    "            #print(str(time_list[i]) + ': yes')\n",
    "            rep3.append(1)\n",
    "        elif res <= 0.01:\n",
    "            #print(str(time_list[i]) + ': no')\n",
    "            rep3.append(0)\n",
    "        else: \n",
    "            #print(str(time_list[i]) + ': '+str(res))\n",
    "            rep3.append(res)\n",
    "            \n",
    "            \n",
    "    if verbose:\n",
    "        print('CA:', rep1)\n",
    "        print('CB:', rep2)\n",
    "        print('CC:', rep3)\n",
    "            \n",
    "    return rep1, rep2, rep3\n",
    "\n",
    "yaa, ybb, ycc = result(y[0].value, y[1].value, y[2].value)\n",
    "yab1, yac1, ybc1 = result(cov_y[0].value, cov_y[1].value, cov_y[2].value, verbose=False)\n",
    "\n",
    "def check(ya, yb, yc, yab, yac, ybc):\n",
    "    \n",
    "    for i in range(8):\n",
    "        \n",
    "        if yab[i] != min(ya[i], yb[i]):\n",
    "            print('constraint violated: yab', i)\n",
    "            \n",
    "        if yac[i] != min(ya[i], yc[i]):\n",
    "            print('constraint violated: yac', i)\n",
    "            \n",
    "        if ybc[i] != min(yc[i], yb[i]):\n",
    "            print('constraint violated: ybc', i)\n",
    "\n",
    "\n",
    "    \n",
    "def estimate_cost(li1, li2, li3):\n",
    "    print('cost:', sum(li1)*10 + sum(li2)*6 + sum(li3)*6)\n",
    "    \n",
    "estimate_cost(yaa, ybb, ycc)\n",
    "#check(yaa, ybb, ycc, yab1, yac1, ybc1)\n",
    "print(yab1)\n",
    "print(yac1)\n",
    "print(ybc1)"
   ]
  },
  {
   "cell_type": "code",
   "execution_count": 19,
   "id": "95a539d2",
   "metadata": {},
   "outputs": [
    {
     "ename": "NameError",
     "evalue": "name 'compute' is not defined",
     "output_type": "error",
     "traceback": [
      "\u001b[0;31m---------------------------------------------------------------------------\u001b[0m",
      "\u001b[0;31mNameError\u001b[0m                                 Traceback (most recent call last)",
      "\u001b[0;32m/tmp/ipykernel_532305/648291403.py\u001b[0m in \u001b[0;36m<cell line: 1>\u001b[0;34m()\u001b[0m\n\u001b[0;32m----> 1\u001b[0;31m \u001b[0mfim\u001b[0m \u001b[0;34m=\u001b[0m \u001b[0mcompute\u001b[0m\u001b[0;34m(\u001b[0m\u001b[0myaa\u001b[0m\u001b[0;34m,\u001b[0m \u001b[0mybb\u001b[0m\u001b[0;34m,\u001b[0m \u001b[0mycc\u001b[0m\u001b[0;34m,\u001b[0m \u001b[0myab1\u001b[0m\u001b[0;34m,\u001b[0m \u001b[0myac1\u001b[0m\u001b[0;34m,\u001b[0m \u001b[0mybc1\u001b[0m\u001b[0;34m)\u001b[0m\u001b[0;34m\u001b[0m\u001b[0;34m\u001b[0m\u001b[0m\n\u001b[0m\u001b[1;32m      2\u001b[0m \u001b[0;34m\u001b[0m\u001b[0m\n\u001b[1;32m      3\u001b[0m \u001b[0mprint\u001b[0m\u001b[0;34m(\u001b[0m\u001b[0mfim\u001b[0m\u001b[0;34m)\u001b[0m\u001b[0;34m\u001b[0m\u001b[0;34m\u001b[0m\u001b[0m\n\u001b[1;32m      4\u001b[0m \u001b[0mprint\u001b[0m\u001b[0;34m(\u001b[0m\u001b[0;34m'trace:'\u001b[0m\u001b[0;34m,\u001b[0m \u001b[0mnp\u001b[0m\u001b[0;34m.\u001b[0m\u001b[0mtrace\u001b[0m\u001b[0;34m(\u001b[0m\u001b[0mfim\u001b[0m\u001b[0;34m)\u001b[0m\u001b[0;34m)\u001b[0m\u001b[0;34m\u001b[0m\u001b[0;34m\u001b[0m\u001b[0m\n\u001b[1;32m      5\u001b[0m \u001b[0mprint\u001b[0m\u001b[0;34m(\u001b[0m\u001b[0;34m'det:'\u001b[0m\u001b[0;34m,\u001b[0m \u001b[0mnp\u001b[0m\u001b[0;34m.\u001b[0m\u001b[0mlinalg\u001b[0m\u001b[0;34m.\u001b[0m\u001b[0mdet\u001b[0m\u001b[0;34m(\u001b[0m\u001b[0mfim\u001b[0m\u001b[0;34m)\u001b[0m\u001b[0;34m)\u001b[0m\u001b[0;34m\u001b[0m\u001b[0;34m\u001b[0m\u001b[0m\n",
      "\u001b[0;31mNameError\u001b[0m: name 'compute' is not defined"
     ]
    }
   ],
   "source": [
    "fim = compute(yaa, ybb, ycc, yab1, yac1, ybc1)\n",
    "    \n",
    "print(fim)\n",
    "print('trace:', np.trace(fim))\n",
    "print('det:', np.linalg.det(fim))\n",
    "print('logdet:', np.log(np.linalg.det(fim)))\n",
    "print('eig:', np.linalg.eigvals(fim))"
   ]
  },
  {
   "cell_type": "markdown",
   "id": "39faf6a3",
   "metadata": {},
   "source": [
    "## round "
   ]
  },
  {
   "cell_type": "code",
   "execution_count": null,
   "id": "7c615bd2",
   "metadata": {},
   "outputs": [],
   "source": [
    "def compute(ya, yb, yc, yab, yac, ybc):\n",
    "\n",
    "    #print(FIM_collection[33])\n",
    "\n",
    "    fim = sum(ya1*FIM_collection[idx] for idx, ya1 in enumerate(ya)) \\\n",
    "        + sum(yb1*FIM_collection[idx+24] for idx, yb1 in enumerate(yb)) \\\n",
    "        + sum(yc1*FIM_collection[idx+48] for idx, yc1 in enumerate(yc)) \\\n",
    "        + sum(yab1*FIM_collection[idx+8] for idx, yab1 in enumerate(yab)) \\\n",
    "        + sum(yab1*FIM_collection[idx+32] for idx, yab1 in enumerate(yab)) \\\n",
    "        + sum(yac1*FIM_collection[idx+16] for idx, yac1 in enumerate(yac)) \\\n",
    "        + sum(yac1*FIM_collection[idx+56] for idx, yac1 in enumerate(yac)) \\\n",
    "        + sum(ybc1*FIM_collection[idx+40] for idx, ybc1 in enumerate(ybc)) \\\n",
    "        + sum(ybc1*FIM_collection[idx+64] for idx, ybc1 in enumerate(ybc))\n",
    "\n",
    "    return fim\n",
    "\n"
   ]
  },
  {
   "cell_type": "code",
   "execution_count": null,
   "id": "c62f496f",
   "metadata": {},
   "outputs": [],
   "source": [
    "def generate_cov(la1, lb2, lc3):\n",
    "    \n",
    "    lab = []\n",
    "    \n",
    "    lac = []\n",
    "    \n",
    "    lbc = []\n",
    "    \n",
    "    for i in range(8):\n",
    "        lab.append(min(la1[i], lb2[i]))\n",
    "        lac.append(min(la1[i], lc3[i]))\n",
    "        lbc.append(min(lb2[i], lc3[i]))\n",
    "        \n",
    "    return lab, lac, lbc"
   ]
  },
  {
   "cell_type": "code",
   "execution_count": null,
   "id": "e154865c",
   "metadata": {},
   "outputs": [],
   "source": [
    "ya0 = [1, 1, 1, 1, 1, 1, 1, 1]\n",
    "yb0 = [1, 1, 1, 1, 1, 1, 1, 1]\n",
    "yc0 = [1, 1, 1, 1, 1, 1, 1, 1]\n",
    "\n",
    "estimate_cost(ya0, yb0, yc0)\n",
    "print(sum([sum(ya0), sum(yb0), sum(yc0)]))\n",
    "\n",
    "yab0, yac0, ybc0 = generate_cov(ya0, yb0, yc0)\n",
    "print('yab:', yab0)\n",
    "print('yac:', yac0)\n",
    "print('ybc:', ybc0)"
   ]
  },
  {
   "cell_type": "code",
   "execution_count": null,
   "id": "3fc44a5a",
   "metadata": {},
   "outputs": [],
   "source": [
    "fim = compute(ya0, yb0, yc0, yab0, yac0, ybc0)\n",
    "    \n",
    "print(fim)\n",
    "print('trace:', np.trace(fim))\n",
    "print('det:', np.linalg.det(fim))\n",
    "print('logdet:', np.log(np.linalg.det(fim)))\n",
    "print('eig:', np.linalg.eigvals(fim))"
   ]
  },
  {
   "cell_type": "markdown",
   "id": "84c79f62",
   "metadata": {},
   "source": [
    "## figure "
   ]
  },
  {
   "cell_type": "code",
   "execution_count": null,
   "id": "c5a46c93",
   "metadata": {},
   "outputs": [],
   "source": [
    "import matplotlib.pyplot as plt \n",
    "import numpy as np"
   ]
  },
  {
   "cell_type": "code",
   "execution_count": null,
   "id": "b991ff0d",
   "metadata": {},
   "outputs": [],
   "source": [
    "budget = np.linspace(50, 180, 14)\n",
    "print(budget)\n",
    "\n",
    "no_m = [7,8,9,11,12,14,15,17,18,20,21,22,23,24]\n",
    "\n",
    "ln_det = [-0.46, 0.1255, 0.452, 0.9326, 1.2987,\n",
    "         1.6275, 1.7816, 2.0136, 2.2191, 2.3738, \n",
    "         2.4847, 2.5439, 2.6023, 2.6324] \n"
   ]
  },
  {
   "cell_type": "code",
   "execution_count": null,
   "id": "ffd3cea2",
   "metadata": {},
   "outputs": [],
   "source": [
    "fig, ax = plt.subplots()\n",
    "\n",
    "line1, =ax.plot(budget, ln_det, marker='o', color=\"red\", label='D-optimality')\n",
    "ax.set_xlabel('Budget ($)', fontsize=18)\n",
    "ax.set_ylabel('log$_e$(D-optimality)', fontsize=18)\n",
    "plt.xticks(fontsize=16)\n",
    "ax.tick_params(axis='y', labelsize=14)\n",
    "\n",
    "ax2 = ax.twinx()\n",
    "line2, =ax2.plot(budget, no_m, marker='^', color=\"blue\", label='No. of measurements')\n",
    "ax2.set_ylabel('No. of measurements', fontsize=18)\n",
    "ax2.tick_params(axis='y', labelsize=14)\n",
    "\n",
    "#ax.legend(handles=[line1, line2])\n",
    "plt.show()\n",
    "\n",
    "fig.savefig('twinx.jpg',\n",
    "            format='jpeg',\n",
    "            dpi=200,\n",
    "            bbox_inches='tight')"
   ]
  },
  {
   "cell_type": "markdown",
   "id": "09aa2d4d",
   "metadata": {},
   "source": [
    "### tests"
   ]
  },
  {
   "cell_type": "code",
   "execution_count": null,
   "id": "bef681a4",
   "metadata": {},
   "outputs": [],
   "source": [
    "\n",
    "test = [[1,0,0,5,0,0,9,0,0],\n",
    "        [0,1,0,0,5,0,0,9,0],\n",
    "        [0,0,1,0,0,5,0,0,9],\n",
    "        [5,0,0,4,0,0,6,0,0],\n",
    "        [0,5,0,0,4,0,0,6,0],\n",
    "        [0,0,5,0,0,4,0,0,6],\n",
    "        [9,0,0,6,0,0,4,0,0],\n",
    "        [0,9,0,0,6,0,0,4,0],\n",
    "        [0,0,9,0,0,6,0,0,4]]\n",
    "\n",
    "test1 = np.asarray(test)"
   ]
  },
  {
   "cell_type": "code",
   "execution_count": null,
   "id": "cf413551",
   "metadata": {},
   "outputs": [],
   "source": [
    "print(np.linalg.inv(test1))"
   ]
  }
 ],
 "metadata": {
  "kernelspec": {
   "display_name": "Python 3 (ipykernel)",
   "language": "python",
   "name": "python3"
  },
  "language_info": {
   "codemirror_mode": {
    "name": "ipython",
    "version": 3
   },
   "file_extension": ".py",
   "mimetype": "text/x-python",
   "name": "python",
   "nbconvert_exporter": "python",
   "pygments_lexer": "ipython3",
   "version": "3.10.4"
  }
 },
 "nbformat": 4,
 "nbformat_minor": 5
}
