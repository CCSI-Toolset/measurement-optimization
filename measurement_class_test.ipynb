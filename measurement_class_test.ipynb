{
 "cells": [
  {
   "cell_type": "code",
   "execution_count": 1,
   "id": "9f0457a1",
   "metadata": {},
   "outputs": [],
   "source": [
    "import matplotlib.pyplot as plt\n",
    "from pyomo.environ import *\n",
    "from pyomo.dae import *\n",
    "\n",
    "import numpy as np\n",
    "#from scipy.interpolate import interp2d\n",
    "import pandas as pd \n",
    "from itertools import permutations, product, combinations\n",
    "import idaes\n",
    "from itertools import permutations, product\n",
    "\n",
    "from fim_doe import *\n",
    "\n",
    "import pyomo.common.unittest as unittest"
   ]
  },
  {
   "cell_type": "code",
   "execution_count": 2,
   "id": "ae7e4fa1",
   "metadata": {},
   "outputs": [
    {
     "name": "stdout",
     "output_type": "stream",
     "text": [
      "(CVXPY) Aug 28 10:04:00 PM: Encountered unexpected exception importing solver GUROBI:\n",
      "ImportError('libgurobi95.so: cannot open shared object file: No such file or directory')\n",
      "(CVXPY) Aug 28 10:04:00 PM: Encountered unexpected exception importing solver GUROBI:\n",
      "ImportError('libgurobi95.so: cannot open shared object file: No such file or directory')\n"
     ]
    }
   ],
   "source": [
    "import cvxpy as cp\n",
    "\n",
    "from reactor_kinetics import *"
   ]
  },
  {
   "cell_type": "markdown",
   "id": "ad112446",
   "metadata": {},
   "source": [
    "## FIM reader"
   ]
  },
  {
   "cell_type": "code",
   "execution_count": 3,
   "id": "1a26e58e",
   "metadata": {},
   "outputs": [],
   "source": [
    "def dataframe_return(data):\n",
    "    fim1 = []\n",
    "    fim1.append(data['P1'].to_list())\n",
    "    fim1.append(data['P2'].to_list())\n",
    "    fim1.append(data['P3'].to_list())\n",
    "    fim1.append(data['P4'].to_list())\n",
    "    \n",
    "    return fim1 "
   ]
  },
  {
   "cell_type": "code",
   "execution_count": 4,
   "id": "0af97d9d",
   "metadata": {},
   "outputs": [
    {
     "name": "stdout",
     "output_type": "stream",
     "text": [
      "(27, 4, 4)\n",
      "0.0\n"
     ]
    }
   ],
   "source": [
    "t_measure = [0, 0.125, 0.25, 0.375, 0.5, 0.625, 0.75, 0.875, 1]\n",
    "\n",
    "#t_measure = [0.125]\n",
    "\n",
    "\n",
    "\n",
    "def FIM_reader(rank='onebyone'):\n",
    "    \n",
    "    FIM_set = []\n",
    "    \n",
    "    if rank=='onebyone':\n",
    "        for idx, i in enumerate(t_measure):\n",
    "            fim1_data = pd.read_csv('./kinetics_fim/CA_' + str(idx)+'.csv')\n",
    "            \n",
    "            fim1 = dataframe_return(fim1_data)\n",
    "            FIM_set.append(fim1)\n",
    "            \n",
    "            fim2_data = pd.read_csv('./kinetics_fim/CB_' + str(idx)+'.csv')\n",
    "            \n",
    "            fim2 = dataframe_return(fim2_data)\n",
    "            FIM_set.append(fim2)\n",
    "            \n",
    "            fim3_data = pd.read_csv('./kinetics_fim/CC_' + str(idx)+'.csv')\n",
    "            \n",
    "            fim3 = dataframe_return(fim3_data)\n",
    "            FIM_set.append(fim3)\n",
    "            \n",
    "    elif rank=='onealong':\n",
    "        for idx, i in enumerate(t_measure):\n",
    "            fim1_data = pd.read_csv('./kinetics_fim/CA_' + str(idx)+'.csv')\n",
    "            \n",
    "            fim1 = dataframe_return(fim1_data)\n",
    "            FIM_set.append(fim1)\n",
    "            \n",
    "        for idx, i in enumerate(t_measure):\n",
    "            fim2_data = pd.read_csv('./kinetics_fim/CB_' + str(idx)+'.csv')\n",
    "            \n",
    "            fim2 = dataframe_return(fim2_data)\n",
    "            FIM_set.append(fim2)\n",
    "            \n",
    "        for idx, i in enumerate(t_measure):\n",
    "            fim3_data = pd.read_csv('./kinetics_fim/CC_' + str(idx)+'.csv')\n",
    "            \n",
    "            fim3 = dataframe_return(fim3_data)\n",
    "            FIM_set.append(fim3)\n",
    "            \n",
    "            \n",
    "    return FIM_set\n",
    "        \n",
    "FIM_set = FIM_reader(rank='onealong')\n",
    "print(np.shape(FIM_set))\n",
    "print(FIM_set[0][1][1])"
   ]
  },
  {
   "cell_type": "code",
   "execution_count": 5,
   "id": "b6967fd3",
   "metadata": {},
   "outputs": [
    {
     "name": "stdout",
     "output_type": "stream",
     "text": [
      "[[  17.66733763   18.74907479  -30.09833141  -76.66335672]\n",
      " [  18.74907479   30.78667315  -30.04626402 -124.88329795]\n",
      " [ -30.09833141  -30.04626402   52.08798793  123.38481043]\n",
      " [ -76.66335672 -124.88329795  123.38481043  514.04755797]]\n",
      "614.5895566797835\n",
      "663.4981277559746\n",
      "[5.87563028e+02 2.64907667e+01 9.71982177e-02 4.38563426e-01]\n"
     ]
    }
   ],
   "source": [
    "TotalF = np.zeros((4,4))\n",
    "for i in range(4):\n",
    "    for j in range(4):\n",
    "        TotalF[i,j] = sum(FIM_set[k][i][j] for k in range(27))\n",
    "        \n",
    "print(TotalF)\n",
    "\n",
    "print(np.trace(TotalF))\n",
    "print(np.linalg.det(TotalF))\n",
    "print(np.linalg.eigvals(TotalF))"
   ]
  },
  {
   "cell_type": "markdown",
   "id": "e259a939",
   "metadata": {},
   "source": [
    "### Jacobian reader"
   ]
  },
  {
   "cell_type": "code",
   "execution_count": 6,
   "id": "74bf810c",
   "metadata": {},
   "outputs": [
    {
     "name": "stdout",
     "output_type": "stream",
     "text": [
      "[[0.0, 0.0, 0.0, 0.0], [-1.346695417017152, -1.665334536937735e-13, 2.223379846162832, -1.6653345369377348e-13], [-1.039297035228287, -2.220446049250313e-13, 2.004516103508741, -1.6653345369377348e-13], [-0.7733130998612002, -1.3877787807814457e-13, 1.63790005416059, -1.1102230246251565e-13], [-0.560819154400885, -1.249000902703301e-13, 1.2648388615049688, -6.938893903907228e-14], [-0.3990444064009696, -4.8572257327350605e-14, 0.9415433202331, -2.081668171172168e-14], [-0.2797955547643657, -5.5511151231257833e-14, 0.6830391077798161, -2.081668171172168e-14], [-0.1939053002679436, -3.1225022567582534e-14, 0.486126099753268, -3.4694469519536138e-15], [-0.1331100105811684, -1.3877787807814455e-14, 0.3409191457896289, 1.040834085586084e-14], [0.0, 0.0, 0.0, 0.0], [0.0199157340269318, -1.3752037136890438, -0.0468172929494192, 4.379651748244728], [-0.2728277373608145, -1.38740313152641, 0.1675143115261734, 4.866408693837143], [-0.4952849992631014, -1.4015562993399122, 0.4972483613988609, 5.32136224081181], [-0.6436372848857008, -1.4096897316501211, 0.7975217042995864, 5.701010909036962], [-0.7284027976047769, -1.4082705406104346, 1.018761917449651, 5.988156232832331], [-0.764065430574612, -1.3963174644404663, 1.1553250734815943, 6.180558543165904], [-0.7644777115803912, -1.3742506806110333, 1.219268971831444, 6.28404415612449], [-0.7411661969829453, -1.34319967277996, 1.2276367843273572, 6.308370991028989], [0.0, 0.0, 0.0, 0.0], [1.3267796829901088, 1.3752037136887107, -2.1765625532130795, -4.379651748244395], [1.3121247725891294, 1.3874031315266322, -2.1720304150352194, -4.866408693837476], [1.268598099124052, 1.4015562993403563, -2.135148415559618, -5.3213622408117], [1.204456439286794, 1.409689731650232, -2.0623605658043327, -5.701010909037407], [1.1274472040057049, 1.4082705406104346, -1.9603052376824248, -5.988156232832108], [1.0438609853389291, 1.3963174644409104, -1.8383641812615976, -6.180558543166015], [0.9583830118478076, 1.3742506806111443, -1.7053950715846256, -6.284044156124269], [0.8742762075641951, 1.343199672780182, -1.5685559301172878, -6.308370991028767]]\n"
     ]
    }
   ],
   "source": [
    "jaco_info = pd.read_csv('./kinetics_fim/Q.csv')\n",
    "\n",
    "#print(jaco_info)\n",
    "\n",
    "\n",
    "Q_stack = []\n",
    "\n",
    "for i in range(27):\n",
    "    \n",
    "    Q_res = [jaco_info['A1'].iloc[i], jaco_info['A2'].iloc[i], jaco_info['E1'].iloc[i], jaco_info['E2'].iloc[i]]\n",
    "    \n",
    "    \n",
    "    Q_stack.append(Q_res)\n",
    "    \n",
    "print(Q_stack)"
   ]
  },
  {
   "cell_type": "markdown",
   "id": "1d1d8583",
   "metadata": {},
   "source": [
    "### FIM verificator"
   ]
  },
  {
   "cell_type": "markdown",
   "id": "37436b29",
   "metadata": {},
   "source": [
    "## Covariance without the initial measurement"
   ]
  },
  {
   "cell_type": "code",
   "execution_count": 7,
   "id": "235369ff",
   "metadata": {},
   "outputs": [
    {
     "name": "stdout",
     "output_type": "stream",
     "text": [
      "[[-1.346695417017152, -1.665334536937735e-13, 2.223379846162832, -1.6653345369377348e-13], [-1.039297035228287, -2.220446049250313e-13, 2.004516103508741, -1.6653345369377348e-13], [-0.7733130998612002, -1.3877787807814457e-13, 1.63790005416059, -1.1102230246251565e-13], [-0.560819154400885, -1.249000902703301e-13, 1.2648388615049688, -6.938893903907228e-14], [-0.3990444064009696, -4.8572257327350605e-14, 0.9415433202331, -2.081668171172168e-14], [-0.2797955547643657, -5.5511151231257833e-14, 0.6830391077798161, -2.081668171172168e-14], [-0.1939053002679436, -3.1225022567582534e-14, 0.486126099753268, -3.4694469519536138e-15], [-0.1331100105811684, -1.3877787807814455e-14, 0.3409191457896289, 1.040834085586084e-14], [0.0199157340269318, -1.3752037136890438, -0.0468172929494192, 4.379651748244728], [-0.2728277373608145, -1.38740313152641, 0.1675143115261734, 4.866408693837143], [-0.4952849992631014, -1.4015562993399122, 0.4972483613988609, 5.32136224081181], [-0.6436372848857008, -1.4096897316501211, 0.7975217042995864, 5.701010909036962], [-0.7284027976047769, -1.4082705406104346, 1.018761917449651, 5.988156232832331], [-0.764065430574612, -1.3963174644404663, 1.1553250734815943, 6.180558543165904], [-0.7644777115803912, -1.3742506806110333, 1.219268971831444, 6.28404415612449], [-0.7411661969829453, -1.34319967277996, 1.2276367843273572, 6.308370991028989], [1.3267796829901088, 1.3752037136887107, -2.1765625532130795, -4.379651748244395], [1.3121247725891294, 1.3874031315266322, -2.1720304150352194, -4.866408693837476], [1.268598099124052, 1.4015562993403563, -2.135148415559618, -5.3213622408117], [1.204456439286794, 1.409689731650232, -2.0623605658043327, -5.701010909037407], [1.1274472040057049, 1.4082705406104346, -1.9603052376824248, -5.988156232832108], [1.0438609853389291, 1.3963174644409104, -1.8383641812615976, -6.180558543166015], [0.9583830118478076, 1.3742506806111443, -1.7053950715846256, -6.284044156124269], [0.8742762075641951, 1.343199672780182, -1.5685559301172878, -6.308370991028767]]\n",
      "(24, 4)\n"
     ]
    }
   ],
   "source": [
    "jaco_info = pd.read_csv('./kinetics_fim/Q.csv')\n",
    "\n",
    "#print(jaco_info)\n",
    "\n",
    "\n",
    "Q_stack = []\n",
    "\n",
    "for i in range(1,9):\n",
    "    \n",
    "    Q_res = [jaco_info['A1'].iloc[i], jaco_info['A2'].iloc[i], jaco_info['E1'].iloc[i], jaco_info['E2'].iloc[i]]\n",
    "    \n",
    "    Q_stack.append(Q_res)\n",
    "    \n",
    "for i in range(10,18):\n",
    "    \n",
    "    Q_res = [jaco_info['A1'].iloc[i], jaco_info['A2'].iloc[i], jaco_info['E1'].iloc[i], jaco_info['E2'].iloc[i]]\n",
    "    \n",
    "    Q_stack.append(Q_res)\n",
    "    \n",
    "for i in range(19,27):\n",
    "    \n",
    "    Q_res = [jaco_info['A1'].iloc[i], jaco_info['A2'].iloc[i], jaco_info['E1'].iloc[i], jaco_info['E2'].iloc[i]]\n",
    "    \n",
    "    Q_stack.append(Q_res)\n",
    "    \n",
    "print(Q_stack)\n",
    "    \n",
    "print(np.shape(Q_stack))"
   ]
  },
  {
   "cell_type": "code",
   "execution_count": 8,
   "id": "27956dd2",
   "metadata": {},
   "outputs": [
    {
     "name": "stdout",
     "output_type": "stream",
     "text": [
      "[0.99566752 8.06331241 3.94102007 8.06331241 8.06331241 3.94102007\n",
      " 3.94102007 0.99566752 0.99566752 0.99566752 0.99566752 8.06331241\n",
      " 8.06331241 0.99566752 8.06331241 8.06331241 8.06331241 0.99566752\n",
      " 0.99566752 3.94102007 3.94102007 3.94102007 3.94102007 3.94102007]\n"
     ]
    }
   ],
   "source": [
    "# variance \n",
    "\n",
    "variance = [1, # var_CA^2\n",
    "            4, # var_CB^2\n",
    "            8  # var_CC^2\n",
    "           ]\n",
    "covariance = [ 0.1, # cov_CA_CB | ti, \n",
    "               0.1, # cov_CA_CC | ti, \n",
    "               0.5 # cov_CB_CC | ti\n",
    "]\n",
    "'''\n",
    "variance = [1,1,1]\n",
    "covariance=[0,0,0]\n",
    "'''\n",
    "# construct Sigma\n",
    "sigma = np.zeros((24, 24))\n",
    "\n",
    "for i in range(24):\n",
    "    #for j in range(27):\n",
    "        \n",
    "        #if i==j:\n",
    "    if i<8:\n",
    "        sigma[i,i]=variance[0]\n",
    "        sigma[i,i+8]=covariance[0]\n",
    "        sigma[i,i+16]=covariance[1]\n",
    "    elif 8<= i < 16:\n",
    "        sigma[i,i]=variance[1]\n",
    "        sigma[i,i-8]=covariance[0]\n",
    "        sigma[i,i+8]=covariance[2]\n",
    "    elif i>=16:\n",
    "        sigma[i,i]=variance[2]\n",
    "        sigma[i,i-16]=covariance[1]\n",
    "        sigma[i,i-8]=covariance[2]\n",
    "                \n",
    "            \n",
    "# check eigen values to make sure it's PSD \n",
    "print(np.linalg.eigvals(sigma))"
   ]
  },
  {
   "cell_type": "code",
   "execution_count": 9,
   "id": "18b7d9cc",
   "metadata": {},
   "outputs": [],
   "source": [
    "sigma_inv = np.linalg.inv(sigma)"
   ]
  },
  {
   "cell_type": "code",
   "execution_count": 10,
   "id": "9763320e",
   "metadata": {
    "scrolled": true
   },
   "outputs": [
    {
     "name": "stdout",
     "output_type": "stream",
     "text": [
      "(24, 4)\n",
      "(24, 24)\n"
     ]
    }
   ],
   "source": [
    "Q_matrice = np.asarray(Q_stack)\n",
    "sigma_inv_mat = np.asarray(sigma_inv)\n",
    "\n",
    "print(np.shape(Q_matrice))\n",
    "print(np.shape(sigma_inv_mat))"
   ]
  },
  {
   "cell_type": "code",
   "execution_count": 11,
   "id": "894b718e",
   "metadata": {},
   "outputs": [
    {
     "name": "stdout",
     "output_type": "stream",
     "text": [
      "<class 'list'>\n",
      "[[1.8198936897068985, 2.2504953805640995e-13, -3.0046251741285146, 2.2504953805640992e-13], [2.2504953805640995e-13, 2.7829809436594326e-26, -3.7155439974034176e-13, 2.782980943659432e-26], [-3.004625174128514, -3.7155439974034176e-13, 4.9606042858804384, -3.715543997403417e-13], [2.2504953805640992e-13, 2.782980943659432e-26, -3.715543997403417e-13, 2.7829809436594315e-26]]\n",
      "(576, 4, 4)\n"
     ]
    }
   ],
   "source": [
    "fim_collection = []\n",
    "\n",
    "#print(fim_collection)\n",
    "\n",
    "for i in range(24):\n",
    "    for j in range(24):\n",
    "        unit = sigma_inv_mat[i,j]*np.matrix(Q_matrice[i,:]).T@np.matrix(Q_matrice[j,:])\n",
    "        \n",
    "        unit_list = [[0]*4 for i in range(4)] \n",
    "    \n",
    "        for k in range(4):\n",
    "            for l in range(4):\n",
    "                unit_list[k][l] = unit[k,l]\n",
    "        \n",
    "        fim_collection.append(unit_list)\n",
    "        \n",
    "print(type(fim_collection[0]))\n",
    "print(fim_collection[0])\n",
    "\n",
    "print(np.shape(fim_collection))"
   ]
  },
  {
   "cell_type": "code",
   "execution_count": null,
   "id": "1c2528e6",
   "metadata": {},
   "outputs": [],
   "source": [
    "print(fim_collection[575])"
   ]
  },
  {
   "cell_type": "code",
   "execution_count": null,
   "id": "f388f5a6",
   "metadata": {},
   "outputs": [],
   "source": [
    "\n",
    "\n",
    "fim = [[0,0,0,0] for i in range(4)]\n",
    "for i in range(24):\n",
    "    for j in range(24):\n",
    "        fim_unit = 1*fim_collection[i*24+j]\n",
    "        for k in range(4):\n",
    "            for l in range(4):\n",
    "                fim[k][l] += fim_unit[k][l]\n",
    "\n",
    "print(fim)"
   ]
  },
  {
   "cell_type": "code",
   "execution_count": null,
   "id": "819ca280",
   "metadata": {},
   "outputs": [],
   "source": [
    "fim = Q_matrice.T@sigma_inv_mat@Q_matrice\n",
    "print(fim)"
   ]
  },
  {
   "cell_type": "markdown",
   "id": "eccb497e",
   "metadata": {},
   "source": [
    "## With a more generalized error covariance"
   ]
  },
  {
   "cell_type": "code",
   "execution_count": 12,
   "id": "f3489153",
   "metadata": {},
   "outputs": [],
   "source": [
    "no_measure = 3\n",
    "no_t = 8\n",
    "\n",
    "def eval_fim_1(y):\n",
    "    #fim = cp.sum(Q_matrice[i].T@np.matrix([y[i,j]])@np.matrix([sigma_inv_mat[i,j]])@Q_matrice[j] for i in range(24) for j in range(24))\n",
    "    #fim = cp.sum(y[i,j]*sigma_inv_mat[i,j]*(Q_matrice[i].T@Q_matrice[j]) for i in range(24))\n",
    "    fim = Q_matrice.T@y@sigma_inv_mat@Q_matrice\n",
    "    return fim \n",
    "\n",
    "def eval_fim_2(y):\n",
    "    fim = [[0,0,0,0] for i in range(4)]\n",
    "    \n",
    "    for i in range(24):\n",
    "        for j in range(24):\n",
    "            Q_m1 = Q_matrice[i]\n",
    "            Q_m2 = Q_matrice[j]\n",
    "            #measure_matrix = np.matrix([y[i,j]])\n",
    "            #sigma = np.matrix([sigma_inv_unit[i,j]])\n",
    "            \n",
    "            #fim_unit = Q_m1.T@measure_matrix@sigma@Q_m2\n",
    "            #fim_unit = y[i,j]*sigma_inv_unit[i,j]*(Q_m1.T@Q_m2)\n",
    "            fim_unit = y[i,j]*sigma_inv_unit[i,j]*np.dot(Q_m1[:, None], Q_m2[None, :])\n",
    "        \n",
    "            fim += fim_unit\n",
    "    \n",
    "    return fim \n",
    "\n",
    "def eval_fim(y):\n",
    "    #fim = [[0,0,0,0] for _ in range(4)]\n",
    "    #for i in range(24):\n",
    "    #    for j in range(24):\n",
    "    #        fim_unit = y[i,j]*fim_collection[i*24+j]\n",
    "            #for k in range(4):\n",
    "            #    for l in range(4):\n",
    "            #fim[k][l] += fim_unit[k][l]\n",
    "            #fim += fim_unit\n",
    "    fim = sum(y[i,j]*fim_collection[i*24+j] for i in range(24) for j in range(24))\n",
    "            \n",
    "    return fim\n",
    "\n",
    "def a_opt(y):\n",
    "    fim = eval_fim(y)\n",
    "    return cp.trace(fim)\n",
    "    \n",
    "def d_opt(y):\n",
    "    fim = eval_fim(y)\n",
    "    return cp.log_det(fim)\n",
    "\n",
    "def e_opt(y):\n",
    "    fim = eval_fim(y)\n",
    "    return -cp.lambda_min(fim)"
   ]
  },
  {
   "cell_type": "code",
   "execution_count": 13,
   "id": "5da9e04e",
   "metadata": {
    "scrolled": true
   },
   "outputs": [],
   "source": [
    "cost = [10]*8 + [6]*16\n",
    "\n",
    "y_matrice = cp.Variable((24,24), nonneg=True)\n",
    "\n",
    "p_cons = [sum(y_matrice[i,i]*cost[i] for i in range(24)) <= 100]\n",
    "\n",
    "for j in range(24):\n",
    "    p_cons += [y_matrice[j,j]<=1]\n",
    "    #p_cons += [y_matrice[j,j]>=0]\n",
    "\n",
    "for k in range(24):\n",
    "    for l in range(24):\n",
    "        p_cons += [y_matrice[k,l] <= y_matrice[k,k]]\n",
    "        p_cons += [y_matrice[k,l] <= y_matrice[l,l]]\n",
    "        p_cons += [y_matrice[k,k] + y_matrice[l,l] -1 <= y_matrice[k,l]]\n",
    "        p_cons += [y_matrice.T == y_matrice]\n",
    "\n",
    "\n",
    "obj = cp.Maximize(d_opt(y_matrice))\n",
    "\n",
    "problem = cp.Problem(obj, p_cons)"
   ]
  },
  {
   "cell_type": "code",
   "execution_count": 14,
   "id": "a1ed91e5",
   "metadata": {
    "scrolled": true
   },
   "outputs": [
    {
     "name": "stdout",
     "output_type": "stream",
     "text": [
      "===============================================================================\n",
      "                                     CVXPY                                     \n",
      "                                     v1.2.1                                    \n",
      "===============================================================================\n",
      "(CVXPY) Aug 28 10:04:54 PM: Your problem has 576 variables, 2329 constraints, and 0 parameters.\n",
      "(CVXPY) Aug 28 10:04:55 PM: It is compliant with the following grammars: DCP, DQCP\n",
      "(CVXPY) Aug 28 10:04:55 PM: (If you need to solve this problem multiple times, but with different data, consider using parameters.)\n",
      "(CVXPY) Aug 28 10:04:55 PM: CVXPY will first compile your problem; then, it will invoke a numerical solver to obtain a solution.\n",
      "-------------------------------------------------------------------------------\n",
      "                                  Compilation                                  \n",
      "-------------------------------------------------------------------------------\n",
      "(CVXPY) Aug 28 10:04:55 PM: Compiling problem (target solver=MOSEK).\n",
      "(CVXPY) Aug 28 10:04:55 PM: Reduction chain: FlipObjective -> Dcp2Cone -> CvxAttr2Constr -> ConeMatrixStuffing -> MOSEK\n",
      "(CVXPY) Aug 28 10:04:55 PM: Applying reduction FlipObjective\n",
      "(CVXPY) Aug 28 10:04:55 PM: Applying reduction Dcp2Cone\n",
      "(CVXPY) Aug 28 10:04:55 PM: Applying reduction CvxAttr2Constr\n",
      "(CVXPY) Aug 28 10:04:56 PM: Applying reduction ConeMatrixStuffing\n",
      "(CVXPY) Aug 28 10:05:01 PM: Applying reduction MOSEK\n",
      "(CVXPY) Aug 28 10:05:02 PM: Finished problem compilation (took 7.121e+00 seconds).\n",
      "-------------------------------------------------------------------------------\n",
      "                                Numerical solver                               \n",
      "-------------------------------------------------------------------------------\n",
      "(CVXPY) Aug 28 10:05:02 PM: Invoking solver MOSEK  to obtain a solution.\n",
      "\n",
      "\n",
      "(CVXPY) Aug 28 10:05:02 PM: Problem\n",
      "(CVXPY) Aug 28 10:05:02 PM:   Name                   :                 \n",
      "(CVXPY) Aug 28 10:05:02 PM:   Objective sense        : max             \n",
      "(CVXPY) Aug 28 10:05:02 PM:   Type                   : CONIC (conic optimization problem)\n",
      "(CVXPY) Aug 28 10:05:02 PM:   Constraints            : 590             \n",
      "(CVXPY) Aug 28 10:05:02 PM:   Cones                  : 4               \n",
      "(CVXPY) Aug 28 10:05:02 PM:   Scalar variables       : 334117          \n",
      "(CVXPY) Aug 28 10:05:02 PM:   Matrix variables       : 1               \n",
      "(CVXPY) Aug 28 10:05:02 PM:   Integer variables      : 0               \n",
      "(CVXPY) Aug 28 10:05:02 PM: \n",
      "(CVXPY) Aug 28 10:05:02 PM: Optimizer started.\n",
      "(CVXPY) Aug 28 10:05:02 PM: Presolve started.\n",
      "(CVXPY) Aug 28 10:05:02 PM: Linear dependency checker started.\n",
      "(CVXPY) Aug 28 10:05:02 PM: Linear dependency checker terminated.\n",
      "(CVXPY) Aug 28 10:05:02 PM: Eliminator started.\n",
      "(CVXPY) Aug 28 10:05:02 PM: Freed constraints in eliminator : 0\n",
      "(CVXPY) Aug 28 10:05:02 PM: Eliminator terminated.\n",
      "(CVXPY) Aug 28 10:05:04 PM: Eliminator started.\n",
      "(CVXPY) Aug 28 10:05:04 PM: Freed constraints in eliminator : 0\n",
      "(CVXPY) Aug 28 10:05:04 PM: Eliminator terminated.\n",
      "(CVXPY) Aug 28 10:05:04 PM: Eliminator - tries                  : 2                 time                   : 0.00            \n",
      "(CVXPY) Aug 28 10:05:04 PM: Lin. dep.  - tries                  : 1                 time                   : 0.01            \n",
      "(CVXPY) Aug 28 10:05:04 PM: Lin. dep.  - number                 : 0               \n",
      "(CVXPY) Aug 28 10:05:04 PM: Presolve terminated. Time: 1.98    \n",
      "(CVXPY) Aug 28 10:05:04 PM: Problem\n",
      "(CVXPY) Aug 28 10:05:04 PM:   Name                   :                 \n",
      "(CVXPY) Aug 28 10:05:04 PM:   Objective sense        : max             \n",
      "(CVXPY) Aug 28 10:05:04 PM:   Type                   : CONIC (conic optimization problem)\n",
      "(CVXPY) Aug 28 10:05:04 PM:   Constraints            : 590             \n",
      "(CVXPY) Aug 28 10:05:04 PM:   Cones                  : 4               \n",
      "(CVXPY) Aug 28 10:05:04 PM:   Scalar variables       : 334117          \n",
      "(CVXPY) Aug 28 10:05:04 PM:   Matrix variables       : 1               \n",
      "(CVXPY) Aug 28 10:05:04 PM:   Integer variables      : 0               \n",
      "(CVXPY) Aug 28 10:05:04 PM: \n",
      "(CVXPY) Aug 28 10:05:04 PM: Optimizer  - threads                : 2               \n",
      "(CVXPY) Aug 28 10:05:04 PM: Optimizer  - solved problem         : the primal      \n",
      "(CVXPY) Aug 28 10:05:04 PM: Optimizer  - Constraints            : 334\n",
      "(CVXPY) Aug 28 10:05:04 PM: Optimizer  - Cones                  : 5\n",
      "(CVXPY) Aug 28 10:05:04 PM: Optimizer  - Scalar variables       : 1310              conic                  : 37              \n",
      "(CVXPY) Aug 28 10:05:04 PM: Optimizer  - Semi-definite variables: 1                 scalarized             : 36              \n",
      "(CVXPY) Aug 28 10:05:04 PM: Factor     - setup time             : 0.00              dense det. time        : 0.00            \n",
      "(CVXPY) Aug 28 10:05:04 PM: Factor     - ML order time          : 0.00              GP order time          : 0.00            \n",
      "(CVXPY) Aug 28 10:05:04 PM: Factor     - nonzeros before factor : 4159              after factor           : 4159            \n",
      "(CVXPY) Aug 28 10:05:04 PM: Factor     - dense dim.             : 0                 flops                  : 2.69e+05        \n",
      "(CVXPY) Aug 28 10:05:04 PM: ITE PFEAS    DFEAS    GFEAS    PRSTATUS   POBJ              DOBJ              MU       TIME  \n",
      "(CVXPY) Aug 28 10:05:04 PM: 0   1.5e+00  1.0e+02  7.5e+00  0.00e+00   -3.311353596e+00  3.220408006e+00   1.0e+00  2.05  \n",
      "(CVXPY) Aug 28 10:05:04 PM: 1   8.4e-01  5.7e+01  4.5e+00  -6.33e-01  -1.353649441e+00  3.602239099e+00   5.7e-01  2.07  \n",
      "(CVXPY) Aug 28 10:05:04 PM: 2   5.5e-01  3.8e+01  1.6e+00  4.13e-01   -3.713965495e+00  -7.420364051e-01  3.8e-01  2.07  \n",
      "(CVXPY) Aug 28 10:05:04 PM: 3   3.3e-01  2.2e+01  5.2e-01  1.55e+00   -3.689436332e+00  -2.388508974e+00  2.2e-01  2.07  \n",
      "(CVXPY) Aug 28 10:05:04 PM: 4   2.5e-01  1.7e+01  3.3e-01  1.33e+00   -2.864100432e+00  -1.949550353e+00  1.7e-01  2.07  \n",
      "(CVXPY) Aug 28 10:05:04 PM: 5   1.7e-01  1.2e+01  1.9e-01  1.28e+00   -2.501293440e+00  -1.897768739e+00  1.2e-01  2.08  \n",
      "(CVXPY) Aug 28 10:05:04 PM: 6   9.1e-02  6.1e+00  7.5e-02  1.21e+00   -1.756835232e+00  -1.454320804e+00  6.1e-02  2.08  \n",
      "(CVXPY) Aug 28 10:05:04 PM: 7   7.3e-02  5.0e+00  5.5e-02  1.10e+00   -1.598633779e+00  -1.355426824e+00  5.0e-02  2.08  \n",
      "(CVXPY) Aug 28 10:05:04 PM: 8   3.7e-02  2.5e+00  2.0e-02  1.09e+00   -1.199842660e+00  -1.078033049e+00  2.5e-02  2.08  \n",
      "(CVXPY) Aug 28 10:05:04 PM: 9   1.3e-02  9.1e-01  4.4e-03  1.05e+00   -1.008662606e+00  -9.655364756e-01  9.1e-03  2.08  \n",
      "(CVXPY) Aug 28 10:05:04 PM: 10  9.3e-03  6.3e-01  2.6e-03  9.90e-01   -1.064081556e+00  -1.033956048e+00  6.3e-03  2.09  \n",
      "(CVXPY) Aug 28 10:05:04 PM: 11  4.0e-03  2.7e-01  7.1e-04  1.01e+00   -1.219422430e+00  -1.206706610e+00  2.7e-03  2.09  \n",
      "(CVXPY) Aug 28 10:05:04 PM: 12  2.2e-03  1.5e-01  2.9e-04  9.98e-01   -1.367889608e+00  -1.360896155e+00  1.5e-03  2.09  \n",
      "(CVXPY) Aug 28 10:05:04 PM: 13  1.8e-03  1.3e-01  2.3e-04  1.00e+00   -1.393698995e+00  -1.387765713e+00  1.3e-03  2.09  \n",
      "(CVXPY) Aug 28 10:05:04 PM: 14  7.3e-04  4.9e-02  5.7e-05  9.99e-01   -1.519662586e+00  -1.517319477e+00  4.9e-04  2.10  \n",
      "(CVXPY) Aug 28 10:05:04 PM: 15  4.5e-04  3.1e-02  2.8e-05  1.00e+00   -1.558134385e+00  -1.556686321e+00  3.1e-04  2.10  \n",
      "(CVXPY) Aug 28 10:05:04 PM: 16  1.0e-04  6.9e-03  3.0e-06  9.98e-01   -1.614084518e+00  -1.613758425e+00  6.9e-05  2.10  \n",
      "(CVXPY) Aug 28 10:05:04 PM: 17  4.5e-05  3.0e-03  8.7e-07  1.00e+00   -1.624066233e+00  -1.623921776e+00  3.0e-05  2.11  \n",
      "(CVXPY) Aug 28 10:05:04 PM: 18  9.3e-06  6.3e-04  8.2e-08  1.00e+00   -1.631040147e+00  -1.631010369e+00  6.3e-06  2.11  \n",
      "(CVXPY) Aug 28 10:05:04 PM: 19  2.8e-06  1.9e-04  1.3e-08  1.00e+00   -1.632386615e+00  -1.632377748e+00  1.9e-06  2.11  \n",
      "(CVXPY) Aug 28 10:05:04 PM: 20  9.9e-07  6.7e-05  2.9e-09  1.00e+00   -1.632764389e+00  -1.632761202e+00  6.7e-07  2.11  \n",
      "(CVXPY) Aug 28 10:05:04 PM: 21  2.4e-07  1.6e-05  3.4e-10  1.00e+00   -1.632924387e+00  -1.632923624e+00  1.6e-07  2.12  \n",
      "(CVXPY) Aug 28 10:05:04 PM: 22  6.9e-08  1.7e-06  1.2e-11  1.00e+00   -1.632974030e+00  -1.632973949e+00  1.7e-08  2.13  \n",
      "(CVXPY) Aug 28 10:05:04 PM: 23  2.2e-08  1.5e-06  1.0e-11  9.98e-01   -1.632974612e+00  -1.632974539e+00  1.5e-08  2.13  \n"
     ]
    },
    {
     "name": "stdout",
     "output_type": "stream",
     "text": [
      "(CVXPY) Aug 28 10:05:04 PM: 24  7.3e-10  3.0e-06  6.1e-14  1.00e+00   -1.632979820e+00  -1.632979818e+00  5.2e-10  2.14  \n",
      "(CVXPY) Aug 28 10:05:04 PM: Optimizer terminated. Time: 2.24    \n",
      "(CVXPY) Aug 28 10:05:04 PM: \n",
      "(CVXPY) Aug 28 10:05:04 PM: \n",
      "(CVXPY) Aug 28 10:05:04 PM: Interior-point solution summary\n",
      "(CVXPY) Aug 28 10:05:04 PM:   Problem status  : PRIMAL_AND_DUAL_FEASIBLE\n",
      "(CVXPY) Aug 28 10:05:04 PM:   Solution status : OPTIMAL\n",
      "(CVXPY) Aug 28 10:05:04 PM:   Primal.  obj: -1.6329798201e+00   nrm: 2e+01    Viol.  con: 4e-09    var: 5e-09    barvar: 0e+00    cones: 5e-11  \n",
      "(CVXPY) Aug 28 10:05:04 PM:   Dual.    obj: -1.6329798175e+00   nrm: 7e+01    Viol.  con: 0e+00    var: 1e-09    barvar: 3e-10    cones: 3e-17  \n",
      "-------------------------------------------------------------------------------\n",
      "                                    Summary                                    \n",
      "-------------------------------------------------------------------------------\n",
      "(CVXPY) Aug 28 10:05:05 PM: Problem status: optimal\n",
      "(CVXPY) Aug 28 10:05:05 PM: Optimal value: 1.633e+00\n",
      "(CVXPY) Aug 28 10:05:05 PM: Compilation took 7.121e+00 seconds\n",
      "(CVXPY) Aug 28 10:05:05 PM: Solver (including time spent in interface) took 2.623e+00 seconds\n",
      "First time: Optimal value: 1.6329797990549997\n"
     ]
    }
   ],
   "source": [
    "print('First time: Optimal value:', problem.solve(verbose=True))"
   ]
  },
  {
   "cell_type": "code",
   "execution_count": 15,
   "id": "a2ae2fc3",
   "metadata": {},
   "outputs": [
    {
     "name": "stdout",
     "output_type": "stream",
     "text": [
      "[[9.99999978e-01 9.99999787e-01 9.99999883e-01 9.99999838e-01\n",
      "  3.64945954e-07 8.40093018e-08 5.29666001e-08 4.22955533e-08\n",
      "  9.99999953e-01 9.99999847e-01 9.99999643e-01 8.89343329e-01\n",
      "  1.96434845e-06 9.99999671e-01 9.99999856e-01 9.99999904e-01\n",
      "  9.99999889e-01 5.87555783e-01 1.59709523e-07 1.29022480e-07\n",
      "  1.52991397e-07 2.62707781e-07 5.23099416e-01 9.99999687e-01]\n",
      " [9.99999787e-01 9.99999799e-01 9.99999737e-01 9.99999705e-01\n",
      "  2.92121628e-07 5.40490409e-08 3.43069839e-08 2.78434118e-08\n",
      "  9.99999780e-01 9.99999729e-01 9.99999535e-01 8.89343239e-01\n",
      "  1.87712499e-06 9.99999561e-01 9.99999718e-01 9.99999751e-01\n",
      "  9.99999741e-01 5.87555736e-01 1.09177829e-07 8.56074455e-08\n",
      "  1.03873707e-07 1.97189237e-07 5.23099326e-01 9.99999575e-01]\n",
      " [9.99999883e-01 9.99999737e-01 9.99999894e-01 9.99999784e-01\n",
      "  3.26905951e-07 6.10236933e-08 3.72904289e-08 2.98082504e-08\n",
      "  9.99999874e-01 9.99999793e-01 9.99999619e-01 8.89343287e-01\n",
      "  1.92285724e-06 9.99999624e-01 9.99999800e-01 9.99999841e-01\n",
      "  9.99999828e-01 5.87555741e-01 1.35994016e-07 9.96641284e-08\n",
      "  1.21540341e-07 2.26504743e-07 5.23099374e-01 9.99999639e-01]\n",
      " [9.99999838e-01 9.99999705e-01 9.99999784e-01 9.99999849e-01\n",
      "  3.09276811e-07 5.65291715e-08 3.53088822e-08 2.84961039e-08\n",
      "  9.99999830e-01 9.99999756e-01 9.99999569e-01 8.89343300e-01\n",
      "  1.90111766e-06 9.99999595e-01 9.99999763e-01 9.99999800e-01\n",
      "  9.99999788e-01 5.87555718e-01 1.17011854e-07 1.01165658e-07\n",
      "  1.11229803e-07 2.11054987e-07 5.23099352e-01 9.99999610e-01]\n",
      " [3.64945954e-07 2.92121628e-07 3.26905951e-07 3.09276811e-07\n",
      "  3.75544657e-07 4.38656664e-08 2.99779502e-08 2.49433999e-08\n",
      "  3.58163931e-07 3.12863222e-07 2.56254471e-07 1.88597361e-07\n",
      "  2.90716285e-07 2.61754764e-07 3.16206902e-07 3.36132950e-07\n",
      "  3.29368187e-07 1.88347918e-07 7.34362368e-08 6.21544753e-08\n",
      "  9.24819512e-08 1.04072949e-07 1.87922331e-07 2.64877852e-07]\n",
      " [8.40093018e-08 5.40490409e-08 6.10236933e-08 5.65291715e-08\n",
      "  4.38656664e-08 9.40510211e-08 2.46114210e-08 2.13965071e-08\n",
      "  7.82712752e-08 5.72540457e-08 5.07980170e-08 4.71916695e-08\n",
      "  4.66129833e-08 5.37014374e-08 5.79817653e-08 6.45720614e-08\n",
      "  6.18171519e-08 4.71029104e-08 3.89376684e-08 3.68377400e-08\n",
      "  3.85389246e-08 4.84525772e-08 4.70438882e-08 5.12887234e-08]\n",
      " [5.29666001e-08 3.43069839e-08 3.72904289e-08 3.53088822e-08\n",
      "  2.99779502e-08 2.46114210e-08 6.25885529e-08 1.87685713e-08\n",
      "  4.80386076e-08 3.56073107e-08 3.29267077e-08 3.13909265e-08\n",
      "  3.11327544e-08 3.30757783e-08 3.53579421e-08 3.90053565e-08\n",
      "  3.76311582e-08 3.13383184e-08 2.79258284e-08 2.70439198e-08\n",
      "  2.77576218e-08 2.93112672e-08 3.35212286e-08 3.31103877e-08]\n",
      " [4.22955533e-08 2.78434118e-08 2.98082504e-08 2.84961039e-08\n",
      "  2.49433999e-08 2.13965071e-08 1.87685713e-08 5.16375994e-08\n",
      "  3.78872151e-08 2.86858526e-08 2.69194255e-08 2.58881089e-08\n",
      "  2.57104914e-08 2.70152808e-08 2.88803278e-08 3.02051828e-08\n",
      "  3.00230403e-08 2.58499400e-08 2.35841284e-08 2.30055173e-08\n",
      "  2.34729967e-08 2.44922797e-08 2.58274780e-08 2.81538929e-08]\n",
      " [9.99999953e-01 9.99999780e-01 9.99999874e-01 9.99999830e-01\n",
      "  3.58163931e-07 7.82712752e-08 4.80386076e-08 3.78872151e-08\n",
      "  9.99999964e-01 9.99999839e-01 9.99999636e-01 8.89343322e-01\n",
      "  1.95733410e-06 9.99999663e-01 9.99999848e-01 9.99999896e-01\n",
      "  9.99999891e-01 5.87555776e-01 1.53326644e-07 1.22809806e-07\n",
      "  1.46641124e-07 2.56056531e-07 5.23099409e-01 9.99999679e-01]\n",
      " [9.99999847e-01 9.99999729e-01 9.99999793e-01 9.99999756e-01\n",
      "  3.12863222e-07 5.72540457e-08 3.56073107e-08 2.86858526e-08\n",
      "  9.99999839e-01 9.99999859e-01 9.99999575e-01 8.89343269e-01\n",
      "  1.90571288e-06 9.99999601e-01 9.99999772e-01 9.99999809e-01\n",
      "  9.99999797e-01 5.87555777e-01 1.18993896e-07 9.26827330e-08\n",
      "  1.13114218e-07 2.14117906e-07 5.23099356e-01 9.99999617e-01]\n",
      " [9.99999643e-01 9.99999535e-01 9.99999619e-01 9.99999569e-01\n",
      "  2.56254471e-07 5.07980170e-08 3.29267077e-08 2.69194255e-08\n",
      "  9.99999636e-01 9.99999575e-01 9.99999654e-01 8.89343166e-01\n",
      "  1.81021830e-06 9.99999446e-01 9.99999580e-01 9.99999609e-01\n",
      "  9.99999600e-01 5.87555621e-01 1.46603365e-07 7.82692650e-08\n",
      "  9.37639065e-08 1.72712776e-07 5.23099254e-01 9.99999459e-01]\n",
      " [8.89343329e-01 8.89343239e-01 8.89343287e-01 8.89343300e-01\n",
      "  1.88597361e-07 4.71916695e-08 3.13909265e-08 2.58881089e-08\n",
      "  8.89343322e-01 8.89343269e-01 8.89343166e-01 8.89343340e-01\n",
      "  9.62284942e-07 8.89343180e-01 8.89343273e-01 8.89343297e-01\n",
      "  8.89343290e-01 5.29969899e-01 8.52840286e-08 1.12099073e-07\n",
      "  8.18963140e-08 1.37039321e-07 4.65732872e-01 8.89343188e-01]\n",
      " [1.96434845e-06 1.87712499e-06 1.92285724e-06 1.90111766e-06\n",
      "  2.90716285e-07 4.66129833e-08 3.11327544e-08 2.57104914e-08\n",
      "  1.95733410e-06 1.90571288e-06 1.81021830e-06 9.62284942e-07\n",
      "  1.97508029e-06 1.82275423e-06 1.90992562e-06 1.93348095e-06\n",
      "  1.92575520e-06 1.00137404e-06 8.33603493e-08 6.85789589e-08\n",
      "  1.38582008e-07 1.31981055e-07 9.81143116e-07 1.82986404e-06]\n",
      " [9.99999671e-01 9.99999561e-01 9.99999624e-01 9.99999595e-01\n",
      "  2.61754764e-07 5.37014374e-08 3.30757783e-08 2.70152808e-08\n",
      "  9.99999663e-01 9.99999601e-01 9.99999446e-01 8.89343180e-01\n",
      "  1.82275423e-06 9.99999682e-01 9.99999607e-01 9.99999637e-01\n",
      "  9.99999627e-01 5.87555634e-01 9.95196681e-08 7.91053658e-08\n",
      "  9.49426769e-08 2.54370146e-07 5.23099268e-01 9.99999482e-01]\n",
      " [9.99999856e-01 9.99999718e-01 9.99999800e-01 9.99999763e-01\n",
      "  3.16206902e-07 5.79817653e-08 3.53579421e-08 2.88803278e-08\n",
      "  9.99999848e-01 9.99999772e-01 9.99999580e-01 8.89343273e-01\n",
      "  1.90992562e-06 9.99999607e-01 9.99999867e-01 9.99999817e-01\n",
      "  9.99999805e-01 5.87555727e-01 1.20891023e-07 9.41275748e-08\n",
      "  1.14918672e-07 2.16988029e-07 5.23099412e-01 9.99999622e-01]\n",
      " [9.99999904e-01 9.99999751e-01 9.99999841e-01 9.99999800e-01\n",
      "  3.36132950e-07 6.45720614e-08 3.90053565e-08 3.02051828e-08\n",
      "  9.99999896e-01 9.99999809e-01 9.99999609e-01 8.89343297e-01\n",
      "  1.93348095e-06 9.99999637e-01 9.99999817e-01 9.99999916e-01\n",
      "  9.99999846e-01 5.87555751e-01 1.34518195e-07 1.05402939e-07\n",
      "  1.28091273e-07 2.34991334e-07 5.23099385e-01 9.99999685e-01]\n",
      " [9.99999889e-01 9.99999741e-01 9.99999828e-01 9.99999788e-01\n",
      "  3.29368187e-07 6.18171519e-08 3.76311582e-08 3.00230403e-08\n",
      "  9.99999891e-01 9.99999797e-01 9.99999600e-01 8.89343290e-01\n",
      "  1.92575520e-06 9.99999627e-01 9.99999805e-01 9.99999846e-01\n",
      "  9.99999900e-01 5.87555744e-01 1.29500117e-07 1.01092385e-07\n",
      "  1.23209795e-07 2.28763466e-07 5.23099377e-01 9.99999643e-01]\n",
      " [5.87555783e-01 5.87555736e-01 5.87555741e-01 5.87555718e-01\n",
      "  1.88347918e-07 4.71029104e-08 3.13383184e-08 2.58499400e-08\n",
      "  5.87555776e-01 5.87555777e-01 5.87555621e-01 5.29969899e-01\n",
      "  1.00137404e-06 5.87555634e-01 5.87555727e-01 5.87555751e-01\n",
      "  5.87555744e-01 5.87555793e-01 8.51684498e-08 6.97563507e-08\n",
      "  8.17924940e-08 1.36880016e-07 3.09376234e-01 5.87555642e-01]\n",
      " [1.59709523e-07 1.09177829e-07 1.35994016e-07 1.17011854e-07\n",
      "  7.34362368e-08 3.89376684e-08 2.79258284e-08 2.35841284e-08\n",
      "  1.53326644e-07 1.18993896e-07 1.46603365e-07 8.52840286e-08\n",
      "  8.33603493e-08 9.95196681e-08 1.20891023e-07 1.34518195e-07\n",
      "  1.29500117e-07 8.51684498e-08 1.70089966e-07 5.08562007e-08\n",
      "  5.55770430e-08 6.80713226e-08 8.50425134e-08 1.00245773e-07]\n",
      " [1.29022480e-07 8.56074455e-08 9.96641284e-08 1.01165658e-07\n",
      "  6.21544753e-08 3.68377400e-08 2.70439198e-08 2.30055173e-08\n",
      "  1.22809806e-07 9.26827330e-08 7.82692650e-08 1.12099073e-07\n",
      "  6.85789589e-08 7.91053658e-08 9.41275748e-08 1.05402939e-07\n",
      "  1.01092385e-07 6.97563507e-08 5.08562007e-08 1.39313014e-07\n",
      "  5.00116447e-08 5.86222014e-08 6.96613288e-08 7.95457242e-08]\n",
      " [1.52991397e-07 1.03873707e-07 1.21540341e-07 1.11229803e-07\n",
      "  9.24819512e-08 3.85389246e-08 2.77576218e-08 2.34729967e-08\n",
      "  1.46641124e-07 1.13114218e-07 9.37639065e-08 8.18963140e-08\n",
      "  1.38582008e-07 9.49426769e-08 1.14918672e-07 1.28091273e-07\n",
      "  1.23209795e-07 8.17924940e-08 5.55770430e-08 5.00116447e-08\n",
      "  1.63354741e-07 6.61119309e-08 8.16726004e-08 9.56090768e-08]\n",
      " [2.62707781e-07 1.97189237e-07 2.26504743e-07 2.11054987e-07\n",
      "  1.04072949e-07 4.84525772e-08 2.93112672e-08 2.44922797e-08\n",
      "  2.56056531e-07 2.14117906e-07 1.72712776e-07 1.37039321e-07\n",
      "  1.31981055e-07 2.54370146e-07 2.16988029e-07 2.34991334e-07\n",
      "  2.28763466e-07 1.36880016e-07 6.80713226e-08 5.86222014e-08\n",
      "  6.61119309e-08 2.73234161e-07 1.36638176e-07 1.78017215e-07]\n",
      " [5.23099416e-01 5.23099326e-01 5.23099374e-01 5.23099352e-01\n",
      "  1.87922331e-07 4.70438882e-08 3.35212286e-08 2.58274780e-08\n",
      "  5.23099409e-01 5.23099356e-01 5.23099254e-01 4.65732872e-01\n",
      "  9.81143116e-07 5.23099268e-01 5.23099412e-01 5.23099385e-01\n",
      "  5.23099377e-01 3.09376234e-01 8.50425134e-08 6.96613288e-08\n",
      "  8.16726004e-08 1.36638176e-07 5.23099427e-01 5.23099276e-01]\n",
      " [9.99999687e-01 9.99999575e-01 9.99999639e-01 9.99999610e-01\n",
      "  2.64877852e-07 5.12887234e-08 3.31103877e-08 2.81538929e-08\n",
      "  9.99999679e-01 9.99999617e-01 9.99999459e-01 8.89343188e-01\n",
      "  1.82986404e-06 9.99999482e-01 9.99999622e-01 9.99999685e-01\n",
      "  9.99999643e-01 5.87555642e-01 1.00245773e-07 7.95457242e-08\n",
      "  9.56090768e-08 1.78017215e-07 5.23099276e-01 9.99999697e-01]]\n"
     ]
    }
   ],
   "source": [
    "print(y_matrice.value)\n",
    "#print(y[1].value)\n",
    "#print(y[2].value)"
   ]
  },
  {
   "cell_type": "markdown",
   "id": "6de36c91",
   "metadata": {},
   "source": [
    "### test solution "
   ]
  },
  {
   "cell_type": "code",
   "execution_count": 16,
   "id": "9a24f9d6",
   "metadata": {
    "scrolled": true
   },
   "outputs": [
    {
     "name": "stdout",
     "output_type": "stream",
     "text": [
      "[1.0, 1.0, 1.0, 1.0, 0.0, 0.0, 0.0, 0.0, 1.0, 1.0, 1.0, 0.8893433395380824, 0.0, 1.0, 1.0, 1.0, 1.0, 0.5875557934505837, 0.0, 0.0, 0.0, 0.0, 0.5230994268276815, 1.0]\n"
     ]
    }
   ],
   "source": [
    "sol = np.zeros((24,24))\n",
    "\n",
    "for i in range(24):\n",
    "    for j in range(24):\n",
    "        sol[i,j] = y_matrice[i,j].value\n",
    "        \n",
    "        if sol[i,j] >0.99:\n",
    "            sol[i,j] = 1\n",
    "            \n",
    "        if sol[i,j] <0.01:\n",
    "            sol[i,j] = 0\n",
    "            \n",
    "        \n",
    "        \n",
    "print(list(sol[i,i] for i in range(24)))"
   ]
  },
  {
   "cell_type": "code",
   "execution_count": 17,
   "id": "029eb3dd",
   "metadata": {},
   "outputs": [
    {
     "name": "stdout",
     "output_type": "stream",
     "text": [
      "11 17\n",
      "0.8893433395380824 0.5875557934505837 0.529969899350303\n",
      "wrong computation\n",
      "11 22\n",
      "0.8893433395380824 0.5230994268276815 0.46573287174205136\n",
      "wrong computation\n",
      "17 11\n",
      "0.5875557934505837 0.8893433395380824 0.529969899350303\n",
      "wrong computation\n",
      "17 22\n",
      "0.5875557934505837 0.5230994268276815 0.30937623427267763\n",
      "wrong computation\n",
      "22 11\n",
      "0.5230994268276815 0.8893433395380824 0.46573287174205136\n",
      "wrong computation\n",
      "22 17\n",
      "0.5230994268276815 0.5875557934505837 0.30937623427267763\n",
      "wrong computation\n"
     ]
    }
   ],
   "source": [
    "for i in range(24):\n",
    "    for j in range(24):\n",
    "        if abs(sol[i,j]-sol[j,i])>0.01:\n",
    "            print(i,j)\n",
    "            print(sol[i,j], sol[j,i])\n",
    "            print('wrong symmetry')\n",
    "            \n",
    "        if abs(sol[i,j]-min(sol[i,i], sol[j,j]))>0.01:\n",
    "            print(i,j)\n",
    "            print(sol[i,i], sol[j,j], sol[i,j])\n",
    "            print('wrong computation')"
   ]
  },
  {
   "cell_type": "markdown",
   "id": "d33c52a0",
   "metadata": {},
   "source": [
    "## Original (hardcode) method"
   ]
  },
  {
   "cell_type": "code",
   "execution_count": null,
   "id": "7181dcec",
   "metadata": {},
   "outputs": [],
   "source": [
    "print(np.shape(Q_stack))\n",
    "\n",
    "Q_matrix = []\n",
    "for i in range(24):\n",
    "    Q_matrix.append(np.asarray(Q_stack[i]).reshape((4,1)))\n",
    "# Q: [CA|t1, ..., CA|tN, CB|ti, ..., CC|ti, ...]\n",
    "\n",
    "FIM_collection = []\n",
    "\n",
    "for i in range(8):\n",
    "    # yCA, CA\n",
    "    mat = sigma_inv[i,i]*Q_matrix[i]@Q_matrix[i].T\n",
    "    FIM_collection.append(mat)\n",
    "\n",
    "for i in range(8):\n",
    "    # yCA, CB\n",
    "    FIM_collection.append(sigma_inv[i,i+8]*Q_matrix[i]@Q_matrix[i+8].T)\n",
    "\n",
    "for i in range(8):\n",
    "    # YCA, CC\n",
    "    FIM_collection.append(sigma_inv[i,i+16]*Q_matrix[i]@Q_matrix[i+16].T)\n",
    "\n",
    "for i in range(8,16): \n",
    "    FIM_collection.append(sigma_inv[i,i]*Q_matrix[i]@Q_matrix[i].T)\n",
    "\n",
    "for i in range(8,16): \n",
    "    FIM_collection.append(sigma_inv[i,i-8]*Q_matrix[i]@Q_matrix[i-8].T)\n",
    "\n",
    "for i in range(8,16): \n",
    "    FIM_collection.append(sigma_inv[i,i+8]*Q_matrix[i]@Q_matrix[i+8].T)\n",
    "\n",
    "for i in range(16, 24): \n",
    "    FIM_collection.append(sigma_inv[i,i]*Q_matrix[i]@Q_matrix[i].T)\n",
    "\n",
    "for i in range(16, 24): \n",
    "    FIM_collection.append(sigma_inv[i,i-16]*Q_matrix[i]@Q_matrix[i-16].T)\n",
    "\n",
    "for i in range(16, 24): \n",
    "    FIM_collection.append(sigma_inv[i,i-8]*Q_matrix[i]@Q_matrix[i-8].T)\n",
    "        \n",
    "\n",
    "print(np.shape(FIM_collection))"
   ]
  },
  {
   "cell_type": "code",
   "execution_count": null,
   "id": "00dd6de7",
   "metadata": {},
   "outputs": [],
   "source": [
    "def eval_fim(y, cov_y):\n",
    "     \n",
    "    fim = sum(ya1*FIM_collection[idx] for idx, ya1 in enumerate(y[0])) \\\n",
    "    + sum(yb1*FIM_collection[idx+24] for idx, yb1 in enumerate(y[1])) \\\n",
    "    + sum(yc1*FIM_collection[idx+48] for idx, yc1 in enumerate(y[2])) \\\n",
    "    + sum(yab1*FIM_collection[idx+8] for idx, yab1 in enumerate(cov_y[0])) \\\n",
    "    + sum(yab1*FIM_collection[idx+32] for idx, yab1 in enumerate(cov_y[0])) \\\n",
    "    + sum(yac1*FIM_collection[idx+16] for idx, yac1 in enumerate(cov_y[1])) \\\n",
    "    + sum(yac1*FIM_collection[idx+56] for idx, yac1 in enumerate(cov_y[1])) \\\n",
    "    + sum(ybc1*FIM_collection[idx+40] for idx, ybc1 in enumerate(cov_y[2])) \\\n",
    "    + sum(ybc1*FIM_collection[idx+64] for idx, ybc1 in enumerate(cov_y[2]))\n",
    "    \n",
    "    return fim \n",
    "\n",
    "def a_opt(ya, yb, yc, yab, yac, ybc):\n",
    "    fim = eval_fim(ya, yb, yc, yab, yac, ybc)\n",
    "    return cp.trace(fim)\n",
    "    \n",
    "def d_opt(y, cov_y):\n",
    "    fim = eval_fim(y, cov_y)\n",
    "    return cp.log_det(fim)\n",
    "\n",
    "def e_opt(ya, yb, yc, yab, yac, ybc):\n",
    "    fim = eval_fim(ya, yb, yc, yab, yac, ybc)\n",
    "    return -cp.lambda_min(fim)"
   ]
  },
  {
   "cell_type": "code",
   "execution_count": null,
   "id": "b88d2d5e",
   "metadata": {},
   "outputs": [],
   "source": [
    "no_res_unit = 8 \n",
    "cost = [10, 6, 6]\n",
    "\n",
    "y = []\n",
    "\n",
    "for idx in range(3):\n",
    "    create_y = cp.Variable(no_res_unit, nonneg=True)\n",
    "    y.append(create_y)\n",
    "    \n",
    "cov_y = []\n",
    "for idx in range(3):\n",
    "    create_cov = cp.Variable(no_res_unit, nonneg=True)\n",
    "    cov_y.append(create_cov)\n",
    "    \n",
    "p_cons = [sum(cp.sum(y[i]*cost[i]) for i in range(3)) <= 100]\n",
    "#p_cons = [cp.sum(y[0]*10) + cp.sum(y[1]*6) + cp.sum(y[2]*6) <= 100]\n",
    "\n",
    "#for i in range(3):\n",
    "for i in y[0]:\n",
    "    p_cons += [i<=1]\n",
    "    \n",
    "for j in y[1]:\n",
    "    p_cons += [j<=1]\n",
    "    \n",
    "for d in y[2]:\n",
    "    p_cons += [d<=1]\n",
    "        \n",
    "p_cons += [cov_y[0][t] <= y[0][t] for t, idx in enumerate(y[0])]\n",
    "p_cons += [cov_y[0][t] <= y[1][t] for t, idx in enumerate(y[1])]\n",
    "p_cons += [cov_y[1][t] <= y[0][t] for t, idx in enumerate(y[0])]\n",
    "p_cons += [cov_y[1][t] <= y[2][t] for t, idx in enumerate(y[2])]\n",
    "p_cons += [cov_y[2][t] <= y[1][t] for t, idx in enumerate(y[1])]\n",
    "p_cons += [cov_y[2][t] <= y[2][t] for t, idx in enumerate(y[2])]\n",
    "\n",
    "p_cons += [y[0][i]+y[1][i]-1<=cov_y[0][i] for i, idx in enumerate(cov_y[0])]\n",
    "p_cons += [y[0][i]+y[2][i]-1<=cov_y[1][i] for i, idx in enumerate(cov_y[0])]\n",
    "p_cons += [y[1][i]+y[2][i]-1<=cov_y[2][i] for i, idx in enumerate(cov_y[1])]\n",
    "\n",
    "obj = cp.Maximize(d_opt(y, cov_y))\n",
    "#obj = cp.Maximize(d_opt(y[0], y[1], y[2], cov_y[0], cov_y[1], cov_y[2]))\n",
    "\n",
    "problem = cp.Problem(obj, p_cons)"
   ]
  },
  {
   "cell_type": "code",
   "execution_count": null,
   "id": "0b6915d5",
   "metadata": {},
   "outputs": [],
   "source": [
    "print('First time: Optimal value:', problem.solve(verbose=True))"
   ]
  },
  {
   "cell_type": "code",
   "execution_count": null,
   "id": "d0160462",
   "metadata": {},
   "outputs": [],
   "source": [
    "print(y[0].value)\n",
    "print(y[1].value)\n",
    "print(y[2].value)\n",
    "print(cov_y[0].value)\n",
    "print(cov_y[1].value)\n",
    "print(cov_y[2].value)"
   ]
  },
  {
   "cell_type": "markdown",
   "id": "9e70798e",
   "metadata": {},
   "source": [
    "## Result reader"
   ]
  },
  {
   "cell_type": "code",
   "execution_count": null,
   "id": "1ddd9723",
   "metadata": {
    "scrolled": true
   },
   "outputs": [],
   "source": [
    "time_list = [0.125, 0.25, 0.375, 0.5, 0.625, 0.75, 0.875, 1]\n",
    "\n",
    "def result(li1, li2, li3, verbose=True):\n",
    "    \n",
    "  \n",
    "    rep1 = []\n",
    "    \n",
    "    for i, res in enumerate(li1):\n",
    "        if res >= 0.99:\n",
    "            #print(str(time_list[i]) + ': yes')\n",
    "            rep1.append(1)            \n",
    "        elif res <= 0.01:\n",
    "            #print(str(time_list[i]) + ': no')\n",
    "            rep1.append(0)\n",
    "        else: \n",
    "            #print(str(time_list[i]) + ': '+str(res))\n",
    "            rep1.append(res)\n",
    "\n",
    "    \n",
    "    rep2 = []\n",
    "    \n",
    "    for i, res in enumerate(li2):\n",
    "        if res >= 0.99:\n",
    "            #print(str(time_list[i]) + ': yes')\n",
    "            rep2.append(1)        \n",
    "        elif res <= 0.01:\n",
    "            #print(str(time_list[i]) + ': no')\n",
    "            rep2.append(0)\n",
    "        else: \n",
    "            #print(str(time_list[i]) + ': '+str(res))\n",
    "            rep2.append(res)\n",
    "            \n",
    "    \n",
    "    rep3 = []\n",
    "    \n",
    "    for i, res in enumerate(li3):\n",
    "        if res >= 0.99:\n",
    "            #print(str(time_list[i]) + ': yes')\n",
    "            rep3.append(1)\n",
    "        elif res <= 0.01:\n",
    "            #print(str(time_list[i]) + ': no')\n",
    "            rep3.append(0)\n",
    "        else: \n",
    "            #print(str(time_list[i]) + ': '+str(res))\n",
    "            rep3.append(res)\n",
    "            \n",
    "            \n",
    "    if verbose:\n",
    "        print('CA:', rep1)\n",
    "        print('CB:', rep2)\n",
    "        print('CC:', rep3)\n",
    "            \n",
    "    return rep1, rep2, rep3\n",
    "\n",
    "yaa, ybb, ycc = result(y[0].value, y[1].value, y[2].value)\n",
    "yab1, yac1, ybc1 = result(cov_y[0].value, cov_y[1].value, cov_y[2].value, verbose=False)\n",
    "\n",
    "def check(ya, yb, yc, yab, yac, ybc):\n",
    "    \n",
    "    for i in range(8):\n",
    "        \n",
    "        if yab[i] != min(ya[i], yb[i]):\n",
    "            print('constraint violated: yab', i)\n",
    "            \n",
    "        if yac[i] != min(ya[i], yc[i]):\n",
    "            print('constraint violated: yac', i)\n",
    "            \n",
    "        if ybc[i] != min(yc[i], yb[i]):\n",
    "            print('constraint violated: ybc', i)\n",
    "\n",
    "\n",
    "    \n",
    "def estimate_cost(li1, li2, li3):\n",
    "    print('cost:', sum(li1)*10 + sum(li2)*6 + sum(li3)*6)\n",
    "    \n",
    "estimate_cost(yaa, ybb, ycc)\n",
    "#check(yaa, ybb, ycc, yab1, yac1, ybc1)\n",
    "print(yab1)\n",
    "print(yac1)\n",
    "print(ybc1)"
   ]
  },
  {
   "cell_type": "code",
   "execution_count": null,
   "id": "95a539d2",
   "metadata": {},
   "outputs": [],
   "source": [
    "fim = compute(yaa, ybb, ycc, yab1, yac1, ybc1)\n",
    "    \n",
    "print(fim)\n",
    "print('trace:', np.trace(fim))\n",
    "print('det:', np.linalg.det(fim))\n",
    "print('logdet:', np.log(np.linalg.det(fim)))\n",
    "print('eig:', np.linalg.eigvals(fim))"
   ]
  },
  {
   "cell_type": "markdown",
   "id": "39faf6a3",
   "metadata": {},
   "source": [
    "## round "
   ]
  },
  {
   "cell_type": "code",
   "execution_count": null,
   "id": "7c615bd2",
   "metadata": {},
   "outputs": [],
   "source": [
    "def compute(ya, yb, yc, yab, yac, ybc):\n",
    "\n",
    "    #print(FIM_collection[33])\n",
    "\n",
    "    fim = sum(ya1*FIM_collection[idx] for idx, ya1 in enumerate(ya)) \\\n",
    "        + sum(yb1*FIM_collection[idx+24] for idx, yb1 in enumerate(yb)) \\\n",
    "        + sum(yc1*FIM_collection[idx+48] for idx, yc1 in enumerate(yc)) \\\n",
    "        + sum(yab1*FIM_collection[idx+8] for idx, yab1 in enumerate(yab)) \\\n",
    "        + sum(yab1*FIM_collection[idx+32] for idx, yab1 in enumerate(yab)) \\\n",
    "        + sum(yac1*FIM_collection[idx+16] for idx, yac1 in enumerate(yac)) \\\n",
    "        + sum(yac1*FIM_collection[idx+56] for idx, yac1 in enumerate(yac)) \\\n",
    "        + sum(ybc1*FIM_collection[idx+40] for idx, ybc1 in enumerate(ybc)) \\\n",
    "        + sum(ybc1*FIM_collection[idx+64] for idx, ybc1 in enumerate(ybc))\n",
    "\n",
    "    return fim\n",
    "\n"
   ]
  },
  {
   "cell_type": "code",
   "execution_count": null,
   "id": "c62f496f",
   "metadata": {},
   "outputs": [],
   "source": [
    "def generate_cov(la1, lb2, lc3):\n",
    "    \n",
    "    lab = []\n",
    "    \n",
    "    lac = []\n",
    "    \n",
    "    lbc = []\n",
    "    \n",
    "    for i in range(8):\n",
    "        lab.append(min(la1[i], lb2[i]))\n",
    "        lac.append(min(la1[i], lc3[i]))\n",
    "        lbc.append(min(lb2[i], lc3[i]))\n",
    "        \n",
    "    return lab, lac, lbc"
   ]
  },
  {
   "cell_type": "code",
   "execution_count": null,
   "id": "e154865c",
   "metadata": {},
   "outputs": [],
   "source": [
    "ya0 = [1, 1, 1, 1, 1, 1, 1, 1]\n",
    "yb0 = [1, 1, 1, 1, 1, 1, 1, 1]\n",
    "yc0 = [1, 1, 1, 1, 1, 1, 1, 1]\n",
    "\n",
    "estimate_cost(ya0, yb0, yc0)\n",
    "print(sum([sum(ya0), sum(yb0), sum(yc0)]))\n",
    "\n",
    "yab0, yac0, ybc0 = generate_cov(ya0, yb0, yc0)\n",
    "print('yab:', yab0)\n",
    "print('yac:', yac0)\n",
    "print('ybc:', ybc0)"
   ]
  },
  {
   "cell_type": "code",
   "execution_count": null,
   "id": "3fc44a5a",
   "metadata": {},
   "outputs": [],
   "source": [
    "fim = compute(ya0, yb0, yc0, yab0, yac0, ybc0)\n",
    "    \n",
    "print(fim)\n",
    "print('trace:', np.trace(fim))\n",
    "print('det:', np.linalg.det(fim))\n",
    "print('logdet:', np.log(np.linalg.det(fim)))\n",
    "print('eig:', np.linalg.eigvals(fim))"
   ]
  },
  {
   "cell_type": "markdown",
   "id": "84c79f62",
   "metadata": {},
   "source": [
    "## figure "
   ]
  },
  {
   "cell_type": "code",
   "execution_count": null,
   "id": "c5a46c93",
   "metadata": {},
   "outputs": [],
   "source": [
    "import matplotlib.pyplot as plt \n",
    "import numpy as np"
   ]
  },
  {
   "cell_type": "code",
   "execution_count": null,
   "id": "b991ff0d",
   "metadata": {},
   "outputs": [],
   "source": [
    "budget = np.linspace(50, 180, 14)\n",
    "print(budget)\n",
    "\n",
    "no_m = [7,8,9,11,12,14,15,17,18,20,21,22,23,24]\n",
    "\n",
    "ln_det = [-0.46, 0.1255, 0.452, 0.9326, 1.2987,\n",
    "         1.6275, 1.7816, 2.0136, 2.2191, 2.3738, \n",
    "         2.4847, 2.5439, 2.6023, 2.6324] \n"
   ]
  },
  {
   "cell_type": "code",
   "execution_count": null,
   "id": "ffd3cea2",
   "metadata": {},
   "outputs": [],
   "source": [
    "fig, ax = plt.subplots()\n",
    "\n",
    "line1, =ax.plot(budget, ln_det, marker='o', color=\"red\", label='D-optimality')\n",
    "ax.set_xlabel('Budget ($)', fontsize=18)\n",
    "ax.set_ylabel('log$_e$(D-optimality)', fontsize=18)\n",
    "plt.xticks(fontsize=16)\n",
    "ax.tick_params(axis='y', labelsize=14)\n",
    "\n",
    "ax2 = ax.twinx()\n",
    "line2, =ax2.plot(budget, no_m, marker='^', color=\"blue\", label='No. of measurements')\n",
    "ax2.set_ylabel('No. of measurements', fontsize=18)\n",
    "ax2.tick_params(axis='y', labelsize=14)\n",
    "\n",
    "#ax.legend(handles=[line1, line2])\n",
    "plt.show()\n",
    "\n",
    "fig.savefig('twinx.jpg',\n",
    "            format='jpeg',\n",
    "            dpi=200,\n",
    "            bbox_inches='tight')"
   ]
  },
  {
   "cell_type": "markdown",
   "id": "09aa2d4d",
   "metadata": {},
   "source": [
    "### tests"
   ]
  },
  {
   "cell_type": "code",
   "execution_count": null,
   "id": "bef681a4",
   "metadata": {},
   "outputs": [],
   "source": [
    "\n",
    "test = [[1,0,0,5,0,0,9,0,0],\n",
    "        [0,1,0,0,5,0,0,9,0],\n",
    "        [0,0,1,0,0,5,0,0,9],\n",
    "        [5,0,0,4,0,0,6,0,0],\n",
    "        [0,5,0,0,4,0,0,6,0],\n",
    "        [0,0,5,0,0,4,0,0,6],\n",
    "        [9,0,0,6,0,0,4,0,0],\n",
    "        [0,9,0,0,6,0,0,4,0],\n",
    "        [0,0,9,0,0,6,0,0,4]]\n",
    "\n",
    "test1 = np.asarray(test)"
   ]
  },
  {
   "cell_type": "code",
   "execution_count": null,
   "id": "cf413551",
   "metadata": {},
   "outputs": [],
   "source": [
    "print(np.linalg.inv(test1))"
   ]
  }
 ],
 "metadata": {
  "kernelspec": {
   "display_name": "Python 3 (ipykernel)",
   "language": "python",
   "name": "python3"
  },
  "language_info": {
   "codemirror_mode": {
    "name": "ipython",
    "version": 3
   },
   "file_extension": ".py",
   "mimetype": "text/x-python",
   "name": "python",
   "nbconvert_exporter": "python",
   "pygments_lexer": "ipython3",
   "version": "3.7.11"
  }
 },
 "nbformat": 4,
 "nbformat_minor": 5
}
