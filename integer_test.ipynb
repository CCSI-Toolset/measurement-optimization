{
 "cells": [
  {
   "cell_type": "code",
   "execution_count": 1,
   "id": "1d3c20bc",
   "metadata": {},
   "outputs": [
    {
     "name": "stdout",
     "output_type": "stream",
     "text": [
      "(CVXPY) Jun 29 11:54:33 PM: Encountered unexpected exception importing solver GUROBI:\n",
      "ImportError('libgurobi95.so: cannot open shared object file: No such file or directory')\n",
      "(CVXPY) Jun 29 11:54:33 PM: Encountered unexpected exception importing solver GUROBI:\n",
      "ImportError('libgurobi95.so: cannot open shared object file: No such file or directory')\n"
     ]
    }
   ],
   "source": [
    "import cvxpy as cp\n",
    "import numpy as np\n"
   ]
  },
  {
   "cell_type": "code",
   "execution_count": 2,
   "id": "9e82d155",
   "metadata": {},
   "outputs": [],
   "source": [
    "# Generate a random problem\n",
    "np.random.seed(0)\n",
    "m, n= 40, 25\n",
    "\n",
    "A = np.random.rand(m, n)\n",
    "b = np.random.randn(m)"
   ]
  },
  {
   "cell_type": "code",
   "execution_count": 4,
   "id": "4d0f0797",
   "metadata": {},
   "outputs": [
    {
     "name": "stdout",
     "output_type": "stream",
     "text": [
      "===============================================================================\n",
      "                                     CVXPY                                     \n",
      "                                     v1.2.1                                    \n",
      "===============================================================================\n",
      "(CVXPY) Jun 29 11:54:56 PM: Your problem has 25 variables, 0 constraints, and 0 parameters.\n",
      "(CVXPY) Jun 29 11:54:56 PM: It is compliant with the following grammars: DCP, DQCP\n",
      "(CVXPY) Jun 29 11:54:56 PM: (If you need to solve this problem multiple times, but with different data, consider using parameters.)\n",
      "(CVXPY) Jun 29 11:54:56 PM: CVXPY will first compile your problem; then, it will invoke a numerical solver to obtain a solution.\n",
      "-------------------------------------------------------------------------------\n",
      "                                  Compilation                                  \n",
      "-------------------------------------------------------------------------------\n",
      "(CVXPY) Jun 29 11:54:56 PM: Compiling problem (target solver=MOSEK).\n",
      "(CVXPY) Jun 29 11:54:56 PM: Reduction chain: Dcp2Cone -> CvxAttr2Constr -> ConeMatrixStuffing -> MOSEK\n",
      "(CVXPY) Jun 29 11:54:56 PM: Applying reduction Dcp2Cone\n",
      "(CVXPY) Jun 29 11:54:56 PM: Applying reduction CvxAttr2Constr\n",
      "(CVXPY) Jun 29 11:54:56 PM: Applying reduction ConeMatrixStuffing\n",
      "(CVXPY) Jun 29 11:54:56 PM: Applying reduction MOSEK\n",
      "(CVXPY) Jun 29 11:54:56 PM: Finished problem compilation (took 1.666e-02 seconds).\n",
      "-------------------------------------------------------------------------------\n",
      "                                Numerical solver                               \n",
      "-------------------------------------------------------------------------------\n",
      "(CVXPY) Jun 29 11:54:56 PM: Invoking solver MOSEK  to obtain a solution.\n",
      "\n",
      "\n",
      "(CVXPY) Jun 29 11:54:56 PM: Problem\n",
      "(CVXPY) Jun 29 11:54:56 PM:   Name                   :                 \n",
      "(CVXPY) Jun 29 11:54:56 PM:   Objective sense        : min             \n",
      "(CVXPY) Jun 29 11:54:56 PM:   Type                   : CONIC (conic optimization problem)\n",
      "(CVXPY) Jun 29 11:54:56 PM:   Constraints            : 42              \n",
      "(CVXPY) Jun 29 11:54:56 PM:   Cones                  : 1               \n",
      "(CVXPY) Jun 29 11:54:56 PM:   Scalar variables       : 68              \n",
      "(CVXPY) Jun 29 11:54:56 PM:   Matrix variables       : 0               \n",
      "(CVXPY) Jun 29 11:54:56 PM:   Integer variables      : 25              \n",
      "(CVXPY) Jun 29 11:54:56 PM: \n",
      "(CVXPY) Jun 29 11:54:56 PM: Optimizer started.\n",
      "(CVXPY) Jun 29 11:54:56 PM: Mixed integer optimizer started.\n",
      "(CVXPY) Jun 29 11:54:56 PM: Threads used: 2\n",
      "(CVXPY) Jun 29 11:54:56 PM: Presolve started.\n",
      "(CVXPY) Jun 29 11:54:56 PM: Presolve terminated. Time = 0.00\n",
      "(CVXPY) Jun 29 11:54:56 PM: Presolved problem: 67 variables, 41 constraints, 1042 non-zeros\n",
      "(CVXPY) Jun 29 11:54:56 PM: Presolved problem: 25 general integer, 0 binary, 42 continuous\n",
      "(CVXPY) Jun 29 11:54:56 PM: Clique table size: 0\n",
      "(CVXPY) Jun 29 11:54:56 PM: BRANCHES RELAXS   ACT_NDS  DEPTH    BEST_INT_OBJ         BEST_RELAX_OBJ       REL_GAP(%)  TIME  \n",
      "(CVXPY) Jun 29 11:54:56 PM: 0        1        1        0        NA                   1.0015389530e+01     NA          0.1   \n",
      "(CVXPY) Jun 29 11:54:56 PM: 0        1        1        0        1.4814334976e+01     1.0015389530e+01     32.39       0.1   \n",
      "(CVXPY) Jun 29 11:54:56 PM: Cut generation started.\n",
      "(CVXPY) Jun 29 11:54:56 PM: 0        1        1        0        1.4814334976e+01     1.0015389530e+01     32.39       0.1   \n",
      "(CVXPY) Jun 29 11:54:56 PM: Cut generation terminated. Time = 0.00\n",
      "(CVXPY) Jun 29 11:54:56 PM: 11       15       12       3        1.4814334976e+01     1.0711149216e+01     27.70       0.1   \n",
      "(CVXPY) Jun 29 11:54:56 PM: 23       27       24       8        1.4814334976e+01     1.0711149216e+01     27.70       0.1   \n",
      "(CVXPY) Jun 29 11:54:56 PM: 47       51       38       4        1.4814334976e+01     1.0898555706e+01     26.43       0.1   \n",
      "(CVXPY) Jun 29 11:54:56 PM: 85       89       68       4        1.4814334976e+01     1.1162614101e+01     24.65       0.2   \n",
      "(CVXPY) Jun 29 11:54:56 PM: 153      157      112      12       1.4814334976e+01     1.1367390095e+01     23.27       0.2   \n",
      "(CVXPY) Jun 29 11:54:56 PM: 221      225      148      9        1.4814334976e+01     1.1504096280e+01     22.34       0.3   \n",
      "(CVXPY) Jun 29 11:54:56 PM: 288      292      163      10       1.3660003285e+01     1.1563240488e+01     15.35       0.3   \n",
      "(CVXPY) Jun 29 11:54:56 PM: 358      361      181      8        1.3660003285e+01     1.1747084128e+01     14.00       0.3   \n",
      "(CVXPY) Jun 29 11:54:56 PM: 429      431      194      8        1.3660003285e+01     1.1963783219e+01     12.42       0.4   \n",
      "(CVXPY) Jun 29 11:54:56 PM: 500      501      201      12       1.3660003285e+01     1.2062400743e+01     11.70       0.4   \n",
      "(CVXPY) Jun 29 11:54:56 PM: 572      571      207      6        1.3660003285e+01     1.2158508841e+01     10.99       0.5   \n",
      "(CVXPY) Jun 29 11:54:56 PM: 645      641      212      11       1.3660003285e+01     1.2329223866e+01     9.74        0.5   \n",
      "(CVXPY) Jun 29 11:54:56 PM: 718      711      205      8        1.3660003285e+01     1.2381508934e+01     9.36        0.5   \n",
      "(CVXPY) Jun 29 11:54:56 PM: 788      779      193      11       1.3660003285e+01     1.2435554755e+01     8.96        0.6   \n",
      "(CVXPY) Jun 29 11:54:56 PM: 858      848      195      7        1.3660003285e+01     1.2509193484e+01     8.42        0.6   \n",
      "(CVXPY) Jun 29 11:54:56 PM: 930      917      185      8        1.3660003285e+01     1.2622828305e+01     7.59        0.7   \n",
      "(CVXPY) Jun 29 11:54:56 PM: 1003     986      164      9        1.3660003285e+01     1.2704673465e+01     6.99        0.7   \n",
      "(CVXPY) Jun 29 11:54:56 PM: 1078     1055     139      9        1.3660003285e+01     1.2794043211e+01     6.34        0.8   \n",
      "(CVXPY) Jun 29 11:54:56 PM: 1148     1125     109      10       1.3660003285e+01     1.2897778694e+01     5.58        0.8   \n",
      "(CVXPY) Jun 29 11:54:56 PM: 1222     1195     79       9        1.3660003285e+01     1.2964039125e+01     5.09        0.9   \n",
      "(CVXPY) Jun 29 11:54:56 PM: 1299     1265     32       8        1.3660003285e+01     1.3124039708e+01     3.92        0.9   \n",
      "(CVXPY) Jun 29 11:54:56 PM: 1331     1295     14       8        1.3660003285e+01     1.3272292178e+01     2.84        1.0   \n",
      "(CVXPY) Jun 29 11:54:57 PM: 1345     1309     6        8        1.3660003285e+01     1.3272292178e+01     2.84        1.0   \n",
      "(CVXPY) Jun 29 11:54:57 PM: An optimal solution satisfying the relative gap tolerance of 1.00e-02(%) has been located.\n",
      "(CVXPY) Jun 29 11:54:57 PM: The relative gap is 0.00e+00(%).\n",
      "(CVXPY) Jun 29 11:54:57 PM: An optimal solution satisfying the absolute gap tolerance of 0.00e+00 has been located.\n",
      "(CVXPY) Jun 29 11:54:57 PM: The absolute gap is 0.00e+00.\n",
      "(CVXPY) Jun 29 11:54:57 PM: \n",
      "(CVXPY) Jun 29 11:54:57 PM: Objective of best integer solution : 1.366000328544e+01      \n",
      "(CVXPY) Jun 29 11:54:57 PM: Best objective bound               : 1.366000328544e+01      \n",
      "(CVXPY) Jun 29 11:54:57 PM: Construct solution objective       : Not employed\n",
      "(CVXPY) Jun 29 11:54:57 PM: User objective cut value           : Not employed\n",
      "(CVXPY) Jun 29 11:54:57 PM: Number of cuts generated           : 0\n",
      "(CVXPY) Jun 29 11:54:57 PM: Number of branches                 : 1352\n",
      "(CVXPY) Jun 29 11:54:57 PM: Number of relaxations solved       : 1316\n",
      "(CVXPY) Jun 29 11:54:57 PM: Number of interior point iterations: 10697\n",
      "(CVXPY) Jun 29 11:54:57 PM: Number of simplex iterations       : 0\n",
      "(CVXPY) Jun 29 11:54:57 PM: Time spend presolving the root     : 0.00\n",
      "(CVXPY) Jun 29 11:54:57 PM: Time spend optimizing the root     : 0.01\n",
      "(CVXPY) Jun 29 11:54:57 PM: Mixed integer optimizer terminated. Time: 0.97\n",
      "(CVXPY) Jun 29 11:54:57 PM: \n",
      "(CVXPY) Jun 29 11:54:57 PM: Optimizer terminated. Time: 1.00    \n",
      "(CVXPY) Jun 29 11:54:57 PM: \n",
      "(CVXPY) Jun 29 11:54:57 PM: \n",
      "(CVXPY) Jun 29 11:54:57 PM: Integer solution solution summary\n",
      "(CVXPY) Jun 29 11:54:57 PM:   Problem status  : PRIMAL_FEASIBLE\n",
      "(CVXPY) Jun 29 11:54:57 PM:   Solution status : INTEGER_OPTIMAL\n",
      "(CVXPY) Jun 29 11:54:57 PM:   Primal.  obj: 1.3660003285e+01    nrm: 1e+01    Viol.  con: 1e-15    var: 0e+00    cones: 6e-09    itg: 5e-06  \n"
     ]
    },
    {
     "name": "stdout",
     "output_type": "stream",
     "text": [
      "-------------------------------------------------------------------------------\n",
      "                                    Summary                                    \n",
      "-------------------------------------------------------------------------------\n",
      "(CVXPY) Jun 29 11:54:57 PM: Problem status: optimal\n",
      "(CVXPY) Jun 29 11:54:57 PM: Optimal value: 1.366e+01\n",
      "(CVXPY) Jun 29 11:54:57 PM: Compilation took 1.666e-02 seconds\n",
      "(CVXPY) Jun 29 11:54:57 PM: Solver (including time spent in interface) took 1.010e+00 seconds\n"
     ]
    },
    {
     "data": {
      "text/plain": [
       "13.66000334596057"
      ]
     },
     "execution_count": 4,
     "metadata": {},
     "output_type": "execute_result"
    }
   ],
   "source": [
    "# Construct a CVXPY problem\n",
    "x = cp.Variable(n, integer=True)\n",
    "objective = cp.Minimize(cp.sum_squares(A @ x - b))\n",
    "prob = cp.Problem(objective)\n",
    "prob.solve(verbose=True) "
   ]
  },
  {
   "cell_type": "code",
   "execution_count": null,
   "id": "e504e1f5",
   "metadata": {},
   "outputs": [],
   "source": []
  }
 ],
 "metadata": {
  "kernelspec": {
   "display_name": "Python 3 (ipykernel)",
   "language": "python",
   "name": "python3"
  },
  "language_info": {
   "codemirror_mode": {
    "name": "ipython",
    "version": 3
   },
   "file_extension": ".py",
   "mimetype": "text/x-python",
   "name": "python",
   "nbconvert_exporter": "python",
   "pygments_lexer": "ipython3",
   "version": "3.10.4"
  }
 },
 "nbformat": 4,
 "nbformat_minor": 5
}
