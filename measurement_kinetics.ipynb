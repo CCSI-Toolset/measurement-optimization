{
 "cells": [
  {
   "cell_type": "code",
   "execution_count": 1,
   "id": "9f0457a1",
   "metadata": {},
   "outputs": [],
   "source": [
    "import matplotlib.pyplot as plt\n",
    "from pyomo.environ import *\n",
    "from pyomo.dae import *\n",
    "\n",
    "import numpy as np\n",
    "#from scipy.interpolate import interp2d\n",
    "import pandas as pd \n",
    "from itertools import permutations, product, combinations\n",
    "import idaes\n",
    "from itertools import permutations, product\n",
    "\n",
    "from fim_doe import *\n",
    "\n",
    "import pyomo.common.unittest as unittest"
   ]
  },
  {
   "cell_type": "code",
   "execution_count": 2,
   "id": "ae7e4fa1",
   "metadata": {},
   "outputs": [
    {
     "ename": "ModuleNotFoundError",
     "evalue": "No module named 'cvxpy'",
     "output_type": "error",
     "traceback": [
      "\u001b[0;31m---------------------------------------------------------------------------\u001b[0m",
      "\u001b[0;31mModuleNotFoundError\u001b[0m                       Traceback (most recent call last)",
      "\u001b[0;32m/tmp/ipykernel_3072034/3619785861.py\u001b[0m in \u001b[0;36m<module>\u001b[0;34m\u001b[0m\n\u001b[0;32m----> 1\u001b[0;31m \u001b[0;32mimport\u001b[0m \u001b[0mcvxpy\u001b[0m \u001b[0;32mas\u001b[0m \u001b[0mcp\u001b[0m\u001b[0;34m\u001b[0m\u001b[0;34m\u001b[0m\u001b[0m\n\u001b[0m\u001b[1;32m      2\u001b[0m \u001b[0;34m\u001b[0m\u001b[0m\n\u001b[1;32m      3\u001b[0m \u001b[0;32mfrom\u001b[0m \u001b[0mreactor_kinetics\u001b[0m \u001b[0;32mimport\u001b[0m \u001b[0;34m*\u001b[0m\u001b[0;34m\u001b[0m\u001b[0;34m\u001b[0m\u001b[0m\n",
      "\u001b[0;31mModuleNotFoundError\u001b[0m: No module named 'cvxpy'"
     ]
    }
   ],
   "source": [
    "import cvxpy as cp\n",
    "\n",
    "from reactor_kinetics import *"
   ]
  },
  {
   "cell_type": "markdown",
   "id": "0686ac34",
   "metadata": {},
   "source": [
    "## FIM generator"
   ]
  },
  {
   "cell_type": "code",
   "execution_count": null,
   "id": "aab09641",
   "metadata": {},
   "outputs": [],
   "source": [
    "def generate_exp(t_set, CA0, T):  \n",
    "    '''Generate experiments. \n",
    "    t_set: time control set for T.\n",
    "    CA0: CA0 value\n",
    "    T: A list of T \n",
    "    '''\n",
    "    assert(len(t_set)==len(T)), 'T should have the same length as t_set'\n",
    "    \n",
    "    T_con_initial = {}\n",
    "    for t, tim in enumerate(t_set):\n",
    "        T_con_initial[tim] = T[t]\n",
    "        \n",
    "    dv_dict_overall = {'CA0': {0: CA0},'T': T_con_initial}\n",
    "    return dv_dict_overall"
   ]
  },
  {
   "cell_type": "code",
   "execution_count": null,
   "id": "d8b423be",
   "metadata": {},
   "outputs": [],
   "source": [
    "def return_FIM(measure_pass):\n",
    "    # Create model function\n",
    "    createmod = create_model\n",
    "\n",
    "    # discretization by Pyomo.DAE\n",
    "    disc = disc_for_measure\n",
    "\n",
    "    # Control time set [h]\n",
    "    t_control = [0, 0.125, 0.25, 0.375, 0.5, 0.625, 0.75, 0.875, 1]\n",
    "\n",
    "    \n",
    "\n",
    "    # design variable and its control time set\n",
    "    dv_pass = {'CA0': [0],'T': t_control}\n",
    "\n",
    "    t_test = [0.125, 0.375, 0.625, 0.875]\n",
    "\n",
    "    \n",
    "    measure_class =  Measurements(measure_pass)\n",
    "\n",
    "    # Define parameter nominal value \n",
    "    parameter_dict = {'A1': 84.79085853498033, 'A2': 371.71773413976416, 'E1': 7.777032028026428, 'E2': 15.047135137500822}\n",
    "    \n",
    "    # empty prior\n",
    "    prior_all = np.zeros((4,4))\n",
    "\n",
    "    prior_pass=np.asarray(prior_all)\n",
    "\n",
    "    print('The prior information FIM:', prior_pass)\n",
    "    \n",
    "\n",
    "    # choose from 'sequential_finite', 'direct_kaug'\n",
    "    # 'sequential_sipopt', 'sequential_kaug' is also available\n",
    "    sensi_opt = 'sequential_finite'\n",
    "    #sensi_opt = 'direct_kaug'\n",
    "\n",
    "    # model option\n",
    "    if sensi_opt == 'direct_kaug':\n",
    "        args_ = [False]\n",
    "    else:\n",
    "        args_ = [True]\n",
    "\n",
    "\n",
    "    # Define experiments\n",
    "    exp1 = generate_exp(t_control, 5, [570, 300, 300, 300, 300, 300, 300, 300, 300])\n",
    "    \n",
    "    doe_object = DesignOfExperiments(parameter_dict, dv_pass,\n",
    "                                 measure_class, createmod,\n",
    "                                prior_FIM=prior_pass, discretize_model=disc, args=args_, verbose=False)\n",
    "\n",
    "\n",
    "    result = doe_object.compute_FIM(exp1,mode=sensi_opt, FIM_store_name = 'dynamic.csv', scale_nominal_param_value=True, \n",
    "                                    store_output = 'store_output', read_output=None,tee_opt=False,\n",
    "                                    formula='central')\n",
    "\n",
    "\n",
    "    result.calculate_FIM(doe_object.design_values)\n",
    "    \n",
    "    \n",
    "    print('======Result summary======')\n",
    "    print('Four design criteria log10() value:')\n",
    "    print('A-optimality:', np.log10(result.trace))\n",
    "    print('D-optimality:', np.log10(result.det))\n",
    "    print('E-optimality:', np.log10(result.min_eig))\n",
    "    print('Modified E-optimality:', np.log10(result.cond))\n",
    "    \n",
    "    return result.FIM, result.jaco_information"
   ]
  },
  {
   "cell_type": "code",
   "execution_count": null,
   "id": "b78dbdc7",
   "metadata": {},
   "outputs": [],
   "source": [
    "# Create measurement object\n",
    "# Measurement time points [h]\n",
    "t_measure = [0, 0.125, 0.25, 0.375, 0.5, 0.625, 0.75, 0.875, 1]\n",
    "\n",
    "measure_pass = {'C':{'CA': t_measure, 'CB': t_measure, 'CC': t_measure}}\n",
    "#measure_pass = {'C':{'CC': t_test}}"
   ]
  },
  {
   "cell_type": "code",
   "execution_count": null,
   "id": "d36287f0",
   "metadata": {},
   "outputs": [],
   "source": [
    "fim1, jaco1 = return_FIM(measure_pass)\n",
    "print(jaco1)"
   ]
  },
  {
   "cell_type": "markdown",
   "id": "6e8e81be",
   "metadata": {},
   "source": [
    "### Jacobian generator"
   ]
  },
  {
   "cell_type": "code",
   "execution_count": null,
   "id": "287bc7da",
   "metadata": {},
   "outputs": [],
   "source": [
    "jaco = pd.DataFrame(jaco1)\n",
    "jaco.to_csv('./kinetics_fim/Q.csv')"
   ]
  },
  {
   "cell_type": "markdown",
   "id": "57629e63",
   "metadata": {},
   "source": [
    "### FIM generator"
   ]
  },
  {
   "cell_type": "code",
   "execution_count": null,
   "id": "9af49ad6",
   "metadata": {},
   "outputs": [],
   "source": [
    "FIM_set = []\n",
    "\n",
    "def to_dataframe(fim_list):\n",
    "    \n",
    "    fim_dict = {'P1': fim_list[0], \n",
    "               'P2': fim_list[1],\n",
    "               'P3': fim_list[2], \n",
    "               'P4': fim_list[3]\n",
    "               }\n",
    "    fim_frame = pd.DataFrame(fim_dict)\n",
    "    \n",
    "    return fim_frame"
   ]
  },
  {
   "cell_type": "code",
   "execution_count": null,
   "id": "4b0a4340",
   "metadata": {
    "scrolled": true
   },
   "outputs": [],
   "source": [
    "t_measure = [0, 0.125, 0.25, 0.375, 0.5, 0.625, 0.75, 0.875, 1]\n",
    "#t_measure = [0]\n",
    "\n",
    "#measure_pass = {'C':{'CA': t_measure, 'CB': t_measure, 'CC': t_measure}}\n",
    "#measure_pass = {'C':{'CC': t_test}}\n",
    "\n",
    "for idx, i in enumerate(t_measure):\n",
    "    measure_pass = {'C':{'CA': [i]}}\n",
    "    fim1, _ = return_FIM(measure_pass)\n",
    "    FIM_set.append(fim1)\n",
    "    print('FIM for CA, time ', i, ':', fim1)\n",
    "    fim1_dataframe = to_dataframe(fim1)\n",
    "    fim1_dataframe.to_csv('./kinetics_fim/CA_'+str(idx)+'.csv')\n",
    "    \n",
    "for idx, i in enumerate(t_measure):\n",
    "    measure_pass = {'C':{'CB': [i]}}\n",
    "    fim1, _ = return_FIM(measure_pass)\n",
    "    FIM_set.append(fim1)\n",
    "    print('FIM for CB, time ', i, ':', fim1)\n",
    "    fim1_dataframe = to_dataframe(fim1)\n",
    "    fim1_dataframe.to_csv('./kinetics_fim/CB_'+str(idx)+'.csv')\n",
    "    \n",
    "for idx, i in enumerate(t_measure):\n",
    "    measure_pass = {'C':{'CC': [i]}}\n",
    "    fim1, _ = return_FIM(measure_pass)\n",
    "    FIM_set.append(fim1)\n",
    "    print('FIM for CC, time ', i, ':', fim1)\n",
    "    fim1_dataframe = to_dataframe(fim1)\n",
    "    fim1_dataframe.to_csv('./kinetics_fim/CC_'+str(idx)+'.csv')"
   ]
  },
  {
   "cell_type": "code",
   "execution_count": null,
   "id": "3b0d7901",
   "metadata": {},
   "outputs": [],
   "source": [
    "print(np.shape(FIM_set))\n",
    "\n",
    "print(FIM_set[0][1,1])\n",
    "\n",
    "print(FIM_set)"
   ]
  },
  {
   "cell_type": "markdown",
   "id": "ad112446",
   "metadata": {},
   "source": [
    "## FIM reader"
   ]
  },
  {
   "cell_type": "code",
   "execution_count": null,
   "id": "1a26e58e",
   "metadata": {},
   "outputs": [],
   "source": [
    "def dataframe_return(data):\n",
    "    fim1 = []\n",
    "    fim1.append(data['P1'].to_list())\n",
    "    fim1.append(data['P2'].to_list())\n",
    "    fim1.append(data['P3'].to_list())\n",
    "    fim1.append(data['P4'].to_list())\n",
    "    \n",
    "    return fim1 "
   ]
  },
  {
   "cell_type": "code",
   "execution_count": null,
   "id": "0af97d9d",
   "metadata": {},
   "outputs": [],
   "source": [
    "t_measure = [0, 0.125, 0.25, 0.375, 0.5, 0.625, 0.75, 0.875, 1]\n",
    "\n",
    "#t_measure = [0.125]\n",
    "\n",
    "\n",
    "\n",
    "def FIM_reader(rank='onebyone'):\n",
    "    \n",
    "    FIM_set = []\n",
    "    \n",
    "    if rank=='onebyone':\n",
    "        for idx, i in enumerate(t_measure):\n",
    "            fim1_data = pd.read_csv('./kinetics_fim/CA_' + str(idx)+'.csv')\n",
    "            \n",
    "            fim1 = dataframe_return(fim1_data)\n",
    "            FIM_set.append(fim1)\n",
    "            \n",
    "            fim2_data = pd.read_csv('./kinetics_fim/CB_' + str(idx)+'.csv')\n",
    "            \n",
    "            fim2 = dataframe_return(fim2_data)\n",
    "            FIM_set.append(fim2)\n",
    "            \n",
    "            fim3_data = pd.read_csv('./kinetics_fim/CC_' + str(idx)+'.csv')\n",
    "            \n",
    "            fim3 = dataframe_return(fim3_data)\n",
    "            FIM_set.append(fim3)\n",
    "            \n",
    "    elif rank=='onealong':\n",
    "        for idx, i in enumerate(t_measure):\n",
    "            fim1_data = pd.read_csv('./kinetics_fim/CA_' + str(idx)+'.csv')\n",
    "            \n",
    "            fim1 = dataframe_return(fim1_data)\n",
    "            FIM_set.append(fim1)\n",
    "            \n",
    "        for idx, i in enumerate(t_measure):\n",
    "            fim2_data = pd.read_csv('./kinetics_fim/CB_' + str(idx)+'.csv')\n",
    "            \n",
    "            fim2 = dataframe_return(fim2_data)\n",
    "            FIM_set.append(fim2)\n",
    "            \n",
    "        for idx, i in enumerate(t_measure):\n",
    "            fim3_data = pd.read_csv('./kinetics_fim/CC_' + str(idx)+'.csv')\n",
    "            \n",
    "            fim3 = dataframe_return(fim3_data)\n",
    "            FIM_set.append(fim3)\n",
    "            \n",
    "            \n",
    "    return FIM_set\n",
    "        \n",
    "FIM_set = FIM_reader(rank='onealong')\n",
    "print(np.shape(FIM_set))\n",
    "print(FIM_set[0][1][1])"
   ]
  },
  {
   "cell_type": "code",
   "execution_count": null,
   "id": "b6967fd3",
   "metadata": {},
   "outputs": [],
   "source": [
    "TotalF = np.zeros((4,4))\n",
    "for i in range(4):\n",
    "    for j in range(4):\n",
    "        TotalF[i,j] = sum(FIM_set[k][i][j] for k in range(27))\n",
    "        \n",
    "print(TotalF)\n",
    "\n",
    "print(np.trace(TotalF))\n",
    "print(np.linalg.det(TotalF))\n",
    "print(np.linalg.eigvals(TotalF))"
   ]
  },
  {
   "cell_type": "markdown",
   "id": "e259a939",
   "metadata": {},
   "source": [
    "### Jacobian reader"
   ]
  },
  {
   "cell_type": "code",
   "execution_count": 3,
   "id": "74bf810c",
   "metadata": {},
   "outputs": [
    {
     "name": "stdout",
     "output_type": "stream",
     "text": [
      "[[0.0, 0.0, 0.0, 0.0], [-1.346695417017152, -1.665334536937735e-13, 2.223379846162832, -1.6653345369377348e-13], [-1.039297035228287, -2.220446049250313e-13, 2.004516103508741, -1.6653345369377348e-13], [-0.7733130998612002, -1.3877787807814457e-13, 1.63790005416059, -1.1102230246251565e-13], [-0.560819154400885, -1.249000902703301e-13, 1.2648388615049688, -6.938893903907228e-14], [-0.3990444064009696, -4.8572257327350605e-14, 0.9415433202331, -2.081668171172168e-14], [-0.2797955547643657, -5.5511151231257833e-14, 0.6830391077798161, -2.081668171172168e-14], [-0.1939053002679436, -3.1225022567582534e-14, 0.486126099753268, -3.4694469519536138e-15], [-0.1331100105811684, -1.3877787807814455e-14, 0.3409191457896289, 1.040834085586084e-14], [0.0, 0.0, 0.0, 0.0], [0.0199157340269318, -1.3752037136890438, -0.0468172929494192, 4.379651748244728], [-0.2728277373608145, -1.38740313152641, 0.1675143115261734, 4.866408693837143], [-0.4952849992631014, -1.4015562993399122, 0.4972483613988609, 5.32136224081181], [-0.6436372848857008, -1.4096897316501211, 0.7975217042995864, 5.701010909036962], [-0.7284027976047769, -1.4082705406104346, 1.018761917449651, 5.988156232832331], [-0.764065430574612, -1.3963174644404663, 1.1553250734815943, 6.180558543165904], [-0.7644777115803912, -1.3742506806110333, 1.219268971831444, 6.28404415612449], [-0.7411661969829453, -1.34319967277996, 1.2276367843273572, 6.308370991028989], [0.0, 0.0, 0.0, 0.0], [1.3267796829901088, 1.3752037136887107, -2.1765625532130795, -4.379651748244395], [1.3121247725891294, 1.3874031315266322, -2.1720304150352194, -4.866408693837476], [1.268598099124052, 1.4015562993403563, -2.135148415559618, -5.3213622408117], [1.204456439286794, 1.409689731650232, -2.0623605658043327, -5.701010909037407], [1.1274472040057049, 1.4082705406104346, -1.9603052376824248, -5.988156232832108], [1.0438609853389291, 1.3963174644409104, -1.8383641812615976, -6.180558543166015], [0.9583830118478076, 1.3742506806111443, -1.7053950715846256, -6.284044156124269], [0.8742762075641951, 1.343199672780182, -1.5685559301172878, -6.308370991028767]]\n"
     ]
    }
   ],
   "source": [
    "jaco_info = pd.read_csv('./kinetics_fim/Q.csv')\n",
    "\n",
    "#print(jaco_info)\n",
    "\n",
    "\n",
    "Q_stack = []\n",
    "\n",
    "for i in range(27):\n",
    "    \n",
    "    Q_res = [jaco_info['A1'].iloc[i], jaco_info['A2'].iloc[i], jaco_info['E1'].iloc[i], jaco_info['E2'].iloc[i]]\n",
    "    \n",
    "    \n",
    "    Q_stack.append(Q_res)\n",
    "    \n",
    "print(Q_stack)"
   ]
  },
  {
   "cell_type": "markdown",
   "id": "1d1d8583",
   "metadata": {},
   "source": [
    "### FIM verificator"
   ]
  },
  {
   "cell_type": "code",
   "execution_count": null,
   "id": "b52b9ecd",
   "metadata": {},
   "outputs": [],
   "source": [
    "#optimize_sol = [ 0, 0, 0, \n",
    "#                1, 1, 1, 1, 1, 1,\n",
    "#                1, 1, 1, 1, 1, 1, \n",
    "#                0, 1, 1, 0, 1, 1,\n",
    "#                0, 1, 1, 0, 1, 1]\n",
    "\n",
    "\n",
    "SelectF = np.zeros((4,4))\n",
    "for i in range(4):\n",
    "    for j in range(4):\n",
    "        SelectF[i,j] = sum(FIM_set[k][i,j]*yi for k, yi in enumerate(optimize_sol))\n",
    "        \n",
    "print(SelectF)\n",
    "\n",
    "print(np.trace(SelectF))\n",
    "print(np.linalg.det(SelectF))\n",
    "print(np.linalg.eigvals(SelectF))"
   ]
  },
  {
   "cell_type": "markdown",
   "id": "610c790d",
   "metadata": {},
   "source": [
    "## CVXPY problem\n",
    "\n",
    "no variance"
   ]
  },
  {
   "cell_type": "code",
   "execution_count": null,
   "id": "d9d0af97",
   "metadata": {},
   "outputs": [],
   "source": [
    "no_res = 27"
   ]
  },
  {
   "cell_type": "code",
   "execution_count": null,
   "id": "1398e402",
   "metadata": {},
   "outputs": [],
   "source": [
    "def eval_fim(yi):\n",
    "     \n",
    "    fim = sum(yy*FIM_set[idx] for idx, yy in enumerate(yi))\n",
    "    #fim = cp.bmat(FIM_set)\n",
    "        \n",
    "    return fim \n",
    "\n",
    "def a_opt(yi):\n",
    "    fim = eval_fim(yi)\n",
    "    #return cp.matrix_frac(np.identity(fim.shape==[0]), fim)\n",
    "    return cp.trace(fim)\n",
    "    \n",
    "def d_opt(yi):\n",
    "    fim = eval_fim(yi)\n",
    "    return cp.log_det(fim)\n",
    "\n",
    "def e_opt(yi):\n",
    "    fim = eval_fim(yi)\n",
    "    return -cp.lambda_min(fim)"
   ]
  },
  {
   "cell_type": "code",
   "execution_count": null,
   "id": "4e8d3bc7",
   "metadata": {},
   "outputs": [],
   "source": [
    "yi = cp.Variable(no_res, nonneg=True)\n",
    "\n",
    "p_cons = [cp.sum(yi) <= 20]\n",
    "\n",
    "for i in yi:\n",
    "    p_cons += [i<=1]\n",
    "\n",
    "obj = cp.Maximize(d_opt(yi))\n",
    "\n",
    "problem = cp.Problem(obj, p_cons)"
   ]
  },
  {
   "cell_type": "code",
   "execution_count": null,
   "id": "652c3b09",
   "metadata": {
    "scrolled": true
   },
   "outputs": [],
   "source": [
    "print('Optimal value:', problem.solve(verbose=True))\n",
    "\n",
    "print(yi.value)"
   ]
  },
  {
   "cell_type": "markdown",
   "id": "bdc7462a",
   "metadata": {},
   "source": [
    "## cvxpy problem \n",
    "\n",
    "With variance"
   ]
  },
  {
   "cell_type": "code",
   "execution_count": null,
   "id": "31d54ca3",
   "metadata": {},
   "outputs": [],
   "source": [
    "def eval_fim(ya, yb, yc):\n",
    "     \n",
    "    fim = sum(yy1*FIM_set[idx] for idx, yy1 in enumerate(ya))+sum(yy2*FIM_set[idx+9]*0.25 for idx, yy2 in enumerate(yb)) + sum(yy3*FIM_set[idx+18]*0.25 for idx, yy3 in enumerate(yc))\n",
    "                \n",
    "    return fim \n",
    "\n",
    "def a_opt(yi):\n",
    "    fim = eval_fim(yi)\n",
    "    #return cp.matrix_frac(np.identity(fim.shape==[0]), fim)\n",
    "    return cp.trace(fim)\n",
    "    \n",
    "def d_opt(ya, yb, yc):\n",
    "    fim = eval_fim(ya, yb, yc)\n",
    "    return cp.log_det(fim)\n",
    "\n",
    "def e_opt(yi):\n",
    "    fim = eval_fim(yi)\n",
    "    return -cp.lambda_min(fim)"
   ]
  },
  {
   "cell_type": "code",
   "execution_count": null,
   "id": "4dc34274",
   "metadata": {},
   "outputs": [],
   "source": [
    "no_res_unit = 9\n",
    "\n",
    "ya = cp.Variable(no_res_unit, nonneg=True)\n",
    "yb = cp.Variable(no_res_unit, nonneg=True)\n",
    "yc = cp.Variable(no_res_unit, nonneg=True)\n",
    "\n",
    "p_cons = [cp.sum(ya*10) + cp.sum(yb*6) + cp.sum(yc*6) <= 80]\n",
    "\n",
    "for i in ya:\n",
    "    p_cons += [i<=1]\n",
    "for j in yb:\n",
    "    p_cons += [j<=1]\n",
    "for d in yc:\n",
    "    p_cons += [d<=1]\n",
    "    \n",
    "obj = cp.Maximize(d_opt(ya, yb, yc))\n",
    "\n",
    "problem = cp.Problem(obj, p_cons)\n",
    "\n"
   ]
  },
  {
   "cell_type": "code",
   "execution_count": null,
   "id": "71214e59",
   "metadata": {},
   "outputs": [],
   "source": [
    "print('First time: Optimal value:', problem.solve(verbose=True, max_iters=150000))\n",
    "\n",
    "print('Second time: Optimal value:', problem.solve(verbose=True, warm_start = True))"
   ]
  },
  {
   "cell_type": "code",
   "execution_count": null,
   "id": "5db82cb1",
   "metadata": {},
   "outputs": [],
   "source": [
    "print(ya.value)\n",
    "print(yb.value)\n",
    "print(yc.value)"
   ]
  },
  {
   "cell_type": "markdown",
   "id": "e9d4f152",
   "metadata": {},
   "source": [
    "## CVXPY problem - with covariance \n",
    "\n",
    "### Continuous "
   ]
  },
  {
   "cell_type": "code",
   "execution_count": 4,
   "id": "c5ef62c9",
   "metadata": {
    "scrolled": true
   },
   "outputs": [
    {
     "name": "stdout",
     "output_type": "stream",
     "text": [
      "[0.99566752 8.06331241 3.94102007 8.06331241 8.06331241 3.94102007\n",
      " 3.94102007 0.99566752 0.99566752 0.99566752 0.99566752 3.94102007\n",
      " 8.06331241 8.06331241 8.06331241 3.94102007 0.99566752 8.06331241\n",
      " 3.94102007 0.99566752 0.99566752 8.06331241 0.99566752 8.06331241\n",
      " 3.94102007 3.94102007 3.94102007]\n"
     ]
    }
   ],
   "source": [
    "# variance \n",
    "variance = [1, # var_CA^2\n",
    "            4, # var_CB^2\n",
    "            8  # var_CC^2\n",
    "           ]\n",
    "covariance = [ 0.1, # cov_CA_CB | ti, \n",
    "               0.1, # cov_CA_CC | ti, \n",
    "               0.5 # cov_CB_CC | ti\n",
    "]\n",
    "\n",
    "# construct Sigma\n",
    "sigma = np.zeros((27, 27))\n",
    "\n",
    "for i in range(27):\n",
    "    #for j in range(27):\n",
    "        \n",
    "        #if i==j:\n",
    "    if i<9:\n",
    "        sigma[i,i]=variance[0]\n",
    "        sigma[i,i+9]=covariance[0]\n",
    "        sigma[i,i+18]=covariance[1]\n",
    "    elif 9<= i < 18:\n",
    "        sigma[i,i]=variance[1]\n",
    "        sigma[i,i-9]=covariance[0]\n",
    "        sigma[i,i+9]=covariance[2]\n",
    "    elif i>=18:\n",
    "        sigma[i,i]=variance[2]\n",
    "        sigma[i,i-18]=covariance[1]\n",
    "        sigma[i,i-9]=covariance[2]\n",
    "                \n",
    "            \n",
    "# check eigen values to make sure it's PSD \n",
    "print(np.linalg.eigvals(sigma))\n",
    "\n"
   ]
  },
  {
   "cell_type": "code",
   "execution_count": null,
   "id": "c7db3a30",
   "metadata": {},
   "outputs": [],
   "source": [
    "sigma_inv = np.linalg.inv(sigma)"
   ]
  },
  {
   "cell_type": "code",
   "execution_count": null,
   "id": "1986221b",
   "metadata": {},
   "outputs": [],
   "source": [
    "for i in range(9):\n",
    "    for j in range(9):\n",
    "        if sigma_inv[i,j] != sigma_inv[j,i]:\n",
    "            print('wrong')\n",
    "            \n",
    "#print(sigma_inv)\n",
    "\n",
    "print(np.linalg.eigvals(sigma_inv))\n",
    "# verify: \n",
    "\n",
    "Q_array = np.asarray(Q_stack)\n",
    "\n",
    "fim = Q_array.T@sigma_inv@Q_array\n",
    "\n",
    "print(fim)\n",
    "print('trace:', np.trace(fim))\n",
    "print('det:', np.linalg.det(fim))\n",
    "print('logdet:', np.log(np.linalg.det(fim)))\n",
    "print('eig:', np.linalg.eigvals(fim))"
   ]
  },
  {
   "cell_type": "code",
   "execution_count": null,
   "id": "34d725f0",
   "metadata": {},
   "outputs": [],
   "source": [
    "# construct FIMs. Expect 27*27 FIMs\n",
    "# No \n",
    "print(np.shape(Q_stack))\n",
    "\n",
    "Q_matrix = []\n",
    "for i in range(27):\n",
    "    Q_matrix.append(np.asarray(Q_stack[i]).reshape((4,1)))\n",
    "# Q: [CA|t1, ..., CA|tN, CB|ti, ..., CC|ti, ...]\n",
    "\n",
    "FIM_collection = []\n",
    "\n",
    "for i in range(9):\n",
    "    # yCA, CA\n",
    "    mat = sigma_inv[i,i]*Q_matrix[i]@Q_matrix[i].T\n",
    "    FIM_collection.append(mat)\n",
    "\n",
    "for i in range(9):\n",
    "    # yCA, CB\n",
    "    FIM_collection.append(sigma_inv[i,i+9]*Q_matrix[i]@Q_matrix[i+9].T)\n",
    "\n",
    "for i in range(9):\n",
    "    # YCA, CC\n",
    "    FIM_collection.append(sigma_inv[i,i+18]*Q_matrix[i]@Q_matrix[i+18].T)\n",
    "\n",
    "for i in range(9,18): \n",
    "    FIM_collection.append(sigma_inv[i,i]*Q_matrix[i]@Q_matrix[i].T)\n",
    "\n",
    "for i in range(9,18): \n",
    "    FIM_collection.append(sigma_inv[i,i-9]*Q_matrix[i]@Q_matrix[i-9].T)\n",
    "\n",
    "for i in range(9,18): \n",
    "    FIM_collection.append(sigma_inv[i,i+9]*Q_matrix[i]@Q_matrix[i+9].T)\n",
    "\n",
    "for i in range(18, 27): \n",
    "    FIM_collection.append(sigma_inv[i,i]*Q_matrix[i]@Q_matrix[i].T)\n",
    "\n",
    "for i in range(18, 27): \n",
    "    FIM_collection.append(sigma_inv[i,i-18]*Q_matrix[i]@Q_matrix[i-18].T)\n",
    "\n",
    "for i in range(18, 27): \n",
    "    FIM_collection.append(sigma_inv[i,i-9]*Q_matrix[i]@Q_matrix[i-9].T)\n",
    "        \n",
    "\n",
    "print(np.shape(FIM_collection))"
   ]
  },
  {
   "cell_type": "code",
   "execution_count": null,
   "id": "93eeaf04",
   "metadata": {
    "scrolled": true
   },
   "outputs": [],
   "source": [
    "def compute():\n",
    "    #ya = [0.5, 0.238, 0, 0.26, 0, 0, 0, 0, 0]\n",
    "    yb = [0, 0.21, 0, 0, 0, 0, 0, 0, 0.29] \n",
    "    yc = [0, 0.36, 0, 0, 0, 0, 0, 0, 0.14]\n",
    "    ya = [0.5]+[1]*8\n",
    "    yb = [0.5]+[1]*8\n",
    "    yc = [0.5]+[1]*8\n",
    "    yac = [0.5]+[1]*6 + [0,0]\n",
    "    yab = [0.5]+[1]*8\n",
    "    ybc = [0.5]+[1]*8\n",
    "\n",
    "    print(ya)\n",
    "\n",
    "    #print(FIM_collection[33])\n",
    "\n",
    "    fim = sum(ya1*FIM_collection[idx] for idx, ya1 in enumerate(ya)) \\\n",
    "        + sum(yb1*FIM_collection[idx+27] for idx, yb1 in enumerate(yb)) \\\n",
    "        + sum(yc1*FIM_collection[idx+54] for idx, yc1 in enumerate(yc)) \\\n",
    "        + sum(yab1*FIM_collection[idx+9] for idx, yab1 in enumerate(yab)) \\\n",
    "        + sum(yab1*FIM_collection[idx+36] for idx, yab1 in enumerate(yab)) \\\n",
    "        + sum(yac1*FIM_collection[idx+18] for idx, yac1 in enumerate(yac)) \\\n",
    "        + sum(yac1*FIM_collection[idx+63] for idx, yac1 in enumerate(yac)) \\\n",
    "        + sum(ybc1*FIM_collection[idx+45] for idx, ybc1 in enumerate(ybc)) \\\n",
    "        + sum(ybc1*FIM_collection[idx+72] for idx, ybc1 in enumerate(ybc))\n",
    "\n",
    "    return fim\n",
    "\n",
    "fim = compute()\n",
    "    \n",
    "print(fim)\n",
    "print('trace:', np.trace(fim))\n",
    "print('det:', np.linalg.det(fim))\n",
    "print('logdet:', np.log(np.linalg.det(fim)))\n",
    "print('eig:', np.linalg.eigvals(fim))"
   ]
  },
  {
   "cell_type": "code",
   "execution_count": null,
   "id": "2052fa6b",
   "metadata": {},
   "outputs": [],
   "source": [
    "def eval_fim(ya, yb, yc, yab, yac, ybc):\n",
    "     \n",
    "    fim = sum(ya1*FIM_collection[idx] for idx, ya1 in enumerate(ya)) \\\n",
    "    + sum(yb1*FIM_collection[idx+27] for idx, yb1 in enumerate(yb)) \\\n",
    "    + sum(yc1*FIM_collection[idx+54] for idx, yc1 in enumerate(yc)) \\\n",
    "    + sum(yab1*FIM_collection[idx+9] for idx, yab1 in enumerate(yab)) \\\n",
    "    + sum(yab1*FIM_collection[idx+36] for idx, yab1 in enumerate(yab)) \\\n",
    "    + sum(yac1*FIM_collection[idx+18] for idx, yac1 in enumerate(yac)) \\\n",
    "    + sum(yac1*FIM_collection[idx+63] for idx, yac1 in enumerate(yac)) \\\n",
    "    + sum(ybc1*FIM_collection[idx+45] for idx, ybc1 in enumerate(ybc)) \\\n",
    "    + sum(ybc1*FIM_collection[idx+72] for idx, ybc1 in enumerate(ybc))\n",
    "    \n",
    "    return fim \n",
    "\n",
    "def a_opt(ya, yb, yc, yab, yac, ybc):\n",
    "    fim = eval_fim(ya, yb, yc, yab, yac, ybc)\n",
    "    return cp.trace(fim)\n",
    "    \n",
    "def d_opt(ya, yb, yc, yab, yac, ybc):\n",
    "    fim = eval_fim(ya, yb, yc, yab, yac, ybc)\n",
    "    return cp.log_det(fim)\n",
    "\n",
    "def e_opt(ya, yb, yc, yab, yac, ybc):\n",
    "    fim = eval_fim(ya, yb, yc, yab, yac, ybc)\n",
    "    return -cp.lambda_min(fim)"
   ]
  },
  {
   "cell_type": "code",
   "execution_count": null,
   "id": "470af95f",
   "metadata": {},
   "outputs": [],
   "source": [
    "no_res_unit = 9\n",
    "\n",
    "ya = cp.Variable(no_res_unit, nonneg=True)\n",
    "yb = cp.Variable(no_res_unit, nonneg=True)\n",
    "yc = cp.Variable(no_res_unit, nonneg=True)\n",
    "yab = cp.Variable(no_res_unit, nonneg=True)\n",
    "yac = cp.Variable(no_res_unit, nonneg=True)\n",
    "ybc = cp.Variable(no_res_unit, nonneg=True)\n",
    "\n",
    "p_cons = [cp.sum(ya*10) + cp.sum(yb*6) + cp.sum(yc*6) <= 100]\n",
    "\n",
    "#p_cons = []\n",
    "\n",
    "for i in ya:\n",
    "    p_cons += [i<=1]\n",
    "for j in yb:\n",
    "    p_cons += [j<=1]\n",
    "for d in yc:\n",
    "    p_cons += [d<=1]\n",
    "\n",
    "#for a in yab:\n",
    "#    p_cons += [a<=1]\n",
    "#for b in yac:\n",
    "#    p_cons += [b<=1]\n",
    "#for c in ybc:\n",
    "#    p_cons += [c<=1]\n",
    "\n",
    "\n",
    "#for x in yab:\n",
    "p_cons += [yab[i] <= ya[i] for i, idx in enumerate(ya)]\n",
    "p_cons += [yab[i] <= yb[i] for i, idx in enumerate(yb)]\n",
    "p_cons += [yac[i] <= ya[i] for i, idx in enumerate(ya)]\n",
    "p_cons += [yac[i] <= yc[i] for i, idx in enumerate(yc)]\n",
    "p_cons += [ybc[i] <= yb[i] for i, idx in enumerate(yb)]\n",
    "p_cons += [ybc[i] <= yc[i] for i, idx in enumerate(yc)]\n",
    "\n",
    "p_cons += [ya[i]+yb[i]-1<=yab[i] for i, idx in enumerate(ya)]\n",
    "p_cons += [ya[i]+yc[i]-1<=yac[i] for i, idx in enumerate(ya)]\n",
    "p_cons += [yb[i]+yc[i]-1<=ybc[i] for i, idx in enumerate(yb)]\n",
    "\n",
    "#p_cons += [yab@np.ones(9) <= ya]\n",
    "#p_cons += [yab@np.ones(9) <= yb]\n",
    "#p_cons += [yac@np.ones(9) <= ya]\n",
    "#p_cons += [yac@np.ones(9) <= yc]\n",
    "#p_cons += [ybc@np.ones(9) <= yb]\n",
    "#p_cons += [ybc@np.ones(9) <= yc]\n",
    "\n",
    "#p_cons += [ya@np.ones(9) + yb@np.ones(9) - np.ones(9) <= yab]\n",
    "#p_cons += [ya@np.ones(9) + yc@np.ones(9) - np.ones(9) <= yac]\n",
    "#p_cons += [yb@np.ones(9) + yc@np.ones(9) - np.ones(9) <= ybc]\n",
    "    \n",
    "obj = cp.Maximize(d_opt(ya, yb, yc, yab, yac, ybc))\n",
    "\n",
    "problem = cp.Problem(obj, p_cons)\n"
   ]
  },
  {
   "cell_type": "code",
   "execution_count": null,
   "id": "4fc8be70",
   "metadata": {},
   "outputs": [],
   "source": [
    "print('First time: Optimal value:', problem.solve(verbose=True))"
   ]
  },
  {
   "cell_type": "code",
   "execution_count": null,
   "id": "9c404021",
   "metadata": {},
   "outputs": [],
   "source": [
    "print(ya.value)\n",
    "print(yb.value)\n",
    "print(yc.value)\n",
    "print(yab.value)\n",
    "print(yac.value)\n",
    "print(ybc.value)"
   ]
  },
  {
   "cell_type": "markdown",
   "id": "09aa2d4d",
   "metadata": {},
   "source": [
    "### tests"
   ]
  },
  {
   "cell_type": "code",
   "execution_count": null,
   "id": "bef681a4",
   "metadata": {},
   "outputs": [],
   "source": [
    "\n",
    "test = [[1,0,0,5,0,0,9,0,0],\n",
    "        [0,1,0,0,5,0,0,9,0],\n",
    "        [0,0,1,0,0,5,0,0,9],\n",
    "        [5,0,0,4,0,0,6,0,0],\n",
    "        [0,5,0,0,4,0,0,6,0],\n",
    "        [0,0,5,0,0,4,0,0,6],\n",
    "        [9,0,0,6,0,0,4,0,0],\n",
    "        [0,9,0,0,6,0,0,4,0],\n",
    "        [0,0,9,0,0,6,0,0,4]]\n",
    "\n",
    "test1 = np.asarray(test)"
   ]
  },
  {
   "cell_type": "code",
   "execution_count": null,
   "id": "cf413551",
   "metadata": {},
   "outputs": [],
   "source": [
    "print(np.linalg.inv(test1))"
   ]
  },
  {
   "cell_type": "code",
   "execution_count": null,
   "id": "7181dcec",
   "metadata": {},
   "outputs": [],
   "source": []
  }
 ],
 "metadata": {
  "kernelspec": {
   "display_name": "Python 3 (ipykernel)",
   "language": "python",
   "name": "python3"
  },
  "language_info": {
   "codemirror_mode": {
    "name": "ipython",
    "version": 3
   },
   "file_extension": ".py",
   "mimetype": "text/x-python",
   "name": "python",
   "nbconvert_exporter": "python",
   "pygments_lexer": "ipython3",
   "version": "3.7.11"
  }
 },
 "nbformat": 4,
 "nbformat_minor": 5
}
