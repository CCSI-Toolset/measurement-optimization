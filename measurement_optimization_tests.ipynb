{
 "cells": [
  {
   "cell_type": "code",
   "execution_count": 1,
   "id": "597f749d",
   "metadata": {},
   "outputs": [],
   "source": [
    "import numpy as np\n",
    "import pandas as pd\n",
    "import pyomo.environ as pyo\n",
    "from measure_optimize import MeasurementOptimizer, DataProcess \n",
    "import matplotlib.pyplot as plt"
   ]
  },
  {
   "cell_type": "markdown",
   "id": "e70ab310",
   "metadata": {},
   "source": [
    "## Input Setting\n",
    "\n",
    "### All measurements and index\n",
    "\n",
    "- ads.gas_inlet.F (0)\n",
    "- ads.gas_outlet.F (1)\n",
    "- ads.gas_outlet.T (2)\n",
    "- ads.gas_outlet.z (3)\n",
    "- des.gas_inlet.F (4)\n",
    "- des.gas_outlet.F (5)\n",
    "- des.gas_outlet.T (6)\n",
    "- des.gas_outlet.z (7)\n",
    "- ads.T19 (8)\n",
    "- ads.T23 (9)\n",
    "- ads.T28 (10)\n",
    "- ads.z19 (11)\n",
    "- ads.z23 (12)\n",
    "- ads.z28 (13)\n",
    "\n",
    "One-time cost ones: 0,1,2, 4,5,6, 8,9,10\n",
    "\n",
    "Time-cost ones: 3,7,11,12,13"
   ]
  },
  {
   "cell_type": "code",
   "execution_count": 2,
   "id": "d1e2f0c8",
   "metadata": {},
   "outputs": [],
   "source": [
    "all_names = ['Ads.gas_inlet.F', 'Ads.gas_outlet.F', 'Ads.gas_outlet.T', \n",
    "             'Ads.gas_outlet.z(\"CO2\")', 'Des.gas_inlet.F', 'Des.gas_outlet.F', \n",
    "             'Des.gas_outlet.T', 'Des.gas_outlet.z(\"CO2\")', 'Ads.T_g.Value(19,10)', \n",
    "             'Ads.T_g.Value(23,10)', 'Ads.T_g.Value(28,10)', 'Ads.z(\"CO2\",19,10)', \n",
    "             'Ads.z(\"CO2\",23,10)', 'Ads.z(\"CO2\",28,10)']"
   ]
  },
  {
   "cell_type": "code",
   "execution_count": 3,
   "id": "44e72140",
   "metadata": {},
   "outputs": [
    {
     "name": "stdout",
     "output_type": "stream",
     "text": [
      "jacobian shape: (308, 5)\n",
      "jacobian shape: (70, 5)\n",
      "static Q shape: (9, 22, 5)\n",
      "dynamic Q shape: (5, 5, 5)\n"
     ]
    }
   ],
   "source": [
    "dataObject = DataProcess()\n",
    "\n",
    "# static measurement jacobian\n",
    "static_ind = [0,1,2,4,5,6,8,9,10]\n",
    "static_Nt = 22\n",
    "static_jaco = dataObject.read_jaco('./RotaryBed/Q'+str(static_Nt)+'_scale.csv')\n",
    "num_static = len(static_ind)\n",
    "\n",
    "static_Q = []\n",
    "for i in static_ind:\n",
    "    static_Q.append(dataObject.split_jaco(static_jaco, i,static_Nt))\n",
    "\n",
    "    \n",
    "    \n",
    "dynamic_ind = [3,7,11,12,13]\n",
    "dynamic_Nt = 5\n",
    "num_dynamic = len(dynamic_ind)\n",
    "dynamic_jaco = dataObject.read_jaco('./RotaryBed/Q'+str(dynamic_Nt)+'_scale.csv')\n",
    "\n",
    "dynamic_Q = []\n",
    "for i in dynamic_ind:\n",
    "    dynamic_Q.append(dataObject.split_jaco(dynamic_jaco, i, dynamic_Nt))\n",
    "    \n",
    "print(\"static Q shape:\", np.shape(static_Q))\n",
    "print(\"dynamic Q shape:\", np.shape(dynamic_Q))"
   ]
  },
  {
   "cell_type": "code",
   "execution_count": 4,
   "id": "d431f7d8",
   "metadata": {},
   "outputs": [],
   "source": [
    "Q = []\n",
    "for i in range(len(static_ind)):\n",
    "    Q.append(static_Q[i])\n",
    "for j in range(len(dynamic_ind)):\n",
    "    Q.append(dynamic_Q[j])"
   ]
  },
  {
   "cell_type": "code",
   "execution_count": 5,
   "id": "6b4504ce",
   "metadata": {},
   "outputs": [
    {
     "name": "stdout",
     "output_type": "stream",
     "text": [
      "(22, 5)\n",
      "[[-0.2369589708548623, -0.0160502930881647, 0.0146807209797872, -0.1763506246058283, 0.2949746088336674], [-0.2369521215057689, -0.0160502930881647, 0.0146807209797872, -0.1763506246058283, 0.2949746088336674], [-0.0695822811896183, -0.0134711387931862, 0.0603797016684929, -0.053746313047065, 0.0260785419601256], [0.1039139858946325, -0.0103535467732923, 0.1023829539095281, 0.0693874136743377, -0.2447841359458552], [0.1671865305544889, -0.0092458200384041, 0.1147703544223888, 0.1104832525762961, -0.3385565785691546]]\n"
     ]
    }
   ],
   "source": [
    "print(np.shape(Q[1]))\n",
    "print(Q[13])"
   ]
  },
  {
   "cell_type": "code",
   "execution_count": 6,
   "id": "4c0de7eb",
   "metadata": {},
   "outputs": [],
   "source": [
    "static_name = [all_names[i] for i in static_ind]\n",
    "dynamic_name = [all_names[i] for i in dynamic_ind]\n",
    "static_idx_upd = [0,1,2,3,4,5,6,7,8]\n",
    "dynamic_idx_upd = [9,10,11,12,13]\n",
    "\n",
    "num_param = 5\n",
    "\n",
    "num_total = num_static + num_dynamic*dynamic_Nt"
   ]
  },
  {
   "cell_type": "code",
   "execution_count": 7,
   "id": "7df09b33",
   "metadata": {
    "scrolled": true
   },
   "outputs": [
    {
     "name": "stdout",
     "output_type": "stream",
     "text": [
      "(5,)\n",
      "9 0\n",
      "(22, 1)\n"
     ]
    },
    {
     "ename": "ValueError",
     "evalue": "cannot reshape array of size 110 into shape (1,5)",
     "output_type": "error",
     "traceback": [
      "\u001b[0;31m---------------------------------------------------------------------------\u001b[0m",
      "\u001b[0;31mValueError\u001b[0m                                Traceback (most recent call last)",
      "\u001b[0;32m/tmp/ipykernel_1304119/1265023941.py\u001b[0m in \u001b[0;36m<module>\u001b[0;34m\u001b[0m\n\u001b[1;32m      1\u001b[0m \u001b[0mcalculator\u001b[0m \u001b[0;34m=\u001b[0m \u001b[0mMeasurementOptimizer\u001b[0m\u001b[0;34m(\u001b[0m\u001b[0mQ\u001b[0m\u001b[0;34m,\u001b[0m \u001b[0mstatic_idx_upd\u001b[0m\u001b[0;34m,\u001b[0m \u001b[0mdynamic_idx_upd\u001b[0m\u001b[0;34m,\u001b[0m \u001b[0mnum_param\u001b[0m\u001b[0;34m,\u001b[0m \u001b[0mverbose\u001b[0m\u001b[0;34m=\u001b[0m\u001b[0;32mTrue\u001b[0m\u001b[0;34m)\u001b[0m\u001b[0;34m\u001b[0m\u001b[0;34m\u001b[0m\u001b[0m\n\u001b[1;32m      2\u001b[0m \u001b[0;34m\u001b[0m\u001b[0m\n\u001b[0;32m----> 3\u001b[0;31m \u001b[0mfim_expect\u001b[0m \u001b[0;34m=\u001b[0m \u001b[0mcalculator\u001b[0m\u001b[0;34m.\u001b[0m\u001b[0mfim_computation\u001b[0m\u001b[0;34m(\u001b[0m\u001b[0;34m)\u001b[0m\u001b[0;34m\u001b[0m\u001b[0;34m\u001b[0m\u001b[0m\n\u001b[0m\u001b[1;32m      4\u001b[0m \u001b[0;34m\u001b[0m\u001b[0m\n\u001b[1;32m      5\u001b[0m \u001b[0mprint\u001b[0m\u001b[0;34m(\u001b[0m\u001b[0mnp\u001b[0m\u001b[0;34m.\u001b[0m\u001b[0mshape\u001b[0m\u001b[0;34m(\u001b[0m\u001b[0mcalculator\u001b[0m\u001b[0;34m.\u001b[0m\u001b[0mfim_collection\u001b[0m\u001b[0;34m)\u001b[0m\u001b[0;34m)\u001b[0m\u001b[0;34m\u001b[0m\u001b[0;34m\u001b[0m\u001b[0m\n",
      "\u001b[0;32m/media/psf/Home/dowlinglab/measurement-opt/measure_optimize.py\u001b[0m in \u001b[0;36mfim_computation\u001b[0;34m(self)\u001b[0m\n\u001b[1;32m    289\u001b[0m                     \u001b[0mprint\u001b[0m\u001b[0;34m(\u001b[0m\u001b[0mi\u001b[0m\u001b[0;34m,\u001b[0m\u001b[0mj\u001b[0m\u001b[0;34m)\u001b[0m\u001b[0;34m\u001b[0m\u001b[0;34m\u001b[0m\u001b[0m\n\u001b[1;32m    290\u001b[0m                     \u001b[0mprint\u001b[0m\u001b[0;34m(\u001b[0m\u001b[0mnp\u001b[0m\u001b[0;34m.\u001b[0m\u001b[0mshape\u001b[0m\u001b[0;34m(\u001b[0m\u001b[0mself\u001b[0m\u001b[0;34m.\u001b[0m\u001b[0mSigma_inv\u001b[0m\u001b[0;34m[\u001b[0m\u001b[0;34m(\u001b[0m\u001b[0mi\u001b[0m\u001b[0;34m,\u001b[0m\u001b[0mj\u001b[0m\u001b[0;34m)\u001b[0m\u001b[0;34m]\u001b[0m\u001b[0;34m)\u001b[0m\u001b[0;34m)\u001b[0m\u001b[0;34m\u001b[0m\u001b[0;34m\u001b[0m\u001b[0m\n\u001b[0;32m--> 291\u001b[0;31m                     \u001b[0mprint\u001b[0m\u001b[0;34m(\u001b[0m\u001b[0mnp\u001b[0m\u001b[0;34m.\u001b[0m\u001b[0mshape\u001b[0m\u001b[0;34m(\u001b[0m\u001b[0mnp\u001b[0m\u001b[0;34m.\u001b[0m\u001b[0masarray\u001b[0m\u001b[0;34m(\u001b[0m\u001b[0mself\u001b[0m\u001b[0;34m.\u001b[0m\u001b[0mQ_dynamic_flatten\u001b[0m\u001b[0;34m[\u001b[0m\u001b[0mj\u001b[0m\u001b[0;34m]\u001b[0m\u001b[0;34m)\u001b[0m\u001b[0;34m.\u001b[0m\u001b[0mreshape\u001b[0m\u001b[0;34m(\u001b[0m\u001b[0;36m1\u001b[0m\u001b[0;34m,\u001b[0m\u001b[0mself\u001b[0m\u001b[0;34m.\u001b[0m\u001b[0mnum_param\u001b[0m\u001b[0;34m)\u001b[0m\u001b[0;34m)\u001b[0m\u001b[0;34m)\u001b[0m\u001b[0;34m\u001b[0m\u001b[0;34m\u001b[0m\u001b[0m\n\u001b[0m\u001b[1;32m    292\u001b[0m                     \u001b[0munit\u001b[0m \u001b[0;34m=\u001b[0m \u001b[0mnp\u001b[0m\u001b[0;34m.\u001b[0m\u001b[0masarray\u001b[0m\u001b[0;34m(\u001b[0m\u001b[0mself\u001b[0m\u001b[0;34m.\u001b[0m\u001b[0mQ_dynamic_flatten\u001b[0m\u001b[0;34m[\u001b[0m\u001b[0mi\u001b[0m\u001b[0;34m]\u001b[0m\u001b[0;34m)\u001b[0m\u001b[0;34m.\u001b[0m\u001b[0mreshape\u001b[0m\u001b[0;34m(\u001b[0m\u001b[0;36m1\u001b[0m\u001b[0;34m,\u001b[0m \u001b[0mself\u001b[0m\u001b[0;34m.\u001b[0m\u001b[0mnum_param\u001b[0m\u001b[0;34m)\u001b[0m\u001b[0;34m.\u001b[0m\u001b[0mT\u001b[0m\u001b[0;34m@\u001b[0m\u001b[0mself\u001b[0m\u001b[0;34m.\u001b[0m\u001b[0mSigma_inv\u001b[0m\u001b[0;34m[\u001b[0m\u001b[0;34m(\u001b[0m\u001b[0mi\u001b[0m\u001b[0;34m,\u001b[0m\u001b[0mj\u001b[0m\u001b[0;34m)\u001b[0m\u001b[0;34m]\u001b[0m\u001b[0;34m.\u001b[0m\u001b[0mT\u001b[0m\u001b[0;34m@\u001b[0m\u001b[0mnp\u001b[0m\u001b[0;34m.\u001b[0m\u001b[0masarray\u001b[0m\u001b[0;34m(\u001b[0m\u001b[0mself\u001b[0m\u001b[0;34m.\u001b[0m\u001b[0mQ_dynamic_flatten\u001b[0m\u001b[0;34m[\u001b[0m\u001b[0mj\u001b[0m\u001b[0;34m]\u001b[0m\u001b[0;34m)\u001b[0m\u001b[0;34m\u001b[0m\u001b[0;34m\u001b[0m\u001b[0m\n\u001b[1;32m    293\u001b[0m \u001b[0;34m\u001b[0m\u001b[0m\n",
      "\u001b[0;31mValueError\u001b[0m: cannot reshape array of size 110 into shape (1,5)"
     ]
    }
   ],
   "source": [
    "calculator = MeasurementOptimizer(Q, static_idx_upd, dynamic_idx_upd, num_param, verbose=True)\n",
    "\n",
    "fim_expect = calculator.fim_computation()\n",
    "\n",
    "print(np.shape(calculator.fim_collection))"
   ]
  },
  {
   "cell_type": "code",
   "execution_count": 8,
   "id": "b9baa668",
   "metadata": {},
   "outputs": [
    {
     "name": "stdout",
     "output_type": "stream",
     "text": [
      "[[0.]\n",
      " [0.]\n",
      " [0.]\n",
      " [0.]\n",
      " [0.]\n",
      " [0.]\n",
      " [0.]\n",
      " [0.]\n",
      " [0.]\n",
      " [0.]\n",
      " [0.]\n",
      " [0.]\n",
      " [0.]\n",
      " [0.]\n",
      " [0.]\n",
      " [0.]\n",
      " [0.]\n",
      " [0.]\n",
      " [0.]\n",
      " [0.]\n",
      " [0.]\n",
      " [0.]]\n",
      "[[-0.539636670963493, -0.0022541710490597, -0.0498629482614828, 1.9351604614661069, 0.5513282116769436], [-0.3340760407153356, 0.1021652968364613, 0.1016944838159672, 2.3403863441379817, 0.221939518269873], [-0.3494661138571784, 0.1120662029219454, 0.2550896605274281, 2.0027607969742065, 0.1809770476947275], [-0.4678795656821666, 0.0789891670526334, 0.3012354877648384, 1.6852339585553322, 0.3702798007923669], [-0.3487072812830348, 0.1544493767900593, 0.3679533495956177, 2.016853552909431, 0.1889221494208309], [-0.2149867536290262, 0.1729367514893193, 0.4172631902483755, 2.2827109973126425, -0.0128215863177127], [-0.0597343516865485, 0.1787397054563655, 0.4592339471516512, 2.0431098799382568, -0.2109020116805193], [-0.2295705671608305, 0.0878631069081999, 0.393229772557104, 0.9576582753596296, 0.0872533926070839], [-0.1234288608689441, 0.0230056295989378, 0.2488746341753963, 0.0171017989587185, 0.1123494474589759], [0.1270096020777766, 0.006217309067937, -0.0404303819511638, 0.020863102737878, -0.054878292459437], [0.6228711189271227, 0.1007715569529813, -0.3705939923714115, 1.9146128229161172, -0.7305925428322313], [0.8902528904408135, 0.1418125375048401, -0.5348074781102571, 3.0324662395681488, -1.0809144383908311], [0.9497738204656938, 0.1048913172343131, -0.5364846431161072, 3.1573961246202, -1.1274432377196233], [0.8257521216485774, 0.0199921379586409, -0.4814415149964515, 2.570984598917521, -0.933382938679156], [0.6673695353383599, -0.0419252024411037, -0.3994507463029047, 1.7741159935130029, -0.6622503953529791], [0.4478416430242706, -0.0834182067396304, -0.3125236408901467, 1.131654974876083, -0.4173557179049145], [0.2097816364414143, -0.0156741216485223, -0.0904836468086717, 0.5054585617765798, -0.1784079728857935], [-0.1885698946456751, -0.0391297924330287, 0.0251158433333236, -0.0250794029428694, 0.2105927711938127], [-0.5983394846201436, -0.1114337661898122, 0.0658435949660612, -0.0593740001447185, 0.5993318502476114], [-0.8085598211431271, -0.0701766865658463, 0.0930410260726821, 0.114489233753573, 0.7283089207795412], [-1.052382212584798, -0.0603412049700287, 0.08464925364934, 0.2321937755761727, 0.8536940441235874], [-1.1144049187529168, -0.0551766354161135, 0.089145483239796, -0.139750635266167, 0.9296482651135418]]\n"
     ]
    }
   ],
   "source": [
    "print(calculator.Sigma_inv[(9,0)])\n",
    "print(calculator.Q_dynamic_flatten[0])"
   ]
  },
  {
   "cell_type": "code",
   "execution_count": 9,
   "id": "2786f941",
   "metadata": {},
   "outputs": [
    {
     "name": "stdout",
     "output_type": "stream",
     "text": [
      "[22, 23, 24, 25, 26, 27, 28, 29, 30, 31, 32, 33, 34, 35, 36, 37, 38, 39, 40, 41, 42, 43]\n"
     ]
    }
   ],
   "source": [
    "print(calculator.dynamic_to_flatten[1])"
   ]
  },
  {
   "cell_type": "code",
   "execution_count": null,
   "id": "f1d3a398",
   "metadata": {},
   "outputs": [],
   "source": [
    "print(np.shape(calculator.Q[0]))\n",
    "print(np.shape(np.asarray(calculator.Q[9]).reshape(5,1)))\n",
    "print(np.shape(calculator.Sigma_inv[(0,9)]))\n",
    "\n",
    "print(calculator.total_no_measure)"
   ]
  },
  {
   "cell_type": "markdown",
   "id": "51fe1c2d",
   "metadata": {},
   "source": [
    "### Set up grey-box "
   ]
  },
  {
   "cell_type": "code",
   "execution_count": null,
   "id": "3558af3a",
   "metadata": {},
   "outputs": [],
   "source": [
    "from greybox_generalize import LogDetModel"
   ]
  },
  {
   "cell_type": "code",
   "execution_count": null,
   "id": "90168a73",
   "metadata": {},
   "outputs": [],
   "source": [
    "def build_model_external(m):\n",
    "    ex_model = LogDetModel(num_para=5)\n",
    "    m.egb = ExternalGreyBoxBlock()\n",
    "    m.egb.set_external_model(ex_model)"
   ]
  },
  {
   "cell_type": "markdown",
   "id": "838bb087",
   "metadata": {},
   "source": [
    "### Reform the inputs"
   ]
  },
  {
   "cell_type": "code",
   "execution_count": null,
   "id": "2ff6b7b6",
   "metadata": {},
   "outputs": [],
   "source": [
    "cost = [1000, #ads.gas_inlet.F (0)\n",
    "        1000, #ads.gas_outlet.F (1)\n",
    "         200, #ads.gas_outlet.T (2)\n",
    "        1000, #des.gas_inlet.F (4)\n",
    "        1000, #des.gas_outlet.F (5)\n",
    "         200, #des.gas_outlet.T (6)\n",
    "         600, #ads.T19 (8)\n",
    "         600, #ads.T23 (9)\n",
    "         600 #ads.T28 (10)\n",
    "       ]\n",
    "\n",
    "for i in range(dynamic_Nt*num_dynamic):\n",
    "    cost.append(10)\n"
   ]
  },
  {
   "cell_type": "code",
   "execution_count": null,
   "id": "e3a967c0",
   "metadata": {},
   "outputs": [],
   "source": [
    "#print(np.shape(ans_y))\n",
    "\n",
    "init_y = np.random.rand(num_total)\n",
    "\n",
    "update_y = [] \n",
    "\n",
    "for i in init_y:\n",
    "    if i > 0.5: \n",
    "        update_y.append(1)\n",
    "    else:\n",
    "        update_y.append(0)\n",
    "\n",
    "init_cov_y = [[0]*num_total for i in range(num_total)]\n",
    "\n",
    "for j in range(num_total):\n",
    "    for k in range(num_total):\n",
    "        if j==k:\n",
    "            init_cov_y[j][k] = update_y[k]\n",
    "            \n",
    "        else:\n",
    "            init_cov_y[j][k] = min(update_y[k], update_y[j])\n",
    "\n",
    "fim_prior = np.identity((5))\n",
    "print(fim_prior)"
   ]
  },
  {
   "cell_type": "code",
   "execution_count": null,
   "id": "de6f6f7b",
   "metadata": {},
   "outputs": [],
   "source": [
    "mip_option = False\n",
    "objective = \"D\"\n",
    "budget_opt = 5000\n",
    "sparse_opt = False\n",
    "fix_opt = False"
   ]
  },
  {
   "cell_type": "code",
   "execution_count": null,
   "id": "6678f339",
   "metadata": {},
   "outputs": [],
   "source": [
    "mod = calculator.continuous_optimization(cost, mixed_integer=mip_option, \n",
    "                  obj=objective, fix=fix_opt, sparse=sparse_opt, budget=budget_opt,\n",
    "                                        init_fim = fim_prior)"
   ]
  },
  {
   "cell_type": "code",
   "execution_count": null,
   "id": "e3dacab3",
   "metadata": {
    "scrolled": true
   },
   "outputs": [],
   "source": [
    "\n",
    "if not mip_option and objective==\"A\":\n",
    "    solver = pyo.SolverFactory('ipopt')\n",
    "    solver.options['linear_solver'] = \"ma57\"\n",
    "    solver.solve(mod, tee=True)\n",
    "\n",
    "elif mip_option and objective==\"A\":\n",
    "    solver = pyo.SolverFactory('mindtpy')\n",
    "    results = solver.solve(mod, tee=True, integer_tolerance=0.5)\n",
    "\n",
    "elif objective==\"D\":  \n",
    "    solver = pyo.SolverFactory('cyipopt')\n",
    "    solver.config.options['hessian_approximation'] = 'limited-memory' \n",
    "    additional_options={'max_iter':3000}\n",
    "    for k,v in additional_options.items():\n",
    "        solver.config.options[k] = v\n",
    "    results = solver.solve(mod, tee=True)"
   ]
  },
  {
   "cell_type": "code",
   "execution_count": null,
   "id": "24d81e44",
   "metadata": {
    "scrolled": false
   },
   "outputs": [],
   "source": [
    "### FIM\n",
    "fim_result = np.zeros((5,5))\n",
    "for i in range(5):\n",
    "    for j in range(5):\n",
    "        fim_result[i,j] = pyo.value(mod.TotalFIM[i,j])\n",
    "        \n",
    "print(fim_result)  \n",
    "print('trace:', np.trace(fim_result))\n",
    "print('det:', np.linalg.det(fim_result))\n",
    "\n",
    "print(\"Pyomo OF:\", pyo.value(mod.Obj))\n",
    "print(\"Log_det:\", np.log(np.linalg.det(fim_result)))"
   ]
  },
  {
   "cell_type": "code",
   "execution_count": null,
   "id": "3ac42834",
   "metadata": {},
   "outputs": [],
   "source": [
    "# problem size calculator\n",
    "if True:\n",
    "    nr = num_total\n",
    "    npa = 5\n",
    "    num_var = (nr*nr+nr)/2 + npa*npa + 1\n",
    "    num_equal = npa*npa+1\n",
    "    num_ineq = 1.5*(nr**2-nr)+1\n",
    "\n",
    "    print(num_var, num_equal, num_ineq)"
   ]
  },
  {
   "cell_type": "code",
   "execution_count": null,
   "id": "74f67b1f",
   "metadata": {
    "scrolled": true
   },
   "outputs": [],
   "source": [
    "import numpy as np\n",
    "\n",
    "ans_y = np.zeros((num_total,num_total))\n",
    "\n",
    "pyomo_y = np.zeros((num_total, num_total))\n",
    "\n",
    "for i in range(num_total):\n",
    "    for j in range(i, num_total):\n",
    "        cov = pyo.value(mod.cov_y[i,j])\n",
    "        ans_y[i,j] = cov \n",
    "        ans_y[j,i] = pyo.value(mod.cov_y[j,i])\n",
    "\n",
    "for i in range(num_total):\n",
    "    for j in range(num_total):\n",
    "        pyomo_y[i,j] = pyo.value(mod.cov_y[i,j])\n",
    "        \n",
    "print(\"Cost for this stragy:\", pyo.value(mod.cost))\n",
    "print(\"Cost if no budget:\", sum(cost))"
   ]
  },
  {
   "cell_type": "code",
   "execution_count": null,
   "id": "dc2ac80f",
   "metadata": {},
   "outputs": [],
   "source": [
    "figure = plt.figure()\n",
    "axes = figure.add_subplot(111)\n",
    "\n",
    "caxes = axes.matshow(ans_y, interpolation='nearest')\n",
    "figure.colorbar(caxes)\n",
    "\n",
    "plt.show()\n",
    "\n",
    "print(np.shape(ans_y))"
   ]
  },
  {
   "cell_type": "code",
   "execution_count": null,
   "id": "27004950",
   "metadata": {},
   "outputs": [],
   "source": [
    "for i in range(len(ans_y)):\n",
    "    for j in range(len(ans_y[0])):\n",
    "        if ans_y[i][j] < 0.05:\n",
    "            ans_y[i][j] = int(0)\n",
    "        elif ans_y[i][j] > 0.95:\n",
    "            ans_y[i][j] = int(1)\n",
    "        else: \n",
    "            ans_y[i][j] = round(ans_y[i][j], 2)\n",
    "print(ans_y)"
   ]
  },
  {
   "cell_type": "code",
   "execution_count": null,
   "id": "55fd6f50",
   "metadata": {},
   "outputs": [],
   "source": [
    "import pickle\n",
    "\n",
    "store = False\n",
    "\n",
    "if store:\n",
    "    file = open('Fe23_D_110_3000', 'wb')\n",
    "\n",
    "    pickle.dump(ans_y, file)\n",
    "\n",
    "    file.close()"
   ]
  },
  {
   "cell_type": "code",
   "execution_count": null,
   "id": "53f8f41a",
   "metadata": {},
   "outputs": [],
   "source": [
    "for c in range(num_static):\n",
    "    print(static_name[c], \": \", ans_y[c,c])\n",
    "\n",
    "sol_y = np.asarray([ans_y[i,i] for i in range(num_static, num_total)])\n",
    "\n",
    "sol_y = np.reshape(sol_y, (num_dynamic, dynamic_Nt))\n",
    "np.around(sol_y)\n",
    "\n",
    "for r in range(len(sol_y)):\n",
    "    print(dynamic_name[r], \": \", sol_y[r])"
   ]
  },
  {
   "cell_type": "code",
   "execution_count": null,
   "id": "76628ff8",
   "metadata": {},
   "outputs": [],
   "source": []
  },
  {
   "cell_type": "code",
   "execution_count": null,
   "id": "cb8e1ff8",
   "metadata": {},
   "outputs": [],
   "source": [
    "import matplotlib\n",
    "\n",
    "def heatmap(data, row_labels, col_labels, ax=None,\n",
    "            cbar_kw=None, cbarlabel=\"\", **kwargs):\n",
    "    \"\"\"\n",
    "    Create a heatmap from a numpy array and two lists of labels.\n",
    "\n",
    "    Parameters\n",
    "    ----------\n",
    "    data\n",
    "        A 2D numpy array of shape (M, N).\n",
    "    row_labels\n",
    "        A list or array of length M with the labels for the rows.\n",
    "    col_labels\n",
    "        A list or array of length N with the labels for the columns.\n",
    "    ax\n",
    "        A `matplotlib.axes.Axes` instance to which the heatmap is plotted.  If\n",
    "        not provided, use current axes or create a new one.  Optional.\n",
    "    cbar_kw\n",
    "        A dictionary with arguments to `matplotlib.Figure.colorbar`.  Optional.\n",
    "    cbarlabel\n",
    "        The label for the colorbar.  Optional.\n",
    "    **kwargs\n",
    "        All other arguments are forwarded to `imshow`.\n",
    "    \"\"\"\n",
    "\n",
    "    if ax is None:\n",
    "        ax = plt.gca()\n",
    "\n",
    "    if cbar_kw is None:\n",
    "        cbar_kw = {}\n",
    "\n",
    "    # Plot the heatmap\n",
    "    im = ax.imshow(data, **kwargs)\n",
    "\n",
    "    # Create colorbar\n",
    "    cbar = ax.figure.colorbar(im, ax=ax, **cbar_kw)\n",
    "    cbar.ax.set_ylabel(cbarlabel, rotation=-90, va=\"bottom\")\n",
    "\n",
    "    # Show all ticks and label them with the respective list entries.\n",
    "    ax.set_xticks(np.arange(data.shape[1]), labels=col_labels)\n",
    "    ax.set_yticks(np.arange(data.shape[0]), labels=row_labels)\n",
    "\n",
    "    # Let the horizontal axes labeling appear on top.\n",
    "    ax.tick_params(top=True, bottom=False,\n",
    "                   labeltop=True, labelbottom=False)\n",
    "\n",
    "    # Rotate the tick labels and set their alignment.\n",
    "    plt.setp(ax.get_xticklabels(), rotation=-30, ha=\"right\",\n",
    "             rotation_mode=\"anchor\")\n",
    "\n",
    "    # Turn spines off and create white grid.\n",
    "    ax.spines[:].set_visible(False)\n",
    "\n",
    "    ax.set_xticks(np.arange(data.shape[1]+1)-.5, minor=True)\n",
    "    ax.set_yticks(np.arange(data.shape[0]+1)-.5, minor=True)\n",
    "    ax.grid(which=\"minor\", color=\"w\", linestyle='-', linewidth=3)\n",
    "    ax.tick_params(which=\"minor\", bottom=False, left=False)\n",
    "\n",
    "    return im, cbar\n",
    "\n",
    "\n",
    "def annotate_heatmap(im, data=None, valfmt=\"{x:.2f}\",\n",
    "                     textcolors=(\"black\", \"white\"),\n",
    "                     threshold=None, **textkw):\n",
    "    \"\"\"\n",
    "    A function to annotate a heatmap.\n",
    "\n",
    "    Parameters\n",
    "    ----------\n",
    "    im\n",
    "        The AxesImage to be labeled.\n",
    "    data\n",
    "        Data used to annotate.  If None, the image's data is used.  Optional.\n",
    "    valfmt\n",
    "        The format of the annotations inside the heatmap.  This should either\n",
    "        use the string format method, e.g. \"$ {x:.2f}\", or be a\n",
    "        `matplotlib.ticker.Formatter`.  Optional.\n",
    "    textcolors\n",
    "        A pair of colors.  The first is used for values below a threshold,\n",
    "        the second for those above.  Optional.\n",
    "    threshold\n",
    "        Value in data units according to which the colors from textcolors are\n",
    "        applied.  If None (the default) uses the middle of the colormap as\n",
    "        separation.  Optional.\n",
    "    **kwargs\n",
    "        All other arguments are forwarded to each call to `text` used to create\n",
    "        the text labels.\n",
    "    \"\"\"\n",
    "\n",
    "    if not isinstance(data, (list, np.ndarray)):\n",
    "        data = im.get_array()\n",
    "\n",
    "    # Normalize the threshold to the images color range.\n",
    "    if threshold is not None:\n",
    "        threshold = im.norm(threshold)\n",
    "    else:\n",
    "        threshold = im.norm(data.max())/2.\n",
    "\n",
    "    # Set default alignment to center, but allow it to be\n",
    "    # overwritten by textkw.\n",
    "    kw = dict(horizontalalignment=\"center\",\n",
    "              verticalalignment=\"center\")\n",
    "    kw.update(textkw)\n",
    "\n",
    "    # Get the formatter in case a string is supplied\n",
    "    if isinstance(valfmt, str):\n",
    "        valfmt = matplotlib.ticker.StrMethodFormatter(valfmt)\n",
    "        \n",
    "        \n",
    "    # Loop over the data and create a `Text` for each \"pixel\".\n",
    "    # Change the text's color depending on the data.\n",
    "    texts = []\n",
    "    for i in range(data.shape[0]):\n",
    "        for j in range(data.shape[1]):\n",
    "            kw.update(color=textcolors[int(im.norm(data[i, j]) > threshold)])\n",
    "            text = im.axes.text(j, i, valfmt(data[i, j], None), **kw)\n",
    "            texts.append(text)\n",
    "\n",
    "    return texts"
   ]
  },
  {
   "cell_type": "code",
   "execution_count": null,
   "id": "56aeea54",
   "metadata": {
    "scrolled": false
   },
   "outputs": [],
   "source": [
    "#measure_name = ['Ads.gas_inlet.F', 'Ads.gas_outlet.F', 'Ads.gas_outlet.T', 'Ads.gas_outlet.z(\"CO2\")', 'Des.gas_inlet.F', 'Des.gas_outlet.F', 'Des.gas_outlet.T', 'Des.gas_outlet.z(\"CO2\")', 'Ads.T_g.Value(19,10)', 'Ads.T_g.Value(23,10)', 'Ads.T_g.Value(28,10)', 'Ads.z(\"CO2\",19,10)', 'Ads.z(\"CO2\",23,10)', 'Ads.z(\"CO2\",28,10)']\n",
    "#measure_name = ['Ads.gas_outlet.z(\"CO2\")', 'Des.gas_outlet.z(\"CO2\")', 'Ads.z(\"CO2\",19,10)', 'Ads.z(\"CO2\",23,10)', 'Ads.z(\"CO2\",28,10)']\n",
    "measure_name = ['a', 'b', 'c', 'd', 'e']\n",
    "\n",
    "#time_set = ['500', '1000', '1500', '2000', '2200']\n",
    "time_set = np.linspace(20, 2200, number_t)\n",
    "time_set = [str(i) for i in time_set]\n",
    "print(len(time_set), len(measure_name))\n",
    "print(np.shape(sol_y))\n",
    "\n",
    "fig, ax = plt.subplots(figsize=(16,8))\n",
    "\n",
    "im, cbar = heatmap(sol_y, time_set, measure_name, ax=ax,\n",
    "                   cmap=\"YlGn\", cbarlabel=\"weight\")\n",
    "texts = annotate_heatmap(im, valfmt=\"{x:.1f}\")\n",
    "\n",
    "fig.tight_layout()\n",
    "plt.show()"
   ]
  },
  {
   "cell_type": "code",
   "execution_count": null,
   "id": "41e1db6d",
   "metadata": {},
   "outputs": [],
   "source": [
    "def plot_data(budget, a_cri, d_cri):\n",
    "\n",
    "    si=18\n",
    "    plt.rc('axes', titlesize=si)\n",
    "    plt.rc('axes', labelsize=si)\n",
    "    plt.rc('xtick', labelsize=si)\n",
    "    plt.rc('ytick', labelsize=si)\n",
    "\n",
    "    plt.scatter(budget, np.log10(a_cri), s=50, color='red', label='A-optimality')\n",
    "    #plt.scatter(budget, np.log10(d_cri), marker='v', s=50, color='blue', label='D-optimality')\n",
    "    plt.xlabel('Budget', fontweight=\"bold\")\n",
    "    plt.ylabel('log10(A-optimality)', fontweight=\"bold\")\n",
    "    \n",
    "    plt.show()\n",
    "    \n",
    "    \n",
    "    si=18\n",
    "    plt.rc('axes', titlesize=si)\n",
    "    plt.rc('axes', labelsize=si)\n",
    "    plt.rc('xtick', labelsize=si)\n",
    "    plt.rc('ytick', labelsize=si)\n",
    "\n",
    "    #plt.scatter(budget, np.log10(a_cri), s=50, color='red', label='A-optimality')\n",
    "    plt.scatter(budget, np.log10(d_cri), marker='v', s=50, color='blue', label='D-optimality')\n",
    "    plt.xlabel('Budget', fontweight=\"bold\")\n",
    "    plt.ylabel('log10(D-optimality)', fontweight=\"bold\")\n",
    "    \n",
    "    plt.show()"
   ]
  },
  {
   "cell_type": "code",
   "execution_count": null,
   "id": "0d3cebd3",
   "metadata": {
    "scrolled": true
   },
   "outputs": [],
   "source": [
    "a_set = [65693.94, 66574.63, 67474.485, 67608.817]\n",
    "d_set = [np.exp(30.13), np.exp(30.719), np.exp(31.1205), np.exp(31.2586)]\n",
    "\n",
    "plot_data([3000,4000,5000,6400], a_set, d_set)"
   ]
  },
  {
   "cell_type": "code",
   "execution_count": null,
   "id": "86adc46e",
   "metadata": {},
   "outputs": [],
   "source": []
  }
 ],
 "metadata": {
  "kernelspec": {
   "display_name": "Python 3 (ipykernel)",
   "language": "python",
   "name": "python3"
  },
  "language_info": {
   "codemirror_mode": {
    "name": "ipython",
    "version": 3
   },
   "file_extension": ".py",
   "mimetype": "text/x-python",
   "name": "python",
   "nbconvert_exporter": "python",
   "pygments_lexer": "ipython3",
   "version": "3.7.11"
  }
 },
 "nbformat": 4,
 "nbformat_minor": 5
}
