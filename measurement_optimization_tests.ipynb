{
 "cells": [
  {
   "cell_type": "code",
   "execution_count": 1,
   "id": "597f749d",
   "metadata": {},
   "outputs": [],
   "source": [
    "import numpy as np\n",
    "import pandas as pd\n",
    "import pyomo.environ as pyo\n",
    "from measure_optimize import MeasurementOptimizer, DataProcess \n",
    "import matplotlib.pyplot as plt"
   ]
  },
  {
   "cell_type": "markdown",
   "id": "e70ab310",
   "metadata": {},
   "source": [
    "## Input Setting\n",
    "\n",
    "### All measurements and index\n",
    "\n",
    "- ads.gas_inlet.F (0)\n",
    "- ads.gas_outlet.F (1)\n",
    "- ads.gas_outlet.T (2)\n",
    "- ads.gas_outlet.z (3)\n",
    "- des.gas_inlet.F (4)\n",
    "- des.gas_outlet.F (5)\n",
    "- des.gas_outlet.T (6)\n",
    "- des.gas_outlet.z (7)\n",
    "- ads.T19 (8)\n",
    "- ads.T23 (9)\n",
    "- ads.T28 (10)\n",
    "- ads.z19 (11)\n",
    "- ads.z23 (12)\n",
    "- ads.z28 (13)\n",
    "\n",
    "One-time cost ones: 0,1,2, 4,5,6, 8,9,10\n",
    "\n",
    "Time-cost ones: 3,7,11,12,13"
   ]
  },
  {
   "cell_type": "code",
   "execution_count": 2,
   "id": "d1e2f0c8",
   "metadata": {},
   "outputs": [],
   "source": [
    "all_names = ['Ads.gas_inlet.F', 'Ads.gas_outlet.F', 'Ads.gas_outlet.T', \n",
    "             'Ads.gas_outlet.z(\"CO2\")', 'Des.gas_inlet.F', 'Des.gas_outlet.F', \n",
    "             'Des.gas_outlet.T', 'Des.gas_outlet.z(\"CO2\")', 'Ads.T_g.Value(19,10)', \n",
    "             'Ads.T_g.Value(23,10)', 'Ads.T_g.Value(28,10)', 'Ads.z(\"CO2\",19,10)', \n",
    "             'Ads.z(\"CO2\",23,10)', 'Ads.z(\"CO2\",28,10)']"
   ]
  },
  {
   "cell_type": "code",
   "execution_count": 3,
   "id": "c50d07b5",
   "metadata": {},
   "outputs": [],
   "source": [
    "Nt = 22\n",
    "static_ind = [0,1,2,4,5,6,8,9,10]\n",
    "dynamic_ind = [3,7,11,12,13]"
   ]
  },
  {
   "cell_type": "code",
   "execution_count": 4,
   "id": "44e72140",
   "metadata": {},
   "outputs": [
    {
     "name": "stdout",
     "output_type": "stream",
     "text": [
      "jacobian shape: (308, 5)\n"
     ]
    }
   ],
   "source": [
    "dataObject = DataProcess()\n",
    "dataObject.read_jaco('./RotaryBed/Q'+str(Nt)+'_scale.csv')\n",
    "Q = dataObject.stack_Q(static_ind, dynamic_ind, Nt)\n"
   ]
  },
  {
   "cell_type": "code",
   "execution_count": 5,
   "id": "4c0de7eb",
   "metadata": {},
   "outputs": [
    {
     "name": "stdout",
     "output_type": "stream",
     "text": [
      "['Ads.gas_inlet.F', 'Ads.gas_outlet.F', 'Ads.gas_outlet.T', 'Des.gas_inlet.F', 'Des.gas_outlet.F', 'Des.gas_outlet.T', 'Ads.T_g.Value(19,10)', 'Ads.T_g.Value(23,10)', 'Ads.T_g.Value(28,10)', 'Ads.gas_outlet.z(\"CO2\")', 'Des.gas_outlet.z(\"CO2\")', 'Ads.z(\"CO2\",19,10)', 'Ads.z(\"CO2\",23,10)', 'Ads.z(\"CO2\",28,10)']\n"
     ]
    }
   ],
   "source": [
    "static_name = [all_names[i] for i in static_ind]\n",
    "dynamic_name = [all_names[i] for i in dynamic_ind]\n",
    "static_idx_upd = [0,1,2,3,4,5,6,7,8]\n",
    "dynamic_idx_upd = [9,10,11,12,13]\n",
    "\n",
    "num_param = 5\n",
    "\n",
    "measure_names = static_name + dynamic_name\n",
    "print(measure_names)"
   ]
  },
  {
   "cell_type": "code",
   "execution_count": 6,
   "id": "7df09b33",
   "metadata": {
    "scrolled": true
   },
   "outputs": [
    {
     "name": "stdout",
     "output_type": "stream",
     "text": [
      "(14161, 5, 5)\n"
     ]
    }
   ],
   "source": [
    "calculator = MeasurementOptimizer(Q, static_idx_upd, dynamic_idx_upd, \n",
    "                                  num_param, measure_names=measure_names, verbose=True)\n",
    "\n",
    "fim_expect = calculator.fim_computation()\n",
    "\n",
    "print(np.shape(calculator.fim_collection))"
   ]
  },
  {
   "cell_type": "code",
   "execution_count": 7,
   "id": "b92dcded",
   "metadata": {},
   "outputs": [],
   "source": [
    "#print(calculator.dynamic_to_flatten[1])"
   ]
  },
  {
   "cell_type": "markdown",
   "id": "51fe1c2d",
   "metadata": {},
   "source": [
    "### Set up grey-box "
   ]
  },
  {
   "cell_type": "code",
   "execution_count": 8,
   "id": "3558af3a",
   "metadata": {},
   "outputs": [],
   "source": [
    "from greybox_generalize import LogDetModel"
   ]
  },
  {
   "cell_type": "code",
   "execution_count": 9,
   "id": "90168a73",
   "metadata": {},
   "outputs": [],
   "source": [
    "def build_model_external(m):\n",
    "    ex_model = LogDetModel(num_para=5)\n",
    "    m.egb = ExternalGreyBoxBlock()\n",
    "    m.egb.set_external_model(ex_model)"
   ]
  },
  {
   "cell_type": "markdown",
   "id": "838bb087",
   "metadata": {},
   "source": [
    "### Reform the inputs"
   ]
  },
  {
   "cell_type": "code",
   "execution_count": 10,
   "id": "b4a04385",
   "metadata": {},
   "outputs": [],
   "source": [
    "num_static = len(static_ind)\n",
    "num_dynamic  = len(dynamic_ind)\n",
    "num_total = num_static + num_dynamic*Nt"
   ]
  },
  {
   "cell_type": "code",
   "execution_count": 11,
   "id": "2ff6b7b6",
   "metadata": {},
   "outputs": [],
   "source": [
    "cost = [1000, #ads.gas_inlet.F (0)\n",
    "        1000, #ads.gas_outlet.F (1)\n",
    "         500, #ads.gas_outlet.T (2)\n",
    "        1000, #des.gas_inlet.F (4)\n",
    "        1000, #des.gas_outlet.F (5)\n",
    "         500, #des.gas_outlet.T (6)\n",
    "         1000, #ads.T19 (8)\n",
    "         1000, #ads.T23 (9)\n",
    "         1000 #ads.T28 (10)\n",
    "       ]\n",
    "\n",
    "for i in range(Nt*num_dynamic):\n",
    "    cost.append(100)\n",
    "\n",
    "install_cost_dynamic = [100, 100, 500, 500, 500]"
   ]
  },
  {
   "cell_type": "code",
   "execution_count": 12,
   "id": "e3a967c0",
   "metadata": {},
   "outputs": [
    {
     "name": "stdout",
     "output_type": "stream",
     "text": [
      "[[1. 0. 0. 0. 0.]\n",
      " [0. 1. 0. 0. 0.]\n",
      " [0. 0. 1. 0. 0.]\n",
      " [0. 0. 0. 1. 0.]\n",
      " [0. 0. 0. 0. 1.]]\n"
     ]
    }
   ],
   "source": [
    "init_y = np.random.rand(num_total-num_static)\n",
    "\n",
    "update_y = [1]*num_static \n",
    "\n",
    "for i in init_y:\n",
    "    if i > 0.5: \n",
    "        update_y.append(1)\n",
    "    else:\n",
    "        update_y.append(0)\n",
    "\n",
    "init_cov_y = [[0]*num_total for i in range(num_total)]\n",
    "\n",
    "for j in range(num_total):\n",
    "    for k in range(num_total):\n",
    "        if j==k:\n",
    "            init_cov_y[j][k] = update_y[k]\n",
    "            \n",
    "        else:\n",
    "            init_cov_y[j][k] = min(update_y[k], update_y[j])\n",
    "\n",
    "fim_prior = np.identity((5))\n",
    "print(fim_prior)"
   ]
  },
  {
   "cell_type": "code",
   "execution_count": 13,
   "id": "de6f6f7b",
   "metadata": {},
   "outputs": [],
   "source": [
    "num_fixed_opt = 9\n",
    "\n",
    "num_dynamic_opt = 5\n",
    "\n",
    "mip_option = False\n",
    "objective = \"A\"\n",
    "sparse_opt = True\n",
    "fix_opt = False\n",
    "\n",
    "each_manual_num = 5\n",
    "total_manual_num = 20\n",
    "budget_opt = 10000  \n",
    "\n",
    "discretize_time = 10\n",
    "num_dynamic_time = np.linspace(2,220,Nt)\n",
    "    \n",
    "#print(num_dynamic_time)\n",
    "\n",
    "dynamic_time_dict = {}\n",
    "for i, tim in enumerate(num_dynamic_time):\n",
    "    dynamic_time_dict[i] = tim \n",
    "    \n",
    "#print(dynamic_time_dict)"
   ]
  },
  {
   "cell_type": "code",
   "execution_count": 14,
   "id": "6678f339",
   "metadata": {},
   "outputs": [
    {
     "name": "stdout",
     "output_type": "stream",
     "text": [
      "Ipopt 3.13.2: linear_solver=ma57\n",
      "\n",
      "\n",
      "******************************************************************************\n",
      "This program contains Ipopt, a library for large-scale nonlinear optimization.\n",
      " Ipopt is released as open source code under the Eclipse Public License (EPL).\n",
      "         For more information visit http://projects.coin-or.org/Ipopt\n",
      "\n",
      "This version of Ipopt was compiled from source code available at\n",
      "    https://github.com/IDAES/Ipopt as part of the Institute for the Design of\n",
      "    Advanced Energy Systems Process Systems Engineering Framework (IDAES PSE\n",
      "    Framework) Copyright (c) 2018-2019. See https://github.com/IDAES/idaes-pse.\n",
      "\n",
      "This version of Ipopt was compiled using HSL, a collection of Fortran codes\n",
      "    for large-scale scientific computation.  All technical papers, sales and\n",
      "    publicity material resulting from use of the HSL codes within IPOPT must\n",
      "    contain the following acknowledgement:\n",
      "        HSL, a collection of Fortran codes for large-scale scientific\n",
      "        computation. See http://www.hsl.rl.ac.uk.\n",
      "******************************************************************************\n",
      "\n",
      "This is Ipopt version 3.13.2, running with linear solver ma57.\n",
      "\n",
      "Number of nonzeros in equality constraint Jacobian...:     2036\n",
      "Number of nonzeros in inequality constraint Jacobian.:    49704\n",
      "Number of nonzeros in Lagrangian Hessian.............:        0\n",
      "\n",
      "Total number of variables............................:     7162\n",
      "                     variables with only lower bounds:        0\n",
      "                variables with lower and upper bounds:     7145\n",
      "                     variables with only upper bounds:        0\n",
      "Total number of equality constraints.................:       17\n",
      "Total number of inequality constraints...............:    21295\n",
      "        inequality constraints with only lower bounds:        0\n",
      "   inequality constraints with lower and upper bounds:        0\n",
      "        inequality constraints with only upper bounds:    21295\n",
      "\n",
      "iter    objective    inf_pr   inf_du lg(mu)  ||d||  lg(rg) alpha_du alpha_pr  ls\n",
      "   0 -5.0000000e+00 8.83e+03 1.55e+01  -1.0 0.00e+00    -  0.00e+00 0.00e+00   0\n",
      "   1 -7.3403316e+03 8.78e+03 1.55e+01  -1.0 1.05e+06    -  3.11e-04 5.11e-03f  1\n",
      "   2 -3.8635049e+04 8.78e+03 1.61e+01  -1.0 5.19e+07    -  1.04e-04 4.39e-04f  1\n",
      "   3 -4.3690489e+04 8.77e+03 3.09e+01  -1.0 6.69e+06    -  1.07e-02 5.50e-04f  1\n",
      "   4 -4.3729260e+04 8.74e+03 3.72e+01  -1.0 9.01e+03    -  5.33e-03 3.50e-03f  1\n",
      "   5 -4.3898206e+04 8.70e+03 2.52e+01  -1.0 3.23e+04    -  1.00e-03 4.72e-03f  1\n",
      "   6 -4.4120037e+04 8.66e+03 2.42e+01  -1.0 4.67e+04    -  3.97e-03 4.29e-03f  1\n",
      "   7 -4.5091113e+04 8.52e+03 2.69e+01  -1.0 5.30e+04    -  4.97e-03 1.68e-02f  1\n",
      "   8 -4.5454097e+04 8.46e+03 2.03e+01  -1.0 4.26e+04    -  1.28e-02 7.40e-03f  1\n",
      "   9 -4.6243407e+04 8.30e+03 2.85e+01  -1.0 3.53e+04    -  2.58e-02 1.83e-02f  1\n",
      "iter    objective    inf_pr   inf_du lg(mu)  ||d||  lg(rg) alpha_du alpha_pr  ls\n",
      "  10 -4.6548202e+04 8.17e+03 1.66e+01  -1.0 1.43e+04    -  8.48e-03 1.56e-02f  1\n",
      "  11 -4.6702195e+04 8.08e+03 5.05e+01  -1.0 1.03e+04    -  7.03e-03 1.06e-02f  1\n",
      "  12 -4.6974132e+04 7.90e+03 8.90e+01  -1.0 8.38e+03    -  1.38e-02 2.27e-02f  1\n",
      "  13 -4.7364386e+04 7.57e+03 5.43e+01  -1.0 6.29e+03    -  5.08e-02 4.21e-02f  1\n",
      "  14 -4.7774075e+04 7.05e+03 1.47e+02  -1.0 3.76e+03    -  4.26e-02 6.80e-02f  1\n",
      "  15 -4.8149949e+04 6.43e+03 2.92e+02  -1.0 2.58e+03    -  1.98e-01 8.81e-02f  1\n",
      "  16 -4.8741447e+04 5.26e+03 4.84e+02  -1.0 2.03e+03    -  3.05e-01 1.83e-01f  1\n",
      "  17 -4.9570009e+04 3.51e+03 2.68e+02  -1.0 1.59e+03    -  2.94e-01 3.33e-01f  1\n",
      "  18 -5.0280181e+04 1.94e+03 8.37e+01  -1.0 1.01e+03    -  2.61e-01 4.47e-01f  1\n",
      "  19 -5.0316450e+04 1.86e+03 6.45e+02  -1.0 5.41e+02    -  4.50e-01 4.23e-02h  1\n",
      "iter    objective    inf_pr   inf_du lg(mu)  ||d||  lg(rg) alpha_du alpha_pr  ls\n",
      "  20 -5.0316938e+04 1.86e+03 6.10e+02  -1.0 4.89e+02    -  1.83e-03 6.21e-04h  1\n",
      "  21 -5.0412635e+04 1.62e+03 2.74e+02  -1.0 4.91e+02    -  2.89e-04 1.26e-01h  1\n",
      "  22 -5.0420354e+04 1.60e+03 2.77e+03  -1.0 4.13e+02    -  8.61e-02 1.25e-02h  1\n",
      "  23 -5.0407613e+04 1.59e+03 1.22e+03  -1.0 9.77e+02    -  3.20e-03 1.02e-02h  1\n",
      "  24 -4.9491801e+04 1.50e+03 2.19e+03  -1.0 1.24e+04    -  6.95e-04 5.39e-02h  1\n",
      "  25 -4.6235560e+04 1.22e+03 2.08e+03  -1.0 1.27e+04    -  4.61e-02 1.87e-01h  1\n",
      "  26 -4.3065894e+04 9.49e+02 1.72e+03  -1.0 1.04e+04    -  1.23e-01 2.22e-01h  1\n",
      "  27 -3.9882622e+04 6.76e+02 1.26e+03  -1.0 8.06e+03    -  2.45e-01 2.87e-01h  1\n",
      "  28 -3.6093311e+04 3.52e+02 7.95e+02  -1.0 5.75e+03    -  2.34e-01 4.80e-01h  1\n",
      "  29 -3.1966426e+04 5.46e-12 3.51e+02  -1.0 3.01e+03    -  1.33e-01 1.00e+00h  1\n",
      "iter    objective    inf_pr   inf_du lg(mu)  ||d||  lg(rg) alpha_du alpha_pr  ls\n",
      "  30 -3.1938201e+04 1.82e-11 1.71e+02  -1.0 5.52e+02    -  4.98e-01 1.00e+00f  1\n",
      "  31 -3.1937526e+04 7.28e-12 2.57e+01  -1.0 7.45e+02    -  8.53e-01 5.26e-01f  1\n",
      "  32 -3.1935723e+04 1.46e-11 1.00e-06  -1.0 5.45e+02    -  1.00e+00 1.00e+00f  1\n",
      "  33 -3.2047075e+04 9.09e-12 2.72e+01  -1.7 2.88e+02    -  4.45e-01 3.02e-01f  1\n",
      "  34 -3.2109216e+04 9.09e-12 3.77e+01  -1.7 3.23e+02    -  3.28e-01 1.63e-01f  1\n",
      "  35 -3.2130253e+04 1.09e-11 4.88e+01  -1.7 2.95e+02    -  2.65e-01 6.15e-02f  1\n",
      "  36 -3.2214560e+04 3.64e-12 5.31e+01  -1.7 3.11e+02    -  5.90e-01 2.38e-01f  1\n",
      "  37 -3.2220816e+04 1.46e-11 6.65e+01  -1.7 2.13e+02    -  3.87e-01 2.81e-02f  1\n",
      "  38 -3.2344823e+04 7.28e-12 3.93e+01  -1.7 2.25e+02    -  9.31e-01 5.54e-01f  1\n",
      "  39 -3.2410812e+04 7.28e-12 1.45e+01  -1.7 1.07e+02    -  7.45e-01 6.51e-01f  1\n",
      "iter    objective    inf_pr   inf_du lg(mu)  ||d||  lg(rg) alpha_du alpha_pr  ls\n",
      "  40 -3.2439608e+04 1.09e-11 2.12e+00  -1.7 3.27e+01    -  5.91e-01 1.00e+00f  1\n",
      "  41 -3.2439527e+04 7.28e-12 2.00e-07  -1.7 7.62e-01    -  1.00e+00 1.00e+00f  1\n",
      "  42 -3.2454644e+04 5.46e-12 1.66e+01  -3.8 2.20e+02    -  3.16e-01 9.00e-02f  1\n",
      "  43 -3.2472285e+04 1.09e-11 2.53e+01  -3.8 2.29e+02    -  3.02e-01 1.16e-01f  1\n",
      "  44 -3.2501232e+04 3.64e-12 1.98e+01  -3.8 2.53e+02    -  1.39e-01 1.76e-01f  1\n",
      "  45 -3.2552172e+04 1.46e-11 1.12e+01  -3.8 2.29e+02    -  1.37e-01 3.14e-01f  1\n",
      "  46 -3.2553262e+04 1.09e-11 1.46e+01  -3.8 1.40e+02    -  1.98e-01 9.70e-03f  1\n",
      "  47 -3.2580269e+04 5.46e-12 9.02e+00  -3.8 1.57e+02    -  1.19e-01 2.41e-01f  1\n",
      "  48 -3.2610664e+04 5.46e-12 2.73e+00  -3.8 1.41e+02    -  1.49e-01 3.44e-01f  1\n",
      "  49 -3.2611007e+04 5.46e-12 7.91e+00  -3.8 1.33e+02    -  2.43e-01 5.74e-03f  1\n",
      "iter    objective    inf_pr   inf_du lg(mu)  ||d||  lg(rg) alpha_du alpha_pr  ls\n",
      "  50 -3.2641908e+04 7.28e-12 1.58e+00  -3.8 1.65e+02    -  3.77e-01 5.09e-01f  1\n",
      "  51 -3.2649882e+04 3.64e-12 1.36e+00  -3.8 1.83e+02    -  2.59e-01 2.46e-01f  1\n",
      "  52 -3.2670922e+04 7.28e-12 2.34e+00  -3.8 1.82e+02    -  1.84e-01 7.74e-01f  1\n",
      "  53 -3.2676066e+04 9.09e-12 8.27e-01  -3.8 7.31e+01    -  6.34e-01 6.72e-01f  1\n",
      "  54 -3.2678833e+04 1.09e-11 1.56e-02  -3.8 3.79e+01    -  1.00e+00 9.93e-01f  1\n",
      "  55 -3.2678881e+04 7.28e-12 1.28e+00  -3.8 5.08e+00    -  3.05e-01 1.00e+00f  1\n",
      "  56 -3.2678881e+04 2.55e-11 1.50e-09  -3.8 4.81e-01    -  1.00e+00 1.00e+00f  1\n",
      "  57 -3.2681865e+04 1.82e-11 2.85e-02  -5.7 2.56e+01    -  7.54e-01 9.87e-01f  1\n",
      "Reallocating memory for MA57: lfact (5243453)\n",
      "  58 -3.2681923e+04 5.46e-12 5.04e-01  -5.7 3.05e+00    -  7.62e-01 1.00e+00f  1\n",
      "  59 -3.2681925e+04 1.46e-11 1.91e-11  -5.7 4.38e-01    -  1.00e+00 1.00e+00f  1\n",
      "iter    objective    inf_pr   inf_du lg(mu)  ||d||  lg(rg) alpha_du alpha_pr  ls\n",
      "  60 -3.2681958e+04 7.28e-12 7.11e-01  -8.6 2.10e-01    -  9.80e-01 8.53e-01f  1\n",
      "  61 -3.2681958e+04 7.28e-12 5.37e+03  -8.6 4.61e-02    -  8.51e-01 8.68e-03f  1\n",
      "  62 -3.2681959e+04 5.46e-12 4.40e+03  -8.6 9.22e-02    -  6.75e-01 2.48e-01f  1\n",
      "  63 -3.2681962e+04 7.28e-12 9.05e+02  -8.6 1.56e-01    -  7.51e-01 7.92e-01f  1\n",
      "  64 -3.2681962e+04 9.09e-12 2.84e+02  -8.6 1.73e-01    -  8.85e-01 6.99e-01f  1\n",
      "  65 -3.2681963e+04 1.64e-11 3.04e+01  -8.6 1.06e-01    -  8.90e-01 8.93e-01f  1\n",
      "In iteration 65, 1 Slack too small, adjusting variable bound\n",
      "  66 -3.2681963e+04 1.46e-11 5.91e+01  -8.6 1.55e-02    -  1.00e+00 1.49e-01f  1\n",
      "  67 -3.2681963e+04 6.37e-12 2.94e+01  -8.6 1.32e-02    -  1.00e+00 4.20e-01f  1\n",
      "  68 -3.2681963e+04 1.64e-11 2.05e+00  -8.6 7.69e-03    -  1.00e+00 9.34e-01f  1\n",
      "  69 -3.2681963e+04 9.09e-12 3.31e-11  -8.6 5.40e-04    -  1.00e+00 1.00e+00f  1\n",
      "iter    objective    inf_pr   inf_du lg(mu)  ||d||  lg(rg) alpha_du alpha_pr  ls\n",
      "  70 -3.2681963e+04 1.46e-11 3.23e+01  -9.0 3.46e-04    -  1.00e+00 3.33e-01f  1\n",
      "  71 -3.2681963e+04 7.28e-12 2.33e+01  -9.0 2.90e-04    -  1.00e+00 2.88e-01f  1\n",
      "  72 -3.2681963e+04 9.09e-12 1.69e+01  -9.0 2.06e-04    -  1.00e+00 4.05e-01f  1\n"
     ]
    },
    {
     "name": "stdout",
     "output_type": "stream",
     "text": [
      "In iteration 72, 1 Slack too small, adjusting variable bound\n",
      "  73 -3.2681963e+04 2.18e-11 7.61e+00  -9.0 1.32e-04    -  1.00e+00 5.03e-01f  1\n",
      "  74 -3.2681963e+04 2.18e-11 1.41e+00  -9.0 6.89e-05    -  1.00e+00 8.21e-01h  1\n",
      "  75 -3.2681963e+04 1.46e-11 1.29e-11  -9.0 9.34e-06    -  1.00e+00 1.00e+00f  1\n",
      "\n",
      "Number of Iterations....: 75\n",
      "\n",
      "                                   (scaled)                 (unscaled)\n",
      "Objective...............:  -3.2681962604851760e+04   -3.2681962604851760e+04\n",
      "Dual infeasibility......:   1.2926580812699928e-11    1.2926580812699928e-11\n",
      "Constraint violation....:   9.0949470177292824e-13    1.4551915228366852e-11\n",
      "Complementarity.........:   2.4548993514921702e-09    2.4548993514921702e-09\n",
      "Overall NLP error.......:   2.4548993514921702e-09    2.4548993514921702e-09\n",
      "\n",
      "\n",
      "Number of objective function evaluations             = 76\n",
      "Number of objective gradient evaluations             = 76\n",
      "Number of equality constraint evaluations            = 76\n",
      "Number of inequality constraint evaluations          = 76\n",
      "Number of equality constraint Jacobian evaluations   = 76\n",
      "Number of inequality constraint Jacobian evaluations = 76\n",
      "Number of Lagrangian Hessian evaluations             = 75\n",
      "Total CPU secs in IPOPT (w/o function evaluations)   =      6.449\n",
      "Total CPU secs in NLP function evaluations           =      0.072\n",
      "\n",
      "EXIT: Optimal Solution Found.\n"
     ]
    }
   ],
   "source": [
    "mod = calculator.continuous_optimization(cost, mixed_integer=mip_option, \n",
    "                  obj=objective, fix=fix_opt, sparse=sparse_opt, \n",
    "                    num_dynamic_t_name = num_dynamic_time, \n",
    "                    discretize_time = discretize_time, \n",
    "                    manual_number = total_manual_num, budget=budget_opt,\n",
    "                    dynamic_install_cost = install_cost_dynamic, \n",
    "                    each_manual_number = each_manual_num,  initial_fim = fim_prior)\n",
    "\n",
    "mod = calculator.solve(mod, mip_option=mip_option, objective = objective)"
   ]
  },
  {
   "cell_type": "code",
   "execution_count": 15,
   "id": "24d81e44",
   "metadata": {
    "scrolled": false
   },
   "outputs": [
    {
     "name": "stdout",
     "output_type": "stream",
     "text": [
      "[[ 5.41525774e+03  1.02442612e+00 -4.15244981e+03  1.08772536e+04\n",
      "  -3.50853226e+02]\n",
      " [ 1.02442612e+00  9.75318387e-01 -1.36974325e-01  9.74933747e+00\n",
      "  -1.58012639e+00]\n",
      " [-4.15244981e+03 -1.36974325e-01  3.29923027e+03 -8.51763311e+03\n",
      "   1.80468545e+02]\n",
      " [ 1.08772536e+04  9.74933747e+00 -8.51763311e+03  2.38294651e+04\n",
      "  -5.83373454e+02]\n",
      " [-3.50853226e+02 -1.58012639e+00  1.80468545e+02 -5.83373454e+02\n",
      "   1.37034206e+02]]\n",
      "trace: 32681.96260485176\n",
      "det: 44535061831.72334\n",
      "[3.20159706e+04 4.77958777e+02 1.68042121e+02 1.90835917e+01\n",
      " 9.07541881e-01]\n",
      "Pyomo OF: 32681.96260485176\n",
      "Log_det: 24.51954262221422\n"
     ]
    }
   ],
   "source": [
    "fim_result = np.zeros((5,5))\n",
    "for i in range(5):\n",
    "    for j in range(i,5):\n",
    "        fim_result[i,j] = fim_result[j,i] = pyo.value(mod.TotalFIM[i,j])\n",
    "        \n",
    "print(fim_result)  \n",
    "print('trace:', np.trace(fim_result))\n",
    "print('det:', np.linalg.det(fim_result))\n",
    "print(np.linalg.eigvals(fim_result))\n",
    "\n",
    "print(\"Pyomo OF:\", pyo.value(mod.Obj))\n",
    "print(\"Log_det:\", np.log(np.linalg.det(fim_result)))"
   ]
  },
  {
   "cell_type": "code",
   "execution_count": 16,
   "id": "9ff34875",
   "metadata": {},
   "outputs": [
    {
     "name": "stdout",
     "output_type": "stream",
     "text": [
      "Ads.gas_inlet.F :  1.0\n",
      "Ads.gas_outlet.F :  0.45\n",
      "Ads.gas_outlet.T :  0.45\n",
      "Des.gas_inlet.F :  0.45\n",
      "Des.gas_outlet.F :  0.45\n",
      "Des.gas_outlet.T :  0.45\n",
      "Ads.T_g.Value(19,10) :  1.0\n",
      "Ads.T_g.Value(23,10) :  0.45\n",
      "Ads.T_g.Value(28,10) :  1.0\n",
      "Ads.gas_outlet.z(\"CO2\") (time points [min]):\n",
      "157.71428571428572\n",
      "178.47619047619048\n",
      "188.85714285714286\n",
      "199.23809523809524\n",
      "220.0\n",
      "Des.gas_outlet.z(\"CO2\") (time points [min]):\n",
      "53.904761904761905\n",
      "74.66666666666667\n",
      "85.04761904761905\n",
      "95.42857142857143\n",
      "105.80952380952381\n",
      "Ads.z(\"CO2\",19,10) (time points [min]):\n",
      "12.380952380952381\n",
      "33.142857142857146\n",
      "53.904761904761905\n",
      "74.66666666666667\n",
      "157.71428571428572\n",
      "Ads.z(\"CO2\",23,10) (time points [min]):\n",
      "95.42857142857143\n",
      "136.95238095238096\n",
      "220.0\n",
      "Ads.z(\"CO2\",28,10) (time points [min]):\n",
      "53.904761904761905\n",
      "199.23809523809524\n"
     ]
    }
   ],
   "source": [
    "ans_y, sol_y = calculator.extract_solutions(mod)"
   ]
  },
  {
   "cell_type": "code",
   "execution_count": 18,
   "id": "a5820e51",
   "metadata": {},
   "outputs": [
    {
     "name": "stdout",
     "output_type": "stream",
     "text": [
      "[1, 1, 1, 1, 1]\n",
      "8950.0\n"
     ]
    }
   ],
   "source": [
    "# verify cost \n",
    "real_cost = 0 \n",
    "for i in range(num_total):\n",
    "    real_cost += ans_y[i,i]*cost[i]\n",
    "    \n",
    "dynamic_inst = [0]*num_dynamic\n",
    "for j in range(num_dynamic):\n",
    "    for t in range(Nt):\n",
    "        if sol_y[j,t]>0.99:\n",
    "            dynamic_inst[j] = 1 \n",
    "            \n",
    "real_cost += sum(dynamic_inst[i]*install_cost_dynamic[i] for i in range(num_dynamic))\n",
    "print(dynamic_inst)\n",
    "print(real_cost)"
   ]
  },
  {
   "cell_type": "code",
   "execution_count": null,
   "id": "52a09818",
   "metadata": {},
   "outputs": [],
   "source": []
  }
 ],
 "metadata": {
  "kernelspec": {
   "display_name": "Python 3 (ipykernel)",
   "language": "python",
   "name": "python3"
  },
  "language_info": {
   "codemirror_mode": {
    "name": "ipython",
    "version": 3
   },
   "file_extension": ".py",
   "mimetype": "text/x-python",
   "name": "python",
   "nbconvert_exporter": "python",
   "pygments_lexer": "ipython3",
   "version": "3.7.11"
  }
 },
 "nbformat": 4,
 "nbformat_minor": 5
}
