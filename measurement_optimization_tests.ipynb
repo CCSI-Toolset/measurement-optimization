{
 "cells": [
  {
   "cell_type": "code",
   "execution_count": 1,
   "id": "597f749d",
   "metadata": {},
   "outputs": [],
   "source": [
    "import numpy as np\n",
    "import pandas as pd\n",
    "import pyomo.environ as pyo\n",
    "from measure_optimize import MeasurementOptimizer, DataProcess, CovarianceStructure, ObjectiveLib\n",
    "import matplotlib.pyplot as plt\n",
    "import pickle "
   ]
  },
  {
   "cell_type": "markdown",
   "id": "e70ab310",
   "metadata": {},
   "source": [
    "## Input Setting\n",
    "\n",
    "### All measurements and index\n",
    "\n",
    "- ads.gas_inlet.F (0)\n",
    "- ads.gas_outlet.F (1)\n",
    "- ads.gas_outlet.T (2)\n",
    "- ads.gas_outlet.z (3)\n",
    "- des.gas_inlet.F (4)\n",
    "- des.gas_outlet.F (5)\n",
    "- des.gas_outlet.T (6)\n",
    "- des.gas_outlet.z (7)\n",
    "- ads.T19 (8)\n",
    "- ads.T23 (9)\n",
    "- ads.T28 (10)\n",
    "- ads.z19 (11)\n",
    "- ads.z23 (12)\n",
    "- ads.z28 (13)\n",
    "\n",
    "One-time cost ones: 0,1,2, 4,5,6, 8,9,10\n",
    "\n",
    "Time-cost ones: 3,7,11,12,13\n",
    "\n",
    "Names in str: 'Ads.gas_inlet.F', 'Ads.gas_outlet.F', 'Ads.gas_outlet.T', \n",
    "             'Ads.gas_outlet.z(\"CO2\")', 'Des.gas_inlet.F', 'Des.gas_outlet.F', \n",
    "             'Des.gas_outlet.T', 'Des.gas_outlet.z(\"CO2\")', 'Ads.T_g.Value(19,10)', \n",
    "             'Ads.T_g.Value(23,10)', 'Ads.T_g.Value(28,10)', 'Ads.z(\"CO2\",19,10)', \n",
    "             'Ads.z(\"CO2\",23,10)', 'Ads.z(\"CO2\",28,10)'"
   ]
  },
  {
   "cell_type": "code",
   "execution_count": 2,
   "id": "deb11433",
   "metadata": {},
   "outputs": [],
   "source": [
    "Nt =110\n",
    "\n",
    "max_manual_num = 5 \n",
    "min_interval_num = 10"
   ]
  },
  {
   "cell_type": "code",
   "execution_count": 3,
   "id": "e7f000c7",
   "metadata": {},
   "outputs": [],
   "source": [
    "static_ind = [0,1,2,3,4,5,6,7,8,9,10]\n",
    "dynamic_ind = [11,12,13,14,15]\n",
    "all_ind = static_ind+dynamic_ind\n",
    "\n",
    "num_total = len(all_ind)"
   ]
  },
  {
   "cell_type": "code",
   "execution_count": 4,
   "id": "6ebd696e",
   "metadata": {},
   "outputs": [],
   "source": [
    "all_names_strategy3 = ['Ads.gas_inlet.F', 'Ads.gas_outlet.F', 'Ads.gas_outlet.T', \n",
    "             'Des.gas_inlet.F', 'Des.gas_outlet.F', \n",
    "             'Des.gas_outlet.T',  'Ads.T_g.Value(19,10)', \n",
    "             'Ads.T_g.Value(23,10)', 'Ads.T_g.Value(28,10)', # all static\n",
    "            'Ads.gas_outlet.z(\"CO2\").static', 'Des.gas_outlet.z(\"CO2\").static', # static z \n",
    "            'Ads.gas_outlet.z(\"CO2\").dynamic', 'Des.gas_outlet.z(\"CO2\").dynamic', # dynamic z \n",
    "            'Ads.z(\"CO2\",19,10)', 'Ads.z(\"CO2\",23,10)', 'Ads.z(\"CO2\",28,10)']"
   ]
  },
  {
   "cell_type": "code",
   "execution_count": 5,
   "id": "44b68c27",
   "metadata": {},
   "outputs": [],
   "source": [
    "\n",
    "static_cost = [1000, #ads.gas_inlet.F (0)\n",
    "    1000, #ads.gas_outlet.F (1)\n",
    "     500, #ads.gas_outlet.T (2)\n",
    "    1000, #des.gas_inlet.F (4)\n",
    "    1000, #des.gas_outlet.F (5)\n",
    "     500, #des.gas_outlet.T (6)\n",
    "     1000, #ads.T19 (8)\n",
    "     1000, #ads.T23 (9)\n",
    "     1000, #ads.T28 (10)\n",
    "    7000,\n",
    "    7000]\n",
    "\n",
    "\n",
    "static_cost.extend([100, 100, 500, 500, 500])\n",
    "\n",
    "dynamic_cost = [0]*len(static_ind)\n",
    "dynamic_cost.extend([100]*len(dynamic_ind))\n",
    "\n",
    "max_manual = [max_manual_num]*num_total\n",
    "min_time_interval = [min_interval_num]*num_total"
   ]
  },
  {
   "cell_type": "code",
   "execution_count": 6,
   "id": "7b48daf2",
   "metadata": {},
   "outputs": [
    {
     "name": "stdout",
     "output_type": "stream",
     "text": [
      "if selected all static: 23700\n",
      "if selected all static without two z: 9700\n"
     ]
    }
   ],
   "source": [
    "print(\"if selected all static:\", sum(static_cost))\n",
    "print(\"if selected all static without two z:\", sum(static_cost)-7000*2)"
   ]
  },
  {
   "cell_type": "code",
   "execution_count": 7,
   "id": "80ee3fd3",
   "metadata": {
    "scrolled": true
   },
   "outputs": [
    {
     "name": "stdout",
     "output_type": "stream",
     "text": [
      "                               name  Q_index  static_cost  dynamic_cost  \\\n",
      "0                   Ads.gas_inlet.F        0         1000             0   \n",
      "1                  Ads.gas_outlet.F        1         1000             0   \n",
      "2                  Ads.gas_outlet.T        2          500             0   \n",
      "3                   Des.gas_inlet.F        3         1000             0   \n",
      "4                  Des.gas_outlet.F        4         1000             0   \n",
      "5                  Des.gas_outlet.T        5          500             0   \n",
      "6              Ads.T_g.Value(19,10)        6         1000             0   \n",
      "7              Ads.T_g.Value(23,10)        7         1000             0   \n",
      "8              Ads.T_g.Value(28,10)        8         1000             0   \n",
      "9    Ads.gas_outlet.z(\"CO2\").static        9         7000             0   \n",
      "10   Des.gas_outlet.z(\"CO2\").static       10         7000             0   \n",
      "11  Ads.gas_outlet.z(\"CO2\").dynamic       11          100           100   \n",
      "12  Des.gas_outlet.z(\"CO2\").dynamic       12          100           100   \n",
      "13               Ads.z(\"CO2\",19,10)       13          500           100   \n",
      "14               Ads.z(\"CO2\",23,10)       14          500           100   \n",
      "15               Ads.z(\"CO2\",28,10)       15          500           100   \n",
      "\n",
      "    min_time_interval  max_manual_number  \n",
      "0                  10                  5  \n",
      "1                  10                  5  \n",
      "2                  10                  5  \n",
      "3                  10                  5  \n",
      "4                  10                  5  \n",
      "5                  10                  5  \n",
      "6                  10                  5  \n",
      "7                  10                  5  \n",
      "8                  10                  5  \n",
      "9                  10                  5  \n",
      "10                 10                  5  \n",
      "11                 10                  5  \n",
      "12                 10                  5  \n",
      "13                 10                  5  \n",
      "14                 10                  5  \n",
      "15                 10                  5  \n"
     ]
    }
   ],
   "source": [
    "measure_info = pd.DataFrame({\n",
    "    \"name\": all_names_strategy3,\n",
    "    \"Q_index\": all_ind,\n",
    "        \"static_cost\": static_cost,\n",
    "    \"dynamic_cost\": dynamic_cost,\n",
    "    \"min_time_interval\": min_time_interval, \n",
    "    \"max_manual_number\": max_manual\n",
    "})\n",
    "\n",
    "print(measure_info)"
   ]
  },
  {
   "cell_type": "code",
   "execution_count": 8,
   "id": "795a7724",
   "metadata": {},
   "outputs": [
    {
     "name": "stdout",
     "output_type": "stream",
     "text": [
      "[9]\n",
      "16\n"
     ]
    }
   ],
   "source": [
    "print(measure_info[measure_info['name']=='Ads.gas_outlet.z(\"CO2\").static'].index.values)\n",
    "print(len(measure_info))"
   ]
  },
  {
   "cell_type": "code",
   "execution_count": 9,
   "id": "44e72140",
   "metadata": {
    "scrolled": true
   },
   "outputs": [],
   "source": [
    "dataObject = DataProcess()\n",
    "dataObject.read_jacobian('./RotaryBed/Q'+str(Nt)+'_scale.csv')\n",
    "Q = dataObject.get_Q_list([0,1,2,4,5,6,8,9,10,3,7],\n",
    "                        [3,7,11,12,13], Nt)\n"
   ]
  },
  {
   "cell_type": "code",
   "execution_count": 10,
   "id": "7df09b33",
   "metadata": {
    "scrolled": true
   },
   "outputs": [
    {
     "name": "stdout",
     "output_type": "stream",
     "text": [
      "(314721, 5, 5)\n"
     ]
    }
   ],
   "source": [
    "calculator = MeasurementOptimizer(Q, measure_info, error_opt=CovarianceStructure.identity, verbose=True)\n",
    "\n",
    "fim_expect = calculator.fim_computation()\n",
    "\n",
    "print(np.shape(calculator.fim_collection))"
   ]
  },
  {
   "cell_type": "markdown",
   "id": "9c6629a6",
   "metadata": {},
   "source": [
    "### Debug functions: check each unit FIM"
   ]
  },
  {
   "cell_type": "code",
   "execution_count": null,
   "id": "7da88b58",
   "metadata": {},
   "outputs": [],
   "source": [
    "print(calculator.head_pos_dynamic_flatten)\n",
    "print(calculator.static_idx)\n",
    "print(calculator.dynamic_idx)\n",
    "print(calculator.Q_dynamic_flatten[451][0])"
   ]
  },
  {
   "cell_type": "code",
   "execution_count": null,
   "id": "c1b503fa",
   "metadata": {},
   "outputs": [],
   "source": [
    "# check Q is rightly arranged \n",
    "for i in range(16):\n",
    "    print(Q[i][0])"
   ]
  },
  {
   "cell_type": "code",
   "execution_count": null,
   "id": "6dee81bc",
   "metadata": {},
   "outputs": [],
   "source": [
    "def check(fim_set):\n",
    "    for i in range(num_total):\n",
    "        for j in range(num_total):\n",
    "            fim = fim_set[i*num_total+j]\n",
    "            if np.any(fim):\n",
    "                logdet = np.log(np.linalg.det(fim))\n",
    "                if logdet < 0:\n",
    "                    print(\"unit FIM with small Det: \", i, j, ', logdet:', logdet)\n",
    "                if max(np.linalg.eigvals(fim))/min(np.linalg.eigvals(fim)) > 1000:\n",
    "                    print(\"unit FIM with big condition number:\", i, j, \", eigvals:\", np.linalg.eigvals(fim))\n",
    "                    \n",
    "def print_fim(t):\n",
    "    fim = calculator.fim_collection[t*num_total+t]\n",
    "    print(\"Measurement name: \", all_names_strategy3[t])\n",
    "    #print(fim)\n",
    "    print(\"Trace:\", np.trace(fim))"
   ]
  },
  {
   "cell_type": "code",
   "execution_count": null,
   "id": "2c709124",
   "metadata": {},
   "outputs": [],
   "source": [
    "print(num_total)\n",
    "for i in range(11):\n",
    "    print_fim(i)"
   ]
  },
  {
   "cell_type": "code",
   "execution_count": null,
   "id": "b0026943",
   "metadata": {},
   "outputs": [],
   "source": [
    "\n",
    "\n",
    "total_fim = np.zeros((5,5))\n",
    "for i in range(314721):\n",
    "    total_fim += calculator.fim_collection[i]\n",
    "print(total_fim)"
   ]
  },
  {
   "cell_type": "markdown",
   "id": "838bb087",
   "metadata": {},
   "source": [
    "### Initialize"
   ]
  },
  {
   "cell_type": "code",
   "execution_count": 11,
   "id": "191fcf09",
   "metadata": {},
   "outputs": [],
   "source": [
    "num_static = len(static_ind)\n",
    "num_dynamic  = len(dynamic_ind)\n",
    "num_total = num_static + num_dynamic*Nt"
   ]
  },
  {
   "cell_type": "code",
   "execution_count": 13,
   "id": "0ec87fc3",
   "metadata": {},
   "outputs": [
    {
     "name": "stdout",
     "output_type": "stream",
     "text": [
      "[[1. 1. 1. ... 0. 0. 0.]\n",
      " [1. 1. 1. ... 0. 0. 0.]\n",
      " [1. 1. 1. ... 0. 0. 0.]\n",
      " ...\n",
      " [0. 0. 0. ... 0. 0. 0.]\n",
      " [0. 0. 0. ... 0. 0. 0.]\n",
      " [0. 0. 0. ... 0. 0. 0.]]\n"
     ]
    }
   ],
   "source": [
    "#with open('MarResults-A-strategy3/Mar20_A_110_8000_strategy3_mip', 'rb') as f:\n",
    "with open('MarResult-strategy3-Dopt/Mar31_D_110_27700', 'rb') as f:\n",
    "    x = pickle.load(f)\n",
    "    \n",
    "print(x)\n",
    "\n",
    "init_cov_y = x.copy()\n",
    "\n",
    "for i in range(11):\n",
    "    for j in range(11):\n",
    "        init_cov_y[i,j] = 1\n",
    "    \n",
    "# initialize all decisions\n",
    "#init_cov_y = np.ones(x.shape) "
   ]
  },
  {
   "cell_type": "code",
   "execution_count": null,
   "id": "f9f814f5",
   "metadata": {},
   "outputs": [],
   "source": [
    "for i in range(11,231):\n",
    "    for j in range(11,231):\n",
    "        init_cov_y[i,j] = 0"
   ]
  },
  {
   "cell_type": "code",
   "execution_count": 14,
   "id": "e3a967c0",
   "metadata": {},
   "outputs": [
    {
     "name": "stdout",
     "output_type": "stream",
     "text": [
      "[[ 5.55260011e+03 -2.61972445e+00 -4.14130933e+03  1.09879444e+04\n",
      "  -5.00376769e+02]\n",
      " [-2.61972445e+00  5.22032483e+00  7.68731822e+00  5.03877570e+01\n",
      "  -1.05219552e+01]\n",
      " [-4.14130933e+03  7.68731822e+00  3.32562801e+03 -8.52086707e+03\n",
      "   1.66399892e+02]\n",
      " [ 1.09879444e+04  5.03877570e+01 -8.52086707e+03  2.52492460e+04\n",
      "  -8.96253626e+02]\n",
      " [-5.00376769e+02 -1.05219552e+01  1.66399892e+02 -8.96253626e+02\n",
      "   3.78315460e+02]]\n"
     ]
    }
   ],
   "source": [
    "#with open('strategy3_all_covy', 'rb') as f:\n",
    "with open('MarResult-strategy3-Dopt/Mar31_FIM_D_110_27700', 'rb') as f:\n",
    "    fim_prior = pickle.load(f)\n",
    "    \n",
    "print(fim_prior)"
   ]
  },
  {
   "cell_type": "code",
   "execution_count": 137,
   "id": "de6f6f7b",
   "metadata": {},
   "outputs": [],
   "source": [
    "\n",
    "mip_option = False\n",
    "objective = ObjectiveLib.A\n",
    "sparse_opt = True\n",
    "fix_opt = False\n",
    "\n",
    "manual_num = 20\n",
    "budget_opt = 25000\n",
    "\n",
    "num_dynamic_time = np.linspace(2,220,Nt)\n",
    "\n",
    "static_dynamic = [[9,11], [10,12]]\n",
    "#static_dynamic = None\n",
    "time_interval_for_all = True\n",
    "\n",
    "dynamic_time_dict = {}\n",
    "for i, tim in enumerate(num_dynamic_time):\n",
    "    dynamic_time_dict[i] = tim "
   ]
  },
  {
   "cell_type": "code",
   "execution_count": 138,
   "id": "6678f339",
   "metadata": {
    "scrolled": true
   },
   "outputs": [
    {
     "name": "stdout",
     "output_type": "stream",
     "text": [
      "Ipopt 3.13.2: linear_solver=ma57\n",
      "\n",
      "\n",
      "******************************************************************************\n",
      "This program contains Ipopt, a library for large-scale nonlinear optimization.\n",
      " Ipopt is released as open source code under the Eclipse Public License (EPL).\n",
      "         For more information visit http://projects.coin-or.org/Ipopt\n",
      "\n",
      "This version of Ipopt was compiled from source code available at\n",
      "    https://github.com/IDAES/Ipopt as part of the Institute for the Design of\n",
      "    Advanced Energy Systems Process Systems Engineering Framework (IDAES PSE\n",
      "    Framework) Copyright (c) 2018-2019. See https://github.com/IDAES/idaes-pse.\n",
      "\n",
      "This version of Ipopt was compiled using HSL, a collection of Fortran codes\n",
      "    for large-scale scientific computation.  All technical papers, sales and\n",
      "    publicity material resulting from use of the HSL codes within IPOPT must\n",
      "    contain the following acknowledgement:\n",
      "        HSL, a collection of Fortran codes for large-scale scientific\n",
      "        computation. See http://www.hsl.rl.ac.uk.\n",
      "******************************************************************************\n",
      "\n",
      "This is Ipopt version 3.13.2, running with linear solver ma57.\n",
      "\n",
      "Number of nonzeros in equality constraint Jacobian...:     9528\n",
      "Number of nonzeros in inequality constraint Jacobian.:  1104471\n",
      "Number of nonzeros in Lagrangian Hessian.............:        0\n",
      "\n",
      "Total number of variables............................:   157663\n",
      "                     variables with only lower bounds:        0\n",
      "                variables with lower and upper bounds:   157646\n",
      "                     variables with only upper bounds:        0\n",
      "Total number of equality constraints.................:       17\n",
      "Total number of inequality constraints...............:   471914\n",
      "        inequality constraints with only lower bounds:        0\n",
      "   inequality constraints with lower and upper bounds:        0\n",
      "        inequality constraints with only upper bounds:   471914\n",
      "\n",
      "iter    objective    inf_pr   inf_du lg(mu)  ||d||  lg(rg) alpha_du alpha_pr  ls\n",
      "   0 -3.4511010e+04 6.93e+02 7.50e+01  -1.0 0.00e+00    -  0.00e+00 0.00e+00   0\n",
      "   1 -3.4551630e+04 6.91e+02 7.50e+01  -1.0 1.34e+04    -  2.12e-02 2.18e-03f  1\n",
      "   2 -3.4590327e+04 6.89e+02 7.48e+01  -1.0 9.24e+03    -  1.34e-02 3.03e-03f  1\n",
      "   3 -3.4687396e+04 6.82e+02 7.40e+01  -1.0 6.29e+03    -  1.54e-02 1.12e-02f  1\n",
      "   4 -3.4747028e+04 6.73e+02 7.30e+01  -1.0 3.29e+03    -  1.56e-02 1.31e-02f  1\n",
      "   5 -3.4779896e+04 6.63e+02 7.20e+01  -1.0 1.69e+03    -  1.39e-02 1.41e-02f  1\n",
      "   6 -3.4784903e+04 6.60e+02 7.16e+01  -1.0 7.09e+02    -  2.46e-03 5.17e-03f  1\n",
      "   7 -3.4786153e+04 6.57e+02 7.55e+01  -1.0 3.62e+02    -  8.79e-03 3.98e-03f  1\n",
      "   8 -3.4775835e+04 6.49e+02 1.23e+02  -1.0 5.72e+02    -  4.07e-03 1.29e-02f  1\n",
      "   9 -3.4773618e+04 6.47e+02 1.22e+02  -1.0 5.39e+02    -  2.96e-03 2.93e-03f  1\n",
      "iter    objective    inf_pr   inf_du lg(mu)  ||d||  lg(rg) alpha_du alpha_pr  ls\n",
      "  10 -3.4762066e+04 6.37e+02 2.73e+02  -1.0 5.50e+02    -  5.91e-03 1.49e-02f  1\n",
      "  11 -3.4743059e+04 6.22e+02 5.61e+02  -1.0 5.74e+02    -  5.65e-03 2.34e-02f  1\n",
      "  12 -3.4741877e+04 6.21e+02 3.20e+02  -1.0 5.08e+02    -  1.65e-02 1.64e-03f  1\n",
      "  13 -3.4720010e+04 6.02e+02 6.26e+02  -1.0 4.98e+02    -  1.06e-02 3.08e-02f  1\n",
      "  14 -3.4717372e+04 6.00e+02 4.43e+02  -1.0 4.79e+02    -  1.60e-02 3.85e-03f  1\n",
      "  15 -3.4692625e+04 5.78e+02 7.74e+02  -1.0 4.73e+02    -  1.24e-02 3.66e-02f  1\n",
      "  16 -3.4691446e+04 5.77e+02 6.16e+02  -1.0 4.71e+02    -  1.35e-02 2.15e-03f  1\n",
      "  17 -3.4674192e+04 5.58e+02 8.30e+02  -1.0 4.99e+02    -  1.54e-02 3.29e-02f  1\n",
      "  18 -3.4619611e+04 4.98e+02 1.75e+03  -1.0 4.98e+02    -  2.58e-02 1.06e-01f  1\n",
      "  19 -3.4608963e+04 4.87e+02 1.75e+03  -1.0 4.54e+02    -  1.78e-02 2.18e-02f  1\n",
      "iter    objective    inf_pr   inf_du lg(mu)  ||d||  lg(rg) alpha_du alpha_pr  ls\n",
      "  20 -3.4579464e+04 4.58e+02 1.85e+03  -1.0 4.13e+02    -  3.72e-02 5.97e-02f  1\n",
      "  21 -3.4572040e+04 4.51e+02 1.61e+03  -1.0 3.56e+02    -  4.47e-02 1.50e-02f  1\n",
      "  22 -3.4503188e+04 3.89e+02 2.03e+03  -1.0 3.60e+02    -  2.53e-02 1.38e-01f  1\n",
      "  23 -3.4429663e+04 3.25e+02 2.02e+03  -1.0 3.23e+02    -  2.82e-02 1.65e-01f  1\n",
      "  24 -3.4427698e+04 3.23e+02 2.10e+03  -1.0 2.75e+02    -  4.62e-02 5.20e-03f  1\n",
      "  25 -3.4389097e+04 2.90e+02 1.60e+03  -1.0 2.75e+02    -  1.56e-02 1.02e-01f  1\n",
      "  26 -3.4388706e+04 2.90e+02 1.81e+03  -1.0 2.50e+02    -  3.63e-02 1.14e-03f  1\n",
      "  27 -3.4388697e+04 2.90e+02 1.81e+03  -1.0 2.47e+02    -  8.80e-05 2.54e-05h  1\n",
      "  28 -3.4386585e+04 2.88e+02 1.76e+03  -1.0 2.40e+02    -  1.62e-05 6.42e-03h  1\n",
      "  29 -3.4339590e+04 2.46e+02 1.33e+03  -1.0 2.38e+02    -  1.08e-02 1.44e-01h  1\n",
      "iter    objective    inf_pr   inf_du lg(mu)  ||d||  lg(rg) alpha_du alpha_pr  ls\n",
      "  30 -3.4312125e+04 2.22e+02 1.32e+03  -1.0 2.06e+02    -  5.00e-02 9.73e-02h  1\n",
      "  31 -3.4309229e+04 2.19e+02 1.32e+03  -1.0 2.69e+02    -  5.30e-03 1.50e-02h  1\n",
      "  32 -3.4288663e+04 1.88e+02 2.05e+03  -1.0 3.74e+02    -  1.59e-02 1.42e-01h  1\n",
      "  33 -3.4283386e+04 1.82e+02 1.68e+03  -1.0 3.82e+02    -  5.08e-02 3.32e-02h  1\n",
      "  34 -3.4228280e+04 1.28e+02 4.53e+03  -1.0 4.34e+02    -  3.34e-02 2.95e-01h  1\n",
      "  35 -3.4192849e+04 1.06e+02 3.78e+03  -1.0 4.86e+02    -  1.59e-01 1.69e-01h  1\n",
      "  36 -3.4032854e+04 1.38e+01 9.94e+02  -1.0 5.82e+02    -  1.41e-01 8.71e-01h  1\n",
      "  37 -3.3984158e+04 4.37e-11 9.91e+02  -1.0 5.14e+02    -  9.18e-02 1.00e+00h  1\n",
      "  38 -3.3934827e+04 1.46e-11 3.08e+02  -1.0 4.30e+02    -  6.77e-01 9.33e-01f  1\n",
      "  39 -3.3882925e+04 2.18e-11 8.55e+01  -1.0 7.53e+02    -  7.19e-01 1.00e+00f  1\n",
      "iter    objective    inf_pr   inf_du lg(mu)  ||d||  lg(rg) alpha_du alpha_pr  ls\n",
      "  40 -3.3838598e+04 5.09e-11 1.10e+01  -1.0 7.81e+02    -  8.70e-01 1.00e+00f  1\n",
      "  41 -3.3822261e+04 6.55e-11 1.00e-06  -1.0 3.65e+02    -  1.00e+00 1.00e+00f  1\n",
      "  42 -3.4233141e+04 1.00e-11 6.23e+02  -2.5 2.49e+03    -  7.16e-01 1.00e+00f  1\n",
      "  43 -3.4276543e+04 2.91e-11 1.41e+02  -2.5 9.54e+02    -  7.74e-01 4.50e-01f  1\n",
      "  44 -3.4330347e+04 3.27e-11 6.46e+01  -2.5 7.54e+02    -  1.00e+00 7.26e-01f  1\n",
      "  45 -3.4357492e+04 2.91e-11 7.18e+00  -2.5 2.05e+02    -  1.00e+00 9.36e-01f  1\n",
      "  46 -3.4358347e+04 1.46e-11 2.83e-08  -2.5 1.14e+01    -  1.00e+00 1.00e+00f  1\n",
      "  47 -3.4358547e+04 4.37e-11 2.83e-08  -2.5 9.83e-01    -  1.00e+00 1.00e+00f  1\n",
      "  48 -3.4364402e+04 2.00e-11 2.32e+01  -3.8 1.65e+02    -  5.87e-01 2.02e-01f  1\n",
      "  49 -3.4367452e+04 1.64e-11 2.24e+01  -3.8 1.64e+02    -  1.14e-01 7.65e-02f  1\n",
      "iter    objective    inf_pr   inf_du lg(mu)  ||d||  lg(rg) alpha_du alpha_pr  ls\n",
      "  50 -3.4369809e+04 2.73e-11 2.25e+01  -3.8 1.54e+02    -  1.26e-01 5.97e-02f  1\n",
      "  51 -3.4374027e+04 4.00e-11 2.07e+01  -3.8 1.49e+02    -  1.33e-01 1.06e-01f  1\n",
      "  52 -3.4377273e+04 1.09e-11 2.07e+01  -3.8 1.40e+02    -  1.83e-01 8.22e-02f  1\n",
      "  53 -3.4381288e+04 4.00e-11 2.03e+01  -3.8 1.34e+02    -  2.16e-01 1.01e-01f  1\n",
      "  54 -3.4385620e+04 4.37e-11 1.76e+01  -3.8 1.29e+02    -  6.63e-02 1.09e-01f  1\n",
      "  55 -3.4387171e+04 2.36e-11 1.93e+01  -3.8 1.18e+02    -  2.75e-01 4.21e-02f  1\n",
      "  56 -3.4393107e+04 2.55e-11 1.62e+01  -3.8 7.58e+01    -  3.25e-01 2.15e-01f  1\n",
      "  57 -3.4399607e+04 1.82e-11 1.21e+01  -3.8 6.45e+01    -  2.93e-01 2.60e-01f  1\n",
      "  58 -3.4415807e+04 4.00e-11 2.07e+00  -3.8 5.39e+01    -  5.85e-01 7.70e-01f  1\n",
      "  59 -3.4421207e+04 1.64e-11 5.82e-01  -3.8 2.51e+01    -  5.18e-01 6.37e-01f  1\n",
      "iter    objective    inf_pr   inf_du lg(mu)  ||d||  lg(rg) alpha_du alpha_pr  ls\n",
      "  60 -3.4422949e+04 1.64e-11 6.71e-01  -3.8 3.56e+00    -  1.00e+00 4.64e-01f  1\n",
      "  61 -3.4425172e+04 8.37e-11 1.50e-09  -3.8 1.43e+00    -  1.00e+00 1.00e+00f  1\n",
      "  62 -3.4425985e+04 2.55e-11 7.77e-01  -5.7 8.38e+00    -  2.83e-01 5.00e-02f  1\n",
      "  63 -3.4427391e+04 3.64e-11 9.72e-01  -5.7 8.99e+00    -  1.90e-01 7.93e-02f  1\n",
      "  64 -3.4428855e+04 1.82e-11 9.27e-01  -5.7 9.28e+00    -  9.90e-02 8.05e-02f  1\n",
      "  65 -3.4429782e+04 2.91e-11 9.70e-01  -5.7 9.11e+00    -  1.10e-01 5.20e-02f  1\n",
      "  66 -3.4430273e+04 2.00e-11 1.08e+00  -5.7 8.84e+00    -  1.22e-01 2.82e-02f  1\n",
      "  67 -3.4432078e+04 2.18e-11 1.02e+00  -5.7 9.03e+00    -  1.36e-01 1.02e-01f  1\n",
      "  68 -3.4432534e+04 2.73e-11 1.07e+00  -5.7 8.56e+00    -  1.00e-01 2.70e-02f  1\n",
      "  69 -3.4433427e+04 2.18e-11 1.12e+00  -5.7 8.63e+00    -  1.57e-01 5.26e-02f  1\n",
      "iter    objective    inf_pr   inf_du lg(mu)  ||d||  lg(rg) alpha_du alpha_pr  ls\n",
      "  70 -3.4434444e+04 2.00e-11 1.06e+00  -5.7 9.08e+00    -  6.02e-02 5.83e-02f  1\n"
     ]
    },
    {
     "name": "stdout",
     "output_type": "stream",
     "text": [
      "  71 -3.4435062e+04 4.73e-11 1.03e+00  -5.7 8.90e+00    -  5.21e-02 3.65e-02f  1\n",
      "  72 -3.4435692e+04 2.55e-11 1.11e+00  -5.7 7.89e+00    -  1.82e-01 4.04e-02f  1\n",
      "  73 -3.4435849e+04 3.27e-11 1.31e+00  -5.7 7.34e+00    -  2.45e-01 1.07e-02f  1\n",
      "  74 -3.4437387e+04 1.64e-11 1.07e+00  -5.7 5.72e+00    -  5.04e-02 1.22e-01f  1\n",
      "  75 -3.4438196e+04 1.55e-11 1.03e+00  -5.7 5.22e+00    -  1.05e-01 7.08e-02f  1\n",
      "  76 -3.4438307e+04 3.64e-11 1.15e+00  -5.7 4.76e+00    -  1.40e-01 1.05e-02f  1\n",
      "  77 -3.4440911e+04 3.64e-11 9.41e-01  -5.7 7.42e+00    -  2.13e-01 1.82e-01f  1\n",
      "  78 -3.4445499e+04 3.64e-11 5.75e-01  -5.7 6.21e+00    -  1.33e-01 3.86e-01f  1\n",
      "  79 -3.4448173e+04 4.73e-11 3.70e-01  -5.7 3.97e+00    -  9.45e-02 3.57e-01f  1\n",
      "iter    objective    inf_pr   inf_du lg(mu)  ||d||  lg(rg) alpha_du alpha_pr  ls\n",
      "  80 -3.4450366e+04 4.37e-11 2.06e-01  -5.7 2.66e+00    -  2.03e-01 4.43e-01f  1\n",
      "  81 -3.4451568e+04 5.46e-11 1.18e-01  -5.7 1.54e+00    -  3.80e-01 4.25e-01f  1\n",
      "  82 -3.4452560e+04 3.64e-11 5.24e-02  -5.7 9.11e-01    -  7.02e-01 5.98e-01f  1\n",
      "  83 -3.4453243e+04 3.64e-11 1.21e+00  -5.7 9.45e-01    -  1.54e-01 1.00e+00f  1\n",
      "  84 -3.4453244e+04 4.37e-11 9.07e-01  -5.7 1.06e+00    -  7.49e-01 1.00e+00f  1\n",
      "  85 -3.4453244e+04 5.82e-11 7.41e-11  -5.7 9.68e-01    -  1.00e+00 1.00e+00f  1\n",
      "  86 -3.4453244e+04 1.64e-11 4.47e-11  -5.7 2.26e-01    -  1.00e+00 1.00e+00f  1\n",
      "  87 -3.4453244e+04 4.37e-11 1.85e-11  -5.7 5.53e-03    -  1.00e+00 1.00e+00f  1\n",
      "  88 -3.4453814e+04 5.46e-11 1.57e+00  -8.6 1.33e+00    -  4.12e-01 6.79e-01f  1\n",
      "In iteration 88, 1 Slack too small, adjusting variable bound\n",
      "  89 -3.4453964e+04 3.27e-11 6.14e+00  -8.6 1.36e+00    -  3.60e-01 5.33e-01f  1\n",
      "In iteration 89, 1 Slack too small, adjusting variable bound\n",
      "iter    objective    inf_pr   inf_du lg(mu)  ||d||  lg(rg) alpha_du alpha_pr  ls\n",
      "  90 -3.4453964e+04 2.55e-11 1.58e+04  -8.6 2.85e+00    -  5.71e-01 1.76e-03f  1\n",
      "In iteration 90, 1 Slack too small, adjusting variable bound\n",
      "  91 -3.4454036e+04 7.28e-12 8.72e+03  -8.6 4.72e+00    -  6.28e-01 5.36e-01f  1\n",
      "  92 -3.4454093e+04 3.09e-11 7.33e+02  -8.6 4.85e+00    -  9.08e-01 9.13e-01f  1\n",
      "In iteration 92, 1 Slack too small, adjusting variable bound\n",
      "  93 -3.4454096e+04 3.64e-11 5.05e+02  -8.6 1.91e+00    -  9.67e-01 5.83e-01f  1\n",
      "In iteration 93, 1 Slack too small, adjusting variable bound\n",
      "  94 -3.4454097e+04 3.27e-11 3.67e+02  -8.6 7.92e-01    -  1.00e+00 2.83e-01f  1\n",
      "In iteration 94, 1 Slack too small, adjusting variable bound\n",
      "  95 -3.4454097e+04 2.91e-11 2.64e+02  -8.6 5.72e-01    -  1.00e+00 1.20e-01f  1\n",
      "In iteration 95, 1 Slack too small, adjusting variable bound\n",
      "  96 -3.4454098e+04 4.37e-11 1.20e+02  -8.6 5.05e-01    -  1.00e+00 3.57e-01f  1\n",
      "In iteration 96, 1 Slack too small, adjusting variable bound\n",
      "  97 -3.4454098e+04 5.46e-11 5.67e+01  -8.6 3.26e-01    -  1.00e+00 5.08e-01f  1\n",
      "In iteration 97, 1 Slack too small, adjusting variable bound\n",
      "  98 -3.4454098e+04 3.27e-11 1.60e+01  -8.6 1.61e-01    -  1.00e+00 6.38e-01f  1\n",
      "  99 -3.4454099e+04 8.73e-11 3.73e-13  -8.6 5.84e-02    -  1.00e+00 1.00e+00f  1\n",
      "\n",
      "Number of Iterations....: 99\n",
      "\n",
      "                                   (scaled)                 (unscaled)\n",
      "Objective...............:  -3.4454098605653773e+04   -3.4454098605653773e+04\n",
      "Dual infeasibility......:   3.7303493627405260e-13    3.7303493627405260e-13\n",
      "Constraint violation....:   3.8477850939586172e-13    8.7311491370201111e-11\n",
      "Complementarity.........:   8.2890804593283943e-09    8.2890804593283943e-09\n",
      "Overall NLP error.......:   8.2890804593283943e-09    8.2890804593283943e-09\n",
      "\n",
      "\n",
      "Number of objective function evaluations             = 100\n",
      "Number of objective gradient evaluations             = 100\n",
      "Number of equality constraint evaluations            = 100\n",
      "Number of inequality constraint evaluations          = 100\n",
      "Number of equality constraint Jacobian evaluations   = 100\n",
      "Number of inequality constraint Jacobian evaluations = 100\n",
      "Number of Lagrangian Hessian evaluations             = 99\n",
      "Total CPU secs in IPOPT (w/o function evaluations)   =    155.166\n",
      "Total CPU secs in NLP function evaluations           =      2.000\n",
      "\n",
      "EXIT: Optimal Solution Found.\n"
     ]
    }
   ],
   "source": [
    "mod = calculator.continuous_optimization(mixed_integer=mip_option, \n",
    "                      obj=objective, \n",
    "                    fix=fix_opt, \n",
    "                    upper_diagonal_only=sparse_opt, \n",
    "                    num_dynamic_t_name = num_dynamic_time, \n",
    "                    manual_number = manual_num, \n",
    "                    budget=budget_opt,\n",
    "                    init_cov_y= init_cov_y, \n",
    "                    initial_fim = fim_prior,\n",
    "                    static_dynamic_pair=static_dynamic,\n",
    "                    time_interval_all_dynamic = time_interval_for_all)\n",
    "\n",
    "mod = calculator.solve(mod, mip_option=mip_option, objective = objective)"
   ]
  },
  {
   "cell_type": "code",
   "execution_count": 139,
   "id": "8f3d5f61",
   "metadata": {},
   "outputs": [
    {
     "name": "stdout",
     "output_type": "stream",
     "text": [
      "[100, 100, 500, 500, 500]\n"
     ]
    }
   ],
   "source": [
    "print(calculator.dynamic_install_cost)"
   ]
  },
  {
   "cell_type": "code",
   "execution_count": 140,
   "id": "24d81e44",
   "metadata": {
    "scrolled": false
   },
   "outputs": [
    {
     "name": "stdout",
     "output_type": "stream",
     "text": [
      "[[ 5.54403778e+03 -3.14878630e+00 -4.14167461e+03  1.09711042e+04\n",
      "  -4.90650301e+02]\n",
      " [-3.14878630e+00  5.17684301e+00  7.73505467e+00  4.93632935e+01\n",
      "  -1.00031663e+01]\n",
      " [-4.14167461e+03  7.73505467e+00  3.32431860e+03 -8.51842177e+03\n",
      "   1.65849584e+02]\n",
      " [ 1.09711042e+04  4.93632935e+01 -8.51842177e+03  2.52157288e+04\n",
      "  -8.75799072e+02]\n",
      " [-4.90650301e+02 -1.00031663e+01  1.65849584e+02 -8.75799072e+02\n",
      "   3.64836591e+02]]\n",
      "trace: 34454.09860565377\n",
      "det: 1961273837936.796\n",
      "[3.31531757e+04 8.18876009e+02 4.33442110e+02 4.48920322e+01\n",
      " 3.71274041e+00]\n",
      "Pyomo OF: 34454.09860565377\n",
      "Log_det: 28.30461529538087\n",
      "Ads.gas_inlet.F :  1.0\n",
      "Ads.gas_outlet.F :  1.0\n",
      "Ads.gas_outlet.T :  1.0\n",
      "Des.gas_inlet.F :  1.0\n",
      "Des.gas_outlet.F :  1.0\n",
      "Des.gas_outlet.T :  1.0\n",
      "Ads.T_g.Value(19,10) :  1.0\n",
      "Ads.T_g.Value(23,10) :  1.0\n",
      "Ads.T_g.Value(28,10) :  1.0\n",
      "Ads.gas_outlet.z(\"CO2\").static :  1.0\n",
      "Des.gas_outlet.z(\"CO2\").static :  1.0\n",
      "Ads.gas_outlet.z(\"CO2\").dynamic\n",
      "[0. 0. 0. 0. 0. 0. 0. 0. 0. 0. 0. 0. 0. 0. 0. 0. 0. 0. 0. 0. 0. 0. 0. 0.\n",
      " 0. 0. 0. 0. 0. 0. 0. 0. 0. 0. 0. 0. 0. 0. 0. 0. 0. 0. 0. 0. 0. 0. 0. 0.\n",
      " 0. 0. 0. 0. 0. 0. 0. 0. 0. 0. 0. 0. 0. 0. 0. 0. 0. 0. 0. 0. 0. 0. 0. 0.\n",
      " 0. 0. 0. 0. 0. 0. 0. 0. 0. 0. 0. 0. 0. 0. 0. 0. 0. 0. 0. 0. 0. 0. 0. 0.\n",
      " 0. 0. 0. 0. 0. 0. 0. 0. 0. 0. 0. 0. 0. 0.]\n",
      "Des.gas_outlet.z(\"CO2\").dynamic\n",
      "[0. 0. 0. 0. 0. 0. 0. 0. 0. 0. 0. 0. 0. 0. 0. 0. 0. 0. 0. 0. 0. 0. 0. 0.\n",
      " 0. 0. 0. 0. 0. 0. 0. 0. 0. 0. 0. 0. 0. 0. 0. 0. 0. 0. 0. 0. 0. 0. 0. 0.\n",
      " 0. 0. 0. 0. 0. 0. 0. 0. 0. 0. 0. 0. 0. 0. 0. 0. 0. 0. 0. 0. 0. 0. 0. 0.\n",
      " 0. 0. 0. 0. 0. 0. 0. 0. 0. 0. 0. 0. 0. 0. 0. 0. 0. 0. 0. 0. 0. 0. 0. 0.\n",
      " 0. 0. 0. 0. 0. 0. 0. 0. 0. 0. 0. 0. 0. 0.]\n",
      "Ads.z(\"CO2\",19,10)\n",
      "[0. 0. 0. 0. 0. 0. 0. 0. 0. 0. 0. 0. 0. 0. 0. 0. 0. 0. 0. 0. 0. 0. 0. 0.\n",
      " 0. 0. 0. 0. 0. 0. 0. 0. 0. 0. 0. 0. 0. 1. 0. 0. 0. 0. 0. 0. 0. 0. 0. 0.\n",
      " 0. 0. 0. 0. 0. 0. 0. 0. 0. 0. 0. 0. 0. 0. 0. 0. 0. 0. 0. 0. 0. 1. 0. 0.\n",
      " 0. 0. 1. 0. 0. 0. 0. 0. 0. 0. 0. 0. 0. 0. 0. 0. 0. 1. 0. 0. 0. 0. 1. 0.\n",
      " 0. 0. 0. 0. 0. 0. 0. 0. 0. 0. 0. 0. 0. 0.]\n",
      "Ads.z(\"CO2\",23,10)\n",
      "[0. 0. 0. 0. 0. 0. 0. 0. 0. 0. 0. 0. 0. 0. 0. 0. 0. 0. 0. 0. 0. 0. 0. 0.\n",
      " 0. 0. 0. 0. 0. 0. 0. 0. 0. 0. 0. 0. 0. 0. 0. 0. 0. 0. 0. 0. 0. 0. 0. 0.\n",
      " 0. 0. 0. 0. 0. 0. 0. 0. 0. 0. 0. 0. 0. 0. 0. 0. 0. 0. 0. 0. 0. 0. 0. 0.\n",
      " 0. 0. 0. 0. 0. 0. 0. 1. 0. 0. 0. 0. 1. 0. 0. 0. 0. 0. 0. 0. 0. 0. 0. 0.\n",
      " 0. 0. 0. 1. 0. 0. 0. 0. 1. 0. 0. 0. 0. 1.]\n",
      "Ads.z(\"CO2\",28,10)\n",
      "[0. 0. 0. 0. 0. 0. 0. 0. 0. 0. 0. 0. 0. 0. 0. 0. 0. 0. 0. 0. 0. 0. 0. 0.\n",
      " 0. 0. 0. 0. 0. 0. 0. 0. 0. 0. 0. 0. 0. 0. 0. 0. 0. 0. 1. 0. 0. 0. 0. 1.\n",
      " 0. 0. 0. 0. 1. 0. 0. 0. 0. 1. 0. 0. 0. 0. 1. 0. 0. 0. 0. 0. 0. 0. 0. 0.\n",
      " 0. 0. 0. 0. 0. 0. 0. 0. 0. 0. 0. 0. 0. 0. 0. 0. 0. 0. 0. 0. 0. 0. 0. 0.\n",
      " 0. 0. 0. 0. 0. 0. 0. 0. 0. 0. 0. 0. 0. 0.]\n",
      "Ads.gas_outlet.z(\"CO2\").dynamic\n",
      "Des.gas_outlet.z(\"CO2\").dynamic\n",
      "Ads.z(\"CO2\",19,10)\n",
      "76.0\n",
      "140.0\n",
      "150.0\n",
      "180.0\n",
      "190.0\n",
      "Ads.z(\"CO2\",23,10)\n",
      "160.0\n",
      "170.0\n",
      "200.0\n",
      "210.0\n",
      "220.0\n",
      "Ads.z(\"CO2\",28,10)\n",
      "86.0\n",
      "96.0\n",
      "106.0\n",
      "116.0\n",
      "126.0\n",
      "pyomo calculated cost: 24999.894153235513\n",
      "2.2086491627587477e-06\n",
      "6.2797998698498915e-06\n",
      "0.9999408277165334\n",
      "0.999824830718707\n",
      "0.9999843432816602\n"
     ]
    }
   ],
   "source": [
    "fim_result = np.zeros((5,5))\n",
    "for i in range(5):\n",
    "    for j in range(i,5):\n",
    "        fim_result[i,j] = fim_result[j,i] = pyo.value(mod.TotalFIM[i,j])\n",
    "        \n",
    "print(fim_result)  \n",
    "print('trace:', np.trace(fim_result))\n",
    "print('det:', np.linalg.det(fim_result))\n",
    "print(np.linalg.eigvals(fim_result))\n",
    "\n",
    "print(\"Pyomo OF:\", pyo.value(mod.Obj))\n",
    "print(\"Log_det:\", np.log(np.linalg.det(fim_result)))\n",
    "\n",
    "ans_y, sol_y = calculator.extract_solutions(mod)\n",
    "for i in range(5):\n",
    "    print(all_names_strategy3[i+11])\n",
    "    for t in range(len(sol_y[0])):\n",
    "        if sol_y[i][t] > 0.95:\n",
    "            print(dynamic_time_dict[t])\n",
    "print('pyomo calculated cost:', pyo.value(mod.cost))\n",
    "\n",
    "for i in [11,12,13,14,15]:\n",
    "    print(pyo.value(mod.if_install_dynamic[i]))"
   ]
  },
  {
   "cell_type": "code",
   "execution_count": 141,
   "id": "4c6120ea",
   "metadata": {},
   "outputs": [],
   "source": [
    "store = True\n",
    "\n",
    "if store:\n",
    "    file = open('./rotary_results/May12_'+str(budget_opt)+'_a', 'wb')\n",
    "\n",
    "    pickle.dump(ans_y, file)\n",
    "\n",
    "    file.close()\n",
    "    \n",
    "    file2 = open('./rotary_results/May12_fim_'+str(budget_opt)+'_a', 'wb')\n",
    "\n",
    "    pickle.dump(fim_result, file2)\n",
    "\n",
    "    file2.close()"
   ]
  },
  {
   "cell_type": "code",
   "execution_count": 116,
   "id": "df5d51ef",
   "metadata": {},
   "outputs": [],
   "source": [
    "# verify cost \n",
    "#real_cost = 0 \n",
    "#for i in range(num_total):\n",
    "#    real_cost += ans_y[i,i]*cost[i]\n",
    "    \n",
    "#dynamic_inst = []\n",
    "#for j in range(num_static, num_dynamic+num_static):\n",
    "#    dynamic_inst.append(pyo.value(mod.if_install_dynamic[j]))\n",
    "#    for t in range(Nt):\n",
    "#        if sol_y[j,t]>0.99:\n",
    "#            dynamic_inst[j] = 1 \n",
    "            \n",
    "#real_cost += sum(dynamic_inst[i]*install_cost_dynamic[i] for i in range(num_dynamic))\n",
    "#print(dynamic_inst)\n",
    "#print('Real cost:', real_cost)\n"
   ]
  },
  {
   "cell_type": "code",
   "execution_count": null,
   "id": "9169b12a",
   "metadata": {},
   "outputs": [],
   "source": []
  },
  {
   "cell_type": "code",
   "execution_count": null,
   "id": "4cfbcf49",
   "metadata": {},
   "outputs": [],
   "source": [
    "count = 0 \n",
    "for i in range(561):\n",
    "    for j in range(i,561):\n",
    "        #if pyo.value(mod.cov_y[i,j])<0.96:\n",
    "        print(pyo.value(mod.cov_y[i,j]))\n",
    "            #count += 1 \n",
    "            \n",
    "print(count)"
   ]
  },
  {
   "cell_type": "code",
   "execution_count": null,
   "id": "eb33278a",
   "metadata": {},
   "outputs": [],
   "source": []
  },
  {
   "cell_type": "code",
   "execution_count": null,
   "id": "9fa40242",
   "metadata": {},
   "outputs": [],
   "source": []
  }
 ],
 "metadata": {
  "kernelspec": {
   "display_name": "Python 3 (ipykernel)",
   "language": "python",
   "name": "python3"
  },
  "language_info": {
   "codemirror_mode": {
    "name": "ipython",
    "version": 3
   },
   "file_extension": ".py",
   "mimetype": "text/x-python",
   "name": "python",
   "nbconvert_exporter": "python",
   "pygments_lexer": "ipython3",
   "version": "3.7.11"
  }
 },
 "nbformat": 4,
 "nbformat_minor": 5
}
