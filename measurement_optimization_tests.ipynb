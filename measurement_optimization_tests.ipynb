{
 "cells": [
  {
   "cell_type": "code",
   "execution_count": 1,
   "id": "597f749d",
   "metadata": {},
   "outputs": [],
   "source": [
    "import numpy as np\n",
    "import pandas as pd\n",
    "import pyomo.environ as pyo\n",
    "from measure_optimize import MeasurementOptimizer, DataProcess, covariance_lib\n",
    "import matplotlib.pyplot as plt\n",
    "import pickle "
   ]
  },
  {
   "cell_type": "markdown",
   "id": "e70ab310",
   "metadata": {},
   "source": [
    "## Input Setting\n",
    "\n",
    "### All measurements and index\n",
    "\n",
    "- ads.gas_inlet.F (0)\n",
    "- ads.gas_outlet.F (1)\n",
    "- ads.gas_outlet.T (2)\n",
    "- ads.gas_outlet.z (3)\n",
    "- des.gas_inlet.F (4)\n",
    "- des.gas_outlet.F (5)\n",
    "- des.gas_outlet.T (6)\n",
    "- des.gas_outlet.z (7)\n",
    "- ads.T19 (8)\n",
    "- ads.T23 (9)\n",
    "- ads.T28 (10)\n",
    "- ads.z19 (11)\n",
    "- ads.z23 (12)\n",
    "- ads.z28 (13)\n",
    "\n",
    "One-time cost ones: 0,1,2, 4,5,6, 8,9,10\n",
    "\n",
    "Time-cost ones: 3,7,11,12,13\n",
    "\n",
    "Names in str: 'Ads.gas_inlet.F', 'Ads.gas_outlet.F', 'Ads.gas_outlet.T', \n",
    "             'Ads.gas_outlet.z(\"CO2\")', 'Des.gas_inlet.F', 'Des.gas_outlet.F', \n",
    "             'Des.gas_outlet.T', 'Des.gas_outlet.z(\"CO2\")', 'Ads.T_g.Value(19,10)', \n",
    "             'Ads.T_g.Value(23,10)', 'Ads.T_g.Value(28,10)', 'Ads.z(\"CO2\",19,10)', \n",
    "             'Ads.z(\"CO2\",23,10)', 'Ads.z(\"CO2\",28,10)'"
   ]
  },
  {
   "cell_type": "code",
   "execution_count": 2,
   "id": "deb11433",
   "metadata": {},
   "outputs": [],
   "source": [
    "Nt =110\n",
    "\n",
    "max_manual_num = 5 \n",
    "min_interval_num = 10"
   ]
  },
  {
   "cell_type": "code",
   "execution_count": 3,
   "id": "e7f000c7",
   "metadata": {},
   "outputs": [],
   "source": [
    "static_ind = [0,1,2,3,4,5,6,7,8,9,10]\n",
    "dynamic_ind = [11,12,13,14,15]\n",
    "all_ind = static_ind+dynamic_ind\n",
    "\n",
    "num_total = len(all_ind)"
   ]
  },
  {
   "cell_type": "code",
   "execution_count": 4,
   "id": "6ebd696e",
   "metadata": {},
   "outputs": [],
   "source": [
    "all_names_strategy3 = ['Ads.gas_inlet.F', 'Ads.gas_outlet.F', 'Ads.gas_outlet.T', \n",
    "             'Des.gas_inlet.F', 'Des.gas_outlet.F', \n",
    "             'Des.gas_outlet.T',  'Ads.T_g.Value(19,10)', \n",
    "             'Ads.T_g.Value(23,10)', 'Ads.T_g.Value(28,10)', # all static\n",
    "            'Ads.gas_outlet.z(\"CO2\").static', 'Des.gas_outlet.z(\"CO2\").static', # static z \n",
    "            'Ads.gas_outlet.z(\"CO2\").dynamic', 'Des.gas_outlet.z(\"CO2\").dynamic', # dynamic z \n",
    "            'Ads.z(\"CO2\",19,10)', 'Ads.z(\"CO2\",23,10)', 'Ads.z(\"CO2\",28,10)']"
   ]
  },
  {
   "cell_type": "code",
   "execution_count": 5,
   "id": "44b68c27",
   "metadata": {},
   "outputs": [],
   "source": [
    "\n",
    "static_cost = [1000, #ads.gas_inlet.F (0)\n",
    "    1000, #ads.gas_outlet.F (1)\n",
    "     500, #ads.gas_outlet.T (2)\n",
    "    1000, #des.gas_inlet.F (4)\n",
    "    1000, #des.gas_outlet.F (5)\n",
    "     500, #des.gas_outlet.T (6)\n",
    "     1000, #ads.T19 (8)\n",
    "     1000, #ads.T23 (9)\n",
    "     1000, #ads.T28 (10)\n",
    "    7000,\n",
    "    7000]\n",
    "\n",
    "\n",
    "static_cost.extend([100, 100, 500, 500, 500])\n",
    "\n",
    "dynamic_cost = [0]*len(static_ind)\n",
    "dynamic_cost.extend([100]*len(dynamic_ind))\n",
    "\n",
    "max_manual = [max_manual_num]*num_total\n",
    "min_time_interval = [min_interval_num]*num_total"
   ]
  },
  {
   "cell_type": "code",
   "execution_count": 6,
   "id": "7b48daf2",
   "metadata": {},
   "outputs": [
    {
     "name": "stdout",
     "output_type": "stream",
     "text": [
      "if selected all static: 23700\n",
      "if selected all static without two z: 9700\n"
     ]
    }
   ],
   "source": [
    "print(\"if selected all static:\", sum(static_cost))\n",
    "print(\"if selected all static without two z:\", sum(static_cost)-7000*2)"
   ]
  },
  {
   "cell_type": "code",
   "execution_count": 7,
   "id": "80ee3fd3",
   "metadata": {
    "scrolled": true
   },
   "outputs": [
    {
     "name": "stdout",
     "output_type": "stream",
     "text": [
      "                               name  Q_index  static_cost  dynamic_cost  \\\n",
      "0                   Ads.gas_inlet.F        0         1000             0   \n",
      "1                  Ads.gas_outlet.F        1         1000             0   \n",
      "2                  Ads.gas_outlet.T        2          500             0   \n",
      "3                   Des.gas_inlet.F        3         1000             0   \n",
      "4                  Des.gas_outlet.F        4         1000             0   \n",
      "5                  Des.gas_outlet.T        5          500             0   \n",
      "6              Ads.T_g.Value(19,10)        6         1000             0   \n",
      "7              Ads.T_g.Value(23,10)        7         1000             0   \n",
      "8              Ads.T_g.Value(28,10)        8         1000             0   \n",
      "9    Ads.gas_outlet.z(\"CO2\").static        9         7000             0   \n",
      "10   Des.gas_outlet.z(\"CO2\").static       10         7000             0   \n",
      "11  Ads.gas_outlet.z(\"CO2\").dynamic       11          100           100   \n",
      "12  Des.gas_outlet.z(\"CO2\").dynamic       12          100           100   \n",
      "13               Ads.z(\"CO2\",19,10)       13          500           100   \n",
      "14               Ads.z(\"CO2\",23,10)       14          500           100   \n",
      "15               Ads.z(\"CO2\",28,10)       15          500           100   \n",
      "\n",
      "    min_time_interval  max_manual_number  \n",
      "0                  10                  5  \n",
      "1                  10                  5  \n",
      "2                  10                  5  \n",
      "3                  10                  5  \n",
      "4                  10                  5  \n",
      "5                  10                  5  \n",
      "6                  10                  5  \n",
      "7                  10                  5  \n",
      "8                  10                  5  \n",
      "9                  10                  5  \n",
      "10                 10                  5  \n",
      "11                 10                  5  \n",
      "12                 10                  5  \n",
      "13                 10                  5  \n",
      "14                 10                  5  \n",
      "15                 10                  5  \n"
     ]
    }
   ],
   "source": [
    "measure_info = pd.DataFrame({\n",
    "    \"name\": all_names_strategy3,\n",
    "    \"Q_index\": all_ind,\n",
    "        \"static_cost\": static_cost,\n",
    "    \"dynamic_cost\": dynamic_cost,\n",
    "    \"min_time_interval\": min_time_interval, \n",
    "    \"max_manual_number\": max_manual\n",
    "})\n",
    "\n",
    "print(measure_info)"
   ]
  },
  {
   "cell_type": "code",
   "execution_count": 8,
   "id": "795a7724",
   "metadata": {},
   "outputs": [
    {
     "name": "stdout",
     "output_type": "stream",
     "text": [
      "[9]\n",
      "16\n"
     ]
    }
   ],
   "source": [
    "print(measure_info[measure_info['name']=='Ads.gas_outlet.z(\"CO2\").static'].index.values)\n",
    "print(len(measure_info))"
   ]
  },
  {
   "cell_type": "code",
   "execution_count": 10,
   "id": "44e72140",
   "metadata": {
    "scrolled": true
   },
   "outputs": [],
   "source": [
    "dataObject = DataProcess()\n",
    "dataObject.read_jaco('./RotaryBed/Q'+str(Nt)+'_scale.csv')\n",
    "Q = dataObject.get_Q_list([0,1,2,4,5,6,8,9,10,3,7],\n",
    "                        [3,7,11,12,13], Nt)\n"
   ]
  },
  {
   "cell_type": "code",
   "execution_count": 11,
   "id": "7df09b33",
   "metadata": {
    "scrolled": true
   },
   "outputs": [
    {
     "name": "stdout",
     "output_type": "stream",
     "text": [
      "(314721, 5, 5)\n"
     ]
    }
   ],
   "source": [
    "calculator = MeasurementOptimizer(Q, measure_info, error_opt=covariance_lib.identity, verbose=True)\n",
    "\n",
    "fim_expect = calculator.fim_computation()\n",
    "\n",
    "print(np.shape(calculator.fim_collection))"
   ]
  },
  {
   "cell_type": "markdown",
   "id": "9c6629a6",
   "metadata": {},
   "source": [
    "### Debug functions: check each unit FIM"
   ]
  },
  {
   "cell_type": "code",
   "execution_count": null,
   "id": "7da88b58",
   "metadata": {},
   "outputs": [],
   "source": [
    "print(calculator.head_pos_dynamic_flatten)\n",
    "print(calculator.static_idx)\n",
    "print(calculator.dynamic_idx)\n",
    "print(calculator.Q_dynamic_flatten[451][0])"
   ]
  },
  {
   "cell_type": "code",
   "execution_count": null,
   "id": "c1b503fa",
   "metadata": {},
   "outputs": [],
   "source": [
    "# check Q is rightly arranged \n",
    "for i in range(16):\n",
    "    print(Q[i][0])"
   ]
  },
  {
   "cell_type": "code",
   "execution_count": null,
   "id": "6dee81bc",
   "metadata": {},
   "outputs": [],
   "source": [
    "def check(fim_set):\n",
    "    for i in range(num_total):\n",
    "        for j in range(num_total):\n",
    "            fim = fim_set[i*num_total+j]\n",
    "            if np.any(fim):\n",
    "                logdet = np.log(np.linalg.det(fim))\n",
    "                if logdet < 0:\n",
    "                    print(\"unit FIM with small Det: \", i, j, ', logdet:', logdet)\n",
    "                if max(np.linalg.eigvals(fim))/min(np.linalg.eigvals(fim)) > 1000:\n",
    "                    print(\"unit FIM with big condition number:\", i, j, \", eigvals:\", np.linalg.eigvals(fim))\n",
    "                    \n",
    "def print_fim(t):\n",
    "    fim = calculator.fim_collection[t*num_total+t]\n",
    "    print(\"Measurement name: \", all_names_strategy3[t])\n",
    "    #print(fim)\n",
    "    print(\"Trace:\", np.trace(fim))"
   ]
  },
  {
   "cell_type": "code",
   "execution_count": null,
   "id": "2c709124",
   "metadata": {},
   "outputs": [],
   "source": [
    "print(num_total)\n",
    "for i in range(11):\n",
    "    print_fim(i)"
   ]
  },
  {
   "cell_type": "code",
   "execution_count": null,
   "id": "b0026943",
   "metadata": {},
   "outputs": [],
   "source": [
    "\n",
    "\n",
    "total_fim = np.zeros((5,5))\n",
    "for i in range(314721):\n",
    "    total_fim += calculator.fim_collection[i]\n",
    "print(total_fim)"
   ]
  },
  {
   "cell_type": "markdown",
   "id": "838bb087",
   "metadata": {},
   "source": [
    "### Initialize"
   ]
  },
  {
   "cell_type": "code",
   "execution_count": 12,
   "id": "191fcf09",
   "metadata": {},
   "outputs": [],
   "source": [
    "num_static = len(static_ind)\n",
    "num_dynamic  = len(dynamic_ind)\n",
    "num_total = num_static + num_dynamic*Nt"
   ]
  },
  {
   "cell_type": "code",
   "execution_count": 13,
   "id": "0ec87fc3",
   "metadata": {},
   "outputs": [
    {
     "name": "stdout",
     "output_type": "stream",
     "text": [
      "[[1. 1. 1. ... 0. 0. 0.]\n",
      " [1. 1. 1. ... 0. 0. 0.]\n",
      " [1. 1. 1. ... 0. 0. 0.]\n",
      " ...\n",
      " [0. 0. 0. ... 0. 0. 0.]\n",
      " [0. 0. 0. ... 0. 0. 0.]\n",
      " [0. 0. 0. ... 0. 0. 0.]]\n"
     ]
    }
   ],
   "source": [
    "#with open('MarResults-A-strategy3/Mar20_A_110_8000_strategy3_mip', 'rb') as f:\n",
    "with open('MarResult-strategy3-Dopt/Mar31_D_110_27700', 'rb') as f:\n",
    "    x = pickle.load(f)\n",
    "    \n",
    "print(x)\n",
    "\n",
    "init_cov_y = x.copy()\n",
    "\n",
    "for i in range(11):\n",
    "    for j in range(11):\n",
    "        init_cov_y[i,j] = 1\n",
    "    \n",
    "# initialize all decisions\n",
    "#init_cov_y = np.ones(x.shape) "
   ]
  },
  {
   "cell_type": "code",
   "execution_count": 14,
   "id": "f9f814f5",
   "metadata": {},
   "outputs": [],
   "source": [
    "for i in range(11,231):\n",
    "    for j in range(11,231):\n",
    "        init_cov_y[i,j] = 0"
   ]
  },
  {
   "cell_type": "code",
   "execution_count": 15,
   "id": "e3a967c0",
   "metadata": {},
   "outputs": [
    {
     "name": "stdout",
     "output_type": "stream",
     "text": [
      "[[ 5.55260011e+03 -2.61972445e+00 -4.14130933e+03  1.09879444e+04\n",
      "  -5.00376769e+02]\n",
      " [-2.61972445e+00  5.22032483e+00  7.68731822e+00  5.03877570e+01\n",
      "  -1.05219552e+01]\n",
      " [-4.14130933e+03  7.68731822e+00  3.32562801e+03 -8.52086707e+03\n",
      "   1.66399892e+02]\n",
      " [ 1.09879444e+04  5.03877570e+01 -8.52086707e+03  2.52492460e+04\n",
      "  -8.96253626e+02]\n",
      " [-5.00376769e+02 -1.05219552e+01  1.66399892e+02 -8.96253626e+02\n",
      "   3.78315460e+02]]\n"
     ]
    }
   ],
   "source": [
    "#with open('strategy3_all_covy', 'rb') as f:\n",
    "with open('MarResult-strategy3-Dopt/Mar31_FIM_D_110_27700', 'rb') as f:\n",
    "    fim_prior = pickle.load(f)\n",
    "    \n",
    "print(fim_prior)"
   ]
  },
  {
   "cell_type": "code",
   "execution_count": 16,
   "id": "de6f6f7b",
   "metadata": {},
   "outputs": [],
   "source": [
    "\n",
    "mip_option = True\n",
    "objective = \"A\"\n",
    "sparse_opt = True\n",
    "fix_opt = False\n",
    "\n",
    "manual_num = 20\n",
    "budget_opt = 1000\n",
    "\n",
    "num_dynamic_time = np.linspace(2,220,Nt)\n",
    "\n",
    "static_dynamic = [[9,11], [10,12]]\n",
    "#static_dynamic = None\n",
    "time_interval_for_all = True\n",
    "\n",
    "dynamic_time_dict = {}\n",
    "for i, tim in enumerate(num_dynamic_time):\n",
    "    dynamic_time_dict[i] = tim "
   ]
  },
  {
   "cell_type": "code",
   "execution_count": 17,
   "id": "6678f339",
   "metadata": {
    "scrolled": true
   },
   "outputs": [
    {
     "name": "stdout",
     "output_type": "stream",
     "text": [
      "Warning for adding constraints: zero or small (< 1e-13) coefficients, ignored\n",
      "Set parameter LogFile to value \"/tmp/tmph6es34sx.log\"\n",
      "Gurobi Optimizer version 10.0.1 build v10.0.1rc0 (linux64)\n",
      "\n",
      "CPU model: Intel(R) Core(TM) i7-8850H CPU @ 2.60GHz, instruction set [SSE2|AVX|AVX2]\n",
      "Thread count: 2 physical cores, 2 logical processors, using up to 2 threads\n",
      "\n",
      "Optimize a model with 471931 rows, 157663 columns and 1113997 nonzeros\n",
      "Model fingerprint: 0x1efd2aca\n",
      "Variable types: 17 continuous, 157646 integer (157646 binary)\n",
      "Coefficient statistics:\n",
      "  Matrix range     [2e-13, 2e+04]\n",
      "  Objective range  [1e+00, 1e+00]\n",
      "  Bounds range     [1e+00, 1e+00]\n",
      "  RHS range        [1e+00, 1e+03]\n",
      "Warning: Model contains large matrix coefficient range\n",
      "         Consider reformulating model or setting NumericFocus parameter\n",
      "         to avoid numerical issues.\n",
      "Found heuristic solution: objective -0.0000000\n",
      "Presolve removed 9393 rows and 1138 columns (presolve time = 5s) ...\n",
      "Presolve removed 9393 rows and 1138 columns (presolve time = 10s) ...\n",
      "Presolve removed 50418 rows and 16873 columns (presolve time = 15s) ...\n",
      "Presolve removed 471628 rows and 157123 columns\n",
      "Presolve time: 17.03s\n",
      "Presolved: 303 rows, 540 columns, 4211 nonzeros\n",
      "Variable types: 0 continuous, 540 integer (535 binary)\n",
      "Found heuristic solution: objective 31481.520153\n",
      "\n",
      "Root simplex log...\n",
      "\n",
      "Iteration    Objective       Primal Inf.    Dual Inf.      Time\n",
      "       0    3.1820252e+04   3.387500e+02   0.000000e+00     18s\n",
      "\n",
      "Root relaxation: cutoff, 124 iterations, 0.02 seconds (0.00 work units)\n",
      "\n",
      "    Nodes    |    Current Node    |     Objective Bounds      |     Work\n",
      " Expl Unexpl |  Obj  Depth IntInf | Incumbent    BestBd   Gap | It/Node Time\n",
      "\n",
      "     0     0     cutoff    0      31481.5202 31481.5202  0.00%     -   18s\n",
      "\n",
      "Explored 1 nodes (124 simplex iterations) in 18.40 seconds (7.80 work units)\n",
      "Thread count was 2 (of 2 available processors)\n",
      "\n",
      "Solution count 2: 31481.5 -0 \n",
      "\n",
      "Optimal solution found (tolerance 1.00e-04)\n",
      "Best objective 3.148152015268e+04, best bound 3.148152015268e+04, gap 0.0000%\n",
      "Set parameter LogFile to value \"\"\n"
     ]
    }
   ],
   "source": [
    "mod = calculator.continuous_optimization(mixed_integer=mip_option, \n",
    "                      obj=objective, \n",
    "                    fix=fix_opt, \n",
    "                    sparse=sparse_opt, \n",
    "                    num_dynamic_t_name = num_dynamic_time, \n",
    "                    manual_number = manual_num, \n",
    "                    budget=budget_opt,\n",
    "                    init_cov_y= init_cov_y, \n",
    "                    initial_fim = fim_prior,\n",
    "                    static_dynamic_pair=static_dynamic,\n",
    "                    time_interval_all_dynamic = time_interval_for_all)\n",
    "\n",
    "mod = calculator.solve(mod, mip_option=mip_option, objective = objective)"
   ]
  },
  {
   "cell_type": "code",
   "execution_count": 18,
   "id": "8f3d5f61",
   "metadata": {},
   "outputs": [
    {
     "name": "stdout",
     "output_type": "stream",
     "text": [
      "[100, 100, 500, 500, 500]\n"
     ]
    }
   ],
   "source": [
    "print(calculator.dynamic_install_cost)"
   ]
  },
  {
   "cell_type": "code",
   "execution_count": 19,
   "id": "24d81e44",
   "metadata": {
    "scrolled": true
   },
   "outputs": [
    {
     "name": "stdout",
     "output_type": "stream",
     "text": [
      "[[ 5.36204808e+03 -9.03127412e+00 -4.17278886e+03  1.07974958e+04\n",
      "  -2.75923843e+02]\n",
      " [-9.03127412e+00  2.99606521e-01  8.08083904e+00 -1.15941640e+01\n",
      "  -1.35622981e+00]\n",
      " [-4.17278886e+03  8.08083904e+00  3.25961288e+03 -8.34441347e+03\n",
      "   2.00296313e+02]\n",
      " [ 1.07974958e+04 -1.15941640e+01 -8.34441347e+03  2.28129810e+04\n",
      "  -5.61026805e+02]\n",
      " [-2.75923843e+02 -1.35622981e+00  2.00296313e+02 -5.61026805e+02\n",
      "   4.65786229e+01]]\n",
      "trace: 31481.520152683108\n",
      "det: 78390965.84086484\n",
      "[3.11097311e+04 3.33795612e+02 3.63837393e+01 1.46835475e+00\n",
      " 1.41302813e-01]\n",
      "Pyomo OF: 31481.520152683108\n",
      "Log_det: 18.17721924705934\n"
     ]
    }
   ],
   "source": [
    "fim_result = np.zeros((5,5))\n",
    "for i in range(5):\n",
    "    for j in range(i,5):\n",
    "        fim_result[i,j] = fim_result[j,i] = pyo.value(mod.TotalFIM[i,j])\n",
    "        \n",
    "print(fim_result)  \n",
    "print('trace:', np.trace(fim_result))\n",
    "print('det:', np.linalg.det(fim_result))\n",
    "print(np.linalg.eigvals(fim_result))\n",
    "\n",
    "print(\"Pyomo OF:\", pyo.value(mod.Obj))\n",
    "print(\"Log_det:\", np.log(np.linalg.det(fim_result)))"
   ]
  },
  {
   "cell_type": "code",
   "execution_count": 20,
   "id": "27cb5fd2",
   "metadata": {
    "scrolled": true
   },
   "outputs": [
    {
     "name": "stdout",
     "output_type": "stream",
     "text": [
      "Ads.gas_inlet.F :  0.0\n",
      "Ads.gas_outlet.F :  0.0\n",
      "Ads.gas_outlet.T :  1.0\n",
      "Des.gas_inlet.F :  0.0\n",
      "Des.gas_outlet.F :  0.0\n",
      "Des.gas_outlet.T :  1.0\n",
      "Ads.T_g.Value(19,10) :  0.0\n",
      "Ads.T_g.Value(23,10) :  0.0\n",
      "Ads.T_g.Value(28,10) :  0.0\n",
      "Ads.gas_outlet.z(\"CO2\").static :  0.0\n",
      "Des.gas_outlet.z(\"CO2\").static :  0.0\n",
      "Ads.gas_outlet.z(\"CO2\").dynamic\n",
      "[0. 0. 0. 0. 0. 0. 0. 0. 0. 0. 0. 0. 0. 0. 0. 0. 0. 0. 0. 0. 0. 0. 0. 0.\n",
      " 0. 0. 0. 0. 0. 0. 0. 0. 0. 0. 0. 0. 0. 0. 0. 0. 0. 0. 0. 0. 0. 0. 0. 0.\n",
      " 0. 0. 0. 0. 0. 0. 0. 0. 0. 0. 0. 0. 0. 0. 0. 0. 0. 0. 0. 0. 0. 0. 0. 0.\n",
      " 0. 0. 0. 0. 0. 0. 0. 0. 0. 0. 0. 0. 0. 0. 0. 0. 0. 0. 0. 0. 0. 0. 0. 0.\n",
      " 0. 0. 0. 0. 0. 0. 0. 0. 0. 0. 0. 0. 0. 0.]\n",
      "Des.gas_outlet.z(\"CO2\").dynamic\n",
      "[0. 0. 0. 0. 0. 0. 0. 0. 0. 0. 0. 0. 0. 0. 0. 0. 0. 0. 0. 0. 0. 0. 0. 0.\n",
      " 0. 0. 0. 0. 0. 0. 0. 0. 0. 0. 0. 0. 0. 0. 0. 0. 0. 0. 0. 0. 0. 0. 0. 0.\n",
      " 0. 0. 0. 0. 0. 0. 0. 0. 0. 0. 0. 0. 0. 0. 0. 0. 0. 0. 0. 0. 0. 0. 0. 0.\n",
      " 0. 0. 0. 0. 0. 0. 0. 0. 0. 0. 0. 0. 0. 0. 0. 0. 0. 0. 0. 0. 0. 0. 0. 0.\n",
      " 0. 0. 0. 0. 0. 0. 0. 0. 0. 0. 0. 0. 0. 0.]\n",
      "Ads.z(\"CO2\",19,10)\n",
      "[0. 0. 0. 0. 0. 0. 0. 0. 0. 0. 0. 0. 0. 0. 0. 0. 0. 0. 0. 0. 0. 0. 0. 0.\n",
      " 0. 0. 0. 0. 0. 0. 0. 0. 0. 0. 0. 0. 0. 0. 0. 0. 0. 0. 0. 0. 0. 0. 0. 0.\n",
      " 0. 0. 0. 0. 0. 0. 0. 0. 0. 0. 0. 0. 0. 0. 0. 0. 0. 0. 0. 0. 0. 0. 0. 0.\n",
      " 0. 0. 0. 0. 0. 0. 0. 0. 0. 0. 0. 0. 0. 0. 0. 0. 0. 0. 0. 0. 0. 0. 0. 0.\n",
      " 0. 0. 0. 0. 0. 0. 0. 0. 0. 0. 0. 0. 0. 0.]\n",
      "Ads.z(\"CO2\",23,10)\n",
      "[0. 0. 0. 0. 0. 0. 0. 0. 0. 0. 0. 0. 0. 0. 0. 0. 0. 0. 0. 0. 0. 0. 0. 0.\n",
      " 0. 0. 0. 0. 0. 0. 0. 0. 0. 0. 0. 0. 0. 0. 0. 0. 0. 0. 0. 0. 0. 0. 0. 0.\n",
      " 0. 0. 0. 0. 0. 0. 0. 0. 0. 0. 0. 0. 0. 0. 0. 0. 0. 0. 0. 0. 0. 0. 0. 0.\n",
      " 0. 0. 0. 0. 0. 0. 0. 0. 0. 0. 0. 0. 0. 0. 0. 0. 0. 0. 0. 0. 0. 0. 0. 0.\n",
      " 0. 0. 0. 0. 0. 0. 0. 0. 0. 0. 0. 0. 0. 0.]\n",
      "Ads.z(\"CO2\",28,10)\n",
      "[0. 0. 0. 0. 0. 0. 0. 0. 0. 0. 0. 0. 0. 0. 0. 0. 0. 0. 0. 0. 0. 0. 0. 0.\n",
      " 0. 0. 0. 0. 0. 0. 0. 0. 0. 0. 0. 0. 0. 0. 0. 0. 0. 0. 0. 0. 0. 0. 0. 0.\n",
      " 0. 0. 0. 0. 0. 0. 0. 0. 0. 0. 0. 0. 0. 0. 0. 0. 0. 0. 0. 0. 0. 0. 0. 0.\n",
      " 0. 0. 0. 0. 0. 0. 0. 0. 0. 0. 0. 0. 0. 0. 0. 0. 0. 0. 0. 0. 0. 0. 0. 0.\n",
      " 0. 0. 0. 0. 0. 0. 0. 0. 0. 0. 0. 0. 0. 0.]\n"
     ]
    }
   ],
   "source": [
    "ans_y, sol_y = calculator.extract_solutions(mod)\n"
   ]
  },
  {
   "cell_type": "code",
   "execution_count": 21,
   "id": "7abd9694",
   "metadata": {
    "scrolled": true
   },
   "outputs": [
    {
     "name": "stdout",
     "output_type": "stream",
     "text": [
      "Ads.gas_outlet.z(\"CO2\").dynamic\n",
      "Des.gas_outlet.z(\"CO2\").dynamic\n",
      "Ads.z(\"CO2\",19,10)\n",
      "Ads.z(\"CO2\",23,10)\n",
      "Ads.z(\"CO2\",28,10)\n",
      "pyomo calculated cost: 1000.0\n",
      "0.0\n",
      "0.0\n",
      "0.0\n",
      "0.0\n",
      "0.0\n"
     ]
    }
   ],
   "source": [
    "for i in range(5):\n",
    "    print(all_names_strategy3[i+11])\n",
    "    for t in range(len(sol_y[0])):\n",
    "        if sol_y[i][t] > 0.95:\n",
    "            print(dynamic_time_dict[t])\n",
    "print('pyomo calculated cost:', pyo.value(mod.cost))\n",
    "\n",
    "for i in [11,12,13,14,15]:\n",
    "    print(pyo.value(mod.if_install_dynamic[i]))"
   ]
  },
  {
   "cell_type": "code",
   "execution_count": null,
   "id": "df5d51ef",
   "metadata": {},
   "outputs": [],
   "source": [
    "# verify cost \n",
    "#real_cost = 0 \n",
    "#for i in range(num_total):\n",
    "#    real_cost += ans_y[i,i]*cost[i]\n",
    "    \n",
    "#dynamic_inst = []\n",
    "#for j in range(num_static, num_dynamic+num_static):\n",
    "#    dynamic_inst.append(pyo.value(mod.if_install_dynamic[j]))\n",
    "#    for t in range(Nt):\n",
    "#        if sol_y[j,t]>0.99:\n",
    "#            dynamic_inst[j] = 1 \n",
    "            \n",
    "#real_cost += sum(dynamic_inst[i]*install_cost_dynamic[i] for i in range(num_dynamic))\n",
    "#print(dynamic_inst)\n",
    "#print('Real cost:', real_cost)\n"
   ]
  },
  {
   "cell_type": "code",
   "execution_count": null,
   "id": "9169b12a",
   "metadata": {},
   "outputs": [],
   "source": []
  },
  {
   "cell_type": "code",
   "execution_count": null,
   "id": "4cfbcf49",
   "metadata": {},
   "outputs": [],
   "source": [
    "count = 0 \n",
    "for i in range(561):\n",
    "    for j in range(i,561):\n",
    "        #if pyo.value(mod.cov_y[i,j])<0.96:\n",
    "        print(pyo.value(mod.cov_y[i,j]))\n",
    "            #count += 1 \n",
    "            \n",
    "print(count)"
   ]
  },
  {
   "cell_type": "code",
   "execution_count": null,
   "id": "4c6120ea",
   "metadata": {},
   "outputs": [],
   "source": [
    "store = True\n",
    "\n",
    "if store:\n",
    "    file = open('Apr17_A_mip_1000', 'wb')\n",
    "\n",
    "    pickle.dump(ans_y, file)\n",
    "\n",
    "    file.close()\n",
    "    \n",
    "    file2 = open('Apr17_FIM_A_mip_1000', 'wb')\n",
    "\n",
    "    pickle.dump(fim_result, file2)\n",
    "\n",
    "    file2.close()"
   ]
  },
  {
   "cell_type": "code",
   "execution_count": null,
   "id": "eb33278a",
   "metadata": {},
   "outputs": [],
   "source": []
  },
  {
   "cell_type": "code",
   "execution_count": null,
   "id": "9fa40242",
   "metadata": {},
   "outputs": [],
   "source": []
  }
 ],
 "metadata": {
  "kernelspec": {
   "display_name": "Python 3 (ipykernel)",
   "language": "python",
   "name": "python3"
  },
  "language_info": {
   "codemirror_mode": {
    "name": "ipython",
    "version": 3
   },
   "file_extension": ".py",
   "mimetype": "text/x-python",
   "name": "python",
   "nbconvert_exporter": "python",
   "pygments_lexer": "ipython3",
   "version": "3.7.11"
  }
 },
 "nbformat": 4,
 "nbformat_minor": 5
}
