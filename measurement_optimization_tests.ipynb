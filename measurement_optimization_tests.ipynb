{
 "cells": [
  {
   "cell_type": "code",
   "execution_count": 1,
   "id": "597f749d",
   "metadata": {},
   "outputs": [],
   "source": [
    "import numpy as np\n",
    "import pandas as pd\n",
    "import pyomo.environ as pyo\n",
    "from measure_optimize import MeasurementOptimizer, DataProcess, CovarianceStructure, ObjectiveLib\n",
    "import matplotlib.pyplot as plt\n",
    "import pickle "
   ]
  },
  {
   "cell_type": "markdown",
   "id": "e70ab310",
   "metadata": {},
   "source": [
    "## Input Setting\n",
    "\n",
    "### All measurements and index\n",
    "\n",
    "- ads.gas_inlet.F (0)\n",
    "- ads.gas_outlet.F (1)\n",
    "- ads.gas_outlet.T (2)\n",
    "- ads.gas_outlet.z (3)\n",
    "- des.gas_inlet.F (4)\n",
    "- des.gas_outlet.F (5)\n",
    "- des.gas_outlet.T (6)\n",
    "- des.gas_outlet.z (7)\n",
    "- ads.T19 (8)\n",
    "- ads.T23 (9)\n",
    "- ads.T28 (10)\n",
    "- ads.z19 (11)\n",
    "- ads.z23 (12)\n",
    "- ads.z28 (13)\n",
    "\n",
    "One-time cost ones: 0,1,2, 4,5,6, 8,9,10\n",
    "\n",
    "Time-cost ones: 3,7,11,12,13\n",
    "\n",
    "Names in str: 'Ads.gas_inlet.F', 'Ads.gas_outlet.F', 'Ads.gas_outlet.T', \n",
    "             'Ads.gas_outlet.z(\"CO2\")', 'Des.gas_inlet.F', 'Des.gas_outlet.F', \n",
    "             'Des.gas_outlet.T', 'Des.gas_outlet.z(\"CO2\")', 'Ads.T_g.Value(19,10)', \n",
    "             'Ads.T_g.Value(23,10)', 'Ads.T_g.Value(28,10)', 'Ads.z(\"CO2\",19,10)', \n",
    "             'Ads.z(\"CO2\",23,10)', 'Ads.z(\"CO2\",28,10)'"
   ]
  },
  {
   "cell_type": "code",
   "execution_count": 2,
   "id": "deb11433",
   "metadata": {},
   "outputs": [],
   "source": [
    "Nt =110 # number of timepoints\n",
    "\n",
    "max_manual_num = 5  # max manual number per dynamical measurement\n",
    "min_interval_num = 10 # minimal time interval between dynamical timepoints"
   ]
  },
  {
   "cell_type": "code",
   "execution_count": 3,
   "id": "e7f000c7",
   "metadata": {},
   "outputs": [],
   "source": [
    "static_ind = [0,1,2,3,4,5,6,7,8,9,10] # column number for static measurements \n",
    "dynamic_ind = [11,12,13,14,15] # column number for dynamic measurements \n",
    "all_ind = static_ind+dynamic_ind\n",
    "\n",
    "num_total = len(all_ind)"
   ]
  },
  {
   "cell_type": "code",
   "execution_count": 4,
   "id": "6ebd696e",
   "metadata": {},
   "outputs": [],
   "source": [
    "# string names for measurements\n",
    "all_names_strategy3 = ['Ads.gas_inlet.F', 'Ads.gas_outlet.F', 'Ads.gas_outlet.T', \n",
    "             'Des.gas_inlet.F', 'Des.gas_outlet.F', \n",
    "             'Des.gas_outlet.T',  'Ads.T_g.Value(19,10)', \n",
    "             'Ads.T_g.Value(23,10)', 'Ads.T_g.Value(28,10)', # all static\n",
    "            'Ads.gas_outlet.z(\"CO2\").static', 'Des.gas_outlet.z(\"CO2\").static', # static z \n",
    "            'Ads.gas_outlet.z(\"CO2\").dynamic', 'Des.gas_outlet.z(\"CO2\").dynamic', # dynamic z \n",
    "            'Ads.z(\"CO2\",19,10)', 'Ads.z(\"CO2\",23,10)', 'Ads.z(\"CO2\",28,10)']"
   ]
  },
  {
   "cell_type": "code",
   "execution_count": 5,
   "id": "44b68c27",
   "metadata": {},
   "outputs": [],
   "source": [
    "\n",
    "static_cost = [1000, #ads.gas_inlet.F (0)\n",
    "    1000, #ads.gas_outlet.F (1)\n",
    "     500, #ads.gas_outlet.T (2)\n",
    "    1000, #des.gas_inlet.F (4)\n",
    "    1000, #des.gas_outlet.F (5)\n",
    "     500, #des.gas_outlet.T (6)\n",
    "     1000, #ads.T19 (8)\n",
    "     1000, #ads.T23 (9)\n",
    "     1000, #ads.T28 (10)\n",
    "    7000,\n",
    "    7000]\n",
    "\n",
    "# static cost are all installatin costs \n",
    "static_cost.extend([100, 100, 500, 500, 500])\n",
    "\n",
    "# dynamic cost are for timepoints\n",
    "dynamic_cost = [0]*len(static_ind)\n",
    "dynamic_cost.extend([100]*len(dynamic_ind))\n",
    "\n",
    "max_manual = [max_manual_num]*num_total\n",
    "min_time_interval = [min_interval_num]*num_total"
   ]
  },
  {
   "cell_type": "code",
   "execution_count": 6,
   "id": "80ee3fd3",
   "metadata": {
    "scrolled": true
   },
   "outputs": [
    {
     "name": "stdout",
     "output_type": "stream",
     "text": [
      "                               name  Q_index  static_cost  dynamic_cost  \\\n",
      "0                   Ads.gas_inlet.F        0         1000             0   \n",
      "1                  Ads.gas_outlet.F        1         1000             0   \n",
      "2                  Ads.gas_outlet.T        2          500             0   \n",
      "3                   Des.gas_inlet.F        3         1000             0   \n",
      "4                  Des.gas_outlet.F        4         1000             0   \n",
      "5                  Des.gas_outlet.T        5          500             0   \n",
      "6              Ads.T_g.Value(19,10)        6         1000             0   \n",
      "7              Ads.T_g.Value(23,10)        7         1000             0   \n",
      "8              Ads.T_g.Value(28,10)        8         1000             0   \n",
      "9    Ads.gas_outlet.z(\"CO2\").static        9         7000             0   \n",
      "10   Des.gas_outlet.z(\"CO2\").static       10         7000             0   \n",
      "11  Ads.gas_outlet.z(\"CO2\").dynamic       11          100           100   \n",
      "12  Des.gas_outlet.z(\"CO2\").dynamic       12          100           100   \n",
      "13               Ads.z(\"CO2\",19,10)       13          500           100   \n",
      "14               Ads.z(\"CO2\",23,10)       14          500           100   \n",
      "15               Ads.z(\"CO2\",28,10)       15          500           100   \n",
      "\n",
      "    min_time_interval  max_manual_number  \n",
      "0                  10                  5  \n",
      "1                  10                  5  \n",
      "2                  10                  5  \n",
      "3                  10                  5  \n",
      "4                  10                  5  \n",
      "5                  10                  5  \n",
      "6                  10                  5  \n",
      "7                  10                  5  \n",
      "8                  10                  5  \n",
      "9                  10                  5  \n",
      "10                 10                  5  \n",
      "11                 10                  5  \n",
      "12                 10                  5  \n",
      "13                 10                  5  \n",
      "14                 10                  5  \n",
      "15                 10                  5  \n"
     ]
    }
   ],
   "source": [
    "measure_info = pd.DataFrame({\n",
    "    \"name\": all_names_strategy3,\n",
    "    \"Q_index\": all_ind,\n",
    "        \"static_cost\": static_cost,\n",
    "    \"dynamic_cost\": dynamic_cost,\n",
    "    \"min_time_interval\": min_time_interval, \n",
    "    \"max_manual_number\": max_manual\n",
    "})\n",
    "\n",
    "print(measure_info)"
   ]
  },
  {
   "cell_type": "code",
   "execution_count": 7,
   "id": "44e72140",
   "metadata": {
    "scrolled": true
   },
   "outputs": [],
   "source": [
    "dataObject = DataProcess()\n",
    "dataObject.read_jacobian('./RotaryBed/Q'+str(Nt)+'_scale.csv')\n",
    "Q = dataObject.get_Q_list([0,1,2,4,5,6,8,9,10,3,7],\n",
    "                        [3,7,11,12,13], Nt)\n"
   ]
  },
  {
   "cell_type": "code",
   "execution_count": 8,
   "id": "7df09b33",
   "metadata": {
    "scrolled": true
   },
   "outputs": [
    {
     "name": "stdout",
     "output_type": "stream",
     "text": [
      "(314721, 5, 5)\n"
     ]
    }
   ],
   "source": [
    "calculator = MeasurementOptimizer(Q, measure_info, error_opt=CovarianceStructure.identity, verbose=True)\n",
    "\n",
    "fim_expect = calculator.fim_computation()\n",
    "\n",
    "print(np.shape(calculator.fim_collection))"
   ]
  },
  {
   "cell_type": "markdown",
   "id": "838bb087",
   "metadata": {},
   "source": [
    "### Initialize"
   ]
  },
  {
   "cell_type": "code",
   "execution_count": 9,
   "id": "191fcf09",
   "metadata": {},
   "outputs": [],
   "source": [
    "num_static = len(static_ind)\n",
    "num_dynamic  = len(dynamic_ind)\n",
    "num_total = num_static + num_dynamic*Nt"
   ]
  },
  {
   "cell_type": "code",
   "execution_count": 10,
   "id": "0ec87fc3",
   "metadata": {},
   "outputs": [
    {
     "name": "stdout",
     "output_type": "stream",
     "text": [
      "[[1. 1. 1. ... 0. 0. 0.]\n",
      " [1. 1. 1. ... 0. 0. 0.]\n",
      " [1. 1. 1. ... 0. 0. 0.]\n",
      " ...\n",
      " [0. 0. 0. ... 0. 0. 0.]\n",
      " [0. 0. 0. ... 0. 0. 0.]\n",
      " [0. 0. 0. ... 0. 0. 0.]]\n"
     ]
    }
   ],
   "source": [
    "# initialize cov_y\n",
    "with open('MarResult-strategy3-Dopt/Mar31_D_110_27700', 'rb') as f:\n",
    "    x = pickle.load(f)\n",
    "    \n",
    "print(x)\n",
    "init_cov_y = x.copy()"
   ]
  },
  {
   "cell_type": "code",
   "execution_count": 11,
   "id": "e3a967c0",
   "metadata": {},
   "outputs": [
    {
     "name": "stdout",
     "output_type": "stream",
     "text": [
      "[[ 5.55260011e+03 -2.61972445e+00 -4.14130933e+03  1.09879444e+04\n",
      "  -5.00376769e+02]\n",
      " [-2.61972445e+00  5.22032483e+00  7.68731822e+00  5.03877570e+01\n",
      "  -1.05219552e+01]\n",
      " [-4.14130933e+03  7.68731822e+00  3.32562801e+03 -8.52086707e+03\n",
      "   1.66399892e+02]\n",
      " [ 1.09879444e+04  5.03877570e+01 -8.52086707e+03  2.52492460e+04\n",
      "  -8.96253626e+02]\n",
      " [-5.00376769e+02 -1.05219552e+01  1.66399892e+02 -8.96253626e+02\n",
      "   3.78315460e+02]]\n"
     ]
    }
   ],
   "source": [
    "# initialize FIM:\n",
    "with open('MarResult-strategy3-Dopt/Mar31_FIM_D_110_27700', 'rb') as f:\n",
    "    fim_prior = pickle.load(f)\n",
    "    \n",
    "print(fim_prior)"
   ]
  },
  {
   "cell_type": "code",
   "execution_count": 12,
   "id": "de6f6f7b",
   "metadata": {},
   "outputs": [],
   "source": [
    "\n",
    "mip_option = True\n",
    "objective = ObjectiveLib.A\n",
    "sparse_opt = True\n",
    "fix_opt = False\n",
    "\n",
    "manual_num = 20\n",
    "budget_opt = 1000\n",
    "\n",
    "num_dynamic_time = np.linspace(2,220,Nt)\n",
    "\n",
    "static_dynamic = [[9,11], [10,12]]\n",
    "time_interval_for_all = True\n",
    "\n",
    "dynamic_time_dict = {}\n",
    "for i, tim in enumerate(num_dynamic_time):\n",
    "    dynamic_time_dict[i] = tim "
   ]
  },
  {
   "cell_type": "code",
   "execution_count": 13,
   "id": "6678f339",
   "metadata": {
    "scrolled": true
   },
   "outputs": [],
   "source": [
    "mod = calculator.continuous_optimization(mixed_integer=mip_option, \n",
    "                      obj=objective, \n",
    "                    fix=fix_opt, \n",
    "                    upper_diagonal_only=sparse_opt, \n",
    "                    num_dynamic_t_name = num_dynamic_time, \n",
    "                    manual_number = manual_num, \n",
    "                    budget=budget_opt,\n",
    "                    init_cov_y= init_cov_y, \n",
    "                    initial_fim = fim_prior,\n",
    "                    static_dynamic_pair=static_dynamic,\n",
    "                    time_interval_all_dynamic = time_interval_for_all)\n",
    "\n",
    "mod = calculator.solve(mod, mip_option=mip_option, objective = objective)"
   ]
  },
  {
   "cell_type": "code",
   "execution_count": 14,
   "id": "24d81e44",
   "metadata": {
    "scrolled": true
   },
   "outputs": [
    {
     "name": "stdout",
     "output_type": "stream",
     "text": [
      "[[ 5.55260011e+03 -2.61972445e+00 -4.14130933e+03  1.09879444e+04\n",
      "  -5.00376769e+02]\n",
      " [-2.61972445e+00  5.22032483e+00  7.68731822e+00  5.03877570e+01\n",
      "  -1.05219552e+01]\n",
      " [-4.14130933e+03  7.68731822e+00  3.32562801e+03 -8.52086707e+03\n",
      "   1.66399892e+02]\n",
      " [ 1.09879444e+04  5.03877570e+01 -8.52086707e+03  2.52492460e+04\n",
      "  -8.96253626e+02]\n",
      " [-5.00376769e+02 -1.05219552e+01  1.66399892e+02 -8.96253626e+02\n",
      "   3.78315460e+02]]\n",
      "trace: 34511.00993581643\n",
      "det: 2119056400016.21\n",
      "[3.31938994e+04 8.18378909e+02 4.48378213e+02 4.66218092e+01\n",
      " 3.73160950e+00]\n",
      "Pyomo OF: 34511.00993581643\n",
      "Log_det: 28.38199201119661\n"
     ]
    }
   ],
   "source": [
    "fim_result = np.zeros((5,5))\n",
    "for i in range(5):\n",
    "    for j in range(i,5):\n",
    "        fim_result[i,j] = fim_result[j,i] = pyo.value(mod.TotalFIM[i,j])\n",
    "        \n",
    "print(fim_result)  \n",
    "print('trace:', np.trace(fim_result))\n",
    "print('det:', np.linalg.det(fim_result))\n",
    "print(np.linalg.eigvals(fim_result))\n",
    "\n",
    "print(\"Pyomo OF:\", pyo.value(mod.Obj))\n",
    "print(\"Log_det:\", np.log(np.linalg.det(fim_result)))"
   ]
  },
  {
   "cell_type": "code",
   "execution_count": 15,
   "id": "27cb5fd2",
   "metadata": {
    "scrolled": true
   },
   "outputs": [
    {
     "name": "stdout",
     "output_type": "stream",
     "text": [
      "Ads.gas_inlet.F :  1.0\n",
      "Ads.gas_outlet.F :  1.0\n",
      "Ads.gas_outlet.T :  1.0\n",
      "Des.gas_inlet.F :  1.0\n",
      "Des.gas_outlet.F :  1.0\n",
      "Des.gas_outlet.T :  1.0\n",
      "Ads.T_g.Value(19,10) :  1.0\n",
      "Ads.T_g.Value(23,10) :  1.0\n",
      "Ads.T_g.Value(28,10) :  1.0\n",
      "Ads.gas_outlet.z(\"CO2\").static :  1.0\n",
      "Des.gas_outlet.z(\"CO2\").static :  1.0\n",
      "Ads.gas_outlet.z(\"CO2\").dynamic\n",
      "[0. 0. 0. 0. 0. 0. 0. 0. 0. 0. 0. 0. 0. 0. 0. 0. 0. 0. 0. 0. 0. 0. 0. 0.\n",
      " 0. 0. 0. 0. 0. 0. 0. 0. 0. 0. 0. 0. 0. 0. 0. 0. 0. 0. 0. 0. 0. 0. 0. 0.\n",
      " 0. 0. 0. 1. 0. 0. 0. 0. 1. 0. 0. 0. 0. 1. 0. 0. 0. 0. 1. 0. 0. 0. 0. 0.\n",
      " 0. 0. 0. 0. 0. 0. 0. 0. 0. 0. 0. 0. 0. 0. 0. 0. 0. 0. 1. 0. 0. 0. 0. 0.\n",
      " 0. 0. 0. 0. 0. 0. 0. 0. 0. 0. 0. 0. 0. 0.]\n",
      "Des.gas_outlet.z(\"CO2\").dynamic\n",
      "[0. 0. 0. 0. 0. 0. 0. 0. 0. 0. 0. 0. 0. 0. 0. 0. 0. 0. 0. 0. 0. 0. 0. 0.\n",
      " 0. 0. 0. 0. 0. 0. 0. 0. 0. 0. 0. 0. 0. 0. 0. 0. 0. 0. 0. 0. 0. 0. 0. 0.\n",
      " 0. 0. 0. 0. 0. 0. 0. 0. 0. 0. 0. 0. 0. 0. 0. 0. 0. 0. 0. 0. 0. 0. 0. 0.\n",
      " 0. 0. 0. 0. 0. 0. 0. 0. 1. 0. 0. 0. 0. 1. 0. 0. 0. 0. 1. 0. 0. 0. 0. 1.\n",
      " 0. 0. 0. 0. 1. 0. 0. 0. 0. 0. 0. 0. 0. 0.]\n",
      "Ads.z(\"CO2\",19,10)\n",
      "[0. 0. 0. 0. 0. 0. 0. 0. 0. 0. 0. 0. 0. 0. 0. 0. 0. 0. 0. 0. 0. 0. 0. 0.\n",
      " 0. 0. 0. 0. 0. 0. 0. 0. 0. 0. 0. 0. 0. 0. 0. 0. 0. 0. 0. 0. 0. 1. 0. 0.\n",
      " 0. 0. 1. 0. 0. 0. 0. 0. 0. 0. 0. 0. 0. 0. 0. 0. 0. 0. 0. 0. 0. 0. 0. 0.\n",
      " 0. 0. 0. 0. 0. 0. 0. 0. 0. 0. 0. 0. 0. 0. 0. 0. 0. 0. 0. 0. 0. 0. 0. 0.\n",
      " 0. 0. 0. 0. 0. 0. 0. 0. 0. 0. 0. 0. 0. 0.]\n",
      "Ads.z(\"CO2\",23,10)\n",
      "[0. 0. 0. 0. 0. 0. 0. 0. 0. 0. 0. 0. 0. 0. 0. 0. 0. 0. 0. 0. 0. 0. 0. 0.\n",
      " 0. 0. 0. 0. 0. 0. 0. 0. 0. 0. 0. 0. 0. 0. 0. 0. 0. 0. 0. 0. 0. 0. 1. 0.\n",
      " 0. 0. 0. 1. 0. 0. 0. 0. 0. 0. 0. 0. 0. 0. 0. 0. 0. 0. 0. 0. 0. 0. 0. 0.\n",
      " 0. 0. 0. 0. 0. 0. 0. 0. 0. 0. 0. 0. 0. 0. 0. 0. 0. 0. 0. 0. 0. 0. 0. 0.\n",
      " 0. 0. 0. 0. 1. 0. 0. 0. 0. 0. 0. 0. 0. 0.]\n",
      "Ads.z(\"CO2\",28,10)\n",
      "[0. 0. 0. 0. 0. 0. 0. 0. 0. 0. 0. 0. 0. 0. 0. 0. 0. 0. 0. 0. 0. 0. 0. 0.\n",
      " 0. 0. 0. 0. 0. 0. 0. 0. 0. 0. 0. 0. 0. 0. 0. 0. 0. 0. 0. 1. 0. 0. 0. 0.\n",
      " 1. 0. 0. 0. 0. 1. 0. 0. 0. 0. 1. 0. 0. 0. 0. 0. 0. 0. 0. 0. 0. 0. 0. 0.\n",
      " 0. 0. 0. 0. 0. 0. 0. 0. 0. 0. 0. 0. 0. 0. 1. 0. 0. 0. 0. 0. 0. 0. 0. 0.\n",
      " 0. 0. 0. 0. 0. 0. 0. 0. 0. 0. 0. 0. 0. 0.]\n"
     ]
    }
   ],
   "source": [
    "ans_y, sol_y = calculator.extract_solutions(mod)\n"
   ]
  },
  {
   "cell_type": "code",
   "execution_count": 16,
   "id": "4c6120ea",
   "metadata": {},
   "outputs": [],
   "source": [
    "store = True\n",
    "\n",
    "if store:\n",
    "    file = open('Apr17_A_mip_1000', 'wb')\n",
    "\n",
    "    pickle.dump(ans_y, file)\n",
    "\n",
    "    file.close()\n",
    "    \n",
    "    file2 = open('Apr17_FIM_A_mip_1000', 'wb')\n",
    "\n",
    "    pickle.dump(fim_result, file2)\n",
    "\n",
    "    file2.close()"
   ]
  },
  {
   "cell_type": "code",
   "execution_count": null,
   "id": "eb33278a",
   "metadata": {},
   "outputs": [],
   "source": []
  },
  {
   "cell_type": "code",
   "execution_count": null,
   "id": "9fa40242",
   "metadata": {},
   "outputs": [],
   "source": []
  }
 ],
 "metadata": {
  "kernelspec": {
   "display_name": "Python 3 (ipykernel)",
   "language": "python",
   "name": "python3"
  },
  "language_info": {
   "codemirror_mode": {
    "name": "ipython",
    "version": 3
   },
   "file_extension": ".py",
   "mimetype": "text/x-python",
   "name": "python",
   "nbconvert_exporter": "python",
   "pygments_lexer": "ipython3",
   "version": "3.7.11"
  }
 },
 "nbformat": 4,
 "nbformat_minor": 5
}
