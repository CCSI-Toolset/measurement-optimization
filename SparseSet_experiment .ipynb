{
 "cells": [
  {
   "cell_type": "code",
   "execution_count": 1,
   "id": "de915084",
   "metadata": {},
   "outputs": [],
   "source": [
    "import pyomo.environ as pyo"
   ]
  },
  {
   "cell_type": "code",
   "execution_count": 2,
   "id": "a4459144",
   "metadata": {},
   "outputs": [],
   "source": [
    "numRes = 5"
   ]
  },
  {
   "cell_type": "code",
   "execution_count": 3,
   "id": "2fdcec0d",
   "metadata": {},
   "outputs": [],
   "source": [
    "m = pyo.ConcreteModel()\n",
    "\n",
    "m.NumRes = pyo.Set(initialize=range(numRes))\n",
    "#m.DimFIM = pyo.Set(initialize=range(len(FIMSet[0])))\n",
    "\n",
    "# set up y and cov y \n",
    "def identity(m, a, b):\n",
    "    return 1 if a==b else 0\n",
    "\n",
    "def initialize(m, a, b):\n",
    "    return init_cov_y[a][b]\n",
    "\n",
    "def DimFIMhalf_init(m):\n",
    "    return ((a,b) for a in m.NumRes for b in range(a, numRes))\n",
    "\n",
    "m.NumRes_half = pyo.Set(dimen=2, initialize=DimFIMhalf_init)\n",
    "\n",
    "m.cov_y = pyo.Var(m.NumRes_half, initialize=1.0, bounds=(0,1), within=pyo.NonNegativeReals)"
   ]
  },
  {
   "cell_type": "code",
   "execution_count": 4,
   "id": "ce344764",
   "metadata": {
    "scrolled": true
   },
   "outputs": [
    {
     "name": "stdout",
     "output_type": "stream",
     "text": [
      "2 Set Declarations\n",
      "    NumRes : Size=1, Index=None, Ordered=Insertion\n",
      "        Key  : Dimen : Domain : Size : Members\n",
      "        None :     1 :    Any :    5 : {0, 1, 2, 3, 4}\n",
      "    NumRes_half : Size=1, Index=None, Ordered=Insertion\n",
      "        Key  : Dimen : Domain : Size : Members\n",
      "        None :     2 :    Any :   15 : {(0, 0), (0, 1), (0, 2), (0, 3), (0, 4), (1, 1), (1, 2), (1, 3), (1, 4), (2, 2), (2, 3), (2, 4), (3, 3), (3, 4), (4, 4)}\n",
      "\n",
      "1 Var Declarations\n",
      "    cov_y : Size=15, Index=NumRes_half\n",
      "        Key    : Lower : Value : Upper : Fixed : Stale : Domain\n",
      "        (0, 0) :     0 :   1.0 :     1 : False : False : NonNegativeReals\n",
      "        (0, 1) :     0 :   1.0 :     1 : False : False : NonNegativeReals\n",
      "        (0, 2) :     0 :   1.0 :     1 : False : False : NonNegativeReals\n",
      "        (0, 3) :     0 :   1.0 :     1 : False : False : NonNegativeReals\n",
      "        (0, 4) :     0 :   1.0 :     1 : False : False : NonNegativeReals\n",
      "        (1, 1) :     0 :   1.0 :     1 : False : False : NonNegativeReals\n",
      "        (1, 2) :     0 :   1.0 :     1 : False : False : NonNegativeReals\n",
      "        (1, 3) :     0 :   1.0 :     1 : False : False : NonNegativeReals\n",
      "        (1, 4) :     0 :   1.0 :     1 : False : False : NonNegativeReals\n",
      "        (2, 2) :     0 :   1.0 :     1 : False : False : NonNegativeReals\n",
      "        (2, 3) :     0 :   1.0 :     1 : False : False : NonNegativeReals\n",
      "        (2, 4) :     0 :   1.0 :     1 : False : False : NonNegativeReals\n",
      "        (3, 3) :     0 :   1.0 :     1 : False : False : NonNegativeReals\n",
      "        (3, 4) :     0 :   1.0 :     1 : False : False : NonNegativeReals\n",
      "        (4, 4) :     0 :   1.0 :     1 : False : False : NonNegativeReals\n",
      "\n",
      "3 Declarations: NumRes NumRes_half cov_y\n"
     ]
    }
   ],
   "source": [
    "m.pprint()"
   ]
  },
  {
   "cell_type": "code",
   "execution_count": null,
   "id": "254d2bd0",
   "metadata": {},
   "outputs": [],
   "source": []
  }
 ],
 "metadata": {
  "kernelspec": {
   "display_name": "Python 3 (ipykernel)",
   "language": "python",
   "name": "python3"
  },
  "language_info": {
   "codemirror_mode": {
    "name": "ipython",
    "version": 3
   },
   "file_extension": ".py",
   "mimetype": "text/x-python",
   "name": "python",
   "nbconvert_exporter": "python",
   "pygments_lexer": "ipython3",
   "version": "3.7.11"
  }
 },
 "nbformat": 4,
 "nbformat_minor": 5
}
