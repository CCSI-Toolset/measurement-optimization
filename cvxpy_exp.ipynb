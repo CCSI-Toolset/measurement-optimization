{
 "cells": [
  {
   "cell_type": "code",
   "execution_count": 1,
   "id": "38c6d993",
   "metadata": {},
   "outputs": [],
   "source": [
    "import cvxpy as cp"
   ]
  },
  {
   "cell_type": "code",
   "execution_count": 2,
   "id": "b6ac6bb0",
   "metadata": {},
   "outputs": [],
   "source": [
    "x = cp.Variable()\n",
    "y = cp.Variable()"
   ]
  },
  {
   "cell_type": "code",
   "execution_count": 3,
   "id": "2a4265e3",
   "metadata": {},
   "outputs": [
    {
     "name": "stdout",
     "output_type": "stream",
     "text": [
      "optimal\n",
      "1.0\n",
      "1.0 1.570086213240983e-22\n"
     ]
    }
   ],
   "source": [
    "constraints = [x+y==1, \n",
    "              x-y>=1]\n",
    "\n",
    "obj = cp.Minimize((x-y)**2)\n",
    "\n",
    "prob = cp.Problem(obj, constraints)\n",
    "prob.solve()\n",
    "\n",
    "print(prob.status)\n",
    "print(prob.value)\n",
    "print(x.value, y.value)"
   ]
  },
  {
   "cell_type": "code",
   "execution_count": null,
   "id": "2b272ec5",
   "metadata": {},
   "outputs": [],
   "source": []
  }
 ],
 "metadata": {
  "kernelspec": {
   "display_name": "Python 3 (ipykernel)",
   "language": "python",
   "name": "python3"
  },
  "language_info": {
   "codemirror_mode": {
    "name": "ipython",
    "version": 3
   },
   "file_extension": ".py",
   "mimetype": "text/x-python",
   "name": "python",
   "nbconvert_exporter": "python",
   "pygments_lexer": "ipython3",
   "version": "3.10.4"
  }
 },
 "nbformat": 4,
 "nbformat_minor": 5
}
