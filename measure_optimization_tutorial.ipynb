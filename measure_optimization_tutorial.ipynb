{
 "cells": [
  {
   "cell_type": "code",
   "execution_count": 1,
   "id": "9f0457a1",
   "metadata": {},
   "outputs": [],
   "source": [
    "import matplotlib.pyplot as plt\n",
    "import numpy as np\n",
    "import pandas as pd "
   ]
  },
  {
   "cell_type": "code",
   "execution_count": 2,
   "id": "ae7e4fa1",
   "metadata": {
    "scrolled": false
   },
   "outputs": [
    {
     "name": "stdout",
     "output_type": "stream",
     "text": [
      "(CVXPY) Aug 28 10:00:29 PM: Encountered unexpected exception importing solver GUROBI:\n",
      "ImportError('libgurobi95.so: cannot open shared object file: No such file or directory')\n",
      "(CVXPY) Aug 28 10:00:29 PM: Encountered unexpected exception importing solver GUROBI:\n",
      "ImportError('libgurobi95.so: cannot open shared object file: No such file or directory')\n"
     ]
    }
   ],
   "source": [
    "import cvxpy as cp\n",
    "from measure_optimize import MeasurementOptimizer"
   ]
  },
  {
   "cell_type": "markdown",
   "id": "0686ac34",
   "metadata": {},
   "source": [
    "## Input setting"
   ]
  },
  {
   "cell_type": "markdown",
   "id": "99368e65",
   "metadata": {},
   "source": [
    "### Read Q"
   ]
  },
  {
   "cell_type": "code",
   "execution_count": 3,
   "id": "4c589ea9",
   "metadata": {},
   "outputs": [
    {
     "name": "stdout",
     "output_type": "stream",
     "text": [
      "(24, 4)\n"
     ]
    }
   ],
   "source": [
    "jaco_info = pd.read_csv('./kinetics_fim/Q.csv')\n",
    "\n",
    "\n",
    "# remove all initial conditions\n",
    "Q_stack = []\n",
    "\n",
    "for i in range(1,9):\n",
    "    \n",
    "    Q_res = [jaco_info['A1'].iloc[i], jaco_info['A2'].iloc[i], jaco_info['E1'].iloc[i], jaco_info['E2'].iloc[i]]\n",
    "    \n",
    "    Q_stack.append(Q_res)\n",
    "    \n",
    "for i in range(10,18):\n",
    "    \n",
    "    Q_res = [jaco_info['A1'].iloc[i], jaco_info['A2'].iloc[i], jaco_info['E1'].iloc[i], jaco_info['E2'].iloc[i]]\n",
    "    \n",
    "    Q_stack.append(Q_res)\n",
    "    \n",
    "for i in range(19,27):\n",
    "    \n",
    "    Q_res = [jaco_info['A1'].iloc[i], jaco_info['A2'].iloc[i], jaco_info['E1'].iloc[i], jaco_info['E2'].iloc[i]]\n",
    "    \n",
    "    Q_stack.append(Q_res)\n",
    "    \n",
    "#print(Q_stack)   \n",
    "print(np.shape(Q_stack))"
   ]
  },
  {
   "cell_type": "markdown",
   "id": "260d52d3",
   "metadata": {},
   "source": [
    "### Set Sigma"
   ]
  },
  {
   "cell_type": "code",
   "execution_count": 6,
   "id": "dec3ac69",
   "metadata": {},
   "outputs": [
    {
     "name": "stdout",
     "output_type": "stream",
     "text": [
      "(24, 24)\n"
     ]
    }
   ],
   "source": [
    "# variance \n",
    "variance = [1, # var_CA^2\n",
    "            4, # var_CB^2\n",
    "            8  # var_CC^2\n",
    "           ]\n",
    "covariance = [ 0.1, # cov_CA_CB | ti, \n",
    "               0.1, # cov_CA_CC | ti, \n",
    "               0.5 # cov_CB_CC | ti\n",
    "]\n",
    "\n",
    "#variance  = [1,1,1]\n",
    "#covariance = [0,0,0]\n",
    "\n",
    "# construct Sigma\n",
    "sigma = np.zeros((24, 24))\n",
    "\n",
    "for i in range(24):\n",
    "    #for j in range(27):\n",
    "        \n",
    "        #if i==j:\n",
    "    if i<8:\n",
    "        sigma[i,i]=variance[0]\n",
    "        sigma[i,i+8]=covariance[0]\n",
    "        sigma[i,i+16]=covariance[1]\n",
    "    elif 8<= i < 16:\n",
    "        sigma[i,i]=variance[1]\n",
    "        sigma[i,i-8]=covariance[0]\n",
    "        sigma[i,i+8]=covariance[2]\n",
    "    elif i>=16:\n",
    "        sigma[i,i]=variance[2]\n",
    "        sigma[i,i-16]=covariance[1]\n",
    "        sigma[i,i-8]=covariance[2]\n",
    "        \n",
    "print(np.shape(sigma))"
   ]
  },
  {
   "cell_type": "markdown",
   "id": "b0c8d9e6",
   "metadata": {},
   "source": [
    "### Other settings"
   ]
  },
  {
   "cell_type": "code",
   "execution_count": 7,
   "id": "17b05ccd",
   "metadata": {},
   "outputs": [],
   "source": [
    "number_measure = 3 \n",
    "number_t = 8\n",
    "cost = [10]*number_t + [6]*number_t*2 "
   ]
  },
  {
   "cell_type": "markdown",
   "id": "bc900fae",
   "metadata": {},
   "source": [
    "## Check square problem solutions"
   ]
  },
  {
   "cell_type": "code",
   "execution_count": 8,
   "id": "dd3f4c03",
   "metadata": {},
   "outputs": [],
   "source": [
    "#ya1 = [1, 1, 1, 1, 0, 0, 0, 0]\n",
    "#yb1 = [1, 1, 1, 0.8895839685893835, 0, 1, 1, 1]\n",
    "#yc1 = [1, 0.5873479124974504, 0, 0, 0, 0, 0.5230594984957986, 1]\n",
    "\n",
    "\n",
    "#solution1 = ya1 + yb1 + yc1 \n",
    "#solution1 = [0.9998548927512535, 0.6718489572976762, 0.6718489573007947, 0.9999473328860441, 0.6718489576894476, 0.6718489576645006, 0.6718489575876658, 0.6718489574880149, 0.43267878357849543, 0.9999125524850495, 0.9999125524850507, 0.5169740683761896, 0.9999125524850498, 0.9999125524850518, 0.9999125524850465, 0.9999125524850458, 0.9999666867834678, 0.9999125524850491, 0.9999125524850482, 0.9999013568405221, 0.9999125524850512, 0.9999125524850491, 0.9999125524850498, 0.9999125524850477]\n",
    "solution1 = [1.0, 1.0, 1.0, 1.0, 0.0, 0.0, 0.0, 0.0, 1.0, 1.0, 1.0, 0.8893433395380824, 0.0, 1.0, 1.0, 1.0, 1.0, 0.5875557934505837, 0.0, 0.0, 0.0, 0.0, 0.5230994268276815, 1.0]"
   ]
  },
  {
   "cell_type": "code",
   "execution_count": 9,
   "id": "33c85787",
   "metadata": {
    "scrolled": true
   },
   "outputs": [
    {
     "name": "stdout",
     "output_type": "stream",
     "text": [
      "Q shape: 24 4\n",
      "======FIM result======\n",
      "FIM: [[  4.98298661   1.863857    -8.89915046  -7.76580571]\n",
      " [  1.863857     4.24420484  -2.72598598 -17.02395974]\n",
      " [ -8.89915046  -2.72598598  16.21349964  11.49775364]\n",
      " [ -7.76580571 -17.02395974  11.49775364  69.63693322]]\n",
      "Determinant: 5.119105814581863 ; log_e(det): 1.6329797782096196 ; log_10(det): 0.7091941067360339\n",
      "Trace: 95.07762430421698 ; log_e(trace): 4.554693655896879 ; log_10(trace): 1.9780783215157631\n",
      "Min eig: 0.04722007437289387 ; log_e(min_eig): -3.052936172296492 ; log_10(min_eig): -1.3258733332312018\n",
      "Cond: 1639.323491633256\n"
     ]
    },
    {
     "data": {
      "text/plain": [
       "array([[  4.98298661,   1.863857  ,  -8.89915046,  -7.76580571],\n",
       "       [  1.863857  ,   4.24420484,  -2.72598598, -17.02395974],\n",
       "       [ -8.89915046,  -2.72598598,  16.21349964,  11.49775364],\n",
       "       [ -7.76580571, -17.02395974,  11.49775364,  69.63693322]])"
      ]
     },
     "execution_count": 9,
     "metadata": {},
     "output_type": "execute_result"
    }
   ],
   "source": [
    "calculator = MeasurementOptimizer(Q_stack, number_measure, number_t, cost, error_cov = sigma)\n",
    "\n",
    "calculator.compute_FIM(solution1)"
   ]
  },
  {
   "cell_type": "markdown",
   "id": "94c3c5d8",
   "metadata": {},
   "source": [
    "## Optimize"
   ]
  },
  {
   "cell_type": "code",
   "execution_count": null,
   "id": "5ea88923",
   "metadata": {},
   "outputs": [],
   "source": []
  },
  {
   "cell_type": "code",
   "execution_count": null,
   "id": "bac49d57",
   "metadata": {},
   "outputs": [],
   "source": []
  }
 ],
 "metadata": {
  "kernelspec": {
   "display_name": "Python 3 (ipykernel)",
   "language": "python",
   "name": "python3"
  },
  "language_info": {
   "codemirror_mode": {
    "name": "ipython",
    "version": 3
   },
   "file_extension": ".py",
   "mimetype": "text/x-python",
   "name": "python",
   "nbconvert_exporter": "python",
   "pygments_lexer": "ipython3",
   "version": "3.10.4"
  }
 },
 "nbformat": 4,
 "nbformat_minor": 5
}
