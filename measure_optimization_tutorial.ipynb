{
 "cells": [
  {
   "cell_type": "code",
   "execution_count": 1,
   "id": "9f0457a1",
   "metadata": {},
   "outputs": [],
   "source": [
    "import matplotlib.pyplot as plt\n",
    "import numpy as np\n",
    "import pandas as pd "
   ]
  },
  {
   "cell_type": "code",
   "execution_count": 2,
   "id": "ae7e4fa1",
   "metadata": {
    "scrolled": false
   },
   "outputs": [
    {
     "name": "stdout",
     "output_type": "stream",
     "text": [
      "(CVXPY) Sep 05 11:16:31 PM: Encountered unexpected exception importing solver GUROBI:\n",
      "ImportError('libgurobi95.so: cannot open shared object file: No such file or directory')\n",
      "(CVXPY) Sep 05 11:16:31 PM: Encountered unexpected exception importing solver GUROBI:\n",
      "ImportError('libgurobi95.so: cannot open shared object file: No such file or directory')\n"
     ]
    }
   ],
   "source": [
    "import cvxpy as cp\n",
    "from measure_optimize import MeasurementOptimizer"
   ]
  },
  {
   "cell_type": "markdown",
   "id": "0686ac34",
   "metadata": {},
   "source": [
    "## Input setting"
   ]
  },
  {
   "cell_type": "markdown",
   "id": "99368e65",
   "metadata": {},
   "source": [
    "### Read Q"
   ]
  },
  {
   "cell_type": "code",
   "execution_count": 3,
   "id": "4c589ea9",
   "metadata": {},
   "outputs": [
    {
     "name": "stdout",
     "output_type": "stream",
     "text": [
      "(24, 4)\n"
     ]
    }
   ],
   "source": [
    "jaco_info = pd.read_csv('./kinetics_fim/Q.csv')\n",
    "\n",
    "\n",
    "# remove all initial conditions\n",
    "Q_stack = []\n",
    "\n",
    "for i in range(1,9):\n",
    "    \n",
    "    Q_res = [jaco_info['A1'].iloc[i], jaco_info['A2'].iloc[i], jaco_info['E1'].iloc[i], jaco_info['E2'].iloc[i]]\n",
    "    \n",
    "    Q_stack.append(Q_res)\n",
    "    \n",
    "for i in range(10,18):\n",
    "    \n",
    "    Q_res = [jaco_info['A1'].iloc[i], jaco_info['A2'].iloc[i], jaco_info['E1'].iloc[i], jaco_info['E2'].iloc[i]]\n",
    "    \n",
    "    Q_stack.append(Q_res)\n",
    "    \n",
    "for i in range(19,27):\n",
    "    \n",
    "    Q_res = [jaco_info['A1'].iloc[i], jaco_info['A2'].iloc[i], jaco_info['E1'].iloc[i], jaco_info['E2'].iloc[i]]\n",
    "    \n",
    "    Q_stack.append(Q_res)\n",
    "    \n",
    "#print(Q_stack)   \n",
    "print(np.shape(Q_stack))"
   ]
  },
  {
   "cell_type": "markdown",
   "id": "260d52d3",
   "metadata": {},
   "source": [
    "### Set Sigma"
   ]
  },
  {
   "cell_type": "code",
   "execution_count": 4,
   "id": "dec3ac69",
   "metadata": {},
   "outputs": [
    {
     "name": "stdout",
     "output_type": "stream",
     "text": [
      "(24, 24)\n"
     ]
    }
   ],
   "source": [
    "# variance \n",
    "variance = [1, # var_CA^2\n",
    "            4, # var_CB^2\n",
    "            8  # var_CC^2\n",
    "           ]\n",
    "covariance = [ 0.1, # cov_CA_CB | ti, \n",
    "               0.1, # cov_CA_CC | ti, \n",
    "               0.5 # cov_CB_CC | ti\n",
    "]\n",
    "\n",
    "# construct Sigma\n",
    "sigma = np.zeros((24, 24))\n",
    "\n",
    "for i in range(24):\n",
    "    #for j in range(27):\n",
    "        \n",
    "        #if i==j:\n",
    "    if i<8:\n",
    "        sigma[i,i]=variance[0]\n",
    "        sigma[i,i+8]=covariance[0]\n",
    "        sigma[i,i+16]=covariance[1]\n",
    "    elif 8<= i < 16:\n",
    "        sigma[i,i]=variance[1]\n",
    "        sigma[i,i-8]=covariance[0]\n",
    "        sigma[i,i+8]=covariance[2]\n",
    "    elif i>=16:\n",
    "        sigma[i,i]=variance[2]\n",
    "        sigma[i,i-16]=covariance[1]\n",
    "        sigma[i,i-8]=covariance[2]\n",
    "        \n",
    "print(np.shape(sigma))"
   ]
  },
  {
   "cell_type": "markdown",
   "id": "b0c8d9e6",
   "metadata": {},
   "source": [
    "### Other settings"
   ]
  },
  {
   "cell_type": "code",
   "execution_count": 5,
   "id": "17b05ccd",
   "metadata": {},
   "outputs": [],
   "source": [
    "number_measure = 3 \n",
    "number_t = 8\n",
    "cost = [10]*number_t + [6]*number_t*2 "
   ]
  },
  {
   "cell_type": "markdown",
   "id": "bc900fae",
   "metadata": {},
   "source": [
    "## Check square problem solutions"
   ]
  },
  {
   "cell_type": "code",
   "execution_count": 6,
   "id": "dd3f4c03",
   "metadata": {},
   "outputs": [],
   "source": [
    "solution1 = [1.0, 1.0, 1.0, 1.0, 0.0, 0.0, 0.0, 0.0, 1.0, 1.0, 1.0, 0.8893433395380824, 0.0, 1.0, 1.0, 1.0, 1.0, 0.5875557934505837, 0.0, 0.0, 0.0, 0.0, 0.5230994268276815, 1.0]"
   ]
  },
  {
   "cell_type": "code",
   "execution_count": 7,
   "id": "33c85787",
   "metadata": {
    "scrolled": true
   },
   "outputs": [
    {
     "name": "stdout",
     "output_type": "stream",
     "text": [
      "Q shape: 24 4\n",
      "======FIM result======\n",
      "FIM: [[  4.98298661   1.863857    -8.89915046  -7.76580571]\n",
      " [  1.863857     4.24420484  -2.72598598 -17.02395974]\n",
      " [ -8.89915046  -2.72598598  16.21349964  11.49775364]\n",
      " [ -7.76580571 -17.02395974  11.49775364  69.63693322]]\n",
      "Determinant: 5.119105814581863 ; log_e(det): 1.6329797782096196 ; log_10(det): 0.7091941067360339\n",
      "Trace: 95.07762430421698 ; log_e(trace): 4.554693655896879 ; log_10(trace): 1.9780783215157631\n",
      "Min eig: 0.04722007437289387 ; log_e(min_eig): -3.052936172296492 ; log_10(min_eig): -1.3258733332312018\n",
      "Cond: 1639.323491633256\n"
     ]
    },
    {
     "data": {
      "text/plain": [
       "array([[  4.98298661,   1.863857  ,  -8.89915046,  -7.76580571],\n",
       "       [  1.863857  ,   4.24420484,  -2.72598598, -17.02395974],\n",
       "       [ -8.89915046,  -2.72598598,  16.21349964,  11.49775364],\n",
       "       [ -7.76580571, -17.02395974,  11.49775364,  69.63693322]])"
      ]
     },
     "execution_count": 7,
     "metadata": {},
     "output_type": "execute_result"
    }
   ],
   "source": [
    "calculator = MeasurementOptimizer(Q_stack, number_measure, number_t, cost, error_cov = sigma)\n",
    "\n",
    "calculator.compute_FIM(solution1)"
   ]
  },
  {
   "cell_type": "markdown",
   "id": "94c3c5d8",
   "metadata": {},
   "source": [
    "## Optimize"
   ]
  },
  {
   "cell_type": "code",
   "execution_count": 8,
   "id": "5ea88923",
   "metadata": {},
   "outputs": [
    {
     "name": "stdout",
     "output_type": "stream",
     "text": [
      "===============================================================================\n",
      "                                     CVXPY                                     \n",
      "                                     v1.2.1                                    \n",
      "===============================================================================\n",
      "(CVXPY) Sep 05 11:16:33 PM: Your problem has 576 variables, 2305 constraints, and 0 parameters.\n",
      "(CVXPY) Sep 05 11:16:34 PM: It is compliant with the following grammars: DCP, DQCP\n",
      "(CVXPY) Sep 05 11:16:34 PM: (If you need to solve this problem multiple times, but with different data, consider using parameters.)\n",
      "(CVXPY) Sep 05 11:16:34 PM: CVXPY will first compile your problem; then, it will invoke a numerical solver to obtain a solution.\n",
      "-------------------------------------------------------------------------------\n",
      "                                  Compilation                                  \n",
      "-------------------------------------------------------------------------------\n",
      "(CVXPY) Sep 05 11:16:34 PM: Compiling problem (target solver=MOSEK).\n",
      "(CVXPY) Sep 05 11:16:34 PM: Reduction chain: FlipObjective -> Dcp2Cone -> CvxAttr2Constr -> ConeMatrixStuffing -> MOSEK\n",
      "(CVXPY) Sep 05 11:16:34 PM: Applying reduction FlipObjective\n",
      "(CVXPY) Sep 05 11:16:34 PM: Applying reduction Dcp2Cone\n",
      "(CVXPY) Sep 05 11:16:34 PM: Applying reduction CvxAttr2Constr\n",
      "(CVXPY) Sep 05 11:16:35 PM: Applying reduction ConeMatrixStuffing\n",
      "(CVXPY) Sep 05 11:16:40 PM: Applying reduction MOSEK\n",
      "(CVXPY) Sep 05 11:16:41 PM: Finished problem compilation (took 7.196e+00 seconds).\n",
      "-------------------------------------------------------------------------------\n",
      "                                Numerical solver                               \n",
      "-------------------------------------------------------------------------------\n",
      "(CVXPY) Sep 05 11:16:41 PM: Invoking solver MOSEK  to obtain a solution.\n",
      "\n",
      "\n",
      "(CVXPY) Sep 05 11:16:41 PM: Problem\n",
      "(CVXPY) Sep 05 11:16:41 PM:   Name                   :                 \n",
      "(CVXPY) Sep 05 11:16:41 PM:   Objective sense        : max             \n",
      "(CVXPY) Sep 05 11:16:41 PM:   Type                   : CONIC (conic optimization problem)\n",
      "(CVXPY) Sep 05 11:16:41 PM:   Constraints            : 590             \n",
      "(CVXPY) Sep 05 11:16:41 PM:   Cones                  : 4               \n",
      "(CVXPY) Sep 05 11:16:41 PM:   Scalar variables       : 334093          \n",
      "(CVXPY) Sep 05 11:16:41 PM:   Matrix variables       : 1               \n",
      "(CVXPY) Sep 05 11:16:41 PM:   Integer variables      : 0               \n",
      "(CVXPY) Sep 05 11:16:41 PM: \n",
      "(CVXPY) Sep 05 11:16:41 PM: Optimizer started.\n",
      "(CVXPY) Sep 05 11:16:41 PM: Presolve started.\n",
      "(CVXPY) Sep 05 11:16:41 PM: Linear dependency checker started.\n",
      "(CVXPY) Sep 05 11:16:41 PM: Linear dependency checker terminated.\n",
      "(CVXPY) Sep 05 11:16:41 PM: Eliminator started.\n",
      "(CVXPY) Sep 05 11:16:41 PM: Freed constraints in eliminator : 0\n",
      "(CVXPY) Sep 05 11:16:41 PM: Eliminator terminated.\n",
      "(CVXPY) Sep 05 11:16:43 PM: Eliminator started.\n",
      "(CVXPY) Sep 05 11:16:43 PM: Freed constraints in eliminator : 0\n",
      "(CVXPY) Sep 05 11:16:43 PM: Eliminator terminated.\n",
      "(CVXPY) Sep 05 11:16:43 PM: Eliminator - tries                  : 2                 time                   : 0.00            \n",
      "(CVXPY) Sep 05 11:16:43 PM: Lin. dep.  - tries                  : 1                 time                   : 0.01            \n",
      "(CVXPY) Sep 05 11:16:43 PM: Lin. dep.  - number                 : 0               \n",
      "(CVXPY) Sep 05 11:16:43 PM: Presolve terminated. Time: 1.77    \n",
      "(CVXPY) Sep 05 11:16:43 PM: Problem\n",
      "(CVXPY) Sep 05 11:16:43 PM:   Name                   :                 \n",
      "(CVXPY) Sep 05 11:16:43 PM:   Objective sense        : max             \n",
      "(CVXPY) Sep 05 11:16:43 PM:   Type                   : CONIC (conic optimization problem)\n",
      "(CVXPY) Sep 05 11:16:43 PM:   Constraints            : 590             \n",
      "(CVXPY) Sep 05 11:16:43 PM:   Cones                  : 4               \n",
      "(CVXPY) Sep 05 11:16:43 PM:   Scalar variables       : 334093          \n",
      "(CVXPY) Sep 05 11:16:43 PM:   Matrix variables       : 1               \n",
      "(CVXPY) Sep 05 11:16:43 PM:   Integer variables      : 0               \n",
      "(CVXPY) Sep 05 11:16:43 PM: \n",
      "(CVXPY) Sep 05 11:16:43 PM: Optimizer  - threads                : 2               \n",
      "(CVXPY) Sep 05 11:16:43 PM: Optimizer  - solved problem         : the primal      \n",
      "(CVXPY) Sep 05 11:16:43 PM: Optimizer  - Constraints            : 334\n",
      "(CVXPY) Sep 05 11:16:43 PM: Optimizer  - Cones                  : 5\n",
      "(CVXPY) Sep 05 11:16:43 PM: Optimizer  - Scalar variables       : 1286              conic                  : 37              \n",
      "(CVXPY) Sep 05 11:16:43 PM: Optimizer  - Semi-definite variables: 1                 scalarized             : 36              \n",
      "(CVXPY) Sep 05 11:16:43 PM: Factor     - setup time             : 0.00              dense det. time        : 0.00            \n",
      "(CVXPY) Sep 05 11:16:43 PM: Factor     - ML order time          : 0.00              GP order time          : 0.00            \n",
      "(CVXPY) Sep 05 11:16:43 PM: Factor     - nonzeros before factor : 4159              after factor           : 4159            \n",
      "(CVXPY) Sep 05 11:16:43 PM: Factor     - dense dim.             : 0                 flops                  : 2.69e+05        \n",
      "(CVXPY) Sep 05 11:16:43 PM: ITE PFEAS    DFEAS    GFEAS    PRSTATUS   POBJ              DOBJ              MU       TIME  \n",
      "(CVXPY) Sep 05 11:16:43 PM: 0   1.5e+00  1.0e+02  7.5e+00  0.00e+00   -3.311353596e+00  3.220408006e+00   1.0e+00  1.83  \n",
      "(CVXPY) Sep 05 11:16:43 PM: 1   9.1e-01  6.2e+01  4.7e+00  -6.08e-01  -2.027640521e+00  3.027186205e+00   6.2e-01  1.86  \n",
      "(CVXPY) Sep 05 11:16:43 PM: 2   6.4e-01  4.4e+01  1.7e+00  5.84e-01   -4.071000860e+00  -1.058735697e+00  4.4e-01  1.87  \n",
      "(CVXPY) Sep 05 11:16:43 PM: 3   4.1e-01  2.8e+01  6.5e-01  1.57e+00   -3.861537867e+00  -2.409779394e+00  2.8e-01  1.87  \n",
      "(CVXPY) Sep 05 11:16:43 PM: 4   2.8e-01  1.9e+01  3.6e-01  1.36e+00   -2.842320101e+00  -1.943549134e+00  1.9e-01  1.87  \n",
      "(CVXPY) Sep 05 11:16:43 PM: 5   2.2e-01  1.5e+01  2.4e-01  1.28e+00   -2.572392485e+00  -1.904147925e+00  1.5e-01  1.87  \n",
      "(CVXPY) Sep 05 11:16:43 PM: 6   1.2e-01  8.2e+00  1.0e-01  1.23e+00   -1.782071577e+00  -1.428211581e+00  8.2e-02  1.87  \n",
      "(CVXPY) Sep 05 11:16:43 PM: 7   9.9e-02  6.7e+00  7.6e-02  1.09e+00   -1.618519424e+00  -1.329562567e+00  6.7e-02  1.87  \n",
      "(CVXPY) Sep 05 11:16:43 PM: 8   3.5e-02  2.3e+00  1.6e-02  1.10e+00   -9.908647943e-01  -8.931591954e-01  2.3e-02  1.87  \n",
      "(CVXPY) Sep 05 11:16:43 PM: 9   1.5e-02  9.9e-01  4.4e-03  1.01e+00   -1.007848768e+00  -9.665815985e-01  9.9e-03  1.87  \n",
      "(CVXPY) Sep 05 11:16:43 PM: 10  9.8e-03  6.7e-01  2.5e-03  1.01e+00   -1.097822005e+00  -1.069978717e+00  6.7e-03  1.88  \n",
      "(CVXPY) Sep 05 11:16:43 PM: 11  4.4e-03  3.0e-01  7.5e-04  1.00e+00   -1.273018624e+00  -1.260425968e+00  3.0e-03  1.88  \n",
      "(CVXPY) Sep 05 11:16:43 PM: 12  3.0e-03  2.0e-01  4.1e-04  9.93e-01   -1.365762233e+00  -1.357330434e+00  2.0e-03  1.88  \n",
      "(CVXPY) Sep 05 11:16:43 PM: 13  1.7e-03  1.2e-01  1.9e-04  9.95e-01   -1.455716705e+00  -1.450742393e+00  1.2e-03  1.89  \n",
      "(CVXPY) Sep 05 11:16:43 PM: 14  6.1e-04  4.2e-02  3.9e-05  9.95e-01   -1.559295215e+00  -1.557542165e+00  4.2e-04  1.89  \n",
      "(CVXPY) Sep 05 11:16:43 PM: 15  3.6e-04  2.4e-02  1.8e-05  9.97e-01   -1.586719012e+00  -1.585687910e+00  2.4e-04  1.89  \n",
      "(CVXPY) Sep 05 11:16:43 PM: 16  7.9e-05  5.4e-03  1.8e-06  9.98e-01   -1.621347288e+00  -1.621120662e+00  5.4e-05  1.89  \n",
      "(CVXPY) Sep 05 11:16:43 PM: 17  3.0e-05  2.0e-03  4.2e-07  1.00e+00   -1.628382043e+00  -1.628296860e+00  2.0e-05  1.89  \n",
      "(CVXPY) Sep 05 11:16:43 PM: 18  6.4e-06  4.4e-04  4.2e-08  1.00e+00   -1.631968272e+00  -1.631949836e+00  4.4e-06  1.90  \n",
      "(CVXPY) Sep 05 11:16:43 PM: 19  1.6e-06  1.1e-04  5.2e-09  1.00e+00   -1.632723990e+00  -1.632719422e+00  1.1e-06  1.90  \n",
      "(CVXPY) Sep 05 11:16:43 PM: 20  4.2e-07  2.8e-05  6.9e-10  1.00e+00   -1.632908582e+00  -1.632907394e+00  2.8e-07  1.90  \n",
      "(CVXPY) Sep 05 11:16:43 PM: 21  7.3e-08  5.0e-06  5.1e-11  1.00e+00   -1.632967273e+00  -1.632967064e+00  5.0e-08  1.90  \n",
      "(CVXPY) Sep 05 11:16:43 PM: 22  1.3e-08  2.9e-06  7.7e-13  1.00e+00   -1.632979216e+00  -1.632979203e+00  3.0e-09  1.91  \n",
      "(CVXPY) Sep 05 11:16:43 PM: Optimizer terminated. Time: 2.00    \n"
     ]
    },
    {
     "name": "stdout",
     "output_type": "stream",
     "text": [
      "(CVXPY) Sep 05 11:16:43 PM: \n",
      "(CVXPY) Sep 05 11:16:43 PM: \n",
      "(CVXPY) Sep 05 11:16:43 PM: Interior-point solution summary\n",
      "(CVXPY) Sep 05 11:16:43 PM:   Problem status  : PRIMAL_AND_DUAL_FEASIBLE\n",
      "(CVXPY) Sep 05 11:16:43 PM:   Solution status : OPTIMAL\n",
      "(CVXPY) Sep 05 11:16:43 PM:   Primal.  obj: -1.6329792163e+00   nrm: 2e+01    Viol.  con: 2e-08    var: 3e-08    barvar: 0e+00    cones: 4e-10  \n",
      "(CVXPY) Sep 05 11:16:43 PM:   Dual.    obj: -1.6329792031e+00   nrm: 7e+01    Viol.  con: 0e+00    var: 6e-09    barvar: 2e-09    cones: 3e-17  \n",
      "-------------------------------------------------------------------------------\n",
      "                                    Summary                                    \n",
      "-------------------------------------------------------------------------------\n",
      "(CVXPY) Sep 05 11:16:43 PM: Problem status: optimal\n",
      "(CVXPY) Sep 05 11:16:43 PM: Optimal value: 1.633e+00\n",
      "(CVXPY) Sep 05 11:16:43 PM: Compilation took 7.196e+00 seconds\n",
      "(CVXPY) Sep 05 11:16:43 PM: Solver (including time spent in interface) took 2.369e+00 seconds\n",
      "11 17\n",
      "0.8893577830924005 0.5875156475175607 0.5287219071469529\n",
      "Covariance between measurements 11 and 17 has wrong computation\n",
      "i weight: 0.8893577830924005 , j weight: 0.5875156475175607 ; Cov weight: 0.5287219071469529\n",
      "11 22\n",
      "0.8893577830924005 0.5231193546948268 0.46771905165853156\n",
      "Covariance between measurements 11 and 22 has wrong computation\n",
      "i weight: 0.8893577830924005 , j weight: 0.5231193546948268 ; Cov weight: 0.46771905165853156\n",
      "17 11\n",
      "0.5875156475175607 0.8893577830924005 0.5287219071469529\n",
      "Covariance between measurements 17 and 11 has wrong computation\n",
      "i weight: 0.5875156475175607 , j weight: 0.8893577830924005 ; Cov weight: 0.5287219071469529\n",
      "17 22\n",
      "0.5875156475175607 0.5231193546948268 0.30923929018890933\n",
      "Covariance between measurements 17 and 22 has wrong computation\n",
      "i weight: 0.5875156475175607 , j weight: 0.5231193546948268 ; Cov weight: 0.30923929018890933\n",
      "22 11\n",
      "0.5231193546948268 0.8893577830924005 0.46771905165853156\n",
      "Covariance between measurements 22 and 11 has wrong computation\n",
      "i weight: 0.5231193546948268 , j weight: 0.8893577830924005 ; Cov weight: 0.46771905165853156\n",
      "22 17\n",
      "0.5231193546948268 0.5875156475175607 0.30923929018890933\n",
      "Covariance between measurements 22 and 17 has wrong computation\n",
      "i weight: 0.5231193546948268 , j weight: 0.5875156475175607 ; Cov weight: 0.30923929018890933\n",
      "Objective: 1.6329791103036286\n",
      "FIM info verification (The following result is computed by compute_FIM method)\n",
      "======FIM result======\n",
      "FIM: [[  4.98298026   1.86385286  -8.89913967  -7.7657971 ]\n",
      " [  1.86385286   4.24420586  -2.72597809 -17.0239735 ]\n",
      " [ -8.89913967  -2.72597809  16.21348166  11.49773543]\n",
      " [ -7.7657971  -17.0239735   11.49773543  69.63702604]]\n",
      "Determinant: 5.119101265874734 ; log_e(det): 1.6329788896346782 ; log_10(det): 0.70919372083284\n",
      "Trace: 95.07769381218685 ; log_e(trace): 4.554694386962101 ; log_10(trace): 1.9780786390133547\n",
      "Min eig: 0.0472200958663616 ; log_e(min_eig): -3.0529357171201053 ; log_10(min_eig): -1.3258731355506086\n",
      "Cond: 1639.3243687736149\n"
     ]
    }
   ],
   "source": [
    "calculator.continuous_optimization()"
   ]
  },
  {
   "cell_type": "code",
   "execution_count": null,
   "id": "bac49d57",
   "metadata": {},
   "outputs": [],
   "source": []
  },
  {
   "cell_type": "code",
   "execution_count": null,
   "id": "e79645b3",
   "metadata": {},
   "outputs": [],
   "source": []
  }
 ],
 "metadata": {
  "kernelspec": {
   "display_name": "Python 3 (ipykernel)",
   "language": "python",
   "name": "python3"
  },
  "language_info": {
   "codemirror_mode": {
    "name": "ipython",
    "version": 3
   },
   "file_extension": ".py",
   "mimetype": "text/x-python",
   "name": "python",
   "nbconvert_exporter": "python",
   "pygments_lexer": "ipython3",
   "version": "3.7.11"
  }
 },
 "nbformat": 4,
 "nbformat_minor": 5
}
