{
 "cells": [
  {
   "cell_type": "code",
   "execution_count": 1,
   "id": "c6fc67b4",
   "metadata": {},
   "outputs": [
    {
     "name": "stdout",
     "output_type": "stream",
     "text": [
      "(CVXPY) Sep 11 04:51:47 PM: Encountered unexpected exception importing solver GUROBI:\n",
      "ImportError('libgurobi95.so: cannot open shared object file: No such file or directory')\n",
      "(CVXPY) Sep 11 04:51:47 PM: Encountered unexpected exception importing solver GUROBI:\n",
      "ImportError('libgurobi95.so: cannot open shared object file: No such file or directory')\n"
     ]
    }
   ],
   "source": [
    "import matplotlib.pyplot as plt\n",
    "import numpy as np\n",
    "import pandas as pd \n",
    "\n",
    "import cvxpy as cp\n",
    "from measure_optimize import MeasurementOptimizer"
   ]
  },
  {
   "cell_type": "markdown",
   "id": "27a71a8e",
   "metadata": {},
   "source": [
    "### Input setting"
   ]
  },
  {
   "cell_type": "code",
   "execution_count": 2,
   "id": "49379e67",
   "metadata": {},
   "outputs": [
    {
     "name": "stdout",
     "output_type": "stream",
     "text": [
      "(308, 5)\n"
     ]
    }
   ],
   "source": [
    "jaco_info = pd.read_csv('./RotaryBed/Q100.csv', index_col=False)\n",
    "\n",
    "jaco_list = np.asarray(jaco_info)\n",
    "\n",
    "jaco = []\n",
    "for i in range(len(jaco_list)):\n",
    "    jaco.append(list(jaco_list[i][1:]))\n",
    "    \n",
    "print(np.shape(jaco))"
   ]
  },
  {
   "cell_type": "code",
   "execution_count": 3,
   "id": "e3e219dd",
   "metadata": {},
   "outputs": [],
   "source": [
    "number_measure = 14 \n",
    "number_t = 22\n",
    "number_total = number_measure*number_t\n",
    "cost = [1]*number_total"
   ]
  },
  {
   "cell_type": "markdown",
   "id": "8c38d529",
   "metadata": {},
   "source": [
    "## Check square solution"
   ]
  },
  {
   "cell_type": "code",
   "execution_count": 4,
   "id": "35abefb1",
   "metadata": {},
   "outputs": [],
   "source": [
    "solution1 = [1]*number_total"
   ]
  },
  {
   "cell_type": "code",
   "execution_count": 5,
   "id": "8da8433a",
   "metadata": {},
   "outputs": [
    {
     "name": "stdout",
     "output_type": "stream",
     "text": [
      "Q shape: 308 5\n",
      "======FIM result======\n",
      "FIM: [[ 1.12672079e+03  1.99620709e+00 -8.27109148e+02  2.23307383e+03\n",
      "  -1.27981839e+02]\n",
      " [ 1.99620709e+00  1.18589056e+00 -2.94047895e-01  1.63272938e+01\n",
      "  -3.30259408e+00]\n",
      " [-8.27109148e+02 -2.94047895e-01  6.68554142e+02 -1.72703074e+03\n",
      "   3.26205209e+01]\n",
      " [ 2.23307383e+03  1.63272938e+01 -1.72703074e+03  5.20782946e+03\n",
      "  -2.12490410e+02]\n",
      " [-1.27981839e+02 -3.30259408e+00  3.26205209e+01 -2.12490410e+02\n",
      "   1.16854209e+02]]\n",
      "Determinant: 1435753590.914792 ; log_e(det): 21.084955698778018 ; log_10(det): 9.157079911153817\n",
      "Trace: 7121.144491083985 ; log_e(trace): 8.870823734618002 ; log_10(trace): 3.852549797880995\n",
      "Min eig: 0.8358678444970282 ; log_e(min_eig): -0.17928475913869493 ; log_10(min_eig): -0.0778623815832888\n",
      "Cond: 8134.828462766062\n"
     ]
    },
    {
     "data": {
      "text/plain": [
       "array([[ 1.12672079e+03,  1.99620709e+00, -8.27109148e+02,\n",
       "         2.23307383e+03, -1.27981839e+02],\n",
       "       [ 1.99620709e+00,  1.18589056e+00, -2.94047895e-01,\n",
       "         1.63272938e+01, -3.30259408e+00],\n",
       "       [-8.27109148e+02, -2.94047895e-01,  6.68554142e+02,\n",
       "        -1.72703074e+03,  3.26205209e+01],\n",
       "       [ 2.23307383e+03,  1.63272938e+01, -1.72703074e+03,\n",
       "         5.20782946e+03, -2.12490410e+02],\n",
       "       [-1.27981839e+02, -3.30259408e+00,  3.26205209e+01,\n",
       "        -2.12490410e+02,  1.16854209e+02]])"
      ]
     },
     "execution_count": 5,
     "metadata": {},
     "output_type": "execute_result"
    }
   ],
   "source": [
    "calculator = MeasurementOptimizer(jaco, number_measure, number_t, cost, verbose=True)\n",
    "\n",
    "calculator.compute_FIM(solution1)"
   ]
  },
  {
   "cell_type": "markdown",
   "id": "c2c7fb13",
   "metadata": {},
   "source": [
    "## Convex optimization"
   ]
  },
  {
   "cell_type": "code",
   "execution_count": null,
   "id": "326057f9",
   "metadata": {},
   "outputs": [],
   "source": [
    "calculator.continuous_optimization(objective='D', budget=200)"
   ]
  },
  {
   "cell_type": "code",
   "execution_count": null,
   "id": "3622e55e",
   "metadata": {},
   "outputs": [],
   "source": []
  },
  {
   "cell_type": "code",
   "execution_count": null,
   "id": "0e91803d",
   "metadata": {},
   "outputs": [],
   "source": []
  }
 ],
 "metadata": {
  "kernelspec": {
   "display_name": "Python 3 (ipykernel)",
   "language": "python",
   "name": "python3"
  },
  "language_info": {
   "codemirror_mode": {
    "name": "ipython",
    "version": 3
   },
   "file_extension": ".py",
   "mimetype": "text/x-python",
   "name": "python",
   "nbconvert_exporter": "python",
   "pygments_lexer": "ipython3",
   "version": "3.10.4"
  }
 },
 "nbformat": 4,
 "nbformat_minor": 5
}
