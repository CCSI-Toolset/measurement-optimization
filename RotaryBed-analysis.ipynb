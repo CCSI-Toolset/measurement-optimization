{
 "cells": [
  {
   "cell_type": "code",
   "execution_count": null,
   "id": "c6fc67b4",
   "metadata": {},
   "outputs": [],
   "source": [
    "import matplotlib.pyplot as plt\n",
    "import numpy as np\n",
    "import pandas as pd \n",
    "\n",
    "import cvxpy as cp\n",
    "from measure_optimize import MeasurementOptimizer"
   ]
  },
  {
   "cell_type": "markdown",
   "id": "27a71a8e",
   "metadata": {},
   "source": [
    "### Input setting"
   ]
  },
  {
   "cell_type": "code",
   "execution_count": null,
   "id": "49379e67",
   "metadata": {},
   "outputs": [],
   "source": [
    "jaco_info = pd.read_csv('./RotaryBed/Q5_stand.csv', index_col=False)\n",
    "\n",
    "jaco_list = np.asarray(jaco_info)\n",
    "\n",
    "jaco = []\n",
    "for i in range(len(jaco_list)):\n",
    "    jaco.append(list(jaco_list[i][1:]))\n",
    "    \n",
    "print(np.shape(jaco))"
   ]
  },
  {
   "cell_type": "code",
   "execution_count": null,
   "id": "e3e219dd",
   "metadata": {},
   "outputs": [],
   "source": [
    "number_measure = 14 \n",
    "number_t = 5\n",
    "number_total = number_measure*number_t\n",
    "cost = [1]*number_total"
   ]
  },
  {
   "cell_type": "markdown",
   "id": "8c38d529",
   "metadata": {},
   "source": [
    "## Check square solution"
   ]
  },
  {
   "cell_type": "code",
   "execution_count": null,
   "id": "35abefb1",
   "metadata": {},
   "outputs": [],
   "source": [
    "solution1 = [1]*number_total"
   ]
  },
  {
   "cell_type": "code",
   "execution_count": null,
   "id": "8da8433a",
   "metadata": {
    "scrolled": true
   },
   "outputs": [],
   "source": [
    "calculator = MeasurementOptimizer(jaco, number_measure, number_t, cost, verbose=True)\n",
    "\n",
    "calculator.compute_FIM(solution1)"
   ]
  },
  {
   "cell_type": "markdown",
   "id": "81406b00",
   "metadata": {},
   "source": [
    "## Convex optimization"
   ]
  },
  {
   "cell_type": "code",
   "execution_count": null,
   "id": "de25832b",
   "metadata": {},
   "outputs": [],
   "source": [
    "calculator.continuous_optimization(objective='D', budget=20)"
   ]
  },
  {
   "cell_type": "code",
   "execution_count": null,
   "id": "b9d9e013",
   "metadata": {},
   "outputs": [],
   "source": []
  }
 ],
 "metadata": {
  "kernelspec": {
   "display_name": "Python 3 (ipykernel)",
   "language": "python",
   "name": "python3"
  },
  "language_info": {
   "codemirror_mode": {
    "name": "ipython",
    "version": 3
   },
   "file_extension": ".py",
   "mimetype": "text/x-python",
   "name": "python",
   "nbconvert_exporter": "python",
   "pygments_lexer": "ipython3",
   "version": "3.10.4"
  }
 },
 "nbformat": 4,
 "nbformat_minor": 5
}
