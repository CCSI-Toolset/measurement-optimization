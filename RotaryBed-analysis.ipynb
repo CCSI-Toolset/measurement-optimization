{
 "cells": [
  {
   "cell_type": "code",
   "execution_count": 1,
   "id": "c6fc67b4",
   "metadata": {},
   "outputs": [
    {
     "name": "stdout",
     "output_type": "stream",
     "text": [
      "(CVXPY) Sep 11 06:41:25 PM: Encountered unexpected exception importing solver GUROBI:\n",
      "ImportError('libgurobi95.so: cannot open shared object file: No such file or directory')\n",
      "(CVXPY) Sep 11 06:41:25 PM: Encountered unexpected exception importing solver GUROBI:\n",
      "ImportError('libgurobi95.so: cannot open shared object file: No such file or directory')\n"
     ]
    }
   ],
   "source": [
    "import matplotlib.pyplot as plt\n",
    "import numpy as np\n",
    "import pandas as pd \n",
    "\n",
    "import cvxpy as cp\n",
    "from measure_optimize import MeasurementOptimizer"
   ]
  },
  {
   "cell_type": "markdown",
   "id": "27a71a8e",
   "metadata": {},
   "source": [
    "### Input setting"
   ]
  },
  {
   "cell_type": "code",
   "execution_count": 2,
   "id": "49379e67",
   "metadata": {},
   "outputs": [
    {
     "name": "stdout",
     "output_type": "stream",
     "text": [
      "(42, 5)\n"
     ]
    }
   ],
   "source": [
    "jaco_info = pd.read_csv('./RotaryBed/Q3.csv', index_col=False)\n",
    "\n",
    "jaco_list = np.asarray(jaco_info)\n",
    "\n",
    "jaco = []\n",
    "for i in range(len(jaco_list)):\n",
    "    jaco.append(list(jaco_list[i][1:]))\n",
    "    \n",
    "print(np.shape(jaco))"
   ]
  },
  {
   "cell_type": "code",
   "execution_count": 6,
   "id": "e3e219dd",
   "metadata": {},
   "outputs": [],
   "source": [
    "number_measure = 14 \n",
    "number_t = 3\n",
    "number_total = number_measure*number_t\n",
    "cost = [1]*number_total"
   ]
  },
  {
   "cell_type": "markdown",
   "id": "8c38d529",
   "metadata": {},
   "source": [
    "## Check square solution"
   ]
  },
  {
   "cell_type": "code",
   "execution_count": 7,
   "id": "35abefb1",
   "metadata": {},
   "outputs": [],
   "source": [
    "solution1 = [1]*number_total"
   ]
  },
  {
   "cell_type": "code",
   "execution_count": 8,
   "id": "8da8433a",
   "metadata": {
    "scrolled": true
   },
   "outputs": [
    {
     "name": "stdout",
     "output_type": "stream",
     "text": [
      "Q shape: 42 5\n",
      "======FIM result======\n",
      "FIM: [[ 1.58609775e+02  7.84223480e-01 -1.10797077e+02  3.11427509e+02\n",
      "  -2.99042081e+01]\n",
      " [ 7.84223480e-01  6.08546354e-02 -4.29630164e-01  2.28353455e+00\n",
      "  -2.13965957e-01]\n",
      " [-1.10797077e+02 -4.29630164e-01  8.78207614e+01 -2.32223405e+02\n",
      "   1.14114034e+01]\n",
      " [ 3.11427509e+02  2.28353455e+00 -2.32223405e+02  6.85596800e+02\n",
      "  -4.26778024e+01]\n",
      " [-2.99042081e+01 -2.13965957e-01  1.14114034e+01 -4.26778024e+01\n",
      "   1.53461076e+01]]\n",
      "Determinant: 3380.064175834811 ; log_e(det): 8.125649975230191 ; log_10(det): 3.528924946119767\n",
      "Trace: 947.4342985982341 ; log_e(trace): 6.853757592703495 ; log_10(trace): 2.976549102813643\n",
      "Min eig: 0.04006372741150774 ; log_e(min_eig): -3.2172839073538344 ; log_10(min_eig): -1.3972486476799033\n",
      "Cond: 22802.8955471601\n"
     ]
    },
    {
     "data": {
      "text/plain": [
       "array([[ 1.58609775e+02,  7.84223480e-01, -1.10797077e+02,\n",
       "         3.11427509e+02, -2.99042081e+01],\n",
       "       [ 7.84223480e-01,  6.08546354e-02, -4.29630164e-01,\n",
       "         2.28353455e+00, -2.13965957e-01],\n",
       "       [-1.10797077e+02, -4.29630164e-01,  8.78207614e+01,\n",
       "        -2.32223405e+02,  1.14114034e+01],\n",
       "       [ 3.11427509e+02,  2.28353455e+00, -2.32223405e+02,\n",
       "         6.85596800e+02, -4.26778024e+01],\n",
       "       [-2.99042081e+01, -2.13965957e-01,  1.14114034e+01,\n",
       "        -4.26778024e+01,  1.53461076e+01]])"
      ]
     },
     "execution_count": 8,
     "metadata": {},
     "output_type": "execute_result"
    }
   ],
   "source": [
    "calculator = MeasurementOptimizer(jaco, number_measure, number_t, cost, verbose=True)\n",
    "\n",
    "calculator.compute_FIM(solution1)"
   ]
  },
  {
   "cell_type": "markdown",
   "id": "81406b00",
   "metadata": {},
   "source": [
    "## Convex optimization"
   ]
  },
  {
   "cell_type": "code",
   "execution_count": 10,
   "id": "de25832b",
   "metadata": {},
   "outputs": [
    {
     "name": "stdout",
     "output_type": "stream",
     "text": [
      "===============================================================================\n",
      "                                     CVXPY                                     \n",
      "                                     v1.2.1                                    \n",
      "===============================================================================\n",
      "(CVXPY) Sep 11 07:14:57 PM: Your problem has 1764 variables, 7057 constraints, and 0 parameters.\n",
      "(CVXPY) Sep 11 07:14:57 PM: It is compliant with the following grammars: DCP, DQCP\n",
      "(CVXPY) Sep 11 07:14:57 PM: (If you need to solve this problem multiple times, but with different data, consider using parameters.)\n",
      "(CVXPY) Sep 11 07:14:57 PM: CVXPY will first compile your problem; then, it will invoke a numerical solver to obtain a solution.\n",
      "-------------------------------------------------------------------------------\n",
      "                                  Compilation                                  \n",
      "-------------------------------------------------------------------------------\n",
      "(CVXPY) Sep 11 07:14:58 PM: Compiling problem (target solver=MOSEK).\n",
      "(CVXPY) Sep 11 07:14:58 PM: Reduction chain: FlipObjective -> Dcp2Cone -> CvxAttr2Constr -> ConeMatrixStuffing -> MOSEK\n",
      "(CVXPY) Sep 11 07:14:58 PM: Applying reduction FlipObjective\n",
      "(CVXPY) Sep 11 07:14:58 PM: Applying reduction Dcp2Cone\n",
      "(CVXPY) Sep 11 07:14:59 PM: Applying reduction CvxAttr2Constr\n",
      "(CVXPY) Sep 11 07:15:00 PM: Applying reduction ConeMatrixStuffing\n",
      "(CVXPY) Sep 11 07:16:18 PM: Applying reduction MOSEK\n",
      "(CVXPY) Sep 11 07:16:24 PM: Finished problem compilation (took 8.664e+01 seconds).\n",
      "-------------------------------------------------------------------------------\n",
      "                                Numerical solver                               \n",
      "-------------------------------------------------------------------------------\n",
      "(CVXPY) Sep 11 07:16:24 PM: Invoking solver MOSEK  to obtain a solution.\n",
      "\n",
      "\n",
      "(CVXPY) Sep 11 07:16:27 PM: Problem\n",
      "(CVXPY) Sep 11 07:16:27 PM:   Name                   :                 \n",
      "(CVXPY) Sep 11 07:16:27 PM:   Objective sense        : max             \n",
      "(CVXPY) Sep 11 07:16:27 PM:   Type                   : CONIC (conic optimization problem)\n",
      "(CVXPY) Sep 11 07:16:27 PM:   Constraints            : 1784            \n",
      "(CVXPY) Sep 11 07:16:27 PM:   Cones                  : 5               \n",
      "(CVXPY) Sep 11 07:16:27 PM:   Scalar variables       : 3118768         \n",
      "(CVXPY) Sep 11 07:16:27 PM:   Matrix variables       : 1               \n",
      "(CVXPY) Sep 11 07:16:27 PM:   Integer variables      : 0               \n",
      "(CVXPY) Sep 11 07:16:27 PM: \n",
      "(CVXPY) Sep 11 07:16:27 PM: Optimizer started.\n",
      "(CVXPY) Sep 11 07:16:28 PM: Presolve started.\n",
      "(CVXPY) Sep 11 07:16:28 PM: Linear dependency checker started.\n",
      "(CVXPY) Sep 11 07:16:28 PM: Linear dependency checker terminated.\n",
      "(CVXPY) Sep 11 07:16:28 PM: Eliminator started.\n",
      "(CVXPY) Sep 11 07:16:29 PM: Freed constraints in eliminator : 0\n",
      "(CVXPY) Sep 11 07:16:29 PM: Eliminator terminated.\n",
      "(CVXPY) Sep 11 07:18:14 PM: Eliminator started.\n",
      "(CVXPY) Sep 11 07:18:14 PM: Freed constraints in eliminator : 0\n",
      "(CVXPY) Sep 11 07:18:14 PM: Eliminator terminated.\n",
      "(CVXPY) Sep 11 07:18:14 PM: Eliminator - tries                  : 2                 time                   : 0.00            \n",
      "(CVXPY) Sep 11 07:18:14 PM: Lin. dep.  - tries                  : 1                 time                   : 0.15            \n",
      "(CVXPY) Sep 11 07:18:14 PM: Lin. dep.  - number                 : 0               \n",
      "(CVXPY) Sep 11 07:18:14 PM: Presolve terminated. Time: 106.43  \n",
      "(CVXPY) Sep 11 07:18:14 PM: Problem\n",
      "(CVXPY) Sep 11 07:18:14 PM:   Name                   :                 \n",
      "(CVXPY) Sep 11 07:18:14 PM:   Objective sense        : max             \n",
      "(CVXPY) Sep 11 07:18:14 PM:   Type                   : CONIC (conic optimization problem)\n",
      "(CVXPY) Sep 11 07:18:14 PM:   Constraints            : 1784            \n",
      "(CVXPY) Sep 11 07:18:14 PM:   Cones                  : 5               \n",
      "(CVXPY) Sep 11 07:18:14 PM:   Scalar variables       : 3118768         \n",
      "(CVXPY) Sep 11 07:18:14 PM:   Matrix variables       : 1               \n",
      "(CVXPY) Sep 11 07:18:14 PM:   Integer variables      : 0               \n",
      "(CVXPY) Sep 11 07:18:14 PM: \n",
      "(CVXPY) Sep 11 07:18:14 PM: Optimizer  - threads                : 2               \n",
      "(CVXPY) Sep 11 07:18:14 PM: Optimizer  - solved problem         : the primal      \n",
      "(CVXPY) Sep 11 07:18:14 PM: Optimizer  - Constraints            : 918\n",
      "(CVXPY) Sep 11 07:18:14 PM: Optimizer  - Cones                  : 5\n",
      "(CVXPY) Sep 11 07:18:14 PM: Optimizer  - Scalar variables       : 3544              conic                  : 15              \n",
      "(CVXPY) Sep 11 07:18:14 PM: Optimizer  - Semi-definite variables: 1                 scalarized             : 55              \n",
      "(CVXPY) Sep 11 07:18:14 PM: Factor     - setup time             : 0.00              dense det. time        : 0.00            \n",
      "(CVXPY) Sep 11 07:18:14 PM: Factor     - ML order time          : 0.00              GP order time          : 0.00            \n",
      "(CVXPY) Sep 11 07:18:14 PM: Factor     - nonzeros before factor : 4236              after factor           : 4236            \n",
      "(CVXPY) Sep 11 07:18:14 PM: Factor     - dense dim.             : 0                 flops                  : 1.62e+05        \n",
      "(CVXPY) Sep 11 07:18:14 PM: ITE PFEAS    DFEAS    GFEAS    PRSTATUS   POBJ              DOBJ              MU       TIME  \n",
      "(CVXPY) Sep 11 07:18:14 PM: 0   1.5e+00  2.6e+02  9.2e+00  0.00e+00   -4.139191995e+00  4.025510008e+00   1.0e+00  107.15\n",
      "(CVXPY) Sep 11 07:18:14 PM: 1   8.5e-01  1.5e+02  6.8e+00  -9.76e-01  1.659202184e+00   8.977757091e+00   5.8e-01  107.20\n",
      "(CVXPY) Sep 11 07:18:14 PM: 2   8.3e-01  1.4e+02  5.8e+00  -2.34e-01  -7.425043442e-01  5.826917701e+00   5.7e-01  107.20\n",
      "(CVXPY) Sep 11 07:18:14 PM: 3   7.3e-01  1.3e+02  3.0e+00  7.21e-01   -4.683199012e+00  -1.660586239e-01  5.0e-01  107.21\n",
      "(CVXPY) Sep 11 07:18:14 PM: 4   4.6e-01  7.9e+01  8.0e-01  1.40e+00   -4.335177846e+00  -2.337934642e+00  3.1e-01  107.21\n",
      "(CVXPY) Sep 11 07:18:14 PM: 5   4.2e-01  7.2e+01  6.9e-01  1.32e+00   -4.897067100e+00  -3.123894721e+00  2.8e-01  107.22\n",
      "(CVXPY) Sep 11 07:18:14 PM: 6   2.5e-01  4.3e+01  3.2e-01  1.32e+00   -4.093007173e+00  -3.139167750e+00  1.7e-01  107.23\n",
      "(CVXPY) Sep 11 07:18:14 PM: 7   1.7e-01  2.9e+01  1.8e-01  1.23e+00   -4.676658946e+00  -4.067466944e+00  1.1e-01  107.23\n",
      "(CVXPY) Sep 11 07:18:14 PM: 8   1.4e-01  2.4e+01  1.4e-01  1.17e+00   -4.512795439e+00  -4.013744171e+00  9.4e-02  107.24\n",
      "(CVXPY) Sep 11 07:18:14 PM: 9   7.2e-02  1.2e+01  5.3e-02  1.14e+00   -4.846964471e+00  -4.597047413e+00  4.9e-02  107.24\n",
      "(CVXPY) Sep 11 07:18:14 PM: 10  4.8e-02  8.4e+00  3.0e-02  1.05e+00   -4.460624046e+00  -4.292305045e+00  3.3e-02  107.25\n",
      "(CVXPY) Sep 11 07:18:14 PM: 11  1.7e-02  3.0e+00  6.7e-03  1.03e+00   -4.527090400e+00  -4.466923240e+00  1.2e-02  107.26\n",
      "(CVXPY) Sep 11 07:18:14 PM: 12  1.3e-02  2.3e+00  4.5e-03  9.07e-01   -4.683654919e+00  -4.636952955e+00  8.8e-03  107.27\n",
      "(CVXPY) Sep 11 07:18:14 PM: 13  7.8e-03  1.3e+00  2.1e-03  9.33e-01   -5.007837996e+00  -4.979191126e+00  5.3e-03  107.27\n",
      "(CVXPY) Sep 11 07:18:14 PM: 14  5.6e-03  9.8e-01  1.4e-03  8.60e-01   -5.476234393e+00  -5.454249484e+00  3.8e-03  107.28\n",
      "(CVXPY) Sep 11 07:18:14 PM: 15  3.5e-03  6.0e-01  6.9e-04  9.01e-01   -5.598474406e+00  -5.584660478e+00  2.4e-03  107.29\n",
      "(CVXPY) Sep 11 07:18:14 PM: 16  2.1e-03  3.7e-01  3.7e-04  7.71e-01   -6.188541086e+00  -6.179113086e+00  1.5e-03  107.29\n",
      "(CVXPY) Sep 11 07:18:14 PM: 17  1.0e-03  1.8e-01  1.3e-04  8.47e-01   -6.495276324e+00  -6.490564881e+00  7.0e-04  107.30\n",
      "(CVXPY) Sep 11 07:18:14 PM: 18  4.4e-04  7.6e-02  3.7e-05  8.15e-01   -6.901672562e+00  -6.899550795e+00  3.0e-04  107.30\n",
      "(CVXPY) Sep 11 07:18:14 PM: 19  2.8e-04  4.9e-02  1.9e-05  9.51e-01   -7.008694047e+00  -7.007311545e+00  1.9e-04  107.31\n",
      "(CVXPY) Sep 11 07:18:14 PM: 20  9.6e-05  1.7e-02  4.0e-06  9.66e-01   -7.155011776e+00  -7.154535588e+00  6.5e-05  107.32\n",
      "(CVXPY) Sep 11 07:18:14 PM: 21  4.8e-05  8.4e-03  1.4e-06  9.88e-01   -7.196477693e+00  -7.196239579e+00  3.3e-05  107.32\n",
      "(CVXPY) Sep 11 07:18:14 PM: 22  1.4e-05  2.4e-03  2.1e-07  9.94e-01   -7.229285877e+00  -7.229218594e+00  9.2e-06  107.33\n",
      "(CVXPY) Sep 11 07:18:14 PM: 23  4.4e-06  7.6e-04  4.0e-08  9.98e-01   -7.238066562e+00  -7.238044825e+00  3.0e-06  107.34\n"
     ]
    },
    {
     "name": "stdout",
     "output_type": "stream",
     "text": [
      "(CVXPY) Sep 11 07:18:14 PM: 24  1.3e-06  2.2e-04  6.3e-09  9.99e-01   -7.241324768e+00  -7.241318447e+00  8.7e-07  107.34\n",
      "(CVXPY) Sep 11 07:18:15 PM: 25  9.5e-08  1.5e-05  1.1e-10  1.00e+00   -7.242629475e+00  -7.242629054e+00  5.8e-08  107.35\n",
      "(CVXPY) Sep 11 07:18:15 PM: 26  9.5e-08  1.5e-05  1.1e-10  9.99e-01   -7.242629475e+00  -7.242629054e+00  5.8e-08  107.37\n",
      "(CVXPY) Sep 11 07:18:15 PM: 27  9.5e-08  1.5e-05  1.1e-10  9.99e-01   -7.242629475e+00  -7.242629054e+00  5.8e-08  107.39\n",
      "(CVXPY) Sep 11 07:18:15 PM: 28  5.7e-08  9.2e-07  1.5e-12  1.00e+00   -7.242726944e+00  -7.242726921e+00  3.2e-09  107.42\n",
      "(CVXPY) Sep 11 07:18:15 PM: 29  1.9e-08  1.2e-06  1.4e-12  1.00e+00   -7.242726971e+00  -7.242726948e+00  3.2e-09  107.42\n",
      "(CVXPY) Sep 11 07:18:16 PM: Optimizer terminated. Time: 109.01  \n",
      "(CVXPY) Sep 11 07:18:16 PM: \n",
      "(CVXPY) Sep 11 07:18:16 PM: \n",
      "(CVXPY) Sep 11 07:18:16 PM: Interior-point solution summary\n",
      "(CVXPY) Sep 11 07:18:16 PM:   Problem status  : PRIMAL_AND_DUAL_FEASIBLE\n",
      "(CVXPY) Sep 11 07:18:16 PM:   Solution status : OPTIMAL\n",
      "(CVXPY) Sep 11 07:18:17 PM:   Primal.  obj: -7.2427269715e+00   nrm: 3e+01    Viol.  con: 8e-07    var: 7e-07    barvar: 0e+00    cones: 0e+00  \n",
      "(CVXPY) Sep 11 07:18:17 PM:   Dual.    obj: -7.2427269483e+00   nrm: 7e+02    Viol.  con: 0e+00    var: 1e-08    barvar: 1e-06    cones: 0e+00  \n",
      "-------------------------------------------------------------------------------\n",
      "                                    Summary                                    \n",
      "-------------------------------------------------------------------------------\n",
      "(CVXPY) Sep 11 07:18:18 PM: Problem status: optimal\n",
      "(CVXPY) Sep 11 07:18:18 PM: Optimal value: 7.243e+00\n",
      "(CVXPY) Sep 11 07:18:18 PM: Compilation took 8.664e+01 seconds\n",
      "(CVXPY) Sep 11 07:18:18 PM: Solver (including time spent in interface) took 1.129e+02 seconds\n",
      "Covariance between measurements 12 and 15 has wrong computation\n",
      "i weight: 0.3564974216109824 , j weight: 0.10173383529448903 ; Cov weight: 0.0481598510763525\n",
      "Covariance between measurements 12 and 31 has wrong computation\n",
      "i weight: 0.3564974216109824 , j weight: 0.5417786363774713 ; Cov weight: 0.19079615002344288\n",
      "Covariance between measurements 15 and 12 has wrong computation\n",
      "i weight: 0.10173383529448903 , j weight: 0.3564974216109824 ; Cov weight: 0.0481598510763525\n",
      "Covariance between measurements 15 and 31 has wrong computation\n",
      "i weight: 0.10173383529448903 , j weight: 0.5417786363774713 ; Cov weight: 0.051588218882367955\n",
      "Covariance between measurements 31 and 12 has wrong computation\n",
      "i weight: 0.5417786363774713 , j weight: 0.3564974216109824 ; Cov weight: 0.19079615002344288\n",
      "Covariance between measurements 31 and 15 has wrong computation\n",
      "i weight: 0.5417786363774713 , j weight: 0.10173383529448903 ; Cov weight: 0.051588218882367955\n",
      "Objective: 7.242726668637041\n",
      "FIM info verification (The following result is computed by compute_FIM method)\n",
      "======FIM result======\n",
      "FIM: [[ 1.57884505e+02  7.69266337e-01 -1.10993030e+02  3.11188604e+02\n",
      "  -2.90311421e+01]\n",
      " [ 7.69266337e-01  5.81983382e-02 -4.18446283e-01  2.21800652e+00\n",
      "  -1.94731065e-01]\n",
      " [-1.10993030e+02 -4.18446283e-01  8.74922304e+01 -2.31103094e+02\n",
      "   1.17074771e+01]\n",
      " [ 3.11188604e+02  2.21800652e+00 -2.31103094e+02  6.74638906e+02\n",
      "  -4.34416228e+01]\n",
      " [-2.90311421e+01 -1.94731065e-01  1.17074771e+01 -4.34416228e+01\n",
      "   1.40418083e+01]]\n",
      "Determinant: 1397.910598942809 ; log_e(det): 7.242733971494844 ; log_10(det): 3.1454793977134345\n",
      "Trace: 934.1156475778641 ; log_e(trace): 6.839600250240333 ; log_10(trace): 2.970400647103477\n",
      "Min eig: 0.03600119894705663 ; log_e(min_eig): -3.3242030369956894 ; log_10(min_eig): -1.443683035693259\n",
      "Cond: 25127.293437705586\n"
     ]
    }
   ],
   "source": [
    "calculator.continuous_optimization(objective='D', budget=20)"
   ]
  },
  {
   "cell_type": "code",
   "execution_count": null,
   "id": "b9d9e013",
   "metadata": {},
   "outputs": [],
   "source": []
  }
 ],
 "metadata": {
  "kernelspec": {
   "display_name": "Python 3 (ipykernel)",
   "language": "python",
   "name": "python3"
  },
  "language_info": {
   "codemirror_mode": {
    "name": "ipython",
    "version": 3
   },
   "file_extension": ".py",
   "mimetype": "text/x-python",
   "name": "python",
   "nbconvert_exporter": "python",
   "pygments_lexer": "ipython3",
   "version": "3.10.4"
  }
 },
 "nbformat": 4,
 "nbformat_minor": 5
}
